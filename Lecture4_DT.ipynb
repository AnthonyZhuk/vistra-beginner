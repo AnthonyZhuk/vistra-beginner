{
  "nbformat": 4,
  "nbformat_minor": 0,
  "metadata": {
    "colab": {
      "provenance": [],
      "authorship_tag": "ABX9TyP08D7Z95wnuYhBAHqDPmcR",
      "include_colab_link": true
    },
    "kernelspec": {
      "name": "python3",
      "display_name": "Python 3"
    },
    "language_info": {
      "name": "python"
    }
  },
  "cells": [
    {
      "cell_type": "markdown",
      "metadata": {
        "id": "view-in-github",
        "colab_type": "text"
      },
      "source": [
        "<a href=\"https://colab.research.google.com/github/a-nagar/vistra-beginner/blob/main/Lecture4_DT.ipynb\" target=\"_parent\"><img src=\"https://colab.research.google.com/assets/colab-badge.svg\" alt=\"Open In Colab\"/></a>"
      ]
    },
    {
      "cell_type": "markdown",
      "source": [
        "## Decision Tree Classification Model"
      ],
      "metadata": {
        "id": "0CIKyA1Y54PT"
      }
    },
    {
      "cell_type": "markdown",
      "source": [
        "Decision Tree is an intuitive classification method that splits the nodes with the aim of decreasing \"impurity\", defined in terms of entropy or Gini index, of each node. The attribute which leads to greatest reduction in entropy (also called information gain) is the one that is used for split selection."
      ],
      "metadata": {
        "id": "RlAOuxkF5L5X"
      }
    },
    {
      "cell_type": "markdown",
      "source": [
        "Let us consider the heart disease dataset"
      ],
      "metadata": {
        "id": "qJDS973r7g4m"
      }
    },
    {
      "cell_type": "code",
      "source": [
        "import pandas as pd\n",
        "\n",
        "diabetes = pd.read_csv(\"https://an-utd-python.s3.us-west-1.amazonaws.com/diabetes.csv\")\n",
        "diabetes"
      ],
      "metadata": {
        "colab": {
          "base_uri": "https://localhost:8080/",
          "height": 419
        },
        "id": "VzIi2YqycAPS",
        "outputId": "3a897b44-abcc-40ec-9417-f91a115527db"
      },
      "execution_count": 54,
      "outputs": [
        {
          "output_type": "execute_result",
          "data": {
            "text/plain": [
              "     Pregnancies  Glucose  BloodPressure  SkinThickness  Insulin   BMI  \\\n",
              "0              6      148             72             35        0  33.6   \n",
              "1              1       85             66             29        0  26.6   \n",
              "2              8      183             64              0        0  23.3   \n",
              "3              1       89             66             23       94  28.1   \n",
              "4              0      137             40             35      168  43.1   \n",
              "..           ...      ...            ...            ...      ...   ...   \n",
              "763           10      101             76             48      180  32.9   \n",
              "764            2      122             70             27        0  36.8   \n",
              "765            5      121             72             23      112  26.2   \n",
              "766            1      126             60              0        0  30.1   \n",
              "767            1       93             70             31        0  30.4   \n",
              "\n",
              "     DiabetesPedigreeFunction  Age  Outcome  \n",
              "0                       0.627   50        1  \n",
              "1                       0.351   31        0  \n",
              "2                       0.672   32        1  \n",
              "3                       0.167   21        0  \n",
              "4                       2.288   33        1  \n",
              "..                        ...  ...      ...  \n",
              "763                     0.171   63        0  \n",
              "764                     0.340   27        0  \n",
              "765                     0.245   30        0  \n",
              "766                     0.349   47        1  \n",
              "767                     0.315   23        0  \n",
              "\n",
              "[768 rows x 9 columns]"
            ],
            "text/html": [
              "\n",
              "  <div id=\"df-bd28310a-ce5f-4776-a737-ac1536768504\">\n",
              "    <div class=\"colab-df-container\">\n",
              "      <div>\n",
              "<style scoped>\n",
              "    .dataframe tbody tr th:only-of-type {\n",
              "        vertical-align: middle;\n",
              "    }\n",
              "\n",
              "    .dataframe tbody tr th {\n",
              "        vertical-align: top;\n",
              "    }\n",
              "\n",
              "    .dataframe thead th {\n",
              "        text-align: right;\n",
              "    }\n",
              "</style>\n",
              "<table border=\"1\" class=\"dataframe\">\n",
              "  <thead>\n",
              "    <tr style=\"text-align: right;\">\n",
              "      <th></th>\n",
              "      <th>Pregnancies</th>\n",
              "      <th>Glucose</th>\n",
              "      <th>BloodPressure</th>\n",
              "      <th>SkinThickness</th>\n",
              "      <th>Insulin</th>\n",
              "      <th>BMI</th>\n",
              "      <th>DiabetesPedigreeFunction</th>\n",
              "      <th>Age</th>\n",
              "      <th>Outcome</th>\n",
              "    </tr>\n",
              "  </thead>\n",
              "  <tbody>\n",
              "    <tr>\n",
              "      <th>0</th>\n",
              "      <td>6</td>\n",
              "      <td>148</td>\n",
              "      <td>72</td>\n",
              "      <td>35</td>\n",
              "      <td>0</td>\n",
              "      <td>33.6</td>\n",
              "      <td>0.627</td>\n",
              "      <td>50</td>\n",
              "      <td>1</td>\n",
              "    </tr>\n",
              "    <tr>\n",
              "      <th>1</th>\n",
              "      <td>1</td>\n",
              "      <td>85</td>\n",
              "      <td>66</td>\n",
              "      <td>29</td>\n",
              "      <td>0</td>\n",
              "      <td>26.6</td>\n",
              "      <td>0.351</td>\n",
              "      <td>31</td>\n",
              "      <td>0</td>\n",
              "    </tr>\n",
              "    <tr>\n",
              "      <th>2</th>\n",
              "      <td>8</td>\n",
              "      <td>183</td>\n",
              "      <td>64</td>\n",
              "      <td>0</td>\n",
              "      <td>0</td>\n",
              "      <td>23.3</td>\n",
              "      <td>0.672</td>\n",
              "      <td>32</td>\n",
              "      <td>1</td>\n",
              "    </tr>\n",
              "    <tr>\n",
              "      <th>3</th>\n",
              "      <td>1</td>\n",
              "      <td>89</td>\n",
              "      <td>66</td>\n",
              "      <td>23</td>\n",
              "      <td>94</td>\n",
              "      <td>28.1</td>\n",
              "      <td>0.167</td>\n",
              "      <td>21</td>\n",
              "      <td>0</td>\n",
              "    </tr>\n",
              "    <tr>\n",
              "      <th>4</th>\n",
              "      <td>0</td>\n",
              "      <td>137</td>\n",
              "      <td>40</td>\n",
              "      <td>35</td>\n",
              "      <td>168</td>\n",
              "      <td>43.1</td>\n",
              "      <td>2.288</td>\n",
              "      <td>33</td>\n",
              "      <td>1</td>\n",
              "    </tr>\n",
              "    <tr>\n",
              "      <th>...</th>\n",
              "      <td>...</td>\n",
              "      <td>...</td>\n",
              "      <td>...</td>\n",
              "      <td>...</td>\n",
              "      <td>...</td>\n",
              "      <td>...</td>\n",
              "      <td>...</td>\n",
              "      <td>...</td>\n",
              "      <td>...</td>\n",
              "    </tr>\n",
              "    <tr>\n",
              "      <th>763</th>\n",
              "      <td>10</td>\n",
              "      <td>101</td>\n",
              "      <td>76</td>\n",
              "      <td>48</td>\n",
              "      <td>180</td>\n",
              "      <td>32.9</td>\n",
              "      <td>0.171</td>\n",
              "      <td>63</td>\n",
              "      <td>0</td>\n",
              "    </tr>\n",
              "    <tr>\n",
              "      <th>764</th>\n",
              "      <td>2</td>\n",
              "      <td>122</td>\n",
              "      <td>70</td>\n",
              "      <td>27</td>\n",
              "      <td>0</td>\n",
              "      <td>36.8</td>\n",
              "      <td>0.340</td>\n",
              "      <td>27</td>\n",
              "      <td>0</td>\n",
              "    </tr>\n",
              "    <tr>\n",
              "      <th>765</th>\n",
              "      <td>5</td>\n",
              "      <td>121</td>\n",
              "      <td>72</td>\n",
              "      <td>23</td>\n",
              "      <td>112</td>\n",
              "      <td>26.2</td>\n",
              "      <td>0.245</td>\n",
              "      <td>30</td>\n",
              "      <td>0</td>\n",
              "    </tr>\n",
              "    <tr>\n",
              "      <th>766</th>\n",
              "      <td>1</td>\n",
              "      <td>126</td>\n",
              "      <td>60</td>\n",
              "      <td>0</td>\n",
              "      <td>0</td>\n",
              "      <td>30.1</td>\n",
              "      <td>0.349</td>\n",
              "      <td>47</td>\n",
              "      <td>1</td>\n",
              "    </tr>\n",
              "    <tr>\n",
              "      <th>767</th>\n",
              "      <td>1</td>\n",
              "      <td>93</td>\n",
              "      <td>70</td>\n",
              "      <td>31</td>\n",
              "      <td>0</td>\n",
              "      <td>30.4</td>\n",
              "      <td>0.315</td>\n",
              "      <td>23</td>\n",
              "      <td>0</td>\n",
              "    </tr>\n",
              "  </tbody>\n",
              "</table>\n",
              "<p>768 rows × 9 columns</p>\n",
              "</div>\n",
              "      <button class=\"colab-df-convert\" onclick=\"convertToInteractive('df-bd28310a-ce5f-4776-a737-ac1536768504')\"\n",
              "              title=\"Convert this dataframe to an interactive table.\"\n",
              "              style=\"display:none;\">\n",
              "        \n",
              "  <svg xmlns=\"http://www.w3.org/2000/svg\" height=\"24px\"viewBox=\"0 0 24 24\"\n",
              "       width=\"24px\">\n",
              "    <path d=\"M0 0h24v24H0V0z\" fill=\"none\"/>\n",
              "    <path d=\"M18.56 5.44l.94 2.06.94-2.06 2.06-.94-2.06-.94-.94-2.06-.94 2.06-2.06.94zm-11 1L8.5 8.5l.94-2.06 2.06-.94-2.06-.94L8.5 2.5l-.94 2.06-2.06.94zm10 10l.94 2.06.94-2.06 2.06-.94-2.06-.94-.94-2.06-.94 2.06-2.06.94z\"/><path d=\"M17.41 7.96l-1.37-1.37c-.4-.4-.92-.59-1.43-.59-.52 0-1.04.2-1.43.59L10.3 9.45l-7.72 7.72c-.78.78-.78 2.05 0 2.83L4 21.41c.39.39.9.59 1.41.59.51 0 1.02-.2 1.41-.59l7.78-7.78 2.81-2.81c.8-.78.8-2.07 0-2.86zM5.41 20L4 18.59l7.72-7.72 1.47 1.35L5.41 20z\"/>\n",
              "  </svg>\n",
              "      </button>\n",
              "      \n",
              "  <style>\n",
              "    .colab-df-container {\n",
              "      display:flex;\n",
              "      flex-wrap:wrap;\n",
              "      gap: 12px;\n",
              "    }\n",
              "\n",
              "    .colab-df-convert {\n",
              "      background-color: #E8F0FE;\n",
              "      border: none;\n",
              "      border-radius: 50%;\n",
              "      cursor: pointer;\n",
              "      display: none;\n",
              "      fill: #1967D2;\n",
              "      height: 32px;\n",
              "      padding: 0 0 0 0;\n",
              "      width: 32px;\n",
              "    }\n",
              "\n",
              "    .colab-df-convert:hover {\n",
              "      background-color: #E2EBFA;\n",
              "      box-shadow: 0px 1px 2px rgba(60, 64, 67, 0.3), 0px 1px 3px 1px rgba(60, 64, 67, 0.15);\n",
              "      fill: #174EA6;\n",
              "    }\n",
              "\n",
              "    [theme=dark] .colab-df-convert {\n",
              "      background-color: #3B4455;\n",
              "      fill: #D2E3FC;\n",
              "    }\n",
              "\n",
              "    [theme=dark] .colab-df-convert:hover {\n",
              "      background-color: #434B5C;\n",
              "      box-shadow: 0px 1px 3px 1px rgba(0, 0, 0, 0.15);\n",
              "      filter: drop-shadow(0px 1px 2px rgba(0, 0, 0, 0.3));\n",
              "      fill: #FFFFFF;\n",
              "    }\n",
              "  </style>\n",
              "\n",
              "      <script>\n",
              "        const buttonEl =\n",
              "          document.querySelector('#df-bd28310a-ce5f-4776-a737-ac1536768504 button.colab-df-convert');\n",
              "        buttonEl.style.display =\n",
              "          google.colab.kernel.accessAllowed ? 'block' : 'none';\n",
              "\n",
              "        async function convertToInteractive(key) {\n",
              "          const element = document.querySelector('#df-bd28310a-ce5f-4776-a737-ac1536768504');\n",
              "          const dataTable =\n",
              "            await google.colab.kernel.invokeFunction('convertToInteractive',\n",
              "                                                     [key], {});\n",
              "          if (!dataTable) return;\n",
              "\n",
              "          const docLinkHtml = 'Like what you see? Visit the ' +\n",
              "            '<a target=\"_blank\" href=https://colab.research.google.com/notebooks/data_table.ipynb>data table notebook</a>'\n",
              "            + ' to learn more about interactive tables.';\n",
              "          element.innerHTML = '';\n",
              "          dataTable['output_type'] = 'display_data';\n",
              "          await google.colab.output.renderOutput(dataTable, element);\n",
              "          const docLink = document.createElement('div');\n",
              "          docLink.innerHTML = docLinkHtml;\n",
              "          element.appendChild(docLink);\n",
              "        }\n",
              "      </script>\n",
              "    </div>\n",
              "  </div>\n",
              "  "
            ]
          },
          "metadata": {},
          "execution_count": 54
        }
      ]
    },
    {
      "cell_type": "code",
      "source": [
        "X = diabetes.drop('Outcome', axis = 1)\n",
        "y = diabetes['Outcome']"
      ],
      "metadata": {
        "id": "jjTD1QvBfuq_"
      },
      "execution_count": 55,
      "outputs": []
    },
    {
      "cell_type": "code",
      "source": [
        "from sklearn.model_selection import train_test_split\n",
        "\n",
        "X_train, X_test, y_train, y_test = train_test_split(X, y, test_size=0.1, random_state=0)"
      ],
      "metadata": {
        "id": "XCtp6_zuclJM"
      },
      "execution_count": 56,
      "outputs": []
    },
    {
      "cell_type": "code",
      "source": [
        "y.value_counts()"
      ],
      "metadata": {
        "colab": {
          "base_uri": "https://localhost:8080/"
        },
        "id": "_XXRD5kliI0y",
        "outputId": "5a9e5e9b-92c0-41e8-d2a4-446a5550f864"
      },
      "execution_count": 58,
      "outputs": [
        {
          "output_type": "execute_result",
          "data": {
            "text/plain": [
              "0    500\n",
              "1    268\n",
              "Name: Outcome, dtype: int64"
            ]
          },
          "metadata": {},
          "execution_count": 58
        }
      ]
    },
    {
      "cell_type": "code",
      "source": [
        "import sklearn\n",
        "from sklearn import tree\n",
        "\n",
        "clf = tree.DecisionTreeClassifier(max_depth = 5)\n",
        "clf = clf.fit(X_train, y_train)\n"
      ],
      "metadata": {
        "id": "TMuDrpHv89KE"
      },
      "execution_count": 59,
      "outputs": []
    },
    {
      "cell_type": "code",
      "source": [
        "from sklearn.metrics import classification_report, accuracy_score\n",
        "\n",
        "y_pred = clf.predict(X_test)\n",
        "\n",
        "print(classification_report(y_test, y_pred)) # predictions contain predicted values (derived from probability with 0.5 threshold)\n",
        "\n",
        "print('Accuracy: ', accuracy_score(y_test, y_pred))\n"
      ],
      "metadata": {
        "colab": {
          "base_uri": "https://localhost:8080/"
        },
        "id": "KBuDwuPZCBNO",
        "outputId": "573928b3-046a-4832-bd7e-986e85a74c31"
      },
      "execution_count": 60,
      "outputs": [
        {
          "output_type": "stream",
          "name": "stdout",
          "text": [
            "              precision    recall  f1-score   support\n",
            "\n",
            "           0       0.86      0.86      0.86        51\n",
            "           1       0.73      0.73      0.73        26\n",
            "\n",
            "    accuracy                           0.82        77\n",
            "   macro avg       0.80      0.80      0.80        77\n",
            "weighted avg       0.82      0.82      0.82        77\n",
            "\n",
            "Accuracy:  0.8181818181818182\n"
          ]
        }
      ]
    },
    {
      "cell_type": "code",
      "source": [
        "!pip install graphviz"
      ],
      "metadata": {
        "colab": {
          "base_uri": "https://localhost:8080/"
        },
        "id": "IWku9XDkCCNa",
        "outputId": "7f68f6f7-64fb-483f-853e-eae52c8d5517"
      },
      "execution_count": 61,
      "outputs": [
        {
          "output_type": "stream",
          "name": "stdout",
          "text": [
            "Looking in indexes: https://pypi.org/simple, https://us-python.pkg.dev/colab-wheels/public/simple/\n",
            "Requirement already satisfied: graphviz in /usr/local/lib/python3.9/dist-packages (0.10.1)\n"
          ]
        }
      ]
    },
    {
      "cell_type": "code",
      "source": [
        "X.columns"
      ],
      "metadata": {
        "colab": {
          "base_uri": "https://localhost:8080/"
        },
        "id": "ofNHbzxnCR3v",
        "outputId": "58a828ad-c3ee-475a-dabb-c5b482f2b26e"
      },
      "execution_count": 62,
      "outputs": [
        {
          "output_type": "execute_result",
          "data": {
            "text/plain": [
              "Index(['Pregnancies', 'Glucose', 'BloodPressure', 'SkinThickness', 'Insulin',\n",
              "       'BMI', 'DiabetesPedigreeFunction', 'Age'],\n",
              "      dtype='object')"
            ]
          },
          "metadata": {},
          "execution_count": 62
        }
      ]
    },
    {
      "cell_type": "code",
      "source": [
        "import graphviz \n",
        "dot_data = tree.export_graphviz(clf, out_file=None, \n",
        "                     feature_names=X.columns,    \n",
        "                     filled=True, rounded=True,\n",
        "                     special_characters=True)  \n",
        "graph = graphviz.Source(dot_data)  \n",
        "graph "
      ],
      "metadata": {
        "colab": {
          "base_uri": "https://localhost:8080/",
          "height": 816
        },
        "id": "QufTChnRCfQI",
        "outputId": "08073079-fb08-47e3-cac8-f382d63997a0"
      },
      "execution_count": 63,
      "outputs": [
        {
          "output_type": "execute_result",
          "data": {
            "text/plain": [
              "<graphviz.files.Source at 0x7fc31bf41c10>"
            ],
            "image/svg+xml": "<?xml version=\"1.0\" encoding=\"UTF-8\" standalone=\"no\"?>\n<!DOCTYPE svg PUBLIC \"-//W3C//DTD SVG 1.1//EN\"\n \"http://www.w3.org/Graphics/SVG/1.1/DTD/svg11.dtd\">\n<!-- Generated by graphviz version 2.43.0 (0)\n -->\n<!-- Title: Tree Pages: 1 -->\n<svg width=\"2836pt\" height=\"581pt\"\n viewBox=\"0.00 0.00 2835.50 581.00\" xmlns=\"http://www.w3.org/2000/svg\" xmlns:xlink=\"http://www.w3.org/1999/xlink\">\n<g id=\"graph0\" class=\"graph\" transform=\"scale(1 1) rotate(0) translate(4 577)\">\n<title>Tree</title>\n<polygon fill=\"white\" stroke=\"transparent\" points=\"-4,4 -4,-577 2831.5,-577 2831.5,4 -4,4\"/>\n<!-- 0 -->\n<g id=\"node1\" class=\"node\">\n<title>0</title>\n<path fill=\"#f3c5a4\" stroke=\"black\" d=\"M1429.5,-573C1429.5,-573 1328.5,-573 1328.5,-573 1322.5,-573 1316.5,-567 1316.5,-561 1316.5,-561 1316.5,-517 1316.5,-517 1316.5,-511 1322.5,-505 1328.5,-505 1328.5,-505 1429.5,-505 1429.5,-505 1435.5,-505 1441.5,-511 1441.5,-517 1441.5,-517 1441.5,-561 1441.5,-561 1441.5,-567 1435.5,-573 1429.5,-573\"/>\n<text text-anchor=\"start\" x=\"1329\" y=\"-557.8\" font-family=\"Helvetica,sans-Serif\" font-size=\"14.00\">Glucose ≤ 127.5</text>\n<text text-anchor=\"start\" x=\"1343.5\" y=\"-542.8\" font-family=\"Helvetica,sans-Serif\" font-size=\"14.00\">gini = 0.455</text>\n<text text-anchor=\"start\" x=\"1334\" y=\"-527.8\" font-family=\"Helvetica,sans-Serif\" font-size=\"14.00\">samples = 691</text>\n<text text-anchor=\"start\" x=\"1324.5\" y=\"-512.8\" font-family=\"Helvetica,sans-Serif\" font-size=\"14.00\">value = [449, 242]</text>\n</g>\n<!-- 1 -->\n<g id=\"node2\" class=\"node\">\n<title>1</title>\n<path fill=\"#eca16b\" stroke=\"black\" d=\"M1040.5,-469C1040.5,-469 947.5,-469 947.5,-469 941.5,-469 935.5,-463 935.5,-457 935.5,-457 935.5,-413 935.5,-413 935.5,-407 941.5,-401 947.5,-401 947.5,-401 1040.5,-401 1040.5,-401 1046.5,-401 1052.5,-407 1052.5,-413 1052.5,-413 1052.5,-457 1052.5,-457 1052.5,-463 1046.5,-469 1040.5,-469\"/>\n<text text-anchor=\"start\" x=\"961\" y=\"-453.8\" font-family=\"Helvetica,sans-Serif\" font-size=\"14.00\">Age ≤ 28.5</text>\n<text text-anchor=\"start\" x=\"958.5\" y=\"-438.8\" font-family=\"Helvetica,sans-Serif\" font-size=\"14.00\">gini = 0.324</text>\n<text text-anchor=\"start\" x=\"949\" y=\"-423.8\" font-family=\"Helvetica,sans-Serif\" font-size=\"14.00\">samples = 438</text>\n<text text-anchor=\"start\" x=\"943.5\" y=\"-408.8\" font-family=\"Helvetica,sans-Serif\" font-size=\"14.00\">value = [349, 89]</text>\n</g>\n<!-- 0&#45;&gt;1 -->\n<g id=\"edge1\" class=\"edge\">\n<title>0&#45;&gt;1</title>\n<path fill=\"none\" stroke=\"black\" d=\"M1316.29,-521.38C1246.59,-502.92 1134.4,-473.2 1062.46,-454.14\"/>\n<polygon fill=\"black\" stroke=\"black\" points=\"1063.15,-450.7 1052.58,-451.52 1061.35,-457.47 1063.15,-450.7\"/>\n<text text-anchor=\"middle\" x=\"1065.14\" y=\"-469.44\" font-family=\"Helvetica,sans-Serif\" font-size=\"14.00\">True</text>\n</g>\n<!-- 26 -->\n<g id=\"node27\" class=\"node\">\n<title>26</title>\n<path fill=\"#baddf6\" stroke=\"black\" d=\"M1684.5,-469C1684.5,-469 1583.5,-469 1583.5,-469 1577.5,-469 1571.5,-463 1571.5,-457 1571.5,-457 1571.5,-413 1571.5,-413 1571.5,-407 1577.5,-401 1583.5,-401 1583.5,-401 1684.5,-401 1684.5,-401 1690.5,-401 1696.5,-407 1696.5,-413 1696.5,-413 1696.5,-457 1696.5,-457 1696.5,-463 1690.5,-469 1684.5,-469\"/>\n<text text-anchor=\"start\" x=\"1597\" y=\"-453.8\" font-family=\"Helvetica,sans-Serif\" font-size=\"14.00\">BMI ≤ 29.95</text>\n<text text-anchor=\"start\" x=\"1598.5\" y=\"-438.8\" font-family=\"Helvetica,sans-Serif\" font-size=\"14.00\">gini = 0.478</text>\n<text text-anchor=\"start\" x=\"1589\" y=\"-423.8\" font-family=\"Helvetica,sans-Serif\" font-size=\"14.00\">samples = 253</text>\n<text text-anchor=\"start\" x=\"1579.5\" y=\"-408.8\" font-family=\"Helvetica,sans-Serif\" font-size=\"14.00\">value = [100, 153]</text>\n</g>\n<!-- 0&#45;&gt;26 -->\n<g id=\"edge26\" class=\"edge\">\n<title>0&#45;&gt;26</title>\n<path fill=\"none\" stroke=\"black\" d=\"M1441.71,-512.92C1478,-498.4 1523.84,-480.06 1561.66,-464.94\"/>\n<polygon fill=\"black\" stroke=\"black\" points=\"1563.11,-468.13 1571.09,-461.16 1560.51,-461.63 1563.11,-468.13\"/>\n<text text-anchor=\"middle\" x=\"1561.25\" y=\"-480.44\" font-family=\"Helvetica,sans-Serif\" font-size=\"14.00\">False</text>\n</g>\n<!-- 2 -->\n<g id=\"node3\" class=\"node\">\n<title>2</title>\n<path fill=\"#e78c4a\" stroke=\"black\" d=\"M589.5,-365C589.5,-365 496.5,-365 496.5,-365 490.5,-365 484.5,-359 484.5,-353 484.5,-353 484.5,-309 484.5,-309 484.5,-303 490.5,-297 496.5,-297 496.5,-297 589.5,-297 589.5,-297 595.5,-297 601.5,-303 601.5,-309 601.5,-309 601.5,-353 601.5,-353 601.5,-359 595.5,-365 589.5,-365\"/>\n<text text-anchor=\"start\" x=\"506\" y=\"-349.8\" font-family=\"Helvetica,sans-Serif\" font-size=\"14.00\">BMI ≤ 30.95</text>\n<text text-anchor=\"start\" x=\"507.5\" y=\"-334.8\" font-family=\"Helvetica,sans-Serif\" font-size=\"14.00\">gini = 0.146</text>\n<text text-anchor=\"start\" x=\"498\" y=\"-319.8\" font-family=\"Helvetica,sans-Serif\" font-size=\"14.00\">samples = 240</text>\n<text text-anchor=\"start\" x=\"492.5\" y=\"-304.8\" font-family=\"Helvetica,sans-Serif\" font-size=\"14.00\">value = [221, 19]</text>\n</g>\n<!-- 1&#45;&gt;2 -->\n<g id=\"edge2\" class=\"edge\">\n<title>1&#45;&gt;2</title>\n<path fill=\"none\" stroke=\"black\" d=\"M935.04,-420.67C851.7,-401.82 699.79,-367.46 611.53,-347.5\"/>\n<polygon fill=\"black\" stroke=\"black\" points=\"612.14,-344.05 601.62,-345.26 610.6,-350.88 612.14,-344.05\"/>\n</g>\n<!-- 15 -->\n<g id=\"node16\" class=\"node\">\n<title>15</title>\n<path fill=\"#f3c6a5\" stroke=\"black\" d=\"M1040.5,-365C1040.5,-365 947.5,-365 947.5,-365 941.5,-365 935.5,-359 935.5,-353 935.5,-353 935.5,-309 935.5,-309 935.5,-303 941.5,-297 947.5,-297 947.5,-297 1040.5,-297 1040.5,-297 1046.5,-297 1052.5,-303 1052.5,-309 1052.5,-309 1052.5,-353 1052.5,-353 1052.5,-359 1046.5,-365 1040.5,-365\"/>\n<text text-anchor=\"start\" x=\"957\" y=\"-349.8\" font-family=\"Helvetica,sans-Serif\" font-size=\"14.00\">BMI ≤ 26.35</text>\n<text text-anchor=\"start\" x=\"958.5\" y=\"-334.8\" font-family=\"Helvetica,sans-Serif\" font-size=\"14.00\">gini = 0.457</text>\n<text text-anchor=\"start\" x=\"949\" y=\"-319.8\" font-family=\"Helvetica,sans-Serif\" font-size=\"14.00\">samples = 198</text>\n<text text-anchor=\"start\" x=\"943.5\" y=\"-304.8\" font-family=\"Helvetica,sans-Serif\" font-size=\"14.00\">value = [128, 70]</text>\n</g>\n<!-- 1&#45;&gt;15 -->\n<g id=\"edge15\" class=\"edge\">\n<title>1&#45;&gt;15</title>\n<path fill=\"none\" stroke=\"black\" d=\"M994,-400.88C994,-392.78 994,-383.98 994,-375.47\"/>\n<polygon fill=\"black\" stroke=\"black\" points=\"997.5,-375.3 994,-365.3 990.5,-375.3 997.5,-375.3\"/>\n</g>\n<!-- 3 -->\n<g id=\"node4\" class=\"node\">\n<title>3</title>\n<path fill=\"#e5833c\" stroke=\"black\" d=\"M345.5,-261C345.5,-261 244.5,-261 244.5,-261 238.5,-261 232.5,-255 232.5,-249 232.5,-249 232.5,-205 232.5,-205 232.5,-199 238.5,-193 244.5,-193 244.5,-193 345.5,-193 345.5,-193 351.5,-193 357.5,-199 357.5,-205 357.5,-205 357.5,-249 357.5,-249 357.5,-255 351.5,-261 345.5,-261\"/>\n<text text-anchor=\"start\" x=\"240.5\" y=\"-245.8\" font-family=\"Helvetica,sans-Serif\" font-size=\"14.00\">Pregnancies ≤ 7.5</text>\n<text text-anchor=\"start\" x=\"259.5\" y=\"-230.8\" font-family=\"Helvetica,sans-Serif\" font-size=\"14.00\">gini = 0.029</text>\n<text text-anchor=\"start\" x=\"250\" y=\"-215.8\" font-family=\"Helvetica,sans-Serif\" font-size=\"14.00\">samples = 135</text>\n<text text-anchor=\"start\" x=\"248\" y=\"-200.8\" font-family=\"Helvetica,sans-Serif\" font-size=\"14.00\">value = [133, 2]</text>\n</g>\n<!-- 2&#45;&gt;3 -->\n<g id=\"edge3\" class=\"edge\">\n<title>2&#45;&gt;3</title>\n<path fill=\"none\" stroke=\"black\" d=\"M484.23,-305.83C449.1,-291.38 404.22,-272.92 366.98,-257.6\"/>\n<polygon fill=\"black\" stroke=\"black\" points=\"368.27,-254.35 357.69,-253.78 365.6,-260.82 368.27,-254.35\"/>\n</g>\n<!-- 8 -->\n<g id=\"node9\" class=\"node\">\n<title>8</title>\n<path fill=\"#ea995f\" stroke=\"black\" d=\"M604,-261C604,-261 482,-261 482,-261 476,-261 470,-255 470,-249 470,-249 470,-205 470,-205 470,-199 476,-193 482,-193 482,-193 604,-193 604,-193 610,-193 616,-199 616,-205 616,-205 616,-249 616,-249 616,-255 610,-261 604,-261\"/>\n<text text-anchor=\"start\" x=\"478\" y=\"-245.8\" font-family=\"Helvetica,sans-Serif\" font-size=\"14.00\">BloodPressure ≤ 53.0</text>\n<text text-anchor=\"start\" x=\"507.5\" y=\"-230.8\" font-family=\"Helvetica,sans-Serif\" font-size=\"14.00\">gini = 0.271</text>\n<text text-anchor=\"start\" x=\"498\" y=\"-215.8\" font-family=\"Helvetica,sans-Serif\" font-size=\"14.00\">samples = 105</text>\n<text text-anchor=\"start\" x=\"496\" y=\"-200.8\" font-family=\"Helvetica,sans-Serif\" font-size=\"14.00\">value = [88, 17]</text>\n</g>\n<!-- 2&#45;&gt;8 -->\n<g id=\"edge8\" class=\"edge\">\n<title>2&#45;&gt;8</title>\n<path fill=\"none\" stroke=\"black\" d=\"M543,-296.88C543,-288.78 543,-279.98 543,-271.47\"/>\n<polygon fill=\"black\" stroke=\"black\" points=\"546.5,-271.3 543,-261.3 539.5,-271.3 546.5,-271.3\"/>\n</g>\n<!-- 4 -->\n<g id=\"node5\" class=\"node\">\n<title>4</title>\n<path fill=\"#e5823a\" stroke=\"black\" d=\"M217,-157C217,-157 17,-157 17,-157 11,-157 5,-151 5,-145 5,-145 5,-101 5,-101 5,-95 11,-89 17,-89 17,-89 217,-89 217,-89 223,-89 229,-95 229,-101 229,-101 229,-145 229,-145 229,-151 223,-157 217,-157\"/>\n<text text-anchor=\"start\" x=\"13\" y=\"-141.8\" font-family=\"Helvetica,sans-Serif\" font-size=\"14.00\">DiabetesPedigreeFunction ≤ 0.672</text>\n<text text-anchor=\"start\" x=\"81.5\" y=\"-126.8\" font-family=\"Helvetica,sans-Serif\" font-size=\"14.00\">gini = 0.015</text>\n<text text-anchor=\"start\" x=\"72\" y=\"-111.8\" font-family=\"Helvetica,sans-Serif\" font-size=\"14.00\">samples = 134</text>\n<text text-anchor=\"start\" x=\"70\" y=\"-96.8\" font-family=\"Helvetica,sans-Serif\" font-size=\"14.00\">value = [133, 1]</text>\n</g>\n<!-- 3&#45;&gt;4 -->\n<g id=\"edge4\" class=\"edge\">\n<title>3&#45;&gt;4</title>\n<path fill=\"none\" stroke=\"black\" d=\"M237.21,-192.88C220.18,-183.12 201.4,-172.37 183.86,-162.31\"/>\n<polygon fill=\"black\" stroke=\"black\" points=\"185.22,-159.06 174.81,-157.12 181.74,-165.13 185.22,-159.06\"/>\n</g>\n<!-- 7 -->\n<g id=\"node8\" class=\"node\">\n<title>7</title>\n<path fill=\"#399de5\" stroke=\"black\" d=\"M330.5,-149.5C330.5,-149.5 259.5,-149.5 259.5,-149.5 253.5,-149.5 247.5,-143.5 247.5,-137.5 247.5,-137.5 247.5,-108.5 247.5,-108.5 247.5,-102.5 253.5,-96.5 259.5,-96.5 259.5,-96.5 330.5,-96.5 330.5,-96.5 336.5,-96.5 342.5,-102.5 342.5,-108.5 342.5,-108.5 342.5,-137.5 342.5,-137.5 342.5,-143.5 336.5,-149.5 330.5,-149.5\"/>\n<text text-anchor=\"start\" x=\"267\" y=\"-134.3\" font-family=\"Helvetica,sans-Serif\" font-size=\"14.00\">gini = 0.0</text>\n<text text-anchor=\"start\" x=\"257.5\" y=\"-119.3\" font-family=\"Helvetica,sans-Serif\" font-size=\"14.00\">samples = 1</text>\n<text text-anchor=\"start\" x=\"255.5\" y=\"-104.3\" font-family=\"Helvetica,sans-Serif\" font-size=\"14.00\">value = [0, 1]</text>\n</g>\n<!-- 3&#45;&gt;7 -->\n<g id=\"edge7\" class=\"edge\">\n<title>3&#45;&gt;7</title>\n<path fill=\"none\" stroke=\"black\" d=\"M295,-192.88C295,-182.33 295,-170.6 295,-159.85\"/>\n<polygon fill=\"black\" stroke=\"black\" points=\"298.5,-159.52 295,-149.52 291.5,-159.52 298.5,-159.52\"/>\n</g>\n<!-- 5 -->\n<g id=\"node6\" class=\"node\">\n<title>5</title>\n<path fill=\"#e58139\" stroke=\"black\" d=\"M98,-53C98,-53 12,-53 12,-53 6,-53 0,-47 0,-41 0,-41 0,-12 0,-12 0,-6 6,0 12,0 12,0 98,0 98,0 104,0 110,-6 110,-12 110,-12 110,-41 110,-41 110,-47 104,-53 98,-53\"/>\n<text text-anchor=\"start\" x=\"27\" y=\"-37.8\" font-family=\"Helvetica,sans-Serif\" font-size=\"14.00\">gini = 0.0</text>\n<text text-anchor=\"start\" x=\"10\" y=\"-22.8\" font-family=\"Helvetica,sans-Serif\" font-size=\"14.00\">samples = 119</text>\n<text text-anchor=\"start\" x=\"8\" y=\"-7.8\" font-family=\"Helvetica,sans-Serif\" font-size=\"14.00\">value = [119, 0]</text>\n</g>\n<!-- 4&#45;&gt;5 -->\n<g id=\"edge5\" class=\"edge\">\n<title>4&#45;&gt;5</title>\n<path fill=\"none\" stroke=\"black\" d=\"M95.32,-88.95C89.55,-80.17 83.32,-70.66 77.51,-61.82\"/>\n<polygon fill=\"black\" stroke=\"black\" points=\"80.3,-59.68 71.89,-53.24 74.44,-63.52 80.3,-59.68\"/>\n</g>\n<!-- 6 -->\n<g id=\"node7\" class=\"node\">\n<title>6</title>\n<path fill=\"#e78a47\" stroke=\"black\" d=\"M218,-53C218,-53 140,-53 140,-53 134,-53 128,-47 128,-41 128,-41 128,-12 128,-12 128,-6 134,0 140,0 140,0 218,0 218,0 224,0 230,-6 230,-12 230,-12 230,-41 230,-41 230,-47 224,-53 218,-53\"/>\n<text text-anchor=\"start\" x=\"143.5\" y=\"-37.8\" font-family=\"Helvetica,sans-Serif\" font-size=\"14.00\">gini = 0.124</text>\n<text text-anchor=\"start\" x=\"138\" y=\"-22.8\" font-family=\"Helvetica,sans-Serif\" font-size=\"14.00\">samples = 15</text>\n<text text-anchor=\"start\" x=\"136\" y=\"-7.8\" font-family=\"Helvetica,sans-Serif\" font-size=\"14.00\">value = [14, 1]</text>\n</g>\n<!-- 4&#45;&gt;6 -->\n<g id=\"edge6\" class=\"edge\">\n<title>4&#45;&gt;6</title>\n<path fill=\"none\" stroke=\"black\" d=\"M138.68,-88.95C144.45,-80.17 150.68,-70.66 156.49,-61.82\"/>\n<polygon fill=\"black\" stroke=\"black\" points=\"159.56,-63.52 162.11,-53.24 153.7,-59.68 159.56,-63.52\"/>\n</g>\n<!-- 9 -->\n<g id=\"node10\" class=\"node\">\n<title>9</title>\n<path fill=\"#b0d8f5\" stroke=\"black\" d=\"M495,-157C495,-157 373,-157 373,-157 367,-157 361,-151 361,-145 361,-145 361,-101 361,-101 361,-95 367,-89 373,-89 373,-89 495,-89 495,-89 501,-89 507,-95 507,-101 507,-101 507,-145 507,-145 507,-151 501,-157 495,-157\"/>\n<text text-anchor=\"start\" x=\"369\" y=\"-141.8\" font-family=\"Helvetica,sans-Serif\" font-size=\"14.00\">BloodPressure ≤ 49.0</text>\n<text text-anchor=\"start\" x=\"398.5\" y=\"-126.8\" font-family=\"Helvetica,sans-Serif\" font-size=\"14.00\">gini = 0.469</text>\n<text text-anchor=\"start\" x=\"396.5\" y=\"-111.8\" font-family=\"Helvetica,sans-Serif\" font-size=\"14.00\">samples = 8</text>\n<text text-anchor=\"start\" x=\"394.5\" y=\"-96.8\" font-family=\"Helvetica,sans-Serif\" font-size=\"14.00\">value = [3, 5]</text>\n</g>\n<!-- 8&#45;&gt;9 -->\n<g id=\"edge9\" class=\"edge\">\n<title>8&#45;&gt;9</title>\n<path fill=\"none\" stroke=\"black\" d=\"M507.61,-192.88C497.9,-183.8 487.27,-173.85 477.17,-164.4\"/>\n<polygon fill=\"black\" stroke=\"black\" points=\"479.28,-161.58 469.58,-157.3 474.49,-166.69 479.28,-161.58\"/>\n</g>\n<!-- 12 -->\n<g id=\"node13\" class=\"node\">\n<title>12</title>\n<path fill=\"#e99355\" stroke=\"black\" d=\"M737,-157C737,-157 537,-157 537,-157 531,-157 525,-151 525,-145 525,-145 525,-101 525,-101 525,-95 531,-89 537,-89 537,-89 737,-89 737,-89 743,-89 749,-95 749,-101 749,-101 749,-145 749,-145 749,-151 743,-157 737,-157\"/>\n<text text-anchor=\"start\" x=\"533\" y=\"-141.8\" font-family=\"Helvetica,sans-Serif\" font-size=\"14.00\">DiabetesPedigreeFunction ≤ 1.272</text>\n<text text-anchor=\"start\" x=\"601.5\" y=\"-126.8\" font-family=\"Helvetica,sans-Serif\" font-size=\"14.00\">gini = 0.217</text>\n<text text-anchor=\"start\" x=\"596\" y=\"-111.8\" font-family=\"Helvetica,sans-Serif\" font-size=\"14.00\">samples = 97</text>\n<text text-anchor=\"start\" x=\"590\" y=\"-96.8\" font-family=\"Helvetica,sans-Serif\" font-size=\"14.00\">value = [85, 12]</text>\n</g>\n<!-- 8&#45;&gt;12 -->\n<g id=\"edge12\" class=\"edge\">\n<title>8&#45;&gt;12</title>\n<path fill=\"none\" stroke=\"black\" d=\"M573.52,-192.88C581.81,-183.89 590.88,-174.04 599.51,-164.68\"/>\n<polygon fill=\"black\" stroke=\"black\" points=\"602.11,-167.02 606.31,-157.3 596.96,-162.28 602.11,-167.02\"/>\n</g>\n<!-- 10 -->\n<g id=\"node11\" class=\"node\">\n<title>10</title>\n<path fill=\"#f6d5bd\" stroke=\"black\" d=\"M377.5,-53C377.5,-53 306.5,-53 306.5,-53 300.5,-53 294.5,-47 294.5,-41 294.5,-41 294.5,-12 294.5,-12 294.5,-6 300.5,0 306.5,0 306.5,0 377.5,0 377.5,0 383.5,0 389.5,-6 389.5,-12 389.5,-12 389.5,-41 389.5,-41 389.5,-47 383.5,-53 377.5,-53\"/>\n<text text-anchor=\"start\" x=\"310\" y=\"-37.8\" font-family=\"Helvetica,sans-Serif\" font-size=\"14.00\">gini = 0.48</text>\n<text text-anchor=\"start\" x=\"304.5\" y=\"-22.8\" font-family=\"Helvetica,sans-Serif\" font-size=\"14.00\">samples = 5</text>\n<text text-anchor=\"start\" x=\"302.5\" y=\"-7.8\" font-family=\"Helvetica,sans-Serif\" font-size=\"14.00\">value = [3, 2]</text>\n</g>\n<!-- 9&#45;&gt;10 -->\n<g id=\"edge10\" class=\"edge\">\n<title>9&#45;&gt;10</title>\n<path fill=\"none\" stroke=\"black\" d=\"M401.82,-88.95C392.83,-79.71 383.06,-69.67 374.07,-60.44\"/>\n<polygon fill=\"black\" stroke=\"black\" points=\"376.54,-57.96 367.06,-53.24 371.52,-62.84 376.54,-57.96\"/>\n</g>\n<!-- 11 -->\n<g id=\"node12\" class=\"node\">\n<title>11</title>\n<path fill=\"#399de5\" stroke=\"black\" d=\"M490.5,-53C490.5,-53 419.5,-53 419.5,-53 413.5,-53 407.5,-47 407.5,-41 407.5,-41 407.5,-12 407.5,-12 407.5,-6 413.5,0 419.5,0 419.5,0 490.5,0 490.5,0 496.5,0 502.5,-6 502.5,-12 502.5,-12 502.5,-41 502.5,-41 502.5,-47 496.5,-53 490.5,-53\"/>\n<text text-anchor=\"start\" x=\"427\" y=\"-37.8\" font-family=\"Helvetica,sans-Serif\" font-size=\"14.00\">gini = 0.0</text>\n<text text-anchor=\"start\" x=\"417.5\" y=\"-22.8\" font-family=\"Helvetica,sans-Serif\" font-size=\"14.00\">samples = 3</text>\n<text text-anchor=\"start\" x=\"415.5\" y=\"-7.8\" font-family=\"Helvetica,sans-Serif\" font-size=\"14.00\">value = [0, 3]</text>\n</g>\n<!-- 9&#45;&gt;11 -->\n<g id=\"edge11\" class=\"edge\">\n<title>9&#45;&gt;11</title>\n<path fill=\"none\" stroke=\"black\" d=\"M441.34,-88.95C443.19,-80.62 445.19,-71.65 447.07,-63.2\"/>\n<polygon fill=\"black\" stroke=\"black\" points=\"450.53,-63.76 449.28,-53.24 443.69,-62.24 450.53,-63.76\"/>\n</g>\n<!-- 13 -->\n<g id=\"node14\" class=\"node\">\n<title>13</title>\n<path fill=\"#e89153\" stroke=\"black\" d=\"M660,-53C660,-53 574,-53 574,-53 568,-53 562,-47 562,-41 562,-41 562,-12 562,-12 562,-6 568,0 574,0 574,0 660,0 660,0 666,0 672,-6 672,-12 672,-12 672,-41 672,-41 672,-47 666,-53 660,-53\"/>\n<text text-anchor=\"start\" x=\"581.5\" y=\"-37.8\" font-family=\"Helvetica,sans-Serif\" font-size=\"14.00\">gini = 0.203</text>\n<text text-anchor=\"start\" x=\"576\" y=\"-22.8\" font-family=\"Helvetica,sans-Serif\" font-size=\"14.00\">samples = 96</text>\n<text text-anchor=\"start\" x=\"570\" y=\"-7.8\" font-family=\"Helvetica,sans-Serif\" font-size=\"14.00\">value = [85, 11]</text>\n</g>\n<!-- 12&#45;&gt;13 -->\n<g id=\"edge13\" class=\"edge\">\n<title>12&#45;&gt;13</title>\n<path fill=\"none\" stroke=\"black\" d=\"M630,-88.95C628.24,-80.62 626.34,-71.65 624.56,-63.2\"/>\n<polygon fill=\"black\" stroke=\"black\" points=\"627.94,-62.3 622.45,-53.24 621.09,-63.74 627.94,-62.3\"/>\n</g>\n<!-- 14 -->\n<g id=\"node15\" class=\"node\">\n<title>14</title>\n<path fill=\"#399de5\" stroke=\"black\" d=\"M773.5,-53C773.5,-53 702.5,-53 702.5,-53 696.5,-53 690.5,-47 690.5,-41 690.5,-41 690.5,-12 690.5,-12 690.5,-6 696.5,0 702.5,0 702.5,0 773.5,0 773.5,0 779.5,0 785.5,-6 785.5,-12 785.5,-12 785.5,-41 785.5,-41 785.5,-47 779.5,-53 773.5,-53\"/>\n<text text-anchor=\"start\" x=\"710\" y=\"-37.8\" font-family=\"Helvetica,sans-Serif\" font-size=\"14.00\">gini = 0.0</text>\n<text text-anchor=\"start\" x=\"700.5\" y=\"-22.8\" font-family=\"Helvetica,sans-Serif\" font-size=\"14.00\">samples = 1</text>\n<text text-anchor=\"start\" x=\"698.5\" y=\"-7.8\" font-family=\"Helvetica,sans-Serif\" font-size=\"14.00\">value = [0, 1]</text>\n</g>\n<!-- 12&#45;&gt;14 -->\n<g id=\"edge14\" class=\"edge\">\n<title>12&#45;&gt;14</title>\n<path fill=\"none\" stroke=\"black\" d=\"M672.32,-88.95C682.3,-79.62 693.14,-69.47 703.09,-60.16\"/>\n<polygon fill=\"black\" stroke=\"black\" points=\"705.58,-62.62 710.49,-53.24 700.8,-57.51 705.58,-62.62\"/>\n</g>\n<!-- 16 -->\n<g id=\"node17\" class=\"node\">\n<title>16</title>\n<path fill=\"#e6853f\" stroke=\"black\" d=\"M971,-261C971,-261 893,-261 893,-261 887,-261 881,-255 881,-249 881,-249 881,-205 881,-205 881,-199 887,-193 893,-193 893,-193 971,-193 971,-193 977,-193 983,-199 983,-205 983,-205 983,-249 983,-249 983,-255 977,-261 971,-261\"/>\n<text text-anchor=\"start\" x=\"898.5\" y=\"-245.8\" font-family=\"Helvetica,sans-Serif\" font-size=\"14.00\">BMI ≤ 9.65</text>\n<text text-anchor=\"start\" x=\"896.5\" y=\"-230.8\" font-family=\"Helvetica,sans-Serif\" font-size=\"14.00\">gini = 0.056</text>\n<text text-anchor=\"start\" x=\"891\" y=\"-215.8\" font-family=\"Helvetica,sans-Serif\" font-size=\"14.00\">samples = 35</text>\n<text text-anchor=\"start\" x=\"889\" y=\"-200.8\" font-family=\"Helvetica,sans-Serif\" font-size=\"14.00\">value = [34, 1]</text>\n</g>\n<!-- 15&#45;&gt;16 -->\n<g id=\"edge16\" class=\"edge\">\n<title>15&#45;&gt;16</title>\n<path fill=\"none\" stroke=\"black\" d=\"M973.87,-296.88C968.67,-288.33 963.01,-279.01 957.57,-270.07\"/>\n<polygon fill=\"black\" stroke=\"black\" points=\"960.43,-268.03 952.24,-261.3 954.44,-271.66 960.43,-268.03\"/>\n</g>\n<!-- 19 -->\n<g id=\"node20\" class=\"node\">\n<title>19</title>\n<path fill=\"#f8ddca\" stroke=\"black\" d=\"M1099,-261C1099,-261 1013,-261 1013,-261 1007,-261 1001,-255 1001,-249 1001,-249 1001,-205 1001,-205 1001,-199 1007,-193 1013,-193 1013,-193 1099,-193 1099,-193 1105,-193 1111,-199 1111,-205 1111,-205 1111,-249 1111,-249 1111,-255 1105,-261 1099,-261\"/>\n<text text-anchor=\"start\" x=\"1010\" y=\"-245.8\" font-family=\"Helvetica,sans-Serif\" font-size=\"14.00\">Glucose ≤ 99.5</text>\n<text text-anchor=\"start\" x=\"1020.5\" y=\"-230.8\" font-family=\"Helvetica,sans-Serif\" font-size=\"14.00\">gini = 0.488</text>\n<text text-anchor=\"start\" x=\"1011\" y=\"-215.8\" font-family=\"Helvetica,sans-Serif\" font-size=\"14.00\">samples = 163</text>\n<text text-anchor=\"start\" x=\"1009\" y=\"-200.8\" font-family=\"Helvetica,sans-Serif\" font-size=\"14.00\">value = [94, 69]</text>\n</g>\n<!-- 15&#45;&gt;19 -->\n<g id=\"edge19\" class=\"edge\">\n<title>15&#45;&gt;19</title>\n<path fill=\"none\" stroke=\"black\" d=\"M1014.13,-296.88C1019.33,-288.33 1024.99,-279.01 1030.43,-270.07\"/>\n<polygon fill=\"black\" stroke=\"black\" points=\"1033.56,-271.66 1035.76,-261.3 1027.57,-268.03 1033.56,-271.66\"/>\n</g>\n<!-- 17 -->\n<g id=\"node18\" class=\"node\">\n<title>17</title>\n<path fill=\"#399de5\" stroke=\"black\" d=\"M850.5,-149.5C850.5,-149.5 779.5,-149.5 779.5,-149.5 773.5,-149.5 767.5,-143.5 767.5,-137.5 767.5,-137.5 767.5,-108.5 767.5,-108.5 767.5,-102.5 773.5,-96.5 779.5,-96.5 779.5,-96.5 850.5,-96.5 850.5,-96.5 856.5,-96.5 862.5,-102.5 862.5,-108.5 862.5,-108.5 862.5,-137.5 862.5,-137.5 862.5,-143.5 856.5,-149.5 850.5,-149.5\"/>\n<text text-anchor=\"start\" x=\"787\" y=\"-134.3\" font-family=\"Helvetica,sans-Serif\" font-size=\"14.00\">gini = 0.0</text>\n<text text-anchor=\"start\" x=\"777.5\" y=\"-119.3\" font-family=\"Helvetica,sans-Serif\" font-size=\"14.00\">samples = 1</text>\n<text text-anchor=\"start\" x=\"775.5\" y=\"-104.3\" font-family=\"Helvetica,sans-Serif\" font-size=\"14.00\">value = [0, 1]</text>\n</g>\n<!-- 16&#45;&gt;17 -->\n<g id=\"edge17\" class=\"edge\">\n<title>16&#45;&gt;17</title>\n<path fill=\"none\" stroke=\"black\" d=\"M894.01,-192.88C880.52,-181.12 865.35,-167.89 851.94,-156.2\"/>\n<polygon fill=\"black\" stroke=\"black\" points=\"854.11,-153.45 844.27,-149.52 849.51,-158.73 854.11,-153.45\"/>\n</g>\n<!-- 18 -->\n<g id=\"node19\" class=\"node\">\n<title>18</title>\n<path fill=\"#e58139\" stroke=\"black\" d=\"M971,-149.5C971,-149.5 893,-149.5 893,-149.5 887,-149.5 881,-143.5 881,-137.5 881,-137.5 881,-108.5 881,-108.5 881,-102.5 887,-96.5 893,-96.5 893,-96.5 971,-96.5 971,-96.5 977,-96.5 983,-102.5 983,-108.5 983,-108.5 983,-137.5 983,-137.5 983,-143.5 977,-149.5 971,-149.5\"/>\n<text text-anchor=\"start\" x=\"904\" y=\"-134.3\" font-family=\"Helvetica,sans-Serif\" font-size=\"14.00\">gini = 0.0</text>\n<text text-anchor=\"start\" x=\"891\" y=\"-119.3\" font-family=\"Helvetica,sans-Serif\" font-size=\"14.00\">samples = 34</text>\n<text text-anchor=\"start\" x=\"889\" y=\"-104.3\" font-family=\"Helvetica,sans-Serif\" font-size=\"14.00\">value = [34, 0]</text>\n</g>\n<!-- 16&#45;&gt;18 -->\n<g id=\"edge18\" class=\"edge\">\n<title>16&#45;&gt;18</title>\n<path fill=\"none\" stroke=\"black\" d=\"M932,-192.88C932,-182.33 932,-170.6 932,-159.85\"/>\n<polygon fill=\"black\" stroke=\"black\" points=\"935.5,-159.52 932,-149.52 928.5,-159.52 935.5,-159.52\"/>\n</g>\n<!-- 20 -->\n<g id=\"node21\" class=\"node\">\n<title>20</title>\n<path fill=\"#eca26d\" stroke=\"black\" d=\"M1099,-157C1099,-157 1013,-157 1013,-157 1007,-157 1001,-151 1001,-145 1001,-145 1001,-101 1001,-101 1001,-95 1007,-89 1013,-89 1013,-89 1099,-89 1099,-89 1105,-89 1111,-95 1111,-101 1111,-101 1111,-145 1111,-145 1111,-151 1105,-157 1099,-157\"/>\n<text text-anchor=\"start\" x=\"1010\" y=\"-141.8\" font-family=\"Helvetica,sans-Serif\" font-size=\"14.00\">Glucose ≤ 28.5</text>\n<text text-anchor=\"start\" x=\"1024\" y=\"-126.8\" font-family=\"Helvetica,sans-Serif\" font-size=\"14.00\">gini = 0.33</text>\n<text text-anchor=\"start\" x=\"1015\" y=\"-111.8\" font-family=\"Helvetica,sans-Serif\" font-size=\"14.00\">samples = 48</text>\n<text text-anchor=\"start\" x=\"1009\" y=\"-96.8\" font-family=\"Helvetica,sans-Serif\" font-size=\"14.00\">value = [38, 10]</text>\n</g>\n<!-- 19&#45;&gt;20 -->\n<g id=\"edge20\" class=\"edge\">\n<title>19&#45;&gt;20</title>\n<path fill=\"none\" stroke=\"black\" d=\"M1056,-192.88C1056,-184.78 1056,-175.98 1056,-167.47\"/>\n<polygon fill=\"black\" stroke=\"black\" points=\"1059.5,-167.3 1056,-157.3 1052.5,-167.3 1059.5,-167.3\"/>\n</g>\n<!-- 23 -->\n<g id=\"node24\" class=\"node\">\n<title>23</title>\n<path fill=\"#f5fafe\" stroke=\"black\" d=\"M1341,-157C1341,-157 1141,-157 1141,-157 1135,-157 1129,-151 1129,-145 1129,-145 1129,-101 1129,-101 1129,-95 1135,-89 1141,-89 1141,-89 1341,-89 1341,-89 1347,-89 1353,-95 1353,-101 1353,-101 1353,-145 1353,-145 1353,-151 1347,-157 1341,-157\"/>\n<text text-anchor=\"start\" x=\"1137\" y=\"-141.8\" font-family=\"Helvetica,sans-Serif\" font-size=\"14.00\">DiabetesPedigreeFunction ≤ 0.561</text>\n<text text-anchor=\"start\" x=\"1213\" y=\"-126.8\" font-family=\"Helvetica,sans-Serif\" font-size=\"14.00\">gini = 0.5</text>\n<text text-anchor=\"start\" x=\"1196\" y=\"-111.8\" font-family=\"Helvetica,sans-Serif\" font-size=\"14.00\">samples = 115</text>\n<text text-anchor=\"start\" x=\"1194\" y=\"-96.8\" font-family=\"Helvetica,sans-Serif\" font-size=\"14.00\">value = [56, 59]</text>\n</g>\n<!-- 19&#45;&gt;23 -->\n<g id=\"edge23\" class=\"edge\">\n<title>19&#45;&gt;23</title>\n<path fill=\"none\" stroke=\"black\" d=\"M1111.01,-195.67C1130.21,-185.08 1152.01,-173.06 1172.2,-161.93\"/>\n<polygon fill=\"black\" stroke=\"black\" points=\"1173.97,-164.95 1181.04,-157.06 1170.59,-158.82 1173.97,-164.95\"/>\n</g>\n<!-- 21 -->\n<g id=\"node22\" class=\"node\">\n<title>21</title>\n<path fill=\"#399de5\" stroke=\"black\" d=\"M992.5,-53C992.5,-53 921.5,-53 921.5,-53 915.5,-53 909.5,-47 909.5,-41 909.5,-41 909.5,-12 909.5,-12 909.5,-6 915.5,0 921.5,0 921.5,0 992.5,0 992.5,0 998.5,0 1004.5,-6 1004.5,-12 1004.5,-12 1004.5,-41 1004.5,-41 1004.5,-47 998.5,-53 992.5,-53\"/>\n<text text-anchor=\"start\" x=\"929\" y=\"-37.8\" font-family=\"Helvetica,sans-Serif\" font-size=\"14.00\">gini = 0.0</text>\n<text text-anchor=\"start\" x=\"919.5\" y=\"-22.8\" font-family=\"Helvetica,sans-Serif\" font-size=\"14.00\">samples = 2</text>\n<text text-anchor=\"start\" x=\"917.5\" y=\"-7.8\" font-family=\"Helvetica,sans-Serif\" font-size=\"14.00\">value = [0, 2]</text>\n</g>\n<!-- 20&#45;&gt;21 -->\n<g id=\"edge21\" class=\"edge\">\n<title>20&#45;&gt;21</title>\n<path fill=\"none\" stroke=\"black\" d=\"M1021.37,-88.95C1011.6,-79.62 1000.97,-69.47 991.22,-60.16\"/>\n<polygon fill=\"black\" stroke=\"black\" points=\"993.61,-57.61 983.96,-53.24 988.78,-62.67 993.61,-57.61\"/>\n</g>\n<!-- 22 -->\n<g id=\"node23\" class=\"node\">\n<title>22</title>\n<path fill=\"#ea9c63\" stroke=\"black\" d=\"M1113,-53C1113,-53 1035,-53 1035,-53 1029,-53 1023,-47 1023,-41 1023,-41 1023,-12 1023,-12 1023,-6 1029,0 1035,0 1035,0 1113,0 1113,0 1119,0 1125,-6 1125,-12 1125,-12 1125,-41 1125,-41 1125,-47 1119,-53 1113,-53\"/>\n<text text-anchor=\"start\" x=\"1038.5\" y=\"-37.8\" font-family=\"Helvetica,sans-Serif\" font-size=\"14.00\">gini = 0.287</text>\n<text text-anchor=\"start\" x=\"1033\" y=\"-22.8\" font-family=\"Helvetica,sans-Serif\" font-size=\"14.00\">samples = 46</text>\n<text text-anchor=\"start\" x=\"1031\" y=\"-7.8\" font-family=\"Helvetica,sans-Serif\" font-size=\"14.00\">value = [38, 8]</text>\n</g>\n<!-- 20&#45;&gt;22 -->\n<g id=\"edge22\" class=\"edge\">\n<title>20&#45;&gt;22</title>\n<path fill=\"none\" stroke=\"black\" d=\"M1062.3,-88.95C1063.88,-80.62 1065.59,-71.65 1067.2,-63.2\"/>\n<polygon fill=\"black\" stroke=\"black\" points=\"1070.66,-63.72 1069.1,-53.24 1063.79,-62.41 1070.66,-63.72\"/>\n</g>\n<!-- 24 -->\n<g id=\"node25\" class=\"node\">\n<title>24</title>\n<path fill=\"#f7dac5\" stroke=\"black\" d=\"M1254,-53C1254,-53 1168,-53 1168,-53 1162,-53 1156,-47 1156,-41 1156,-41 1156,-12 1156,-12 1156,-6 1162,0 1168,0 1168,0 1254,0 1254,0 1260,0 1266,-6 1266,-12 1266,-12 1266,-41 1266,-41 1266,-47 1260,-53 1254,-53\"/>\n<text text-anchor=\"start\" x=\"1175.5\" y=\"-37.8\" font-family=\"Helvetica,sans-Serif\" font-size=\"14.00\">gini = 0.485</text>\n<text text-anchor=\"start\" x=\"1170\" y=\"-22.8\" font-family=\"Helvetica,sans-Serif\" font-size=\"14.00\">samples = 82</text>\n<text text-anchor=\"start\" x=\"1164\" y=\"-7.8\" font-family=\"Helvetica,sans-Serif\" font-size=\"14.00\">value = [48, 34]</text>\n</g>\n<!-- 23&#45;&gt;24 -->\n<g id=\"edge24\" class=\"edge\">\n<title>23&#45;&gt;24</title>\n<path fill=\"none\" stroke=\"black\" d=\"M1230.51,-88.95C1227.84,-80.53 1224.95,-71.45 1222.25,-62.92\"/>\n<polygon fill=\"black\" stroke=\"black\" points=\"1225.53,-61.71 1219.17,-53.24 1218.86,-63.83 1225.53,-61.71\"/>\n</g>\n<!-- 25 -->\n<g id=\"node26\" class=\"node\">\n<title>25</title>\n<path fill=\"#78bced\" stroke=\"black\" d=\"M1374,-53C1374,-53 1296,-53 1296,-53 1290,-53 1284,-47 1284,-41 1284,-41 1284,-12 1284,-12 1284,-6 1290,0 1296,0 1296,0 1374,0 1374,0 1380,0 1386,-6 1386,-12 1386,-12 1386,-41 1386,-41 1386,-47 1380,-53 1374,-53\"/>\n<text text-anchor=\"start\" x=\"1299.5\" y=\"-37.8\" font-family=\"Helvetica,sans-Serif\" font-size=\"14.00\">gini = 0.367</text>\n<text text-anchor=\"start\" x=\"1294\" y=\"-22.8\" font-family=\"Helvetica,sans-Serif\" font-size=\"14.00\">samples = 33</text>\n<text text-anchor=\"start\" x=\"1292\" y=\"-7.8\" font-family=\"Helvetica,sans-Serif\" font-size=\"14.00\">value = [8, 25]</text>\n</g>\n<!-- 23&#45;&gt;25 -->\n<g id=\"edge25\" class=\"edge\">\n<title>23&#45;&gt;25</title>\n<path fill=\"none\" stroke=\"black\" d=\"M1273.88,-88.95C1283.07,-79.71 1293.05,-69.67 1302.24,-60.44\"/>\n<polygon fill=\"black\" stroke=\"black\" points=\"1304.83,-62.79 1309.4,-53.24 1299.87,-57.86 1304.83,-62.79\"/>\n</g>\n<!-- 27 -->\n<g id=\"node28\" class=\"node\">\n<title>27</title>\n<path fill=\"#efb286\" stroke=\"black\" d=\"M1680,-365C1680,-365 1588,-365 1588,-365 1582,-365 1576,-359 1576,-353 1576,-353 1576,-309 1576,-309 1576,-303 1582,-297 1588,-297 1588,-297 1680,-297 1680,-297 1686,-297 1692,-303 1692,-309 1692,-309 1692,-353 1692,-353 1692,-359 1686,-365 1680,-365\"/>\n<text text-anchor=\"start\" x=\"1584\" y=\"-349.8\" font-family=\"Helvetica,sans-Serif\" font-size=\"14.00\">Glucose ≤ 145.5</text>\n<text text-anchor=\"start\" x=\"1598.5\" y=\"-334.8\" font-family=\"Helvetica,sans-Serif\" font-size=\"14.00\">gini = 0.403</text>\n<text text-anchor=\"start\" x=\"1593\" y=\"-319.8\" font-family=\"Helvetica,sans-Serif\" font-size=\"14.00\">samples = 68</text>\n<text text-anchor=\"start\" x=\"1587\" y=\"-304.8\" font-family=\"Helvetica,sans-Serif\" font-size=\"14.00\">value = [49, 19]</text>\n</g>\n<!-- 26&#45;&gt;27 -->\n<g id=\"edge27\" class=\"edge\">\n<title>26&#45;&gt;27</title>\n<path fill=\"none\" stroke=\"black\" d=\"M1634,-400.88C1634,-392.78 1634,-383.98 1634,-375.47\"/>\n<polygon fill=\"black\" stroke=\"black\" points=\"1637.5,-375.3 1634,-365.3 1630.5,-375.3 1637.5,-375.3\"/>\n</g>\n<!-- 38 -->\n<g id=\"node39\" class=\"node\">\n<title>38</title>\n<path fill=\"#84c2ef\" stroke=\"black\" d=\"M2141.5,-365C2141.5,-365 2048.5,-365 2048.5,-365 2042.5,-365 2036.5,-359 2036.5,-353 2036.5,-353 2036.5,-309 2036.5,-309 2036.5,-303 2042.5,-297 2048.5,-297 2048.5,-297 2141.5,-297 2141.5,-297 2147.5,-297 2153.5,-303 2153.5,-309 2153.5,-309 2153.5,-353 2153.5,-353 2153.5,-359 2147.5,-365 2141.5,-365\"/>\n<text text-anchor=\"start\" x=\"2045\" y=\"-349.8\" font-family=\"Helvetica,sans-Serif\" font-size=\"14.00\">Glucose ≤ 157.5</text>\n<text text-anchor=\"start\" x=\"2059.5\" y=\"-334.8\" font-family=\"Helvetica,sans-Serif\" font-size=\"14.00\">gini = 0.399</text>\n<text text-anchor=\"start\" x=\"2050\" y=\"-319.8\" font-family=\"Helvetica,sans-Serif\" font-size=\"14.00\">samples = 185</text>\n<text text-anchor=\"start\" x=\"2044.5\" y=\"-304.8\" font-family=\"Helvetica,sans-Serif\" font-size=\"14.00\">value = [51, 134]</text>\n</g>\n<!-- 26&#45;&gt;38 -->\n<g id=\"edge38\" class=\"edge\">\n<title>26&#45;&gt;38</title>\n<path fill=\"none\" stroke=\"black\" d=\"M1696.65,-420.14C1782.82,-401.07 1937.34,-366.88 2026.48,-347.16\"/>\n<polygon fill=\"black\" stroke=\"black\" points=\"2027.48,-350.52 2036.49,-344.95 2025.97,-343.69 2027.48,-350.52\"/>\n</g>\n<!-- 28 -->\n<g id=\"node29\" class=\"node\">\n<title>28</title>\n<path fill=\"#e78d4c\" stroke=\"black\" d=\"M1614.5,-261C1614.5,-261 1513.5,-261 1513.5,-261 1507.5,-261 1501.5,-255 1501.5,-249 1501.5,-249 1501.5,-205 1501.5,-205 1501.5,-199 1507.5,-193 1513.5,-193 1513.5,-193 1614.5,-193 1614.5,-193 1620.5,-193 1626.5,-199 1626.5,-205 1626.5,-205 1626.5,-249 1626.5,-249 1626.5,-255 1620.5,-261 1614.5,-261\"/>\n<text text-anchor=\"start\" x=\"1509.5\" y=\"-245.8\" font-family=\"Helvetica,sans-Serif\" font-size=\"14.00\">Pregnancies ≤ 2.5</text>\n<text text-anchor=\"start\" x=\"1528.5\" y=\"-230.8\" font-family=\"Helvetica,sans-Serif\" font-size=\"14.00\">gini = 0.157</text>\n<text text-anchor=\"start\" x=\"1523\" y=\"-215.8\" font-family=\"Helvetica,sans-Serif\" font-size=\"14.00\">samples = 35</text>\n<text text-anchor=\"start\" x=\"1521\" y=\"-200.8\" font-family=\"Helvetica,sans-Serif\" font-size=\"14.00\">value = [32, 3]</text>\n</g>\n<!-- 27&#45;&gt;28 -->\n<g id=\"edge28\" class=\"edge\">\n<title>27&#45;&gt;28</title>\n<path fill=\"none\" stroke=\"black\" d=\"M1611.27,-296.88C1605.34,-288.24 1598.88,-278.82 1592.68,-269.79\"/>\n<polygon fill=\"black\" stroke=\"black\" points=\"1595.4,-267.56 1586.85,-261.3 1589.63,-271.52 1595.4,-267.56\"/>\n</g>\n<!-- 33 -->\n<g id=\"node34\" class=\"node\">\n<title>33</title>\n<path fill=\"#fdf8f3\" stroke=\"black\" d=\"M1746,-261C1746,-261 1660,-261 1660,-261 1654,-261 1648,-255 1648,-249 1648,-249 1648,-205 1648,-205 1648,-199 1654,-193 1660,-193 1660,-193 1746,-193 1746,-193 1752,-193 1758,-199 1758,-205 1758,-205 1758,-249 1758,-249 1758,-255 1752,-261 1746,-261\"/>\n<text text-anchor=\"start\" x=\"1670\" y=\"-245.8\" font-family=\"Helvetica,sans-Serif\" font-size=\"14.00\">Age ≤ 25.5</text>\n<text text-anchor=\"start\" x=\"1675\" y=\"-230.8\" font-family=\"Helvetica,sans-Serif\" font-size=\"14.00\">gini = 0.5</text>\n<text text-anchor=\"start\" x=\"1662\" y=\"-215.8\" font-family=\"Helvetica,sans-Serif\" font-size=\"14.00\">samples = 33</text>\n<text text-anchor=\"start\" x=\"1656\" y=\"-200.8\" font-family=\"Helvetica,sans-Serif\" font-size=\"14.00\">value = [17, 16]</text>\n</g>\n<!-- 27&#45;&gt;33 -->\n<g id=\"edge33\" class=\"edge\">\n<title>27&#45;&gt;33</title>\n<path fill=\"none\" stroke=\"black\" d=\"M1656.4,-296.88C1662.25,-288.24 1668.62,-278.82 1674.73,-269.79\"/>\n<polygon fill=\"black\" stroke=\"black\" points=\"1677.77,-271.54 1680.47,-261.3 1671.97,-267.62 1677.77,-271.54\"/>\n</g>\n<!-- 29 -->\n<g id=\"node30\" class=\"node\">\n<title>29</title>\n<path fill=\"#e58139\" stroke=\"black\" d=\"M1461,-149.5C1461,-149.5 1383,-149.5 1383,-149.5 1377,-149.5 1371,-143.5 1371,-137.5 1371,-137.5 1371,-108.5 1371,-108.5 1371,-102.5 1377,-96.5 1383,-96.5 1383,-96.5 1461,-96.5 1461,-96.5 1467,-96.5 1473,-102.5 1473,-108.5 1473,-108.5 1473,-137.5 1473,-137.5 1473,-143.5 1467,-149.5 1461,-149.5\"/>\n<text text-anchor=\"start\" x=\"1394\" y=\"-134.3\" font-family=\"Helvetica,sans-Serif\" font-size=\"14.00\">gini = 0.0</text>\n<text text-anchor=\"start\" x=\"1381\" y=\"-119.3\" font-family=\"Helvetica,sans-Serif\" font-size=\"14.00\">samples = 17</text>\n<text text-anchor=\"start\" x=\"1379\" y=\"-104.3\" font-family=\"Helvetica,sans-Serif\" font-size=\"14.00\">value = [17, 0]</text>\n</g>\n<!-- 28&#45;&gt;29 -->\n<g id=\"edge29\" class=\"edge\">\n<title>28&#45;&gt;29</title>\n<path fill=\"none\" stroke=\"black\" d=\"M1517.9,-192.88C1501.21,-180.9 1482.42,-167.4 1465.92,-155.55\"/>\n<polygon fill=\"black\" stroke=\"black\" points=\"1467.69,-152.51 1457.53,-149.52 1463.61,-158.2 1467.69,-152.51\"/>\n</g>\n<!-- 30 -->\n<g id=\"node31\" class=\"node\">\n<title>30</title>\n<path fill=\"#ea9a61\" stroke=\"black\" d=\"M1625,-157C1625,-157 1503,-157 1503,-157 1497,-157 1491,-151 1491,-145 1491,-145 1491,-101 1491,-101 1491,-95 1497,-89 1503,-89 1503,-89 1625,-89 1625,-89 1631,-89 1637,-95 1637,-101 1637,-101 1637,-145 1637,-145 1637,-151 1631,-157 1625,-157\"/>\n<text text-anchor=\"start\" x=\"1499\" y=\"-141.8\" font-family=\"Helvetica,sans-Serif\" font-size=\"14.00\">BloodPressure ≤ 56.0</text>\n<text text-anchor=\"start\" x=\"1528.5\" y=\"-126.8\" font-family=\"Helvetica,sans-Serif\" font-size=\"14.00\">gini = 0.278</text>\n<text text-anchor=\"start\" x=\"1523\" y=\"-111.8\" font-family=\"Helvetica,sans-Serif\" font-size=\"14.00\">samples = 18</text>\n<text text-anchor=\"start\" x=\"1521\" y=\"-96.8\" font-family=\"Helvetica,sans-Serif\" font-size=\"14.00\">value = [15, 3]</text>\n</g>\n<!-- 28&#45;&gt;30 -->\n<g id=\"edge30\" class=\"edge\">\n<title>28&#45;&gt;30</title>\n<path fill=\"none\" stroke=\"black\" d=\"M1564,-192.88C1564,-184.78 1564,-175.98 1564,-167.47\"/>\n<polygon fill=\"black\" stroke=\"black\" points=\"1567.5,-167.3 1564,-157.3 1560.5,-167.3 1567.5,-167.3\"/>\n</g>\n<!-- 31 -->\n<g id=\"node32\" class=\"node\">\n<title>31</title>\n<path fill=\"#399de5\" stroke=\"black\" d=\"M1493.5,-53C1493.5,-53 1422.5,-53 1422.5,-53 1416.5,-53 1410.5,-47 1410.5,-41 1410.5,-41 1410.5,-12 1410.5,-12 1410.5,-6 1416.5,0 1422.5,0 1422.5,0 1493.5,0 1493.5,0 1499.5,0 1505.5,-6 1505.5,-12 1505.5,-12 1505.5,-41 1505.5,-41 1505.5,-47 1499.5,-53 1493.5,-53\"/>\n<text text-anchor=\"start\" x=\"1430\" y=\"-37.8\" font-family=\"Helvetica,sans-Serif\" font-size=\"14.00\">gini = 0.0</text>\n<text text-anchor=\"start\" x=\"1420.5\" y=\"-22.8\" font-family=\"Helvetica,sans-Serif\" font-size=\"14.00\">samples = 1</text>\n<text text-anchor=\"start\" x=\"1418.5\" y=\"-7.8\" font-family=\"Helvetica,sans-Serif\" font-size=\"14.00\">value = [0, 1]</text>\n</g>\n<!-- 30&#45;&gt;31 -->\n<g id=\"edge31\" class=\"edge\">\n<title>30&#45;&gt;31</title>\n<path fill=\"none\" stroke=\"black\" d=\"M1526.93,-88.95C1516.46,-79.62 1505.08,-69.47 1494.64,-60.16\"/>\n<polygon fill=\"black\" stroke=\"black\" points=\"1496.66,-57.28 1486.87,-53.24 1492,-62.5 1496.66,-57.28\"/>\n</g>\n<!-- 32 -->\n<g id=\"node33\" class=\"node\">\n<title>32</title>\n<path fill=\"#e89253\" stroke=\"black\" d=\"M1614,-53C1614,-53 1536,-53 1536,-53 1530,-53 1524,-47 1524,-41 1524,-41 1524,-12 1524,-12 1524,-6 1530,0 1536,0 1536,0 1614,0 1614,0 1620,0 1626,-6 1626,-12 1626,-12 1626,-41 1626,-41 1626,-47 1620,-53 1614,-53\"/>\n<text text-anchor=\"start\" x=\"1539.5\" y=\"-37.8\" font-family=\"Helvetica,sans-Serif\" font-size=\"14.00\">gini = 0.208</text>\n<text text-anchor=\"start\" x=\"1534\" y=\"-22.8\" font-family=\"Helvetica,sans-Serif\" font-size=\"14.00\">samples = 17</text>\n<text text-anchor=\"start\" x=\"1532\" y=\"-7.8\" font-family=\"Helvetica,sans-Serif\" font-size=\"14.00\">value = [15, 2]</text>\n</g>\n<!-- 30&#45;&gt;32 -->\n<g id=\"edge32\" class=\"edge\">\n<title>30&#45;&gt;32</title>\n<path fill=\"none\" stroke=\"black\" d=\"M1567.85,-88.95C1568.82,-80.62 1569.86,-71.65 1570.84,-63.2\"/>\n<polygon fill=\"black\" stroke=\"black\" points=\"1574.32,-63.57 1572,-53.24 1567.37,-62.76 1574.32,-63.57\"/>\n</g>\n<!-- 34 -->\n<g id=\"node35\" class=\"node\">\n<title>34</title>\n<path fill=\"#e58139\" stroke=\"black\" d=\"M1738.5,-149.5C1738.5,-149.5 1667.5,-149.5 1667.5,-149.5 1661.5,-149.5 1655.5,-143.5 1655.5,-137.5 1655.5,-137.5 1655.5,-108.5 1655.5,-108.5 1655.5,-102.5 1661.5,-96.5 1667.5,-96.5 1667.5,-96.5 1738.5,-96.5 1738.5,-96.5 1744.5,-96.5 1750.5,-102.5 1750.5,-108.5 1750.5,-108.5 1750.5,-137.5 1750.5,-137.5 1750.5,-143.5 1744.5,-149.5 1738.5,-149.5\"/>\n<text text-anchor=\"start\" x=\"1675\" y=\"-134.3\" font-family=\"Helvetica,sans-Serif\" font-size=\"14.00\">gini = 0.0</text>\n<text text-anchor=\"start\" x=\"1665.5\" y=\"-119.3\" font-family=\"Helvetica,sans-Serif\" font-size=\"14.00\">samples = 4</text>\n<text text-anchor=\"start\" x=\"1663.5\" y=\"-104.3\" font-family=\"Helvetica,sans-Serif\" font-size=\"14.00\">value = [4, 0]</text>\n</g>\n<!-- 33&#45;&gt;34 -->\n<g id=\"edge34\" class=\"edge\">\n<title>33&#45;&gt;34</title>\n<path fill=\"none\" stroke=\"black\" d=\"M1703,-192.88C1703,-182.33 1703,-170.6 1703,-159.85\"/>\n<polygon fill=\"black\" stroke=\"black\" points=\"1706.5,-159.52 1703,-149.52 1699.5,-159.52 1706.5,-159.52\"/>\n</g>\n<!-- 35 -->\n<g id=\"node36\" class=\"node\">\n<title>35</title>\n<path fill=\"#daedfa\" stroke=\"black\" d=\"M1867,-157C1867,-157 1781,-157 1781,-157 1775,-157 1769,-151 1769,-145 1769,-145 1769,-101 1769,-101 1769,-95 1775,-89 1781,-89 1781,-89 1867,-89 1867,-89 1873,-89 1879,-95 1879,-101 1879,-101 1879,-145 1879,-145 1879,-151 1873,-157 1867,-157\"/>\n<text text-anchor=\"start\" x=\"1791\" y=\"-141.8\" font-family=\"Helvetica,sans-Serif\" font-size=\"14.00\">Age ≤ 61.0</text>\n<text text-anchor=\"start\" x=\"1788.5\" y=\"-126.8\" font-family=\"Helvetica,sans-Serif\" font-size=\"14.00\">gini = 0.495</text>\n<text text-anchor=\"start\" x=\"1783\" y=\"-111.8\" font-family=\"Helvetica,sans-Serif\" font-size=\"14.00\">samples = 29</text>\n<text text-anchor=\"start\" x=\"1777\" y=\"-96.8\" font-family=\"Helvetica,sans-Serif\" font-size=\"14.00\">value = [13, 16]</text>\n</g>\n<!-- 33&#45;&gt;35 -->\n<g id=\"edge35\" class=\"edge\">\n<title>33&#45;&gt;35</title>\n<path fill=\"none\" stroke=\"black\" d=\"M1742.29,-192.88C1753.27,-183.62 1765.33,-173.45 1776.73,-163.85\"/>\n<polygon fill=\"black\" stroke=\"black\" points=\"1779.11,-166.42 1784.5,-157.3 1774.6,-161.07 1779.11,-166.42\"/>\n</g>\n<!-- 36 -->\n<g id=\"node37\" class=\"node\">\n<title>36</title>\n<path fill=\"#a8d4f4\" stroke=\"black\" d=\"M1746,-53C1746,-53 1668,-53 1668,-53 1662,-53 1656,-47 1656,-41 1656,-41 1656,-12 1656,-12 1656,-6 1662,0 1668,0 1668,0 1746,0 1746,0 1752,0 1758,-6 1758,-12 1758,-12 1758,-41 1758,-41 1758,-47 1752,-53 1746,-53\"/>\n<text text-anchor=\"start\" x=\"1671.5\" y=\"-37.8\" font-family=\"Helvetica,sans-Serif\" font-size=\"14.00\">gini = 0.461</text>\n<text text-anchor=\"start\" x=\"1666\" y=\"-22.8\" font-family=\"Helvetica,sans-Serif\" font-size=\"14.00\">samples = 25</text>\n<text text-anchor=\"start\" x=\"1664\" y=\"-7.8\" font-family=\"Helvetica,sans-Serif\" font-size=\"14.00\">value = [9, 16]</text>\n</g>\n<!-- 35&#45;&gt;36 -->\n<g id=\"edge36\" class=\"edge\">\n<title>35&#45;&gt;36</title>\n<path fill=\"none\" stroke=\"black\" d=\"M1783.08,-88.95C1771.3,-79.43 1758.47,-69.07 1746.76,-59.62\"/>\n<polygon fill=\"black\" stroke=\"black\" points=\"1748.84,-56.8 1738.86,-53.24 1744.44,-62.24 1748.84,-56.8\"/>\n</g>\n<!-- 37 -->\n<g id=\"node38\" class=\"node\">\n<title>37</title>\n<path fill=\"#e58139\" stroke=\"black\" d=\"M1859.5,-53C1859.5,-53 1788.5,-53 1788.5,-53 1782.5,-53 1776.5,-47 1776.5,-41 1776.5,-41 1776.5,-12 1776.5,-12 1776.5,-6 1782.5,0 1788.5,0 1788.5,0 1859.5,0 1859.5,0 1865.5,0 1871.5,-6 1871.5,-12 1871.5,-12 1871.5,-41 1871.5,-41 1871.5,-47 1865.5,-53 1859.5,-53\"/>\n<text text-anchor=\"start\" x=\"1796\" y=\"-37.8\" font-family=\"Helvetica,sans-Serif\" font-size=\"14.00\">gini = 0.0</text>\n<text text-anchor=\"start\" x=\"1786.5\" y=\"-22.8\" font-family=\"Helvetica,sans-Serif\" font-size=\"14.00\">samples = 4</text>\n<text text-anchor=\"start\" x=\"1784.5\" y=\"-7.8\" font-family=\"Helvetica,sans-Serif\" font-size=\"14.00\">value = [4, 0]</text>\n</g>\n<!-- 35&#45;&gt;37 -->\n<g id=\"edge37\" class=\"edge\">\n<title>35&#45;&gt;37</title>\n<path fill=\"none\" stroke=\"black\" d=\"M1824,-88.95C1824,-80.72 1824,-71.85 1824,-63.48\"/>\n<polygon fill=\"black\" stroke=\"black\" points=\"1827.5,-63.24 1824,-53.24 1820.5,-63.24 1827.5,-63.24\"/>\n</g>\n<!-- 39 -->\n<g id=\"node40\" class=\"node\">\n<title>39</title>\n<path fill=\"#b4daf5\" stroke=\"black\" d=\"M2138,-261C2138,-261 2052,-261 2052,-261 2046,-261 2040,-255 2040,-249 2040,-249 2040,-205 2040,-205 2040,-199 2046,-193 2052,-193 2052,-193 2138,-193 2138,-193 2144,-193 2150,-199 2150,-205 2150,-205 2150,-249 2150,-249 2150,-255 2144,-261 2138,-261\"/>\n<text text-anchor=\"start\" x=\"2062\" y=\"-245.8\" font-family=\"Helvetica,sans-Serif\" font-size=\"14.00\">Age ≤ 30.5</text>\n<text text-anchor=\"start\" x=\"2059.5\" y=\"-230.8\" font-family=\"Helvetica,sans-Serif\" font-size=\"14.00\">gini = 0.473</text>\n<text text-anchor=\"start\" x=\"2050\" y=\"-215.8\" font-family=\"Helvetica,sans-Serif\" font-size=\"14.00\">samples = 107</text>\n<text text-anchor=\"start\" x=\"2048\" y=\"-200.8\" font-family=\"Helvetica,sans-Serif\" font-size=\"14.00\">value = [41, 66]</text>\n</g>\n<!-- 38&#45;&gt;39 -->\n<g id=\"edge39\" class=\"edge\">\n<title>38&#45;&gt;39</title>\n<path fill=\"none\" stroke=\"black\" d=\"M2095,-296.88C2095,-288.78 2095,-279.98 2095,-271.47\"/>\n<polygon fill=\"black\" stroke=\"black\" points=\"2098.5,-271.3 2095,-261.3 2091.5,-271.3 2098.5,-271.3\"/>\n</g>\n<!-- 46 -->\n<g id=\"node47\" class=\"node\">\n<title>46</title>\n<path fill=\"#56abe9\" stroke=\"black\" d=\"M2490,-261C2490,-261 2404,-261 2404,-261 2398,-261 2392,-255 2392,-249 2392,-249 2392,-205 2392,-205 2392,-199 2398,-193 2404,-193 2404,-193 2490,-193 2490,-193 2496,-193 2502,-199 2502,-205 2502,-205 2502,-249 2502,-249 2502,-255 2496,-261 2490,-261\"/>\n<text text-anchor=\"start\" x=\"2403\" y=\"-245.8\" font-family=\"Helvetica,sans-Serif\" font-size=\"14.00\">Insulin ≤ 629.5</text>\n<text text-anchor=\"start\" x=\"2411.5\" y=\"-230.8\" font-family=\"Helvetica,sans-Serif\" font-size=\"14.00\">gini = 0.224</text>\n<text text-anchor=\"start\" x=\"2406\" y=\"-215.8\" font-family=\"Helvetica,sans-Serif\" font-size=\"14.00\">samples = 78</text>\n<text text-anchor=\"start\" x=\"2400\" y=\"-200.8\" font-family=\"Helvetica,sans-Serif\" font-size=\"14.00\">value = [10, 68]</text>\n</g>\n<!-- 38&#45;&gt;46 -->\n<g id=\"edge46\" class=\"edge\">\n<title>38&#45;&gt;46</title>\n<path fill=\"none\" stroke=\"black\" d=\"M2153.52,-313.04C2216.56,-294.78 2316.6,-265.79 2382.03,-246.83\"/>\n<polygon fill=\"black\" stroke=\"black\" points=\"2383.19,-250.13 2391.82,-243.99 2381.24,-243.41 2383.19,-250.13\"/>\n</g>\n<!-- 40 -->\n<g id=\"node41\" class=\"node\">\n<title>40</title>\n<path fill=\"#fcf0e7\" stroke=\"black\" d=\"M2054,-157C2054,-157 1932,-157 1932,-157 1926,-157 1920,-151 1920,-145 1920,-145 1920,-101 1920,-101 1920,-95 1926,-89 1932,-89 1932,-89 2054,-89 2054,-89 2060,-89 2066,-95 2066,-101 2066,-101 2066,-145 2066,-145 2066,-151 2060,-157 2054,-157\"/>\n<text text-anchor=\"start\" x=\"1928\" y=\"-141.8\" font-family=\"Helvetica,sans-Serif\" font-size=\"14.00\">BloodPressure ≤ 61.0</text>\n<text text-anchor=\"start\" x=\"1957.5\" y=\"-126.8\" font-family=\"Helvetica,sans-Serif\" font-size=\"14.00\">gini = 0.498</text>\n<text text-anchor=\"start\" x=\"1952\" y=\"-111.8\" font-family=\"Helvetica,sans-Serif\" font-size=\"14.00\">samples = 47</text>\n<text text-anchor=\"start\" x=\"1946\" y=\"-96.8\" font-family=\"Helvetica,sans-Serif\" font-size=\"14.00\">value = [25, 22]</text>\n</g>\n<!-- 39&#45;&gt;40 -->\n<g id=\"edge40\" class=\"edge\">\n<title>39&#45;&gt;40</title>\n<path fill=\"none\" stroke=\"black\" d=\"M2061.88,-192.88C2052.8,-183.8 2042.85,-173.85 2033.4,-164.4\"/>\n<polygon fill=\"black\" stroke=\"black\" points=\"2035.85,-161.9 2026.3,-157.3 2030.9,-166.85 2035.85,-161.9\"/>\n</g>\n<!-- 43 -->\n<g id=\"node44\" class=\"node\">\n<title>43</title>\n<path fill=\"#81c1ee\" stroke=\"black\" d=\"M2296,-157C2296,-157 2096,-157 2096,-157 2090,-157 2084,-151 2084,-145 2084,-145 2084,-101 2084,-101 2084,-95 2090,-89 2096,-89 2096,-89 2296,-89 2296,-89 2302,-89 2308,-95 2308,-101 2308,-101 2308,-145 2308,-145 2308,-151 2302,-157 2296,-157\"/>\n<text text-anchor=\"start\" x=\"2092\" y=\"-141.8\" font-family=\"Helvetica,sans-Serif\" font-size=\"14.00\">DiabetesPedigreeFunction ≤ 0.429</text>\n<text text-anchor=\"start\" x=\"2160.5\" y=\"-126.8\" font-family=\"Helvetica,sans-Serif\" font-size=\"14.00\">gini = 0.391</text>\n<text text-anchor=\"start\" x=\"2155\" y=\"-111.8\" font-family=\"Helvetica,sans-Serif\" font-size=\"14.00\">samples = 60</text>\n<text text-anchor=\"start\" x=\"2149\" y=\"-96.8\" font-family=\"Helvetica,sans-Serif\" font-size=\"14.00\">value = [16, 44]</text>\n</g>\n<!-- 39&#45;&gt;43 -->\n<g id=\"edge43\" class=\"edge\">\n<title>39&#45;&gt;43</title>\n<path fill=\"none\" stroke=\"black\" d=\"M2127.79,-192.88C2136.7,-183.89 2146.45,-174.04 2155.72,-164.68\"/>\n<polygon fill=\"black\" stroke=\"black\" points=\"2158.48,-166.87 2163.03,-157.3 2153.5,-161.94 2158.48,-166.87\"/>\n</g>\n<!-- 41 -->\n<g id=\"node42\" class=\"node\">\n<title>41</title>\n<path fill=\"#399de5\" stroke=\"black\" d=\"M1972.5,-53C1972.5,-53 1901.5,-53 1901.5,-53 1895.5,-53 1889.5,-47 1889.5,-41 1889.5,-41 1889.5,-12 1889.5,-12 1889.5,-6 1895.5,0 1901.5,0 1901.5,0 1972.5,0 1972.5,0 1978.5,0 1984.5,-6 1984.5,-12 1984.5,-12 1984.5,-41 1984.5,-41 1984.5,-47 1978.5,-53 1972.5,-53\"/>\n<text text-anchor=\"start\" x=\"1909\" y=\"-37.8\" font-family=\"Helvetica,sans-Serif\" font-size=\"14.00\">gini = 0.0</text>\n<text text-anchor=\"start\" x=\"1899.5\" y=\"-22.8\" font-family=\"Helvetica,sans-Serif\" font-size=\"14.00\">samples = 9</text>\n<text text-anchor=\"start\" x=\"1897.5\" y=\"-7.8\" font-family=\"Helvetica,sans-Serif\" font-size=\"14.00\">value = [0, 9]</text>\n</g>\n<!-- 40&#45;&gt;41 -->\n<g id=\"edge41\" class=\"edge\">\n<title>40&#45;&gt;41</title>\n<path fill=\"none\" stroke=\"black\" d=\"M1973.41,-88.95C1968.26,-80.26 1962.7,-70.86 1957.5,-62.09\"/>\n<polygon fill=\"black\" stroke=\"black\" points=\"1960.36,-60.06 1952.25,-53.24 1954.34,-63.62 1960.36,-60.06\"/>\n</g>\n<!-- 42 -->\n<g id=\"node43\" class=\"node\">\n<title>42</title>\n<path fill=\"#f3c3a0\" stroke=\"black\" d=\"M2101,-53C2101,-53 2015,-53 2015,-53 2009,-53 2003,-47 2003,-41 2003,-41 2003,-12 2003,-12 2003,-6 2009,0 2015,0 2015,0 2101,0 2101,0 2107,0 2113,-6 2113,-12 2113,-12 2113,-41 2113,-41 2113,-47 2107,-53 2101,-53\"/>\n<text text-anchor=\"start\" x=\"2026\" y=\"-37.8\" font-family=\"Helvetica,sans-Serif\" font-size=\"14.00\">gini = 0.45</text>\n<text text-anchor=\"start\" x=\"2017\" y=\"-22.8\" font-family=\"Helvetica,sans-Serif\" font-size=\"14.00\">samples = 38</text>\n<text text-anchor=\"start\" x=\"2011\" y=\"-7.8\" font-family=\"Helvetica,sans-Serif\" font-size=\"14.00\">value = [25, 13]</text>\n</g>\n<!-- 40&#45;&gt;42 -->\n<g id=\"edge42\" class=\"edge\">\n<title>40&#45;&gt;42</title>\n<path fill=\"none\" stroke=\"black\" d=\"M2015.73,-88.95C2021.84,-80.07 2028.45,-70.46 2034.59,-61.54\"/>\n<polygon fill=\"black\" stroke=\"black\" points=\"2037.51,-63.46 2040.3,-53.24 2031.75,-59.49 2037.51,-63.46\"/>\n</g>\n<!-- 44 -->\n<g id=\"node45\" class=\"node\">\n<title>44</title>\n<path fill=\"#d7ebfa\" stroke=\"black\" d=\"M2229,-53C2229,-53 2143,-53 2143,-53 2137,-53 2131,-47 2131,-41 2131,-41 2131,-12 2131,-12 2131,-6 2137,0 2143,0 2143,0 2229,0 2229,0 2235,0 2241,-6 2241,-12 2241,-12 2241,-41 2241,-41 2241,-47 2235,-53 2229,-53\"/>\n<text text-anchor=\"start\" x=\"2150.5\" y=\"-37.8\" font-family=\"Helvetica,sans-Serif\" font-size=\"14.00\">gini = 0.494</text>\n<text text-anchor=\"start\" x=\"2145\" y=\"-22.8\" font-family=\"Helvetica,sans-Serif\" font-size=\"14.00\">samples = 27</text>\n<text text-anchor=\"start\" x=\"2139\" y=\"-7.8\" font-family=\"Helvetica,sans-Serif\" font-size=\"14.00\">value = [12, 15]</text>\n</g>\n<!-- 43&#45;&gt;44 -->\n<g id=\"edge44\" class=\"edge\">\n<title>43&#45;&gt;44</title>\n<path fill=\"none\" stroke=\"black\" d=\"M2192.5,-88.95C2191.62,-80.62 2190.67,-71.65 2189.78,-63.2\"/>\n<polygon fill=\"black\" stroke=\"black\" points=\"2193.26,-62.81 2188.72,-53.24 2186.3,-63.55 2193.26,-62.81\"/>\n</g>\n<!-- 45 -->\n<g id=\"node46\" class=\"node\">\n<title>45</title>\n<path fill=\"#54abe9\" stroke=\"black\" d=\"M2349,-53C2349,-53 2271,-53 2271,-53 2265,-53 2259,-47 2259,-41 2259,-41 2259,-12 2259,-12 2259,-6 2265,0 2271,0 2271,0 2349,0 2349,0 2355,0 2361,-6 2361,-12 2361,-12 2361,-41 2361,-41 2361,-47 2355,-53 2349,-53\"/>\n<text text-anchor=\"start\" x=\"2274.5\" y=\"-37.8\" font-family=\"Helvetica,sans-Serif\" font-size=\"14.00\">gini = 0.213</text>\n<text text-anchor=\"start\" x=\"2269\" y=\"-22.8\" font-family=\"Helvetica,sans-Serif\" font-size=\"14.00\">samples = 33</text>\n<text text-anchor=\"start\" x=\"2267\" y=\"-7.8\" font-family=\"Helvetica,sans-Serif\" font-size=\"14.00\">value = [4, 29]</text>\n</g>\n<!-- 43&#45;&gt;45 -->\n<g id=\"edge45\" class=\"edge\">\n<title>43&#45;&gt;45</title>\n<path fill=\"none\" stroke=\"black\" d=\"M2235.87,-88.95C2247.24,-79.53 2259.61,-69.27 2270.93,-59.89\"/>\n<polygon fill=\"black\" stroke=\"black\" points=\"2273.49,-62.31 2278.95,-53.24 2269.02,-56.92 2273.49,-62.31\"/>\n</g>\n<!-- 47 -->\n<g id=\"node48\" class=\"node\">\n<title>47</title>\n<path fill=\"#51a9e8\" stroke=\"black\" d=\"M2547,-157C2547,-157 2347,-157 2347,-157 2341,-157 2335,-151 2335,-145 2335,-145 2335,-101 2335,-101 2335,-95 2341,-89 2347,-89 2347,-89 2547,-89 2547,-89 2553,-89 2559,-95 2559,-101 2559,-101 2559,-145 2559,-145 2559,-151 2553,-157 2547,-157\"/>\n<text text-anchor=\"start\" x=\"2343\" y=\"-141.8\" font-family=\"Helvetica,sans-Serif\" font-size=\"14.00\">DiabetesPedigreeFunction ≤ 0.343</text>\n<text text-anchor=\"start\" x=\"2411.5\" y=\"-126.8\" font-family=\"Helvetica,sans-Serif\" font-size=\"14.00\">gini = 0.191</text>\n<text text-anchor=\"start\" x=\"2406\" y=\"-111.8\" font-family=\"Helvetica,sans-Serif\" font-size=\"14.00\">samples = 75</text>\n<text text-anchor=\"start\" x=\"2404\" y=\"-96.8\" font-family=\"Helvetica,sans-Serif\" font-size=\"14.00\">value = [8, 67]</text>\n</g>\n<!-- 46&#45;&gt;47 -->\n<g id=\"edge47\" class=\"edge\">\n<title>46&#45;&gt;47</title>\n<path fill=\"none\" stroke=\"black\" d=\"M2447,-192.88C2447,-184.78 2447,-175.98 2447,-167.47\"/>\n<polygon fill=\"black\" stroke=\"black\" points=\"2450.5,-167.3 2447,-157.3 2443.5,-167.3 2450.5,-167.3\"/>\n</g>\n<!-- 50 -->\n<g id=\"node51\" class=\"node\">\n<title>50</title>\n<path fill=\"#f2c09c\" stroke=\"black\" d=\"M2728,-157C2728,-157 2606,-157 2606,-157 2600,-157 2594,-151 2594,-145 2594,-145 2594,-101 2594,-101 2594,-95 2600,-89 2606,-89 2606,-89 2728,-89 2728,-89 2734,-89 2740,-95 2740,-101 2740,-101 2740,-145 2740,-145 2740,-151 2734,-157 2728,-157\"/>\n<text text-anchor=\"start\" x=\"2602\" y=\"-141.8\" font-family=\"Helvetica,sans-Serif\" font-size=\"14.00\">BloodPressure ≤ 65.0</text>\n<text text-anchor=\"start\" x=\"2631.5\" y=\"-126.8\" font-family=\"Helvetica,sans-Serif\" font-size=\"14.00\">gini = 0.444</text>\n<text text-anchor=\"start\" x=\"2629.5\" y=\"-111.8\" font-family=\"Helvetica,sans-Serif\" font-size=\"14.00\">samples = 3</text>\n<text text-anchor=\"start\" x=\"2627.5\" y=\"-96.8\" font-family=\"Helvetica,sans-Serif\" font-size=\"14.00\">value = [2, 1]</text>\n</g>\n<!-- 46&#45;&gt;50 -->\n<g id=\"edge50\" class=\"edge\">\n<title>46&#45;&gt;50</title>\n<path fill=\"none\" stroke=\"black\" d=\"M2502.23,-200.39C2527.62,-188.62 2558.23,-174.43 2586.14,-161.49\"/>\n<polygon fill=\"black\" stroke=\"black\" points=\"2587.89,-164.53 2595.5,-157.15 2584.95,-158.18 2587.89,-164.53\"/>\n</g>\n<!-- 48 -->\n<g id=\"node49\" class=\"node\">\n<title>48</title>\n<path fill=\"#74baed\" stroke=\"black\" d=\"M2469,-53C2469,-53 2391,-53 2391,-53 2385,-53 2379,-47 2379,-41 2379,-41 2379,-12 2379,-12 2379,-6 2385,0 2391,0 2391,0 2469,0 2469,0 2475,0 2481,-6 2481,-12 2481,-12 2481,-41 2481,-41 2481,-47 2475,-53 2469,-53\"/>\n<text text-anchor=\"start\" x=\"2394.5\" y=\"-37.8\" font-family=\"Helvetica,sans-Serif\" font-size=\"14.00\">gini = 0.355</text>\n<text text-anchor=\"start\" x=\"2389\" y=\"-22.8\" font-family=\"Helvetica,sans-Serif\" font-size=\"14.00\">samples = 26</text>\n<text text-anchor=\"start\" x=\"2387\" y=\"-7.8\" font-family=\"Helvetica,sans-Serif\" font-size=\"14.00\">value = [6, 20]</text>\n</g>\n<!-- 47&#45;&gt;48 -->\n<g id=\"edge48\" class=\"edge\">\n<title>47&#45;&gt;48</title>\n<path fill=\"none\" stroke=\"black\" d=\"M2441.05,-88.95C2439.56,-80.62 2437.94,-71.65 2436.42,-63.2\"/>\n<polygon fill=\"black\" stroke=\"black\" points=\"2439.85,-62.46 2434.63,-53.24 2432.96,-63.7 2439.85,-62.46\"/>\n</g>\n<!-- 49 -->\n<g id=\"node50\" class=\"node\">\n<title>49</title>\n<path fill=\"#41a1e6\" stroke=\"black\" d=\"M2589,-53C2589,-53 2511,-53 2511,-53 2505,-53 2499,-47 2499,-41 2499,-41 2499,-12 2499,-12 2499,-6 2505,0 2511,0 2511,0 2589,0 2589,0 2595,0 2601,-6 2601,-12 2601,-12 2601,-41 2601,-41 2601,-47 2595,-53 2589,-53\"/>\n<text text-anchor=\"start\" x=\"2514.5\" y=\"-37.8\" font-family=\"Helvetica,sans-Serif\" font-size=\"14.00\">gini = 0.078</text>\n<text text-anchor=\"start\" x=\"2509\" y=\"-22.8\" font-family=\"Helvetica,sans-Serif\" font-size=\"14.00\">samples = 49</text>\n<text text-anchor=\"start\" x=\"2507\" y=\"-7.8\" font-family=\"Helvetica,sans-Serif\" font-size=\"14.00\">value = [2, 47]</text>\n</g>\n<!-- 47&#45;&gt;49 -->\n<g id=\"edge49\" class=\"edge\">\n<title>47&#45;&gt;49</title>\n<path fill=\"none\" stroke=\"black\" d=\"M2483.02,-88.95C2493.19,-79.62 2504.25,-69.47 2514.4,-60.16\"/>\n<polygon fill=\"black\" stroke=\"black\" points=\"2516.95,-62.58 2521.95,-53.24 2512.21,-57.42 2516.95,-62.58\"/>\n</g>\n<!-- 51 -->\n<g id=\"node52\" class=\"node\">\n<title>51</title>\n<path fill=\"#399de5\" stroke=\"black\" d=\"M2702.5,-53C2702.5,-53 2631.5,-53 2631.5,-53 2625.5,-53 2619.5,-47 2619.5,-41 2619.5,-41 2619.5,-12 2619.5,-12 2619.5,-6 2625.5,0 2631.5,0 2631.5,0 2702.5,0 2702.5,0 2708.5,0 2714.5,-6 2714.5,-12 2714.5,-12 2714.5,-41 2714.5,-41 2714.5,-47 2708.5,-53 2702.5,-53\"/>\n<text text-anchor=\"start\" x=\"2639\" y=\"-37.8\" font-family=\"Helvetica,sans-Serif\" font-size=\"14.00\">gini = 0.0</text>\n<text text-anchor=\"start\" x=\"2629.5\" y=\"-22.8\" font-family=\"Helvetica,sans-Serif\" font-size=\"14.00\">samples = 1</text>\n<text text-anchor=\"start\" x=\"2627.5\" y=\"-7.8\" font-family=\"Helvetica,sans-Serif\" font-size=\"14.00\">value = [0, 1]</text>\n</g>\n<!-- 50&#45;&gt;51 -->\n<g id=\"edge51\" class=\"edge\">\n<title>50&#45;&gt;51</title>\n<path fill=\"none\" stroke=\"black\" d=\"M2667,-88.95C2667,-80.72 2667,-71.85 2667,-63.48\"/>\n<polygon fill=\"black\" stroke=\"black\" points=\"2670.5,-63.24 2667,-53.24 2663.5,-63.24 2670.5,-63.24\"/>\n</g>\n<!-- 52 -->\n<g id=\"node53\" class=\"node\">\n<title>52</title>\n<path fill=\"#e58139\" stroke=\"black\" d=\"M2815.5,-53C2815.5,-53 2744.5,-53 2744.5,-53 2738.5,-53 2732.5,-47 2732.5,-41 2732.5,-41 2732.5,-12 2732.5,-12 2732.5,-6 2738.5,0 2744.5,0 2744.5,0 2815.5,0 2815.5,0 2821.5,0 2827.5,-6 2827.5,-12 2827.5,-12 2827.5,-41 2827.5,-41 2827.5,-47 2821.5,-53 2815.5,-53\"/>\n<text text-anchor=\"start\" x=\"2752\" y=\"-37.8\" font-family=\"Helvetica,sans-Serif\" font-size=\"14.00\">gini = 0.0</text>\n<text text-anchor=\"start\" x=\"2742.5\" y=\"-22.8\" font-family=\"Helvetica,sans-Serif\" font-size=\"14.00\">samples = 2</text>\n<text text-anchor=\"start\" x=\"2740.5\" y=\"-7.8\" font-family=\"Helvetica,sans-Serif\" font-size=\"14.00\">value = [2, 0]</text>\n</g>\n<!-- 50&#45;&gt;52 -->\n<g id=\"edge52\" class=\"edge\">\n<title>50&#45;&gt;52</title>\n<path fill=\"none\" stroke=\"black\" d=\"M2706.52,-88.95C2717.79,-79.53 2730.05,-69.27 2741.27,-59.89\"/>\n<polygon fill=\"black\" stroke=\"black\" points=\"2743.8,-62.34 2749.22,-53.24 2739.31,-56.97 2743.8,-62.34\"/>\n</g>\n</g>\n</svg>\n"
          },
          "metadata": {},
          "execution_count": 63
        }
      ]
    },
    {
      "cell_type": "markdown",
      "source": [
        "# What knowledge can you find from above tree model and graph?\n",
        "\n",
        "- Which feature is most important in separating classes?\n",
        "- What do you observe about the leaf nodes? Do they have sufficient data items? What about Gini index?\n",
        "- What about depth of the tree? Can we change that to make the accuracy better?"
      ],
      "metadata": {
        "id": "_SYucILbiQWm"
      }
    },
    {
      "cell_type": "markdown",
      "source": [
        "## Application on Heart Disease Dataset"
      ],
      "metadata": {
        "id": "lgVoH8EKjEAg"
      }
    },
    {
      "cell_type": "code",
      "source": [
        "heart = pd.read_csv(\"https://an-utd-python.s3.us-west-1.amazonaws.com/heart.csv\")"
      ],
      "metadata": {
        "id": "ag87AB-PjkWP"
      },
      "execution_count": 79,
      "outputs": []
    },
    {
      "cell_type": "code",
      "source": [
        "heart"
      ],
      "metadata": {
        "colab": {
          "base_uri": "https://localhost:8080/",
          "height": 419
        },
        "id": "-70hy2z2jnZ2",
        "outputId": "cdb3fd48-2247-4300-ba3a-fe89f6e2fa5e"
      },
      "execution_count": 80,
      "outputs": [
        {
          "output_type": "execute_result",
          "data": {
            "text/plain": [
              "     Age Sex ChestPainType  RestingBP  Cholesterol  FastingBS RestingECG  \\\n",
              "0     40   M           ATA        140          289          0     Normal   \n",
              "1     49   F           NAP        160          180          0     Normal   \n",
              "2     37   M           ATA        130          283          0         ST   \n",
              "3     48   F           ASY        138          214          0     Normal   \n",
              "4     54   M           NAP        150          195          0     Normal   \n",
              "..   ...  ..           ...        ...          ...        ...        ...   \n",
              "913   45   M            TA        110          264          0     Normal   \n",
              "914   68   M           ASY        144          193          1     Normal   \n",
              "915   57   M           ASY        130          131          0     Normal   \n",
              "916   57   F           ATA        130          236          0        LVH   \n",
              "917   38   M           NAP        138          175          0     Normal   \n",
              "\n",
              "     MaxHR ExerciseAngina  Oldpeak ST_Slope  HeartDisease  \n",
              "0      172              N      0.0       Up             0  \n",
              "1      156              N      1.0     Flat             1  \n",
              "2       98              N      0.0       Up             0  \n",
              "3      108              Y      1.5     Flat             1  \n",
              "4      122              N      0.0       Up             0  \n",
              "..     ...            ...      ...      ...           ...  \n",
              "913    132              N      1.2     Flat             1  \n",
              "914    141              N      3.4     Flat             1  \n",
              "915    115              Y      1.2     Flat             1  \n",
              "916    174              N      0.0     Flat             1  \n",
              "917    173              N      0.0       Up             0  \n",
              "\n",
              "[918 rows x 12 columns]"
            ],
            "text/html": [
              "\n",
              "  <div id=\"df-1d60464f-440d-42e0-b0c8-82bed1fa78a6\">\n",
              "    <div class=\"colab-df-container\">\n",
              "      <div>\n",
              "<style scoped>\n",
              "    .dataframe tbody tr th:only-of-type {\n",
              "        vertical-align: middle;\n",
              "    }\n",
              "\n",
              "    .dataframe tbody tr th {\n",
              "        vertical-align: top;\n",
              "    }\n",
              "\n",
              "    .dataframe thead th {\n",
              "        text-align: right;\n",
              "    }\n",
              "</style>\n",
              "<table border=\"1\" class=\"dataframe\">\n",
              "  <thead>\n",
              "    <tr style=\"text-align: right;\">\n",
              "      <th></th>\n",
              "      <th>Age</th>\n",
              "      <th>Sex</th>\n",
              "      <th>ChestPainType</th>\n",
              "      <th>RestingBP</th>\n",
              "      <th>Cholesterol</th>\n",
              "      <th>FastingBS</th>\n",
              "      <th>RestingECG</th>\n",
              "      <th>MaxHR</th>\n",
              "      <th>ExerciseAngina</th>\n",
              "      <th>Oldpeak</th>\n",
              "      <th>ST_Slope</th>\n",
              "      <th>HeartDisease</th>\n",
              "    </tr>\n",
              "  </thead>\n",
              "  <tbody>\n",
              "    <tr>\n",
              "      <th>0</th>\n",
              "      <td>40</td>\n",
              "      <td>M</td>\n",
              "      <td>ATA</td>\n",
              "      <td>140</td>\n",
              "      <td>289</td>\n",
              "      <td>0</td>\n",
              "      <td>Normal</td>\n",
              "      <td>172</td>\n",
              "      <td>N</td>\n",
              "      <td>0.0</td>\n",
              "      <td>Up</td>\n",
              "      <td>0</td>\n",
              "    </tr>\n",
              "    <tr>\n",
              "      <th>1</th>\n",
              "      <td>49</td>\n",
              "      <td>F</td>\n",
              "      <td>NAP</td>\n",
              "      <td>160</td>\n",
              "      <td>180</td>\n",
              "      <td>0</td>\n",
              "      <td>Normal</td>\n",
              "      <td>156</td>\n",
              "      <td>N</td>\n",
              "      <td>1.0</td>\n",
              "      <td>Flat</td>\n",
              "      <td>1</td>\n",
              "    </tr>\n",
              "    <tr>\n",
              "      <th>2</th>\n",
              "      <td>37</td>\n",
              "      <td>M</td>\n",
              "      <td>ATA</td>\n",
              "      <td>130</td>\n",
              "      <td>283</td>\n",
              "      <td>0</td>\n",
              "      <td>ST</td>\n",
              "      <td>98</td>\n",
              "      <td>N</td>\n",
              "      <td>0.0</td>\n",
              "      <td>Up</td>\n",
              "      <td>0</td>\n",
              "    </tr>\n",
              "    <tr>\n",
              "      <th>3</th>\n",
              "      <td>48</td>\n",
              "      <td>F</td>\n",
              "      <td>ASY</td>\n",
              "      <td>138</td>\n",
              "      <td>214</td>\n",
              "      <td>0</td>\n",
              "      <td>Normal</td>\n",
              "      <td>108</td>\n",
              "      <td>Y</td>\n",
              "      <td>1.5</td>\n",
              "      <td>Flat</td>\n",
              "      <td>1</td>\n",
              "    </tr>\n",
              "    <tr>\n",
              "      <th>4</th>\n",
              "      <td>54</td>\n",
              "      <td>M</td>\n",
              "      <td>NAP</td>\n",
              "      <td>150</td>\n",
              "      <td>195</td>\n",
              "      <td>0</td>\n",
              "      <td>Normal</td>\n",
              "      <td>122</td>\n",
              "      <td>N</td>\n",
              "      <td>0.0</td>\n",
              "      <td>Up</td>\n",
              "      <td>0</td>\n",
              "    </tr>\n",
              "    <tr>\n",
              "      <th>...</th>\n",
              "      <td>...</td>\n",
              "      <td>...</td>\n",
              "      <td>...</td>\n",
              "      <td>...</td>\n",
              "      <td>...</td>\n",
              "      <td>...</td>\n",
              "      <td>...</td>\n",
              "      <td>...</td>\n",
              "      <td>...</td>\n",
              "      <td>...</td>\n",
              "      <td>...</td>\n",
              "      <td>...</td>\n",
              "    </tr>\n",
              "    <tr>\n",
              "      <th>913</th>\n",
              "      <td>45</td>\n",
              "      <td>M</td>\n",
              "      <td>TA</td>\n",
              "      <td>110</td>\n",
              "      <td>264</td>\n",
              "      <td>0</td>\n",
              "      <td>Normal</td>\n",
              "      <td>132</td>\n",
              "      <td>N</td>\n",
              "      <td>1.2</td>\n",
              "      <td>Flat</td>\n",
              "      <td>1</td>\n",
              "    </tr>\n",
              "    <tr>\n",
              "      <th>914</th>\n",
              "      <td>68</td>\n",
              "      <td>M</td>\n",
              "      <td>ASY</td>\n",
              "      <td>144</td>\n",
              "      <td>193</td>\n",
              "      <td>1</td>\n",
              "      <td>Normal</td>\n",
              "      <td>141</td>\n",
              "      <td>N</td>\n",
              "      <td>3.4</td>\n",
              "      <td>Flat</td>\n",
              "      <td>1</td>\n",
              "    </tr>\n",
              "    <tr>\n",
              "      <th>915</th>\n",
              "      <td>57</td>\n",
              "      <td>M</td>\n",
              "      <td>ASY</td>\n",
              "      <td>130</td>\n",
              "      <td>131</td>\n",
              "      <td>0</td>\n",
              "      <td>Normal</td>\n",
              "      <td>115</td>\n",
              "      <td>Y</td>\n",
              "      <td>1.2</td>\n",
              "      <td>Flat</td>\n",
              "      <td>1</td>\n",
              "    </tr>\n",
              "    <tr>\n",
              "      <th>916</th>\n",
              "      <td>57</td>\n",
              "      <td>F</td>\n",
              "      <td>ATA</td>\n",
              "      <td>130</td>\n",
              "      <td>236</td>\n",
              "      <td>0</td>\n",
              "      <td>LVH</td>\n",
              "      <td>174</td>\n",
              "      <td>N</td>\n",
              "      <td>0.0</td>\n",
              "      <td>Flat</td>\n",
              "      <td>1</td>\n",
              "    </tr>\n",
              "    <tr>\n",
              "      <th>917</th>\n",
              "      <td>38</td>\n",
              "      <td>M</td>\n",
              "      <td>NAP</td>\n",
              "      <td>138</td>\n",
              "      <td>175</td>\n",
              "      <td>0</td>\n",
              "      <td>Normal</td>\n",
              "      <td>173</td>\n",
              "      <td>N</td>\n",
              "      <td>0.0</td>\n",
              "      <td>Up</td>\n",
              "      <td>0</td>\n",
              "    </tr>\n",
              "  </tbody>\n",
              "</table>\n",
              "<p>918 rows × 12 columns</p>\n",
              "</div>\n",
              "      <button class=\"colab-df-convert\" onclick=\"convertToInteractive('df-1d60464f-440d-42e0-b0c8-82bed1fa78a6')\"\n",
              "              title=\"Convert this dataframe to an interactive table.\"\n",
              "              style=\"display:none;\">\n",
              "        \n",
              "  <svg xmlns=\"http://www.w3.org/2000/svg\" height=\"24px\"viewBox=\"0 0 24 24\"\n",
              "       width=\"24px\">\n",
              "    <path d=\"M0 0h24v24H0V0z\" fill=\"none\"/>\n",
              "    <path d=\"M18.56 5.44l.94 2.06.94-2.06 2.06-.94-2.06-.94-.94-2.06-.94 2.06-2.06.94zm-11 1L8.5 8.5l.94-2.06 2.06-.94-2.06-.94L8.5 2.5l-.94 2.06-2.06.94zm10 10l.94 2.06.94-2.06 2.06-.94-2.06-.94-.94-2.06-.94 2.06-2.06.94z\"/><path d=\"M17.41 7.96l-1.37-1.37c-.4-.4-.92-.59-1.43-.59-.52 0-1.04.2-1.43.59L10.3 9.45l-7.72 7.72c-.78.78-.78 2.05 0 2.83L4 21.41c.39.39.9.59 1.41.59.51 0 1.02-.2 1.41-.59l7.78-7.78 2.81-2.81c.8-.78.8-2.07 0-2.86zM5.41 20L4 18.59l7.72-7.72 1.47 1.35L5.41 20z\"/>\n",
              "  </svg>\n",
              "      </button>\n",
              "      \n",
              "  <style>\n",
              "    .colab-df-container {\n",
              "      display:flex;\n",
              "      flex-wrap:wrap;\n",
              "      gap: 12px;\n",
              "    }\n",
              "\n",
              "    .colab-df-convert {\n",
              "      background-color: #E8F0FE;\n",
              "      border: none;\n",
              "      border-radius: 50%;\n",
              "      cursor: pointer;\n",
              "      display: none;\n",
              "      fill: #1967D2;\n",
              "      height: 32px;\n",
              "      padding: 0 0 0 0;\n",
              "      width: 32px;\n",
              "    }\n",
              "\n",
              "    .colab-df-convert:hover {\n",
              "      background-color: #E2EBFA;\n",
              "      box-shadow: 0px 1px 2px rgba(60, 64, 67, 0.3), 0px 1px 3px 1px rgba(60, 64, 67, 0.15);\n",
              "      fill: #174EA6;\n",
              "    }\n",
              "\n",
              "    [theme=dark] .colab-df-convert {\n",
              "      background-color: #3B4455;\n",
              "      fill: #D2E3FC;\n",
              "    }\n",
              "\n",
              "    [theme=dark] .colab-df-convert:hover {\n",
              "      background-color: #434B5C;\n",
              "      box-shadow: 0px 1px 3px 1px rgba(0, 0, 0, 0.15);\n",
              "      filter: drop-shadow(0px 1px 2px rgba(0, 0, 0, 0.3));\n",
              "      fill: #FFFFFF;\n",
              "    }\n",
              "  </style>\n",
              "\n",
              "      <script>\n",
              "        const buttonEl =\n",
              "          document.querySelector('#df-1d60464f-440d-42e0-b0c8-82bed1fa78a6 button.colab-df-convert');\n",
              "        buttonEl.style.display =\n",
              "          google.colab.kernel.accessAllowed ? 'block' : 'none';\n",
              "\n",
              "        async function convertToInteractive(key) {\n",
              "          const element = document.querySelector('#df-1d60464f-440d-42e0-b0c8-82bed1fa78a6');\n",
              "          const dataTable =\n",
              "            await google.colab.kernel.invokeFunction('convertToInteractive',\n",
              "                                                     [key], {});\n",
              "          if (!dataTable) return;\n",
              "\n",
              "          const docLinkHtml = 'Like what you see? Visit the ' +\n",
              "            '<a target=\"_blank\" href=https://colab.research.google.com/notebooks/data_table.ipynb>data table notebook</a>'\n",
              "            + ' to learn more about interactive tables.';\n",
              "          element.innerHTML = '';\n",
              "          dataTable['output_type'] = 'display_data';\n",
              "          await google.colab.output.renderOutput(dataTable, element);\n",
              "          const docLink = document.createElement('div');\n",
              "          docLink.innerHTML = docLinkHtml;\n",
              "          element.appendChild(docLink);\n",
              "        }\n",
              "      </script>\n",
              "    </div>\n",
              "  </div>\n",
              "  "
            ]
          },
          "metadata": {},
          "execution_count": 80
        }
      ]
    },
    {
      "cell_type": "code",
      "source": [
        "heart.info()"
      ],
      "metadata": {
        "colab": {
          "base_uri": "https://localhost:8080/"
        },
        "id": "ZKALAMt7jswi",
        "outputId": "40038336-7182-4d2c-808b-4568d067b9a2"
      },
      "execution_count": 81,
      "outputs": [
        {
          "output_type": "stream",
          "name": "stdout",
          "text": [
            "<class 'pandas.core.frame.DataFrame'>\n",
            "RangeIndex: 918 entries, 0 to 917\n",
            "Data columns (total 12 columns):\n",
            " #   Column          Non-Null Count  Dtype  \n",
            "---  ------          --------------  -----  \n",
            " 0   Age             918 non-null    int64  \n",
            " 1   Sex             918 non-null    object \n",
            " 2   ChestPainType   918 non-null    object \n",
            " 3   RestingBP       918 non-null    int64  \n",
            " 4   Cholesterol     918 non-null    int64  \n",
            " 5   FastingBS       918 non-null    int64  \n",
            " 6   RestingECG      918 non-null    object \n",
            " 7   MaxHR           918 non-null    int64  \n",
            " 8   ExerciseAngina  918 non-null    object \n",
            " 9   Oldpeak         918 non-null    float64\n",
            " 10  ST_Slope        918 non-null    object \n",
            " 11  HeartDisease    918 non-null    int64  \n",
            "dtypes: float64(1), int64(6), object(5)\n",
            "memory usage: 86.2+ KB\n"
          ]
        }
      ]
    },
    {
      "cell_type": "markdown",
      "source": [
        "# What do you observe?\n",
        "\n",
        "There are numerical as well as categorical columns. Can we use categorical variables as is? Probably not.\n",
        "\n",
        "Let us use try to convert categorical to numerical (sometimes called index) variables."
      ],
      "metadata": {
        "id": "DTLDNvNhjqhB"
      }
    },
    {
      "cell_type": "code",
      "source": [
        "cat_cols = ['Sex', 'ChestPainType', 'RestingECG', 'Oldpeak', 'ExerciseAngina', 'ST_Slope']"
      ],
      "metadata": {
        "id": "zc6_mscOkCmF"
      },
      "execution_count": 82,
      "outputs": []
    },
    {
      "cell_type": "code",
      "source": [
        "from sklearn.preprocessing import LabelEncoder\n",
        "heart[cat_cols] = heart[cat_cols].apply(LabelEncoder().fit_transform)"
      ],
      "metadata": {
        "id": "YjRwxd-dkOAN"
      },
      "execution_count": 83,
      "outputs": []
    },
    {
      "cell_type": "code",
      "source": [
        "heart"
      ],
      "metadata": {
        "colab": {
          "base_uri": "https://localhost:8080/",
          "height": 419
        },
        "id": "L9CDAXUzjppM",
        "outputId": "1e8d6ea7-e2c6-4624-bd44-94146d5f33ef"
      },
      "execution_count": 84,
      "outputs": [
        {
          "output_type": "execute_result",
          "data": {
            "text/plain": [
              "     Age  Sex  ChestPainType  RestingBP  Cholesterol  FastingBS  RestingECG  \\\n",
              "0     40    1              1        140          289          0           1   \n",
              "1     49    0              2        160          180          0           1   \n",
              "2     37    1              1        130          283          0           2   \n",
              "3     48    0              0        138          214          0           1   \n",
              "4     54    1              2        150          195          0           1   \n",
              "..   ...  ...            ...        ...          ...        ...         ...   \n",
              "913   45    1              3        110          264          0           1   \n",
              "914   68    1              0        144          193          1           1   \n",
              "915   57    1              0        130          131          0           1   \n",
              "916   57    0              1        130          236          0           0   \n",
              "917   38    1              2        138          175          0           1   \n",
              "\n",
              "     MaxHR  ExerciseAngina  Oldpeak  ST_Slope  HeartDisease  \n",
              "0      172               0       10         2             0  \n",
              "1      156               0       20         1             1  \n",
              "2       98               0       10         2             0  \n",
              "3      108               1       25         1             1  \n",
              "4      122               0       10         2             0  \n",
              "..     ...             ...      ...       ...           ...  \n",
              "913    132               0       22         1             1  \n",
              "914    141               0       42         1             1  \n",
              "915    115               1       22         1             1  \n",
              "916    174               0       10         1             1  \n",
              "917    173               0       10         2             0  \n",
              "\n",
              "[918 rows x 12 columns]"
            ],
            "text/html": [
              "\n",
              "  <div id=\"df-fe8d96d0-ef47-47b9-a76d-5d3efbdd1cd3\">\n",
              "    <div class=\"colab-df-container\">\n",
              "      <div>\n",
              "<style scoped>\n",
              "    .dataframe tbody tr th:only-of-type {\n",
              "        vertical-align: middle;\n",
              "    }\n",
              "\n",
              "    .dataframe tbody tr th {\n",
              "        vertical-align: top;\n",
              "    }\n",
              "\n",
              "    .dataframe thead th {\n",
              "        text-align: right;\n",
              "    }\n",
              "</style>\n",
              "<table border=\"1\" class=\"dataframe\">\n",
              "  <thead>\n",
              "    <tr style=\"text-align: right;\">\n",
              "      <th></th>\n",
              "      <th>Age</th>\n",
              "      <th>Sex</th>\n",
              "      <th>ChestPainType</th>\n",
              "      <th>RestingBP</th>\n",
              "      <th>Cholesterol</th>\n",
              "      <th>FastingBS</th>\n",
              "      <th>RestingECG</th>\n",
              "      <th>MaxHR</th>\n",
              "      <th>ExerciseAngina</th>\n",
              "      <th>Oldpeak</th>\n",
              "      <th>ST_Slope</th>\n",
              "      <th>HeartDisease</th>\n",
              "    </tr>\n",
              "  </thead>\n",
              "  <tbody>\n",
              "    <tr>\n",
              "      <th>0</th>\n",
              "      <td>40</td>\n",
              "      <td>1</td>\n",
              "      <td>1</td>\n",
              "      <td>140</td>\n",
              "      <td>289</td>\n",
              "      <td>0</td>\n",
              "      <td>1</td>\n",
              "      <td>172</td>\n",
              "      <td>0</td>\n",
              "      <td>10</td>\n",
              "      <td>2</td>\n",
              "      <td>0</td>\n",
              "    </tr>\n",
              "    <tr>\n",
              "      <th>1</th>\n",
              "      <td>49</td>\n",
              "      <td>0</td>\n",
              "      <td>2</td>\n",
              "      <td>160</td>\n",
              "      <td>180</td>\n",
              "      <td>0</td>\n",
              "      <td>1</td>\n",
              "      <td>156</td>\n",
              "      <td>0</td>\n",
              "      <td>20</td>\n",
              "      <td>1</td>\n",
              "      <td>1</td>\n",
              "    </tr>\n",
              "    <tr>\n",
              "      <th>2</th>\n",
              "      <td>37</td>\n",
              "      <td>1</td>\n",
              "      <td>1</td>\n",
              "      <td>130</td>\n",
              "      <td>283</td>\n",
              "      <td>0</td>\n",
              "      <td>2</td>\n",
              "      <td>98</td>\n",
              "      <td>0</td>\n",
              "      <td>10</td>\n",
              "      <td>2</td>\n",
              "      <td>0</td>\n",
              "    </tr>\n",
              "    <tr>\n",
              "      <th>3</th>\n",
              "      <td>48</td>\n",
              "      <td>0</td>\n",
              "      <td>0</td>\n",
              "      <td>138</td>\n",
              "      <td>214</td>\n",
              "      <td>0</td>\n",
              "      <td>1</td>\n",
              "      <td>108</td>\n",
              "      <td>1</td>\n",
              "      <td>25</td>\n",
              "      <td>1</td>\n",
              "      <td>1</td>\n",
              "    </tr>\n",
              "    <tr>\n",
              "      <th>4</th>\n",
              "      <td>54</td>\n",
              "      <td>1</td>\n",
              "      <td>2</td>\n",
              "      <td>150</td>\n",
              "      <td>195</td>\n",
              "      <td>0</td>\n",
              "      <td>1</td>\n",
              "      <td>122</td>\n",
              "      <td>0</td>\n",
              "      <td>10</td>\n",
              "      <td>2</td>\n",
              "      <td>0</td>\n",
              "    </tr>\n",
              "    <tr>\n",
              "      <th>...</th>\n",
              "      <td>...</td>\n",
              "      <td>...</td>\n",
              "      <td>...</td>\n",
              "      <td>...</td>\n",
              "      <td>...</td>\n",
              "      <td>...</td>\n",
              "      <td>...</td>\n",
              "      <td>...</td>\n",
              "      <td>...</td>\n",
              "      <td>...</td>\n",
              "      <td>...</td>\n",
              "      <td>...</td>\n",
              "    </tr>\n",
              "    <tr>\n",
              "      <th>913</th>\n",
              "      <td>45</td>\n",
              "      <td>1</td>\n",
              "      <td>3</td>\n",
              "      <td>110</td>\n",
              "      <td>264</td>\n",
              "      <td>0</td>\n",
              "      <td>1</td>\n",
              "      <td>132</td>\n",
              "      <td>0</td>\n",
              "      <td>22</td>\n",
              "      <td>1</td>\n",
              "      <td>1</td>\n",
              "    </tr>\n",
              "    <tr>\n",
              "      <th>914</th>\n",
              "      <td>68</td>\n",
              "      <td>1</td>\n",
              "      <td>0</td>\n",
              "      <td>144</td>\n",
              "      <td>193</td>\n",
              "      <td>1</td>\n",
              "      <td>1</td>\n",
              "      <td>141</td>\n",
              "      <td>0</td>\n",
              "      <td>42</td>\n",
              "      <td>1</td>\n",
              "      <td>1</td>\n",
              "    </tr>\n",
              "    <tr>\n",
              "      <th>915</th>\n",
              "      <td>57</td>\n",
              "      <td>1</td>\n",
              "      <td>0</td>\n",
              "      <td>130</td>\n",
              "      <td>131</td>\n",
              "      <td>0</td>\n",
              "      <td>1</td>\n",
              "      <td>115</td>\n",
              "      <td>1</td>\n",
              "      <td>22</td>\n",
              "      <td>1</td>\n",
              "      <td>1</td>\n",
              "    </tr>\n",
              "    <tr>\n",
              "      <th>916</th>\n",
              "      <td>57</td>\n",
              "      <td>0</td>\n",
              "      <td>1</td>\n",
              "      <td>130</td>\n",
              "      <td>236</td>\n",
              "      <td>0</td>\n",
              "      <td>0</td>\n",
              "      <td>174</td>\n",
              "      <td>0</td>\n",
              "      <td>10</td>\n",
              "      <td>1</td>\n",
              "      <td>1</td>\n",
              "    </tr>\n",
              "    <tr>\n",
              "      <th>917</th>\n",
              "      <td>38</td>\n",
              "      <td>1</td>\n",
              "      <td>2</td>\n",
              "      <td>138</td>\n",
              "      <td>175</td>\n",
              "      <td>0</td>\n",
              "      <td>1</td>\n",
              "      <td>173</td>\n",
              "      <td>0</td>\n",
              "      <td>10</td>\n",
              "      <td>2</td>\n",
              "      <td>0</td>\n",
              "    </tr>\n",
              "  </tbody>\n",
              "</table>\n",
              "<p>918 rows × 12 columns</p>\n",
              "</div>\n",
              "      <button class=\"colab-df-convert\" onclick=\"convertToInteractive('df-fe8d96d0-ef47-47b9-a76d-5d3efbdd1cd3')\"\n",
              "              title=\"Convert this dataframe to an interactive table.\"\n",
              "              style=\"display:none;\">\n",
              "        \n",
              "  <svg xmlns=\"http://www.w3.org/2000/svg\" height=\"24px\"viewBox=\"0 0 24 24\"\n",
              "       width=\"24px\">\n",
              "    <path d=\"M0 0h24v24H0V0z\" fill=\"none\"/>\n",
              "    <path d=\"M18.56 5.44l.94 2.06.94-2.06 2.06-.94-2.06-.94-.94-2.06-.94 2.06-2.06.94zm-11 1L8.5 8.5l.94-2.06 2.06-.94-2.06-.94L8.5 2.5l-.94 2.06-2.06.94zm10 10l.94 2.06.94-2.06 2.06-.94-2.06-.94-.94-2.06-.94 2.06-2.06.94z\"/><path d=\"M17.41 7.96l-1.37-1.37c-.4-.4-.92-.59-1.43-.59-.52 0-1.04.2-1.43.59L10.3 9.45l-7.72 7.72c-.78.78-.78 2.05 0 2.83L4 21.41c.39.39.9.59 1.41.59.51 0 1.02-.2 1.41-.59l7.78-7.78 2.81-2.81c.8-.78.8-2.07 0-2.86zM5.41 20L4 18.59l7.72-7.72 1.47 1.35L5.41 20z\"/>\n",
              "  </svg>\n",
              "      </button>\n",
              "      \n",
              "  <style>\n",
              "    .colab-df-container {\n",
              "      display:flex;\n",
              "      flex-wrap:wrap;\n",
              "      gap: 12px;\n",
              "    }\n",
              "\n",
              "    .colab-df-convert {\n",
              "      background-color: #E8F0FE;\n",
              "      border: none;\n",
              "      border-radius: 50%;\n",
              "      cursor: pointer;\n",
              "      display: none;\n",
              "      fill: #1967D2;\n",
              "      height: 32px;\n",
              "      padding: 0 0 0 0;\n",
              "      width: 32px;\n",
              "    }\n",
              "\n",
              "    .colab-df-convert:hover {\n",
              "      background-color: #E2EBFA;\n",
              "      box-shadow: 0px 1px 2px rgba(60, 64, 67, 0.3), 0px 1px 3px 1px rgba(60, 64, 67, 0.15);\n",
              "      fill: #174EA6;\n",
              "    }\n",
              "\n",
              "    [theme=dark] .colab-df-convert {\n",
              "      background-color: #3B4455;\n",
              "      fill: #D2E3FC;\n",
              "    }\n",
              "\n",
              "    [theme=dark] .colab-df-convert:hover {\n",
              "      background-color: #434B5C;\n",
              "      box-shadow: 0px 1px 3px 1px rgba(0, 0, 0, 0.15);\n",
              "      filter: drop-shadow(0px 1px 2px rgba(0, 0, 0, 0.3));\n",
              "      fill: #FFFFFF;\n",
              "    }\n",
              "  </style>\n",
              "\n",
              "      <script>\n",
              "        const buttonEl =\n",
              "          document.querySelector('#df-fe8d96d0-ef47-47b9-a76d-5d3efbdd1cd3 button.colab-df-convert');\n",
              "        buttonEl.style.display =\n",
              "          google.colab.kernel.accessAllowed ? 'block' : 'none';\n",
              "\n",
              "        async function convertToInteractive(key) {\n",
              "          const element = document.querySelector('#df-fe8d96d0-ef47-47b9-a76d-5d3efbdd1cd3');\n",
              "          const dataTable =\n",
              "            await google.colab.kernel.invokeFunction('convertToInteractive',\n",
              "                                                     [key], {});\n",
              "          if (!dataTable) return;\n",
              "\n",
              "          const docLinkHtml = 'Like what you see? Visit the ' +\n",
              "            '<a target=\"_blank\" href=https://colab.research.google.com/notebooks/data_table.ipynb>data table notebook</a>'\n",
              "            + ' to learn more about interactive tables.';\n",
              "          element.innerHTML = '';\n",
              "          dataTable['output_type'] = 'display_data';\n",
              "          await google.colab.output.renderOutput(dataTable, element);\n",
              "          const docLink = document.createElement('div');\n",
              "          docLink.innerHTML = docLinkHtml;\n",
              "          element.appendChild(docLink);\n",
              "        }\n",
              "      </script>\n",
              "    </div>\n",
              "  </div>\n",
              "  "
            ]
          },
          "metadata": {},
          "execution_count": 84
        }
      ]
    },
    {
      "cell_type": "code",
      "source": [
        "X = heart.drop('HeartDisease', axis = 1)\n",
        "y = heart['HeartDisease']"
      ],
      "metadata": {
        "id": "u03zncZVnXl6"
      },
      "execution_count": 85,
      "outputs": []
    },
    {
      "cell_type": "code",
      "source": [
        "X"
      ],
      "metadata": {
        "colab": {
          "base_uri": "https://localhost:8080/",
          "height": 419
        },
        "id": "SsSDd0CHno3a",
        "outputId": "1a590765-871b-42c3-834a-96d2317b41ce"
      },
      "execution_count": 86,
      "outputs": [
        {
          "output_type": "execute_result",
          "data": {
            "text/plain": [
              "     Age  Sex  ChestPainType  RestingBP  Cholesterol  FastingBS  RestingECG  \\\n",
              "0     40    1              1        140          289          0           1   \n",
              "1     49    0              2        160          180          0           1   \n",
              "2     37    1              1        130          283          0           2   \n",
              "3     48    0              0        138          214          0           1   \n",
              "4     54    1              2        150          195          0           1   \n",
              "..   ...  ...            ...        ...          ...        ...         ...   \n",
              "913   45    1              3        110          264          0           1   \n",
              "914   68    1              0        144          193          1           1   \n",
              "915   57    1              0        130          131          0           1   \n",
              "916   57    0              1        130          236          0           0   \n",
              "917   38    1              2        138          175          0           1   \n",
              "\n",
              "     MaxHR  ExerciseAngina  Oldpeak  ST_Slope  \n",
              "0      172               0       10         2  \n",
              "1      156               0       20         1  \n",
              "2       98               0       10         2  \n",
              "3      108               1       25         1  \n",
              "4      122               0       10         2  \n",
              "..     ...             ...      ...       ...  \n",
              "913    132               0       22         1  \n",
              "914    141               0       42         1  \n",
              "915    115               1       22         1  \n",
              "916    174               0       10         1  \n",
              "917    173               0       10         2  \n",
              "\n",
              "[918 rows x 11 columns]"
            ],
            "text/html": [
              "\n",
              "  <div id=\"df-cbfa1f76-240a-416f-aa22-5b1e623df5d5\">\n",
              "    <div class=\"colab-df-container\">\n",
              "      <div>\n",
              "<style scoped>\n",
              "    .dataframe tbody tr th:only-of-type {\n",
              "        vertical-align: middle;\n",
              "    }\n",
              "\n",
              "    .dataframe tbody tr th {\n",
              "        vertical-align: top;\n",
              "    }\n",
              "\n",
              "    .dataframe thead th {\n",
              "        text-align: right;\n",
              "    }\n",
              "</style>\n",
              "<table border=\"1\" class=\"dataframe\">\n",
              "  <thead>\n",
              "    <tr style=\"text-align: right;\">\n",
              "      <th></th>\n",
              "      <th>Age</th>\n",
              "      <th>Sex</th>\n",
              "      <th>ChestPainType</th>\n",
              "      <th>RestingBP</th>\n",
              "      <th>Cholesterol</th>\n",
              "      <th>FastingBS</th>\n",
              "      <th>RestingECG</th>\n",
              "      <th>MaxHR</th>\n",
              "      <th>ExerciseAngina</th>\n",
              "      <th>Oldpeak</th>\n",
              "      <th>ST_Slope</th>\n",
              "    </tr>\n",
              "  </thead>\n",
              "  <tbody>\n",
              "    <tr>\n",
              "      <th>0</th>\n",
              "      <td>40</td>\n",
              "      <td>1</td>\n",
              "      <td>1</td>\n",
              "      <td>140</td>\n",
              "      <td>289</td>\n",
              "      <td>0</td>\n",
              "      <td>1</td>\n",
              "      <td>172</td>\n",
              "      <td>0</td>\n",
              "      <td>10</td>\n",
              "      <td>2</td>\n",
              "    </tr>\n",
              "    <tr>\n",
              "      <th>1</th>\n",
              "      <td>49</td>\n",
              "      <td>0</td>\n",
              "      <td>2</td>\n",
              "      <td>160</td>\n",
              "      <td>180</td>\n",
              "      <td>0</td>\n",
              "      <td>1</td>\n",
              "      <td>156</td>\n",
              "      <td>0</td>\n",
              "      <td>20</td>\n",
              "      <td>1</td>\n",
              "    </tr>\n",
              "    <tr>\n",
              "      <th>2</th>\n",
              "      <td>37</td>\n",
              "      <td>1</td>\n",
              "      <td>1</td>\n",
              "      <td>130</td>\n",
              "      <td>283</td>\n",
              "      <td>0</td>\n",
              "      <td>2</td>\n",
              "      <td>98</td>\n",
              "      <td>0</td>\n",
              "      <td>10</td>\n",
              "      <td>2</td>\n",
              "    </tr>\n",
              "    <tr>\n",
              "      <th>3</th>\n",
              "      <td>48</td>\n",
              "      <td>0</td>\n",
              "      <td>0</td>\n",
              "      <td>138</td>\n",
              "      <td>214</td>\n",
              "      <td>0</td>\n",
              "      <td>1</td>\n",
              "      <td>108</td>\n",
              "      <td>1</td>\n",
              "      <td>25</td>\n",
              "      <td>1</td>\n",
              "    </tr>\n",
              "    <tr>\n",
              "      <th>4</th>\n",
              "      <td>54</td>\n",
              "      <td>1</td>\n",
              "      <td>2</td>\n",
              "      <td>150</td>\n",
              "      <td>195</td>\n",
              "      <td>0</td>\n",
              "      <td>1</td>\n",
              "      <td>122</td>\n",
              "      <td>0</td>\n",
              "      <td>10</td>\n",
              "      <td>2</td>\n",
              "    </tr>\n",
              "    <tr>\n",
              "      <th>...</th>\n",
              "      <td>...</td>\n",
              "      <td>...</td>\n",
              "      <td>...</td>\n",
              "      <td>...</td>\n",
              "      <td>...</td>\n",
              "      <td>...</td>\n",
              "      <td>...</td>\n",
              "      <td>...</td>\n",
              "      <td>...</td>\n",
              "      <td>...</td>\n",
              "      <td>...</td>\n",
              "    </tr>\n",
              "    <tr>\n",
              "      <th>913</th>\n",
              "      <td>45</td>\n",
              "      <td>1</td>\n",
              "      <td>3</td>\n",
              "      <td>110</td>\n",
              "      <td>264</td>\n",
              "      <td>0</td>\n",
              "      <td>1</td>\n",
              "      <td>132</td>\n",
              "      <td>0</td>\n",
              "      <td>22</td>\n",
              "      <td>1</td>\n",
              "    </tr>\n",
              "    <tr>\n",
              "      <th>914</th>\n",
              "      <td>68</td>\n",
              "      <td>1</td>\n",
              "      <td>0</td>\n",
              "      <td>144</td>\n",
              "      <td>193</td>\n",
              "      <td>1</td>\n",
              "      <td>1</td>\n",
              "      <td>141</td>\n",
              "      <td>0</td>\n",
              "      <td>42</td>\n",
              "      <td>1</td>\n",
              "    </tr>\n",
              "    <tr>\n",
              "      <th>915</th>\n",
              "      <td>57</td>\n",
              "      <td>1</td>\n",
              "      <td>0</td>\n",
              "      <td>130</td>\n",
              "      <td>131</td>\n",
              "      <td>0</td>\n",
              "      <td>1</td>\n",
              "      <td>115</td>\n",
              "      <td>1</td>\n",
              "      <td>22</td>\n",
              "      <td>1</td>\n",
              "    </tr>\n",
              "    <tr>\n",
              "      <th>916</th>\n",
              "      <td>57</td>\n",
              "      <td>0</td>\n",
              "      <td>1</td>\n",
              "      <td>130</td>\n",
              "      <td>236</td>\n",
              "      <td>0</td>\n",
              "      <td>0</td>\n",
              "      <td>174</td>\n",
              "      <td>0</td>\n",
              "      <td>10</td>\n",
              "      <td>1</td>\n",
              "    </tr>\n",
              "    <tr>\n",
              "      <th>917</th>\n",
              "      <td>38</td>\n",
              "      <td>1</td>\n",
              "      <td>2</td>\n",
              "      <td>138</td>\n",
              "      <td>175</td>\n",
              "      <td>0</td>\n",
              "      <td>1</td>\n",
              "      <td>173</td>\n",
              "      <td>0</td>\n",
              "      <td>10</td>\n",
              "      <td>2</td>\n",
              "    </tr>\n",
              "  </tbody>\n",
              "</table>\n",
              "<p>918 rows × 11 columns</p>\n",
              "</div>\n",
              "      <button class=\"colab-df-convert\" onclick=\"convertToInteractive('df-cbfa1f76-240a-416f-aa22-5b1e623df5d5')\"\n",
              "              title=\"Convert this dataframe to an interactive table.\"\n",
              "              style=\"display:none;\">\n",
              "        \n",
              "  <svg xmlns=\"http://www.w3.org/2000/svg\" height=\"24px\"viewBox=\"0 0 24 24\"\n",
              "       width=\"24px\">\n",
              "    <path d=\"M0 0h24v24H0V0z\" fill=\"none\"/>\n",
              "    <path d=\"M18.56 5.44l.94 2.06.94-2.06 2.06-.94-2.06-.94-.94-2.06-.94 2.06-2.06.94zm-11 1L8.5 8.5l.94-2.06 2.06-.94-2.06-.94L8.5 2.5l-.94 2.06-2.06.94zm10 10l.94 2.06.94-2.06 2.06-.94-2.06-.94-.94-2.06-.94 2.06-2.06.94z\"/><path d=\"M17.41 7.96l-1.37-1.37c-.4-.4-.92-.59-1.43-.59-.52 0-1.04.2-1.43.59L10.3 9.45l-7.72 7.72c-.78.78-.78 2.05 0 2.83L4 21.41c.39.39.9.59 1.41.59.51 0 1.02-.2 1.41-.59l7.78-7.78 2.81-2.81c.8-.78.8-2.07 0-2.86zM5.41 20L4 18.59l7.72-7.72 1.47 1.35L5.41 20z\"/>\n",
              "  </svg>\n",
              "      </button>\n",
              "      \n",
              "  <style>\n",
              "    .colab-df-container {\n",
              "      display:flex;\n",
              "      flex-wrap:wrap;\n",
              "      gap: 12px;\n",
              "    }\n",
              "\n",
              "    .colab-df-convert {\n",
              "      background-color: #E8F0FE;\n",
              "      border: none;\n",
              "      border-radius: 50%;\n",
              "      cursor: pointer;\n",
              "      display: none;\n",
              "      fill: #1967D2;\n",
              "      height: 32px;\n",
              "      padding: 0 0 0 0;\n",
              "      width: 32px;\n",
              "    }\n",
              "\n",
              "    .colab-df-convert:hover {\n",
              "      background-color: #E2EBFA;\n",
              "      box-shadow: 0px 1px 2px rgba(60, 64, 67, 0.3), 0px 1px 3px 1px rgba(60, 64, 67, 0.15);\n",
              "      fill: #174EA6;\n",
              "    }\n",
              "\n",
              "    [theme=dark] .colab-df-convert {\n",
              "      background-color: #3B4455;\n",
              "      fill: #D2E3FC;\n",
              "    }\n",
              "\n",
              "    [theme=dark] .colab-df-convert:hover {\n",
              "      background-color: #434B5C;\n",
              "      box-shadow: 0px 1px 3px 1px rgba(0, 0, 0, 0.15);\n",
              "      filter: drop-shadow(0px 1px 2px rgba(0, 0, 0, 0.3));\n",
              "      fill: #FFFFFF;\n",
              "    }\n",
              "  </style>\n",
              "\n",
              "      <script>\n",
              "        const buttonEl =\n",
              "          document.querySelector('#df-cbfa1f76-240a-416f-aa22-5b1e623df5d5 button.colab-df-convert');\n",
              "        buttonEl.style.display =\n",
              "          google.colab.kernel.accessAllowed ? 'block' : 'none';\n",
              "\n",
              "        async function convertToInteractive(key) {\n",
              "          const element = document.querySelector('#df-cbfa1f76-240a-416f-aa22-5b1e623df5d5');\n",
              "          const dataTable =\n",
              "            await google.colab.kernel.invokeFunction('convertToInteractive',\n",
              "                                                     [key], {});\n",
              "          if (!dataTable) return;\n",
              "\n",
              "          const docLinkHtml = 'Like what you see? Visit the ' +\n",
              "            '<a target=\"_blank\" href=https://colab.research.google.com/notebooks/data_table.ipynb>data table notebook</a>'\n",
              "            + ' to learn more about interactive tables.';\n",
              "          element.innerHTML = '';\n",
              "          dataTable['output_type'] = 'display_data';\n",
              "          await google.colab.output.renderOutput(dataTable, element);\n",
              "          const docLink = document.createElement('div');\n",
              "          docLink.innerHTML = docLinkHtml;\n",
              "          element.appendChild(docLink);\n",
              "        }\n",
              "      </script>\n",
              "    </div>\n",
              "  </div>\n",
              "  "
            ]
          },
          "metadata": {},
          "execution_count": 86
        }
      ]
    },
    {
      "cell_type": "code",
      "source": [
        "y"
      ],
      "metadata": {
        "colab": {
          "base_uri": "https://localhost:8080/"
        },
        "id": "aJSDeCb_nqBC",
        "outputId": "ca68f654-490f-4a3b-a5df-d4daea1c0ce3"
      },
      "execution_count": 87,
      "outputs": [
        {
          "output_type": "execute_result",
          "data": {
            "text/plain": [
              "0      0\n",
              "1      1\n",
              "2      0\n",
              "3      1\n",
              "4      0\n",
              "      ..\n",
              "913    1\n",
              "914    1\n",
              "915    1\n",
              "916    1\n",
              "917    0\n",
              "Name: HeartDisease, Length: 918, dtype: int64"
            ]
          },
          "metadata": {},
          "execution_count": 87
        }
      ]
    },
    {
      "cell_type": "code",
      "source": [
        "from sklearn.model_selection import train_test_split\n",
        "\n",
        "X_train, X_test, y_train, y_test = train_test_split(X, y, test_size=0.1, random_state=0)"
      ],
      "metadata": {
        "id": "PRd7SnjjmIFN"
      },
      "execution_count": 88,
      "outputs": []
    },
    {
      "cell_type": "code",
      "source": [
        "import sklearn\n",
        "from sklearn import tree\n",
        "\n",
        "clf = tree.DecisionTreeClassifier(max_depth = 5)\n",
        "clf = clf.fit(X_train, y_train)"
      ],
      "metadata": {
        "id": "fMQSQoPSnjDN"
      },
      "execution_count": 89,
      "outputs": []
    },
    {
      "cell_type": "code",
      "source": [
        "from sklearn.metrics import classification_report, accuracy_score\n",
        "\n",
        "y_pred = clf.predict(X_test)\n",
        "\n",
        "print(classification_report(y_test, y_pred)) # predictions contain predicted values (derived from probability with 0.5 threshold)\n",
        "\n",
        "print('Accuracy: ', accuracy_score(y_test, y_pred))\n"
      ],
      "metadata": {
        "colab": {
          "base_uri": "https://localhost:8080/"
        },
        "id": "oG2CJ-FRn-su",
        "outputId": "f3851481-be70-414e-a5e0-85206f918084"
      },
      "execution_count": 90,
      "outputs": [
        {
          "output_type": "stream",
          "name": "stdout",
          "text": [
            "              precision    recall  f1-score   support\n",
            "\n",
            "           0       0.80      0.88      0.83        40\n",
            "           1       0.90      0.83      0.86        52\n",
            "\n",
            "    accuracy                           0.85        92\n",
            "   macro avg       0.85      0.85      0.85        92\n",
            "weighted avg       0.85      0.85      0.85        92\n",
            "\n",
            "Accuracy:  0.8478260869565217\n"
          ]
        }
      ]
    },
    {
      "cell_type": "code",
      "source": [
        "import graphviz \n",
        "dot_data = tree.export_graphviz(clf, out_file=None, \n",
        "                     feature_names=X.columns,    \n",
        "                     filled=True, rounded=True,\n",
        "                     special_characters=True)  \n",
        "graph = graphviz.Source(dot_data)  \n",
        "graph "
      ],
      "metadata": {
        "colab": {
          "base_uri": "https://localhost:8080/",
          "height": 816
        },
        "id": "fR3RuJruoCpF",
        "outputId": "827e53d2-deb1-407d-fc80-018d09b35a45"
      },
      "execution_count": 91,
      "outputs": [
        {
          "output_type": "execute_result",
          "data": {
            "text/plain": [
              "<graphviz.files.Source at 0x7fc321f35520>"
            ],
            "image/svg+xml": "<?xml version=\"1.0\" encoding=\"UTF-8\" standalone=\"no\"?>\n<!DOCTYPE svg PUBLIC \"-//W3C//DTD SVG 1.1//EN\"\n \"http://www.w3.org/Graphics/SVG/1.1/DTD/svg11.dtd\">\n<!-- Generated by graphviz version 2.43.0 (0)\n -->\n<!-- Title: Tree Pages: 1 -->\n<svg width=\"2617pt\" height=\"581pt\"\n viewBox=\"0.00 0.00 2616.50 581.00\" xmlns=\"http://www.w3.org/2000/svg\" xmlns:xlink=\"http://www.w3.org/1999/xlink\">\n<g id=\"graph0\" class=\"graph\" transform=\"scale(1 1) rotate(0) translate(4 577)\">\n<title>Tree</title>\n<polygon fill=\"white\" stroke=\"transparent\" points=\"-4,4 -4,-577 2612.5,-577 2612.5,4 -4,4\"/>\n<!-- 0 -->\n<g id=\"node1\" class=\"node\">\n<title>0</title>\n<path fill=\"#daedfa\" stroke=\"black\" d=\"M1512.5,-573C1512.5,-573 1411.5,-573 1411.5,-573 1405.5,-573 1399.5,-567 1399.5,-561 1399.5,-561 1399.5,-517 1399.5,-517 1399.5,-511 1405.5,-505 1411.5,-505 1411.5,-505 1512.5,-505 1512.5,-505 1518.5,-505 1524.5,-511 1524.5,-517 1524.5,-517 1524.5,-561 1524.5,-561 1524.5,-567 1518.5,-573 1512.5,-573\"/>\n<text text-anchor=\"start\" x=\"1415\" y=\"-557.8\" font-family=\"Helvetica,sans-Serif\" font-size=\"14.00\">ST_Slope ≤ 1.5</text>\n<text text-anchor=\"start\" x=\"1426.5\" y=\"-542.8\" font-family=\"Helvetica,sans-Serif\" font-size=\"14.00\">gini = 0.495</text>\n<text text-anchor=\"start\" x=\"1417\" y=\"-527.8\" font-family=\"Helvetica,sans-Serif\" font-size=\"14.00\">samples = 826</text>\n<text text-anchor=\"start\" x=\"1407.5\" y=\"-512.8\" font-family=\"Helvetica,sans-Serif\" font-size=\"14.00\">value = [370, 456]</text>\n</g>\n<!-- 1 -->\n<g id=\"node2\" class=\"node\">\n<title>1</title>\n<path fill=\"#63b2eb\" stroke=\"black\" d=\"M1039.5,-469C1039.5,-469 946.5,-469 946.5,-469 940.5,-469 934.5,-463 934.5,-457 934.5,-457 934.5,-413 934.5,-413 934.5,-407 940.5,-401 946.5,-401 946.5,-401 1039.5,-401 1039.5,-401 1045.5,-401 1051.5,-407 1051.5,-413 1051.5,-413 1051.5,-457 1051.5,-457 1051.5,-463 1045.5,-469 1039.5,-469\"/>\n<text text-anchor=\"start\" x=\"945.5\" y=\"-453.8\" font-family=\"Helvetica,sans-Serif\" font-size=\"14.00\">MaxHR ≤ 151.0</text>\n<text text-anchor=\"start\" x=\"957.5\" y=\"-438.8\" font-family=\"Helvetica,sans-Serif\" font-size=\"14.00\">gini = 0.289</text>\n<text text-anchor=\"start\" x=\"948\" y=\"-423.8\" font-family=\"Helvetica,sans-Serif\" font-size=\"14.00\">samples = 468</text>\n<text text-anchor=\"start\" x=\"942.5\" y=\"-408.8\" font-family=\"Helvetica,sans-Serif\" font-size=\"14.00\">value = [82, 386]</text>\n</g>\n<!-- 0&#45;&gt;1 -->\n<g id=\"edge1\" class=\"edge\">\n<title>0&#45;&gt;1</title>\n<path fill=\"none\" stroke=\"black\" d=\"M1399.24,-524.35C1311.42,-505.25 1152.48,-470.68 1061.62,-450.92\"/>\n<polygon fill=\"black\" stroke=\"black\" points=\"1062.22,-447.47 1051.7,-448.77 1060.73,-454.31 1062.22,-447.47\"/>\n<text text-anchor=\"middle\" x=\"1065.22\" y=\"-466.1\" font-family=\"Helvetica,sans-Serif\" font-size=\"14.00\">True</text>\n</g>\n<!-- 28 -->\n<g id=\"node29\" class=\"node\">\n<title>28</title>\n<path fill=\"#eba069\" stroke=\"black\" d=\"M1931,-469C1931,-469 1813,-469 1813,-469 1807,-469 1801,-463 1801,-457 1801,-457 1801,-413 1801,-413 1801,-407 1807,-401 1813,-401 1813,-401 1931,-401 1931,-401 1937,-401 1943,-407 1943,-413 1943,-413 1943,-457 1943,-457 1943,-463 1937,-469 1931,-469\"/>\n<text text-anchor=\"start\" x=\"1809\" y=\"-453.8\" font-family=\"Helvetica,sans-Serif\" font-size=\"14.00\">ChestPainType ≤ 0.5</text>\n<text text-anchor=\"start\" x=\"1836.5\" y=\"-438.8\" font-family=\"Helvetica,sans-Serif\" font-size=\"14.00\">gini = 0.315</text>\n<text text-anchor=\"start\" x=\"1827\" y=\"-423.8\" font-family=\"Helvetica,sans-Serif\" font-size=\"14.00\">samples = 358</text>\n<text text-anchor=\"start\" x=\"1821.5\" y=\"-408.8\" font-family=\"Helvetica,sans-Serif\" font-size=\"14.00\">value = [288, 70]</text>\n</g>\n<!-- 0&#45;&gt;28 -->\n<g id=\"edge28\" class=\"edge\">\n<title>0&#45;&gt;28</title>\n<path fill=\"none\" stroke=\"black\" d=\"M1524.72,-522.4C1596.03,-504.66 1712.67,-475.64 1790.86,-456.19\"/>\n<polygon fill=\"black\" stroke=\"black\" points=\"1791.81,-459.56 1800.67,-453.74 1790.12,-452.76 1791.81,-459.56\"/>\n<text text-anchor=\"middle\" x=\"1787.79\" y=\"-471.47\" font-family=\"Helvetica,sans-Serif\" font-size=\"14.00\">False</text>\n</g>\n<!-- 2 -->\n<g id=\"node3\" class=\"node\">\n<title>2</title>\n<path fill=\"#53aae8\" stroke=\"black\" d=\"M548.5,-365C548.5,-365 455.5,-365 455.5,-365 449.5,-365 443.5,-359 443.5,-353 443.5,-353 443.5,-309 443.5,-309 443.5,-303 449.5,-297 455.5,-297 455.5,-297 548.5,-297 548.5,-297 554.5,-297 560.5,-303 560.5,-309 560.5,-309 560.5,-353 560.5,-353 560.5,-359 554.5,-365 548.5,-365\"/>\n<text text-anchor=\"start\" x=\"473\" y=\"-349.8\" font-family=\"Helvetica,sans-Serif\" font-size=\"14.00\">Sex ≤ 0.5</text>\n<text text-anchor=\"start\" x=\"466.5\" y=\"-334.8\" font-family=\"Helvetica,sans-Serif\" font-size=\"14.00\">gini = 0.204</text>\n<text text-anchor=\"start\" x=\"457\" y=\"-319.8\" font-family=\"Helvetica,sans-Serif\" font-size=\"14.00\">samples = 391</text>\n<text text-anchor=\"start\" x=\"451.5\" y=\"-304.8\" font-family=\"Helvetica,sans-Serif\" font-size=\"14.00\">value = [45, 346]</text>\n</g>\n<!-- 1&#45;&gt;2 -->\n<g id=\"edge2\" class=\"edge\">\n<title>1&#45;&gt;2</title>\n<path fill=\"none\" stroke=\"black\" d=\"M934.26,-421.8C843.05,-402.85 667.79,-366.44 570.8,-346.29\"/>\n<polygon fill=\"black\" stroke=\"black\" points=\"571.31,-342.82 560.81,-344.22 569.88,-349.68 571.31,-342.82\"/>\n</g>\n<!-- 15 -->\n<g id=\"node16\" class=\"node\">\n<title>15</title>\n<path fill=\"#f0f8fd\" stroke=\"black\" d=\"M1052,-365C1052,-365 934,-365 934,-365 928,-365 922,-359 922,-353 922,-353 922,-309 922,-309 922,-303 928,-297 934,-297 934,-297 1052,-297 1052,-297 1058,-297 1064,-303 1064,-309 1064,-309 1064,-353 1064,-353 1064,-359 1058,-365 1052,-365\"/>\n<text text-anchor=\"start\" x=\"930\" y=\"-349.8\" font-family=\"Helvetica,sans-Serif\" font-size=\"14.00\">ChestPainType ≤ 0.5</text>\n<text text-anchor=\"start\" x=\"957.5\" y=\"-334.8\" font-family=\"Helvetica,sans-Serif\" font-size=\"14.00\">gini = 0.499</text>\n<text text-anchor=\"start\" x=\"952\" y=\"-319.8\" font-family=\"Helvetica,sans-Serif\" font-size=\"14.00\">samples = 77</text>\n<text text-anchor=\"start\" x=\"946\" y=\"-304.8\" font-family=\"Helvetica,sans-Serif\" font-size=\"14.00\">value = [37, 40]</text>\n</g>\n<!-- 1&#45;&gt;15 -->\n<g id=\"edge15\" class=\"edge\">\n<title>1&#45;&gt;15</title>\n<path fill=\"none\" stroke=\"black\" d=\"M993,-400.88C993,-392.78 993,-383.98 993,-375.47\"/>\n<polygon fill=\"black\" stroke=\"black\" points=\"996.5,-375.3 993,-365.3 989.5,-375.3 996.5,-375.3\"/>\n</g>\n<!-- 3 -->\n<g id=\"node4\" class=\"node\">\n<title>3</title>\n<path fill=\"#a8d4f4\" stroke=\"black\" d=\"M346,-261C346,-261 260,-261 260,-261 254,-261 248,-255 248,-249 248,-249 248,-205 248,-205 248,-199 254,-193 260,-193 260,-193 346,-193 346,-193 352,-193 358,-199 358,-205 358,-205 358,-249 358,-249 358,-255 352,-261 346,-261\"/>\n<text text-anchor=\"start\" x=\"270\" y=\"-245.8\" font-family=\"Helvetica,sans-Serif\" font-size=\"14.00\">Age ≤ 65.5</text>\n<text text-anchor=\"start\" x=\"267.5\" y=\"-230.8\" font-family=\"Helvetica,sans-Serif\" font-size=\"14.00\">gini = 0.461</text>\n<text text-anchor=\"start\" x=\"262\" y=\"-215.8\" font-family=\"Helvetica,sans-Serif\" font-size=\"14.00\">samples = 50</text>\n<text text-anchor=\"start\" x=\"256\" y=\"-200.8\" font-family=\"Helvetica,sans-Serif\" font-size=\"14.00\">value = [18, 32]</text>\n</g>\n<!-- 2&#45;&gt;3 -->\n<g id=\"edge3\" class=\"edge\">\n<title>2&#45;&gt;3</title>\n<path fill=\"none\" stroke=\"black\" d=\"M443.37,-299.95C419.48,-287.7 391.78,-273.51 367.34,-260.98\"/>\n<polygon fill=\"black\" stroke=\"black\" points=\"368.64,-257.71 358.14,-256.26 365.45,-263.94 368.64,-257.71\"/>\n</g>\n<!-- 8 -->\n<g id=\"node9\" class=\"node\">\n<title>8</title>\n<path fill=\"#4aa5e7\" stroke=\"black\" d=\"M548.5,-261C548.5,-261 455.5,-261 455.5,-261 449.5,-261 443.5,-255 443.5,-249 443.5,-249 443.5,-205 443.5,-205 443.5,-199 449.5,-193 455.5,-193 455.5,-193 548.5,-193 548.5,-193 554.5,-193 560.5,-199 560.5,-205 560.5,-205 560.5,-249 560.5,-249 560.5,-255 554.5,-261 548.5,-261\"/>\n<text text-anchor=\"start\" x=\"454.5\" y=\"-245.8\" font-family=\"Helvetica,sans-Serif\" font-size=\"14.00\">MaxHR ≤ 140.5</text>\n<text text-anchor=\"start\" x=\"466.5\" y=\"-230.8\" font-family=\"Helvetica,sans-Serif\" font-size=\"14.00\">gini = 0.146</text>\n<text text-anchor=\"start\" x=\"457\" y=\"-215.8\" font-family=\"Helvetica,sans-Serif\" font-size=\"14.00\">samples = 341</text>\n<text text-anchor=\"start\" x=\"451.5\" y=\"-200.8\" font-family=\"Helvetica,sans-Serif\" font-size=\"14.00\">value = [27, 314]</text>\n</g>\n<!-- 2&#45;&gt;8 -->\n<g id=\"edge8\" class=\"edge\">\n<title>2&#45;&gt;8</title>\n<path fill=\"none\" stroke=\"black\" d=\"M502,-296.88C502,-288.78 502,-279.98 502,-271.47\"/>\n<polygon fill=\"black\" stroke=\"black\" points=\"505.5,-271.3 502,-261.3 498.5,-271.3 505.5,-271.3\"/>\n</g>\n<!-- 4 -->\n<g id=\"node5\" class=\"node\">\n<title>4</title>\n<path fill=\"#90c8f0\" stroke=\"black\" d=\"M225.5,-157C225.5,-157 120.5,-157 120.5,-157 114.5,-157 108.5,-151 108.5,-145 108.5,-145 108.5,-101 108.5,-101 108.5,-95 114.5,-89 120.5,-89 120.5,-89 225.5,-89 225.5,-89 231.5,-89 237.5,-95 237.5,-101 237.5,-101 237.5,-145 237.5,-145 237.5,-151 231.5,-157 225.5,-157\"/>\n<text text-anchor=\"start\" x=\"116.5\" y=\"-141.8\" font-family=\"Helvetica,sans-Serif\" font-size=\"14.00\">RestingBP ≤ 131.0</text>\n<text text-anchor=\"start\" x=\"137.5\" y=\"-126.8\" font-family=\"Helvetica,sans-Serif\" font-size=\"14.00\">gini = 0.423</text>\n<text text-anchor=\"start\" x=\"132\" y=\"-111.8\" font-family=\"Helvetica,sans-Serif\" font-size=\"14.00\">samples = 46</text>\n<text text-anchor=\"start\" x=\"126\" y=\"-96.8\" font-family=\"Helvetica,sans-Serif\" font-size=\"14.00\">value = [14, 32]</text>\n</g>\n<!-- 3&#45;&gt;4 -->\n<g id=\"edge4\" class=\"edge\">\n<title>3&#45;&gt;4</title>\n<path fill=\"none\" stroke=\"black\" d=\"M260.79,-192.88C248.87,-183.53 235.78,-173.26 223.43,-163.57\"/>\n<polygon fill=\"black\" stroke=\"black\" points=\"225.47,-160.72 215.44,-157.3 221.15,-166.23 225.47,-160.72\"/>\n</g>\n<!-- 7 -->\n<g id=\"node8\" class=\"node\">\n<title>7</title>\n<path fill=\"#e58139\" stroke=\"black\" d=\"M338.5,-149.5C338.5,-149.5 267.5,-149.5 267.5,-149.5 261.5,-149.5 255.5,-143.5 255.5,-137.5 255.5,-137.5 255.5,-108.5 255.5,-108.5 255.5,-102.5 261.5,-96.5 267.5,-96.5 267.5,-96.5 338.5,-96.5 338.5,-96.5 344.5,-96.5 350.5,-102.5 350.5,-108.5 350.5,-108.5 350.5,-137.5 350.5,-137.5 350.5,-143.5 344.5,-149.5 338.5,-149.5\"/>\n<text text-anchor=\"start\" x=\"275\" y=\"-134.3\" font-family=\"Helvetica,sans-Serif\" font-size=\"14.00\">gini = 0.0</text>\n<text text-anchor=\"start\" x=\"265.5\" y=\"-119.3\" font-family=\"Helvetica,sans-Serif\" font-size=\"14.00\">samples = 4</text>\n<text text-anchor=\"start\" x=\"263.5\" y=\"-104.3\" font-family=\"Helvetica,sans-Serif\" font-size=\"14.00\">value = [4, 0]</text>\n</g>\n<!-- 3&#45;&gt;7 -->\n<g id=\"edge7\" class=\"edge\">\n<title>3&#45;&gt;7</title>\n<path fill=\"none\" stroke=\"black\" d=\"M303,-192.88C303,-182.33 303,-170.6 303,-159.85\"/>\n<polygon fill=\"black\" stroke=\"black\" points=\"306.5,-159.52 303,-149.52 299.5,-159.52 306.5,-159.52\"/>\n</g>\n<!-- 5 -->\n<g id=\"node6\" class=\"node\">\n<title>5</title>\n<path fill=\"#ffffff\" stroke=\"black\" d=\"M98,-53C98,-53 12,-53 12,-53 6,-53 0,-47 0,-41 0,-41 0,-12 0,-12 0,-6 6,0 12,0 12,0 98,0 98,0 104,0 110,-6 110,-12 110,-12 110,-41 110,-41 110,-47 104,-53 98,-53\"/>\n<text text-anchor=\"start\" x=\"27\" y=\"-37.8\" font-family=\"Helvetica,sans-Serif\" font-size=\"14.00\">gini = 0.5</text>\n<text text-anchor=\"start\" x=\"14\" y=\"-22.8\" font-family=\"Helvetica,sans-Serif\" font-size=\"14.00\">samples = 22</text>\n<text text-anchor=\"start\" x=\"8\" y=\"-7.8\" font-family=\"Helvetica,sans-Serif\" font-size=\"14.00\">value = [11, 11]</text>\n</g>\n<!-- 4&#45;&gt;5 -->\n<g id=\"edge5\" class=\"edge\">\n<title>4&#45;&gt;5</title>\n<path fill=\"none\" stroke=\"black\" d=\"M131.73,-88.95C119.85,-79.43 106.91,-69.07 95.1,-59.62\"/>\n<polygon fill=\"black\" stroke=\"black\" points=\"97.13,-56.76 87.14,-53.24 92.75,-62.22 97.13,-56.76\"/>\n</g>\n<!-- 6 -->\n<g id=\"node7\" class=\"node\">\n<title>6</title>\n<path fill=\"#55abe9\" stroke=\"black\" d=\"M218,-53C218,-53 140,-53 140,-53 134,-53 128,-47 128,-41 128,-41 128,-12 128,-12 128,-6 134,0 140,0 140,0 218,0 218,0 224,0 230,-6 230,-12 230,-12 230,-41 230,-41 230,-47 224,-53 218,-53\"/>\n<text text-anchor=\"start\" x=\"143.5\" y=\"-37.8\" font-family=\"Helvetica,sans-Serif\" font-size=\"14.00\">gini = 0.219</text>\n<text text-anchor=\"start\" x=\"138\" y=\"-22.8\" font-family=\"Helvetica,sans-Serif\" font-size=\"14.00\">samples = 24</text>\n<text text-anchor=\"start\" x=\"136\" y=\"-7.8\" font-family=\"Helvetica,sans-Serif\" font-size=\"14.00\">value = [3, 21]</text>\n</g>\n<!-- 4&#45;&gt;6 -->\n<g id=\"edge6\" class=\"edge\">\n<title>4&#45;&gt;6</title>\n<path fill=\"none\" stroke=\"black\" d=\"M175.1,-88.95C175.62,-80.72 176.18,-71.85 176.72,-63.48\"/>\n<polygon fill=\"black\" stroke=\"black\" points=\"180.23,-63.44 177.37,-53.24 173.24,-62.99 180.23,-63.44\"/>\n</g>\n<!-- 9 -->\n<g id=\"node10\" class=\"node\">\n<title>9</title>\n<path fill=\"#45a3e7\" stroke=\"black\" d=\"M473.5,-157C473.5,-157 380.5,-157 380.5,-157 374.5,-157 368.5,-151 368.5,-145 368.5,-145 368.5,-101 368.5,-101 368.5,-95 374.5,-89 380.5,-89 380.5,-89 473.5,-89 473.5,-89 479.5,-89 485.5,-95 485.5,-101 485.5,-101 485.5,-145 485.5,-145 485.5,-151 479.5,-157 473.5,-157\"/>\n<text text-anchor=\"start\" x=\"383\" y=\"-141.8\" font-family=\"Helvetica,sans-Serif\" font-size=\"14.00\">MaxHR ≤ 70.0</text>\n<text text-anchor=\"start\" x=\"391.5\" y=\"-126.8\" font-family=\"Helvetica,sans-Serif\" font-size=\"14.00\">gini = 0.109</text>\n<text text-anchor=\"start\" x=\"382\" y=\"-111.8\" font-family=\"Helvetica,sans-Serif\" font-size=\"14.00\">samples = 294</text>\n<text text-anchor=\"start\" x=\"376.5\" y=\"-96.8\" font-family=\"Helvetica,sans-Serif\" font-size=\"14.00\">value = [17, 277]</text>\n</g>\n<!-- 8&#45;&gt;9 -->\n<g id=\"edge9\" class=\"edge\">\n<title>8&#45;&gt;9</title>\n<path fill=\"none\" stroke=\"black\" d=\"M477.65,-192.88C471.23,-184.15 464.22,-174.62 457.52,-165.51\"/>\n<polygon fill=\"black\" stroke=\"black\" points=\"460.23,-163.28 451.48,-157.3 454.59,-167.43 460.23,-163.28\"/>\n</g>\n<!-- 12 -->\n<g id=\"node13\" class=\"node\">\n<title>12</title>\n<path fill=\"#6fb7ec\" stroke=\"black\" d=\"M620.5,-157C620.5,-157 515.5,-157 515.5,-157 509.5,-157 503.5,-151 503.5,-145 503.5,-145 503.5,-101 503.5,-101 503.5,-95 509.5,-89 515.5,-89 515.5,-89 620.5,-89 620.5,-89 626.5,-89 632.5,-95 632.5,-101 632.5,-101 632.5,-145 632.5,-145 632.5,-151 626.5,-157 620.5,-157\"/>\n<text text-anchor=\"start\" x=\"511.5\" y=\"-141.8\" font-family=\"Helvetica,sans-Serif\" font-size=\"14.00\">RestingBP ≤ 104.5</text>\n<text text-anchor=\"start\" x=\"532.5\" y=\"-126.8\" font-family=\"Helvetica,sans-Serif\" font-size=\"14.00\">gini = 0.335</text>\n<text text-anchor=\"start\" x=\"527\" y=\"-111.8\" font-family=\"Helvetica,sans-Serif\" font-size=\"14.00\">samples = 47</text>\n<text text-anchor=\"start\" x=\"521\" y=\"-96.8\" font-family=\"Helvetica,sans-Serif\" font-size=\"14.00\">value = [10, 37]</text>\n</g>\n<!-- 8&#45;&gt;12 -->\n<g id=\"edge12\" class=\"edge\">\n<title>8&#45;&gt;12</title>\n<path fill=\"none\" stroke=\"black\" d=\"M523.43,-192.88C529.02,-184.24 535.12,-174.82 540.96,-165.79\"/>\n<polygon fill=\"black\" stroke=\"black\" points=\"543.96,-167.6 546.45,-157.3 538.08,-163.79 543.96,-167.6\"/>\n</g>\n<!-- 10 -->\n<g id=\"node11\" class=\"node\">\n<title>10</title>\n<path fill=\"#ffffff\" stroke=\"black\" d=\"M338.5,-53C338.5,-53 267.5,-53 267.5,-53 261.5,-53 255.5,-47 255.5,-41 255.5,-41 255.5,-12 255.5,-12 255.5,-6 261.5,0 267.5,0 267.5,0 338.5,0 338.5,0 344.5,0 350.5,-6 350.5,-12 350.5,-12 350.5,-41 350.5,-41 350.5,-47 344.5,-53 338.5,-53\"/>\n<text text-anchor=\"start\" x=\"275\" y=\"-37.8\" font-family=\"Helvetica,sans-Serif\" font-size=\"14.00\">gini = 0.5</text>\n<text text-anchor=\"start\" x=\"265.5\" y=\"-22.8\" font-family=\"Helvetica,sans-Serif\" font-size=\"14.00\">samples = 2</text>\n<text text-anchor=\"start\" x=\"263.5\" y=\"-7.8\" font-family=\"Helvetica,sans-Serif\" font-size=\"14.00\">value = [1, 1]</text>\n</g>\n<!-- 9&#45;&gt;10 -->\n<g id=\"edge10\" class=\"edge\">\n<title>9&#45;&gt;10</title>\n<path fill=\"none\" stroke=\"black\" d=\"M383.63,-88.95C371.03,-79.34 357.29,-68.87 344.79,-59.34\"/>\n<polygon fill=\"black\" stroke=\"black\" points=\"346.85,-56.51 336.77,-53.24 342.6,-62.08 346.85,-56.51\"/>\n</g>\n<!-- 11 -->\n<g id=\"node12\" class=\"node\">\n<title>11</title>\n<path fill=\"#44a3e7\" stroke=\"black\" d=\"M473.5,-53C473.5,-53 380.5,-53 380.5,-53 374.5,-53 368.5,-47 368.5,-41 368.5,-41 368.5,-12 368.5,-12 368.5,-6 374.5,0 380.5,0 380.5,0 473.5,0 473.5,0 479.5,0 485.5,-6 485.5,-12 485.5,-12 485.5,-41 485.5,-41 485.5,-47 479.5,-53 473.5,-53\"/>\n<text text-anchor=\"start\" x=\"391.5\" y=\"-37.8\" font-family=\"Helvetica,sans-Serif\" font-size=\"14.00\">gini = 0.104</text>\n<text text-anchor=\"start\" x=\"382\" y=\"-22.8\" font-family=\"Helvetica,sans-Serif\" font-size=\"14.00\">samples = 292</text>\n<text text-anchor=\"start\" x=\"376.5\" y=\"-7.8\" font-family=\"Helvetica,sans-Serif\" font-size=\"14.00\">value = [16, 276]</text>\n</g>\n<!-- 9&#45;&gt;11 -->\n<g id=\"edge11\" class=\"edge\">\n<title>9&#45;&gt;11</title>\n<path fill=\"none\" stroke=\"black\" d=\"M427,-88.95C427,-80.72 427,-71.85 427,-63.48\"/>\n<polygon fill=\"black\" stroke=\"black\" points=\"430.5,-63.24 427,-53.24 423.5,-63.24 430.5,-63.24\"/>\n</g>\n<!-- 13 -->\n<g id=\"node14\" class=\"node\">\n<title>13</title>\n<path fill=\"#e58139\" stroke=\"black\" d=\"M586.5,-53C586.5,-53 515.5,-53 515.5,-53 509.5,-53 503.5,-47 503.5,-41 503.5,-41 503.5,-12 503.5,-12 503.5,-6 509.5,0 515.5,0 515.5,0 586.5,0 586.5,0 592.5,0 598.5,-6 598.5,-12 598.5,-12 598.5,-41 598.5,-41 598.5,-47 592.5,-53 586.5,-53\"/>\n<text text-anchor=\"start\" x=\"523\" y=\"-37.8\" font-family=\"Helvetica,sans-Serif\" font-size=\"14.00\">gini = 0.0</text>\n<text text-anchor=\"start\" x=\"513.5\" y=\"-22.8\" font-family=\"Helvetica,sans-Serif\" font-size=\"14.00\">samples = 2</text>\n<text text-anchor=\"start\" x=\"511.5\" y=\"-7.8\" font-family=\"Helvetica,sans-Serif\" font-size=\"14.00\">value = [2, 0]</text>\n</g>\n<!-- 12&#45;&gt;13 -->\n<g id=\"edge13\" class=\"edge\">\n<title>12&#45;&gt;13</title>\n<path fill=\"none\" stroke=\"black\" d=\"M562.05,-88.95C560.56,-80.62 558.94,-71.65 557.42,-63.2\"/>\n<polygon fill=\"black\" stroke=\"black\" points=\"560.85,-62.46 555.63,-53.24 553.96,-63.7 560.85,-62.46\"/>\n</g>\n<!-- 14 -->\n<g id=\"node15\" class=\"node\">\n<title>14</title>\n<path fill=\"#64b2eb\" stroke=\"black\" d=\"M707,-53C707,-53 629,-53 629,-53 623,-53 617,-47 617,-41 617,-41 617,-12 617,-12 617,-6 623,0 629,0 629,0 707,0 707,0 713,0 719,-6 719,-12 719,-12 719,-41 719,-41 719,-47 713,-53 707,-53\"/>\n<text text-anchor=\"start\" x=\"632.5\" y=\"-37.8\" font-family=\"Helvetica,sans-Serif\" font-size=\"14.00\">gini = 0.292</text>\n<text text-anchor=\"start\" x=\"627\" y=\"-22.8\" font-family=\"Helvetica,sans-Serif\" font-size=\"14.00\">samples = 45</text>\n<text text-anchor=\"start\" x=\"625\" y=\"-7.8\" font-family=\"Helvetica,sans-Serif\" font-size=\"14.00\">value = [8, 37]</text>\n</g>\n<!-- 12&#45;&gt;14 -->\n<g id=\"edge14\" class=\"edge\">\n<title>12&#45;&gt;14</title>\n<path fill=\"none\" stroke=\"black\" d=\"M602.98,-88.95C612.85,-79.62 623.59,-69.47 633.43,-60.16\"/>\n<polygon fill=\"black\" stroke=\"black\" points=\"635.9,-62.65 640.77,-53.24 631.09,-57.56 635.9,-62.65\"/>\n</g>\n<!-- 16 -->\n<g id=\"node17\" class=\"node\">\n<title>16</title>\n<path fill=\"#72b9ec\" stroke=\"black\" d=\"M948.5,-261C948.5,-261 861.5,-261 861.5,-261 855.5,-261 849.5,-255 849.5,-249 849.5,-249 849.5,-205 849.5,-205 849.5,-199 855.5,-193 861.5,-193 861.5,-193 948.5,-193 948.5,-193 954.5,-193 960.5,-199 960.5,-205 960.5,-205 960.5,-249 960.5,-249 960.5,-255 954.5,-261 948.5,-261\"/>\n<text text-anchor=\"start\" x=\"857.5\" y=\"-245.8\" font-family=\"Helvetica,sans-Serif\" font-size=\"14.00\">MaxHR ≤ 152.5</text>\n<text text-anchor=\"start\" x=\"869.5\" y=\"-230.8\" font-family=\"Helvetica,sans-Serif\" font-size=\"14.00\">gini = 0.346</text>\n<text text-anchor=\"start\" x=\"864\" y=\"-215.8\" font-family=\"Helvetica,sans-Serif\" font-size=\"14.00\">samples = 27</text>\n<text text-anchor=\"start\" x=\"862\" y=\"-200.8\" font-family=\"Helvetica,sans-Serif\" font-size=\"14.00\">value = [6, 21]</text>\n</g>\n<!-- 15&#45;&gt;16 -->\n<g id=\"edge16\" class=\"edge\">\n<title>15&#45;&gt;16</title>\n<path fill=\"none\" stroke=\"black\" d=\"M964.43,-296.88C956.74,-287.98 948.34,-278.24 940.34,-268.96\"/>\n<polygon fill=\"black\" stroke=\"black\" points=\"942.91,-266.58 933.73,-261.3 937.61,-271.16 942.91,-266.58\"/>\n</g>\n<!-- 21 -->\n<g id=\"node22\" class=\"node\">\n<title>21</title>\n<path fill=\"#f5ceb2\" stroke=\"black\" d=\"M1125,-261C1125,-261 1039,-261 1039,-261 1033,-261 1027,-255 1027,-249 1027,-249 1027,-205 1027,-205 1027,-199 1033,-193 1039,-193 1039,-193 1125,-193 1125,-193 1131,-193 1137,-199 1137,-205 1137,-205 1137,-249 1137,-249 1137,-255 1131,-261 1125,-261\"/>\n<text text-anchor=\"start\" x=\"1053\" y=\"-245.8\" font-family=\"Helvetica,sans-Serif\" font-size=\"14.00\">Sex ≤ 0.5</text>\n<text text-anchor=\"start\" x=\"1046.5\" y=\"-230.8\" font-family=\"Helvetica,sans-Serif\" font-size=\"14.00\">gini = 0.471</text>\n<text text-anchor=\"start\" x=\"1041\" y=\"-215.8\" font-family=\"Helvetica,sans-Serif\" font-size=\"14.00\">samples = 50</text>\n<text text-anchor=\"start\" x=\"1035\" y=\"-200.8\" font-family=\"Helvetica,sans-Serif\" font-size=\"14.00\">value = [31, 19]</text>\n</g>\n<!-- 15&#45;&gt;21 -->\n<g id=\"edge21\" class=\"edge\">\n<title>15&#45;&gt;21</title>\n<path fill=\"none\" stroke=\"black\" d=\"M1021.9,-296.88C1029.67,-287.98 1038.17,-278.24 1046.26,-268.96\"/>\n<polygon fill=\"black\" stroke=\"black\" points=\"1049.01,-271.14 1052.94,-261.3 1043.73,-266.53 1049.01,-271.14\"/>\n</g>\n<!-- 17 -->\n<g id=\"node18\" class=\"node\">\n<title>17</title>\n<path fill=\"#e58139\" stroke=\"black\" d=\"M807.5,-149.5C807.5,-149.5 736.5,-149.5 736.5,-149.5 730.5,-149.5 724.5,-143.5 724.5,-137.5 724.5,-137.5 724.5,-108.5 724.5,-108.5 724.5,-102.5 730.5,-96.5 736.5,-96.5 736.5,-96.5 807.5,-96.5 807.5,-96.5 813.5,-96.5 819.5,-102.5 819.5,-108.5 819.5,-108.5 819.5,-137.5 819.5,-137.5 819.5,-143.5 813.5,-149.5 807.5,-149.5\"/>\n<text text-anchor=\"start\" x=\"744\" y=\"-134.3\" font-family=\"Helvetica,sans-Serif\" font-size=\"14.00\">gini = 0.0</text>\n<text text-anchor=\"start\" x=\"734.5\" y=\"-119.3\" font-family=\"Helvetica,sans-Serif\" font-size=\"14.00\">samples = 2</text>\n<text text-anchor=\"start\" x=\"732.5\" y=\"-104.3\" font-family=\"Helvetica,sans-Serif\" font-size=\"14.00\">value = [2, 0]</text>\n</g>\n<!-- 16&#45;&gt;17 -->\n<g id=\"edge17\" class=\"edge\">\n<title>16&#45;&gt;17</title>\n<path fill=\"none\" stroke=\"black\" d=\"M861.82,-192.88C846.33,-181.01 828.91,-167.65 813.56,-155.88\"/>\n<polygon fill=\"black\" stroke=\"black\" points=\"815.34,-152.83 805.28,-149.52 811.08,-158.38 815.34,-152.83\"/>\n</g>\n<!-- 18 -->\n<g id=\"node19\" class=\"node\">\n<title>18</title>\n<path fill=\"#5fb0ea\" stroke=\"black\" d=\"M960,-157C960,-157 850,-157 850,-157 844,-157 838,-151 838,-145 838,-145 838,-101 838,-101 838,-95 844,-89 850,-89 850,-89 960,-89 960,-89 966,-89 972,-95 972,-101 972,-101 972,-145 972,-145 972,-151 966,-157 960,-157\"/>\n<text text-anchor=\"start\" x=\"846\" y=\"-141.8\" font-family=\"Helvetica,sans-Serif\" font-size=\"14.00\">Cholesterol ≤ 298.0</text>\n<text text-anchor=\"start\" x=\"869.5\" y=\"-126.8\" font-family=\"Helvetica,sans-Serif\" font-size=\"14.00\">gini = 0.269</text>\n<text text-anchor=\"start\" x=\"864\" y=\"-111.8\" font-family=\"Helvetica,sans-Serif\" font-size=\"14.00\">samples = 25</text>\n<text text-anchor=\"start\" x=\"862\" y=\"-96.8\" font-family=\"Helvetica,sans-Serif\" font-size=\"14.00\">value = [4, 21]</text>\n</g>\n<!-- 16&#45;&gt;18 -->\n<g id=\"edge18\" class=\"edge\">\n<title>16&#45;&gt;18</title>\n<path fill=\"none\" stroke=\"black\" d=\"M905,-192.88C905,-184.78 905,-175.98 905,-167.47\"/>\n<polygon fill=\"black\" stroke=\"black\" points=\"908.5,-167.3 905,-157.3 901.5,-167.3 908.5,-167.3\"/>\n</g>\n<!-- 19 -->\n<g id=\"node20\" class=\"node\">\n<title>19</title>\n<path fill=\"#4ea7e8\" stroke=\"black\" d=\"M827,-53C827,-53 749,-53 749,-53 743,-53 737,-47 737,-41 737,-41 737,-12 737,-12 737,-6 743,0 749,0 749,0 827,0 827,0 833,0 839,-6 839,-12 839,-12 839,-41 839,-41 839,-47 833,-53 827,-53\"/>\n<text text-anchor=\"start\" x=\"752.5\" y=\"-37.8\" font-family=\"Helvetica,sans-Serif\" font-size=\"14.00\">gini = 0.172</text>\n<text text-anchor=\"start\" x=\"747\" y=\"-22.8\" font-family=\"Helvetica,sans-Serif\" font-size=\"14.00\">samples = 21</text>\n<text text-anchor=\"start\" x=\"745\" y=\"-7.8\" font-family=\"Helvetica,sans-Serif\" font-size=\"14.00\">value = [2, 19]</text>\n</g>\n<!-- 18&#45;&gt;19 -->\n<g id=\"edge19\" class=\"edge\">\n<title>18&#45;&gt;19</title>\n<path fill=\"none\" stroke=\"black\" d=\"M864.08,-88.95C852.3,-79.43 839.47,-69.07 827.76,-59.62\"/>\n<polygon fill=\"black\" stroke=\"black\" points=\"829.84,-56.8 819.86,-53.24 825.44,-62.24 829.84,-56.8\"/>\n</g>\n<!-- 20 -->\n<g id=\"node21\" class=\"node\">\n<title>20</title>\n<path fill=\"#ffffff\" stroke=\"black\" d=\"M940.5,-53C940.5,-53 869.5,-53 869.5,-53 863.5,-53 857.5,-47 857.5,-41 857.5,-41 857.5,-12 857.5,-12 857.5,-6 863.5,0 869.5,0 869.5,0 940.5,0 940.5,0 946.5,0 952.5,-6 952.5,-12 952.5,-12 952.5,-41 952.5,-41 952.5,-47 946.5,-53 940.5,-53\"/>\n<text text-anchor=\"start\" x=\"877\" y=\"-37.8\" font-family=\"Helvetica,sans-Serif\" font-size=\"14.00\">gini = 0.5</text>\n<text text-anchor=\"start\" x=\"867.5\" y=\"-22.8\" font-family=\"Helvetica,sans-Serif\" font-size=\"14.00\">samples = 4</text>\n<text text-anchor=\"start\" x=\"865.5\" y=\"-7.8\" font-family=\"Helvetica,sans-Serif\" font-size=\"14.00\">value = [2, 2]</text>\n</g>\n<!-- 18&#45;&gt;20 -->\n<g id=\"edge20\" class=\"edge\">\n<title>18&#45;&gt;20</title>\n<path fill=\"none\" stroke=\"black\" d=\"M905,-88.95C905,-80.72 905,-71.85 905,-63.48\"/>\n<polygon fill=\"black\" stroke=\"black\" points=\"908.5,-63.24 905,-53.24 901.5,-63.24 908.5,-63.24\"/>\n</g>\n<!-- 22 -->\n<g id=\"node23\" class=\"node\">\n<title>22</title>\n<path fill=\"#e99457\" stroke=\"black\" d=\"M1126.5,-157C1126.5,-157 1037.5,-157 1037.5,-157 1031.5,-157 1025.5,-151 1025.5,-145 1025.5,-145 1025.5,-101 1025.5,-101 1025.5,-95 1031.5,-89 1037.5,-89 1037.5,-89 1126.5,-89 1126.5,-89 1132.5,-89 1138.5,-95 1138.5,-101 1138.5,-101 1138.5,-145 1138.5,-145 1138.5,-151 1132.5,-157 1126.5,-157\"/>\n<text text-anchor=\"start\" x=\"1033.5\" y=\"-141.8\" font-family=\"Helvetica,sans-Serif\" font-size=\"14.00\">FastingBS ≤ 0.5</text>\n<text text-anchor=\"start\" x=\"1046.5\" y=\"-126.8\" font-family=\"Helvetica,sans-Serif\" font-size=\"14.00\">gini = 0.231</text>\n<text text-anchor=\"start\" x=\"1041\" y=\"-111.8\" font-family=\"Helvetica,sans-Serif\" font-size=\"14.00\">samples = 15</text>\n<text text-anchor=\"start\" x=\"1039\" y=\"-96.8\" font-family=\"Helvetica,sans-Serif\" font-size=\"14.00\">value = [13, 2]</text>\n</g>\n<!-- 21&#45;&gt;22 -->\n<g id=\"edge22\" class=\"edge\">\n<title>21&#45;&gt;22</title>\n<path fill=\"none\" stroke=\"black\" d=\"M1082,-192.88C1082,-184.78 1082,-175.98 1082,-167.47\"/>\n<polygon fill=\"black\" stroke=\"black\" points=\"1085.5,-167.3 1082,-157.3 1078.5,-167.3 1085.5,-167.3\"/>\n</g>\n<!-- 25 -->\n<g id=\"node26\" class=\"node\">\n<title>25</title>\n<path fill=\"#fef8f4\" stroke=\"black\" d=\"M1308.5,-157C1308.5,-157 1203.5,-157 1203.5,-157 1197.5,-157 1191.5,-151 1191.5,-145 1191.5,-145 1191.5,-101 1191.5,-101 1191.5,-95 1197.5,-89 1203.5,-89 1203.5,-89 1308.5,-89 1308.5,-89 1314.5,-89 1320.5,-95 1320.5,-101 1320.5,-101 1320.5,-145 1320.5,-145 1320.5,-151 1314.5,-157 1308.5,-157\"/>\n<text text-anchor=\"start\" x=\"1199.5\" y=\"-141.8\" font-family=\"Helvetica,sans-Serif\" font-size=\"14.00\">RestingBP ≤ 131.0</text>\n<text text-anchor=\"start\" x=\"1228\" y=\"-126.8\" font-family=\"Helvetica,sans-Serif\" font-size=\"14.00\">gini = 0.5</text>\n<text text-anchor=\"start\" x=\"1215\" y=\"-111.8\" font-family=\"Helvetica,sans-Serif\" font-size=\"14.00\">samples = 35</text>\n<text text-anchor=\"start\" x=\"1209\" y=\"-96.8\" font-family=\"Helvetica,sans-Serif\" font-size=\"14.00\">value = [18, 17]</text>\n</g>\n<!-- 21&#45;&gt;25 -->\n<g id=\"edge25\" class=\"edge\">\n<title>21&#45;&gt;25</title>\n<path fill=\"none\" stroke=\"black\" d=\"M1137.05,-193.73C1154.01,-183.79 1172.85,-172.74 1190.44,-162.43\"/>\n<polygon fill=\"black\" stroke=\"black\" points=\"1192.65,-165.19 1199.51,-157.12 1189.11,-159.15 1192.65,-165.19\"/>\n</g>\n<!-- 23 -->\n<g id=\"node24\" class=\"node\">\n<title>23</title>\n<path fill=\"#e78b48\" stroke=\"black\" d=\"M1061,-53C1061,-53 983,-53 983,-53 977,-53 971,-47 971,-41 971,-41 971,-12 971,-12 971,-6 977,0 983,0 983,0 1061,0 1061,0 1067,0 1073,-6 1073,-12 1073,-12 1073,-41 1073,-41 1073,-47 1067,-53 1061,-53\"/>\n<text text-anchor=\"start\" x=\"986.5\" y=\"-37.8\" font-family=\"Helvetica,sans-Serif\" font-size=\"14.00\">gini = 0.133</text>\n<text text-anchor=\"start\" x=\"981\" y=\"-22.8\" font-family=\"Helvetica,sans-Serif\" font-size=\"14.00\">samples = 14</text>\n<text text-anchor=\"start\" x=\"979\" y=\"-7.8\" font-family=\"Helvetica,sans-Serif\" font-size=\"14.00\">value = [13, 1]</text>\n</g>\n<!-- 22&#45;&gt;23 -->\n<g id=\"edge23\" class=\"edge\">\n<title>22&#45;&gt;23</title>\n<path fill=\"none\" stroke=\"black\" d=\"M1061.01,-88.95C1055.44,-80.17 1049.41,-70.66 1043.79,-61.82\"/>\n<polygon fill=\"black\" stroke=\"black\" points=\"1046.66,-59.8 1038.34,-53.24 1040.75,-63.55 1046.66,-59.8\"/>\n</g>\n<!-- 24 -->\n<g id=\"node25\" class=\"node\">\n<title>24</title>\n<path fill=\"#399de5\" stroke=\"black\" d=\"M1174.5,-53C1174.5,-53 1103.5,-53 1103.5,-53 1097.5,-53 1091.5,-47 1091.5,-41 1091.5,-41 1091.5,-12 1091.5,-12 1091.5,-6 1097.5,0 1103.5,0 1103.5,0 1174.5,0 1174.5,0 1180.5,0 1186.5,-6 1186.5,-12 1186.5,-12 1186.5,-41 1186.5,-41 1186.5,-47 1180.5,-53 1174.5,-53\"/>\n<text text-anchor=\"start\" x=\"1111\" y=\"-37.8\" font-family=\"Helvetica,sans-Serif\" font-size=\"14.00\">gini = 0.0</text>\n<text text-anchor=\"start\" x=\"1101.5\" y=\"-22.8\" font-family=\"Helvetica,sans-Serif\" font-size=\"14.00\">samples = 1</text>\n<text text-anchor=\"start\" x=\"1099.5\" y=\"-7.8\" font-family=\"Helvetica,sans-Serif\" font-size=\"14.00\">value = [0, 1]</text>\n</g>\n<!-- 22&#45;&gt;24 -->\n<g id=\"edge24\" class=\"edge\">\n<title>22&#45;&gt;24</title>\n<path fill=\"none\" stroke=\"black\" d=\"M1101.94,-88.95C1107.23,-80.17 1112.97,-70.66 1118.3,-61.82\"/>\n<polygon fill=\"black\" stroke=\"black\" points=\"1121.31,-63.61 1123.48,-53.24 1115.31,-59.99 1121.31,-63.61\"/>\n</g>\n<!-- 26 -->\n<g id=\"node27\" class=\"node\">\n<title>26</title>\n<path fill=\"#f4c8a8\" stroke=\"black\" d=\"M1295,-53C1295,-53 1217,-53 1217,-53 1211,-53 1205,-47 1205,-41 1205,-41 1205,-12 1205,-12 1205,-6 1211,0 1217,0 1217,0 1295,0 1295,0 1301,0 1307,-6 1307,-12 1307,-12 1307,-41 1307,-41 1307,-47 1301,-53 1295,-53\"/>\n<text text-anchor=\"start\" x=\"1220.5\" y=\"-37.8\" font-family=\"Helvetica,sans-Serif\" font-size=\"14.00\">gini = 0.461</text>\n<text text-anchor=\"start\" x=\"1215\" y=\"-22.8\" font-family=\"Helvetica,sans-Serif\" font-size=\"14.00\">samples = 25</text>\n<text text-anchor=\"start\" x=\"1213\" y=\"-7.8\" font-family=\"Helvetica,sans-Serif\" font-size=\"14.00\">value = [16, 9]</text>\n</g>\n<!-- 25&#45;&gt;26 -->\n<g id=\"edge26\" class=\"edge\">\n<title>25&#45;&gt;26</title>\n<path fill=\"none\" stroke=\"black\" d=\"M1256,-88.95C1256,-80.72 1256,-71.85 1256,-63.48\"/>\n<polygon fill=\"black\" stroke=\"black\" points=\"1259.5,-63.24 1256,-53.24 1252.5,-63.24 1259.5,-63.24\"/>\n</g>\n<!-- 27 -->\n<g id=\"node28\" class=\"node\">\n<title>27</title>\n<path fill=\"#6ab6ec\" stroke=\"black\" d=\"M1411,-53C1411,-53 1337,-53 1337,-53 1331,-53 1325,-47 1325,-41 1325,-41 1325,-12 1325,-12 1325,-6 1331,0 1337,0 1337,0 1411,0 1411,0 1417,0 1423,-6 1423,-12 1423,-12 1423,-41 1423,-41 1423,-47 1417,-53 1411,-53\"/>\n<text text-anchor=\"start\" x=\"1342\" y=\"-37.8\" font-family=\"Helvetica,sans-Serif\" font-size=\"14.00\">gini = 0.32</text>\n<text text-anchor=\"start\" x=\"1333\" y=\"-22.8\" font-family=\"Helvetica,sans-Serif\" font-size=\"14.00\">samples = 10</text>\n<text text-anchor=\"start\" x=\"1334.5\" y=\"-7.8\" font-family=\"Helvetica,sans-Serif\" font-size=\"14.00\">value = [2, 8]</text>\n</g>\n<!-- 25&#45;&gt;27 -->\n<g id=\"edge27\" class=\"edge\">\n<title>25&#45;&gt;27</title>\n<path fill=\"none\" stroke=\"black\" d=\"M1297.27,-88.95C1309.15,-79.43 1322.09,-69.07 1333.9,-59.62\"/>\n<polygon fill=\"black\" stroke=\"black\" points=\"1336.25,-62.22 1341.86,-53.24 1331.87,-56.76 1336.25,-62.22\"/>\n</g>\n<!-- 29 -->\n<g id=\"node30\" class=\"node\">\n<title>29</title>\n<path fill=\"#fae7d9\" stroke=\"black\" d=\"M1915,-365C1915,-365 1829,-365 1829,-365 1823,-365 1817,-359 1817,-353 1817,-353 1817,-309 1817,-309 1817,-303 1823,-297 1829,-297 1829,-297 1915,-297 1915,-297 1921,-297 1927,-303 1927,-309 1927,-309 1927,-353 1927,-353 1927,-359 1921,-365 1915,-365\"/>\n<text text-anchor=\"start\" x=\"1825.5\" y=\"-349.8\" font-family=\"Helvetica,sans-Serif\" font-size=\"14.00\">Oldpeak ≤ 14.5</text>\n<text text-anchor=\"start\" x=\"1836.5\" y=\"-334.8\" font-family=\"Helvetica,sans-Serif\" font-size=\"14.00\">gini = 0.494</text>\n<text text-anchor=\"start\" x=\"1827\" y=\"-319.8\" font-family=\"Helvetica,sans-Serif\" font-size=\"14.00\">samples = 121</text>\n<text text-anchor=\"start\" x=\"1825\" y=\"-304.8\" font-family=\"Helvetica,sans-Serif\" font-size=\"14.00\">value = [67, 54]</text>\n</g>\n<!-- 28&#45;&gt;29 -->\n<g id=\"edge29\" class=\"edge\">\n<title>28&#45;&gt;29</title>\n<path fill=\"none\" stroke=\"black\" d=\"M1872,-400.88C1872,-392.78 1872,-383.98 1872,-375.47\"/>\n<polygon fill=\"black\" stroke=\"black\" points=\"1875.5,-375.3 1872,-365.3 1868.5,-375.3 1875.5,-375.3\"/>\n</g>\n<!-- 44 -->\n<g id=\"node45\" class=\"node\">\n<title>44</title>\n<path fill=\"#e78a47\" stroke=\"black\" d=\"M2474.5,-365C2474.5,-365 2381.5,-365 2381.5,-365 2375.5,-365 2369.5,-359 2369.5,-353 2369.5,-353 2369.5,-309 2369.5,-309 2369.5,-303 2375.5,-297 2381.5,-297 2381.5,-297 2474.5,-297 2474.5,-297 2480.5,-297 2486.5,-303 2486.5,-309 2486.5,-309 2486.5,-353 2486.5,-353 2486.5,-359 2480.5,-365 2474.5,-365\"/>\n<text text-anchor=\"start\" x=\"2381.5\" y=\"-349.8\" font-family=\"Helvetica,sans-Serif\" font-size=\"14.00\">Oldpeak ≤ 32.0</text>\n<text text-anchor=\"start\" x=\"2392.5\" y=\"-334.8\" font-family=\"Helvetica,sans-Serif\" font-size=\"14.00\">gini = 0.126</text>\n<text text-anchor=\"start\" x=\"2383\" y=\"-319.8\" font-family=\"Helvetica,sans-Serif\" font-size=\"14.00\">samples = 237</text>\n<text text-anchor=\"start\" x=\"2377.5\" y=\"-304.8\" font-family=\"Helvetica,sans-Serif\" font-size=\"14.00\">value = [221, 16]</text>\n</g>\n<!-- 28&#45;&gt;44 -->\n<g id=\"edge44\" class=\"edge\">\n<title>28&#45;&gt;44</title>\n<path fill=\"none\" stroke=\"black\" d=\"M1943.27,-420.93C2050.85,-401.19 2253.4,-364.03 2359.4,-344.59\"/>\n<polygon fill=\"black\" stroke=\"black\" points=\"2360.14,-348.01 2369.35,-342.76 2358.88,-341.12 2360.14,-348.01\"/>\n</g>\n<!-- 30 -->\n<g id=\"node31\" class=\"node\">\n<title>30</title>\n<path fill=\"#f0b58a\" stroke=\"black\" d=\"M1838,-261C1838,-261 1736,-261 1736,-261 1730,-261 1724,-255 1724,-249 1724,-249 1724,-205 1724,-205 1724,-199 1730,-193 1736,-193 1736,-193 1838,-193 1838,-193 1844,-193 1850,-199 1850,-205 1850,-205 1850,-249 1850,-249 1850,-255 1844,-261 1838,-261\"/>\n<text text-anchor=\"start\" x=\"1732\" y=\"-245.8\" font-family=\"Helvetica,sans-Serif\" font-size=\"14.00\">Cholesterol ≤ 42.5</text>\n<text text-anchor=\"start\" x=\"1751.5\" y=\"-230.8\" font-family=\"Helvetica,sans-Serif\" font-size=\"14.00\">gini = 0.413</text>\n<text text-anchor=\"start\" x=\"1746\" y=\"-215.8\" font-family=\"Helvetica,sans-Serif\" font-size=\"14.00\">samples = 79</text>\n<text text-anchor=\"start\" x=\"1740\" y=\"-200.8\" font-family=\"Helvetica,sans-Serif\" font-size=\"14.00\">value = [56, 23]</text>\n</g>\n<!-- 29&#45;&gt;30 -->\n<g id=\"edge30\" class=\"edge\">\n<title>29&#45;&gt;30</title>\n<path fill=\"none\" stroke=\"black\" d=\"M1844.4,-296.88C1837.05,-288.07 1829.03,-278.43 1821.36,-269.24\"/>\n<polygon fill=\"black\" stroke=\"black\" points=\"1823.84,-266.74 1814.75,-261.3 1818.46,-271.22 1823.84,-266.74\"/>\n</g>\n<!-- 37 -->\n<g id=\"node38\" class=\"node\">\n<title>37</title>\n<path fill=\"#7fc0ee\" stroke=\"black\" d=\"M2057,-261C2057,-261 1971,-261 1971,-261 1965,-261 1959,-255 1959,-249 1959,-249 1959,-205 1959,-205 1959,-199 1965,-193 1971,-193 1971,-193 2057,-193 2057,-193 2063,-193 2069,-199 2069,-205 2069,-205 2069,-249 2069,-249 2069,-255 2063,-261 2057,-261\"/>\n<text text-anchor=\"start\" x=\"1985\" y=\"-245.8\" font-family=\"Helvetica,sans-Serif\" font-size=\"14.00\">Sex ≤ 0.5</text>\n<text text-anchor=\"start\" x=\"1978.5\" y=\"-230.8\" font-family=\"Helvetica,sans-Serif\" font-size=\"14.00\">gini = 0.387</text>\n<text text-anchor=\"start\" x=\"1973\" y=\"-215.8\" font-family=\"Helvetica,sans-Serif\" font-size=\"14.00\">samples = 42</text>\n<text text-anchor=\"start\" x=\"1967\" y=\"-200.8\" font-family=\"Helvetica,sans-Serif\" font-size=\"14.00\">value = [11, 31]</text>\n</g>\n<!-- 29&#45;&gt;37 -->\n<g id=\"edge37\" class=\"edge\">\n<title>29&#45;&gt;37</title>\n<path fill=\"none\" stroke=\"black\" d=\"M1918.1,-296.88C1931.25,-287.44 1945.7,-277.06 1959.3,-267.29\"/>\n<polygon fill=\"black\" stroke=\"black\" points=\"1961.56,-269.98 1967.64,-261.3 1957.48,-264.29 1961.56,-269.98\"/>\n</g>\n<!-- 31 -->\n<g id=\"node32\" class=\"node\">\n<title>31</title>\n<path fill=\"#83c2ef\" stroke=\"black\" d=\"M1645.5,-157C1645.5,-157 1558.5,-157 1558.5,-157 1552.5,-157 1546.5,-151 1546.5,-145 1546.5,-145 1546.5,-101 1546.5,-101 1546.5,-95 1552.5,-89 1558.5,-89 1558.5,-89 1645.5,-89 1645.5,-89 1651.5,-89 1657.5,-95 1657.5,-101 1657.5,-101 1657.5,-145 1657.5,-145 1657.5,-151 1651.5,-157 1645.5,-157\"/>\n<text text-anchor=\"start\" x=\"1554.5\" y=\"-141.8\" font-family=\"Helvetica,sans-Serif\" font-size=\"14.00\">MaxHR ≤ 119.0</text>\n<text text-anchor=\"start\" x=\"1566.5\" y=\"-126.8\" font-family=\"Helvetica,sans-Serif\" font-size=\"14.00\">gini = 0.397</text>\n<text text-anchor=\"start\" x=\"1561\" y=\"-111.8\" font-family=\"Helvetica,sans-Serif\" font-size=\"14.00\">samples = 11</text>\n<text text-anchor=\"start\" x=\"1562.5\" y=\"-96.8\" font-family=\"Helvetica,sans-Serif\" font-size=\"14.00\">value = [3, 8]</text>\n</g>\n<!-- 30&#45;&gt;31 -->\n<g id=\"edge31\" class=\"edge\">\n<title>30&#45;&gt;31</title>\n<path fill=\"none\" stroke=\"black\" d=\"M1726.94,-192.88C1707.63,-182.24 1686.17,-170.41 1666.55,-159.59\"/>\n<polygon fill=\"black\" stroke=\"black\" points=\"1668.13,-156.47 1657.69,-154.7 1664.75,-162.6 1668.13,-156.47\"/>\n</g>\n<!-- 34 -->\n<g id=\"node35\" class=\"node\">\n<title>34</title>\n<path fill=\"#eca571\" stroke=\"black\" d=\"M1830.5,-157C1830.5,-157 1743.5,-157 1743.5,-157 1737.5,-157 1731.5,-151 1731.5,-145 1731.5,-145 1731.5,-101 1731.5,-101 1731.5,-95 1737.5,-89 1743.5,-89 1743.5,-89 1830.5,-89 1830.5,-89 1836.5,-89 1842.5,-95 1842.5,-101 1842.5,-101 1842.5,-145 1842.5,-145 1842.5,-151 1836.5,-157 1830.5,-157\"/>\n<text text-anchor=\"start\" x=\"1739.5\" y=\"-141.8\" font-family=\"Helvetica,sans-Serif\" font-size=\"14.00\">MaxHR ≤ 149.0</text>\n<text text-anchor=\"start\" x=\"1751.5\" y=\"-126.8\" font-family=\"Helvetica,sans-Serif\" font-size=\"14.00\">gini = 0.344</text>\n<text text-anchor=\"start\" x=\"1746\" y=\"-111.8\" font-family=\"Helvetica,sans-Serif\" font-size=\"14.00\">samples = 68</text>\n<text text-anchor=\"start\" x=\"1740\" y=\"-96.8\" font-family=\"Helvetica,sans-Serif\" font-size=\"14.00\">value = [53, 15]</text>\n</g>\n<!-- 30&#45;&gt;34 -->\n<g id=\"edge34\" class=\"edge\">\n<title>30&#45;&gt;34</title>\n<path fill=\"none\" stroke=\"black\" d=\"M1787,-192.88C1787,-184.78 1787,-175.98 1787,-167.47\"/>\n<polygon fill=\"black\" stroke=\"black\" points=\"1790.5,-167.3 1787,-157.3 1783.5,-167.3 1790.5,-167.3\"/>\n</g>\n<!-- 32 -->\n<g id=\"node33\" class=\"node\">\n<title>32</title>\n<path fill=\"#ffffff\" stroke=\"black\" d=\"M1524.5,-53C1524.5,-53 1453.5,-53 1453.5,-53 1447.5,-53 1441.5,-47 1441.5,-41 1441.5,-41 1441.5,-12 1441.5,-12 1441.5,-6 1447.5,0 1453.5,0 1453.5,0 1524.5,0 1524.5,0 1530.5,0 1536.5,-6 1536.5,-12 1536.5,-12 1536.5,-41 1536.5,-41 1536.5,-47 1530.5,-53 1524.5,-53\"/>\n<text text-anchor=\"start\" x=\"1461\" y=\"-37.8\" font-family=\"Helvetica,sans-Serif\" font-size=\"14.00\">gini = 0.5</text>\n<text text-anchor=\"start\" x=\"1451.5\" y=\"-22.8\" font-family=\"Helvetica,sans-Serif\" font-size=\"14.00\">samples = 6</text>\n<text text-anchor=\"start\" x=\"1449.5\" y=\"-7.8\" font-family=\"Helvetica,sans-Serif\" font-size=\"14.00\">value = [3, 3]</text>\n</g>\n<!-- 31&#45;&gt;32 -->\n<g id=\"edge32\" class=\"edge\">\n<title>31&#45;&gt;32</title>\n<path fill=\"none\" stroke=\"black\" d=\"M1562.48,-88.95C1551.21,-79.53 1538.95,-69.27 1527.73,-59.89\"/>\n<polygon fill=\"black\" stroke=\"black\" points=\"1529.69,-56.97 1519.78,-53.24 1525.2,-62.34 1529.69,-56.97\"/>\n</g>\n<!-- 33 -->\n<g id=\"node34\" class=\"node\">\n<title>33</title>\n<path fill=\"#399de5\" stroke=\"black\" d=\"M1637.5,-53C1637.5,-53 1566.5,-53 1566.5,-53 1560.5,-53 1554.5,-47 1554.5,-41 1554.5,-41 1554.5,-12 1554.5,-12 1554.5,-6 1560.5,0 1566.5,0 1566.5,0 1637.5,0 1637.5,0 1643.5,0 1649.5,-6 1649.5,-12 1649.5,-12 1649.5,-41 1649.5,-41 1649.5,-47 1643.5,-53 1637.5,-53\"/>\n<text text-anchor=\"start\" x=\"1574\" y=\"-37.8\" font-family=\"Helvetica,sans-Serif\" font-size=\"14.00\">gini = 0.0</text>\n<text text-anchor=\"start\" x=\"1564.5\" y=\"-22.8\" font-family=\"Helvetica,sans-Serif\" font-size=\"14.00\">samples = 5</text>\n<text text-anchor=\"start\" x=\"1562.5\" y=\"-7.8\" font-family=\"Helvetica,sans-Serif\" font-size=\"14.00\">value = [0, 5]</text>\n</g>\n<!-- 31&#45;&gt;33 -->\n<g id=\"edge33\" class=\"edge\">\n<title>31&#45;&gt;33</title>\n<path fill=\"none\" stroke=\"black\" d=\"M1602,-88.95C1602,-80.72 1602,-71.85 1602,-63.48\"/>\n<polygon fill=\"black\" stroke=\"black\" points=\"1605.5,-63.24 1602,-53.24 1598.5,-63.24 1605.5,-63.24\"/>\n</g>\n<!-- 35 -->\n<g id=\"node36\" class=\"node\">\n<title>35</title>\n<path fill=\"#e6853f\" stroke=\"black\" d=\"M1758,-53C1758,-53 1680,-53 1680,-53 1674,-53 1668,-47 1668,-41 1668,-41 1668,-12 1668,-12 1668,-6 1674,0 1680,0 1680,0 1758,0 1758,0 1764,0 1770,-6 1770,-12 1770,-12 1770,-41 1770,-41 1770,-47 1764,-53 1758,-53\"/>\n<text text-anchor=\"start\" x=\"1683.5\" y=\"-37.8\" font-family=\"Helvetica,sans-Serif\" font-size=\"14.00\">gini = 0.056</text>\n<text text-anchor=\"start\" x=\"1678\" y=\"-22.8\" font-family=\"Helvetica,sans-Serif\" font-size=\"14.00\">samples = 35</text>\n<text text-anchor=\"start\" x=\"1676\" y=\"-7.8\" font-family=\"Helvetica,sans-Serif\" font-size=\"14.00\">value = [34, 1]</text>\n</g>\n<!-- 34&#45;&gt;35 -->\n<g id=\"edge35\" class=\"edge\">\n<title>34&#45;&gt;35</title>\n<path fill=\"none\" stroke=\"black\" d=\"M1763.22,-88.95C1756.83,-80.07 1749.92,-70.46 1743.49,-61.54\"/>\n<polygon fill=\"black\" stroke=\"black\" points=\"1746.2,-59.31 1737.52,-53.24 1740.52,-63.4 1746.2,-59.31\"/>\n</g>\n<!-- 36 -->\n<g id=\"node37\" class=\"node\">\n<title>36</title>\n<path fill=\"#f8decb\" stroke=\"black\" d=\"M1886,-53C1886,-53 1800,-53 1800,-53 1794,-53 1788,-47 1788,-41 1788,-41 1788,-12 1788,-12 1788,-6 1794,0 1800,0 1800,0 1886,0 1886,0 1892,0 1898,-6 1898,-12 1898,-12 1898,-41 1898,-41 1898,-47 1892,-53 1886,-53\"/>\n<text text-anchor=\"start\" x=\"1807.5\" y=\"-37.8\" font-family=\"Helvetica,sans-Serif\" font-size=\"14.00\">gini = 0.489</text>\n<text text-anchor=\"start\" x=\"1802\" y=\"-22.8\" font-family=\"Helvetica,sans-Serif\" font-size=\"14.00\">samples = 33</text>\n<text text-anchor=\"start\" x=\"1796\" y=\"-7.8\" font-family=\"Helvetica,sans-Serif\" font-size=\"14.00\">value = [19, 14]</text>\n</g>\n<!-- 34&#45;&gt;36 -->\n<g id=\"edge36\" class=\"edge\">\n<title>34&#45;&gt;36</title>\n<path fill=\"none\" stroke=\"black\" d=\"M1806.59,-88.95C1811.74,-80.26 1817.3,-70.86 1822.5,-62.09\"/>\n<polygon fill=\"black\" stroke=\"black\" points=\"1825.66,-63.62 1827.75,-53.24 1819.64,-60.06 1825.66,-63.62\"/>\n</g>\n<!-- 38 -->\n<g id=\"node39\" class=\"node\">\n<title>38</title>\n<path fill=\"#f2c09c\" stroke=\"black\" d=\"M2065,-157C2065,-157 1963,-157 1963,-157 1957,-157 1951,-151 1951,-145 1951,-145 1951,-101 1951,-101 1951,-95 1957,-89 1963,-89 1963,-89 2065,-89 2065,-89 2071,-89 2077,-95 2077,-101 2077,-101 2077,-145 2077,-145 2077,-151 2071,-157 2065,-157\"/>\n<text text-anchor=\"start\" x=\"1959\" y=\"-141.8\" font-family=\"Helvetica,sans-Serif\" font-size=\"14.00\">Cholesterol ≤ 81.5</text>\n<text text-anchor=\"start\" x=\"1978.5\" y=\"-126.8\" font-family=\"Helvetica,sans-Serif\" font-size=\"14.00\">gini = 0.444</text>\n<text text-anchor=\"start\" x=\"1976.5\" y=\"-111.8\" font-family=\"Helvetica,sans-Serif\" font-size=\"14.00\">samples = 6</text>\n<text text-anchor=\"start\" x=\"1974.5\" y=\"-96.8\" font-family=\"Helvetica,sans-Serif\" font-size=\"14.00\">value = [4, 2]</text>\n</g>\n<!-- 37&#45;&gt;38 -->\n<g id=\"edge38\" class=\"edge\">\n<title>37&#45;&gt;38</title>\n<path fill=\"none\" stroke=\"black\" d=\"M2014,-192.88C2014,-184.78 2014,-175.98 2014,-167.47\"/>\n<polygon fill=\"black\" stroke=\"black\" points=\"2017.5,-167.3 2014,-157.3 2010.5,-167.3 2017.5,-167.3\"/>\n</g>\n<!-- 41 -->\n<g id=\"node42\" class=\"node\">\n<title>41</title>\n<path fill=\"#69b5eb\" stroke=\"black\" d=\"M2246.5,-157C2246.5,-157 2141.5,-157 2141.5,-157 2135.5,-157 2129.5,-151 2129.5,-145 2129.5,-145 2129.5,-101 2129.5,-101 2129.5,-95 2135.5,-89 2141.5,-89 2141.5,-89 2246.5,-89 2246.5,-89 2252.5,-89 2258.5,-95 2258.5,-101 2258.5,-101 2258.5,-145 2258.5,-145 2258.5,-151 2252.5,-157 2246.5,-157\"/>\n<text text-anchor=\"start\" x=\"2137.5\" y=\"-141.8\" font-family=\"Helvetica,sans-Serif\" font-size=\"14.00\">RestingBP ≤ 147.5</text>\n<text text-anchor=\"start\" x=\"2158.5\" y=\"-126.8\" font-family=\"Helvetica,sans-Serif\" font-size=\"14.00\">gini = 0.313</text>\n<text text-anchor=\"start\" x=\"2153\" y=\"-111.8\" font-family=\"Helvetica,sans-Serif\" font-size=\"14.00\">samples = 36</text>\n<text text-anchor=\"start\" x=\"2151\" y=\"-96.8\" font-family=\"Helvetica,sans-Serif\" font-size=\"14.00\">value = [7, 29]</text>\n</g>\n<!-- 37&#45;&gt;41 -->\n<g id=\"edge41\" class=\"edge\">\n<title>37&#45;&gt;41</title>\n<path fill=\"none\" stroke=\"black\" d=\"M2069.47,-194.56C2087.58,-184.31 2107.88,-172.8 2126.75,-162.11\"/>\n<polygon fill=\"black\" stroke=\"black\" points=\"2128.62,-165.07 2135.59,-157.1 2125.17,-158.98 2128.62,-165.07\"/>\n</g>\n<!-- 39 -->\n<g id=\"node40\" class=\"node\">\n<title>39</title>\n<path fill=\"#399de5\" stroke=\"black\" d=\"M1999.5,-53C1999.5,-53 1928.5,-53 1928.5,-53 1922.5,-53 1916.5,-47 1916.5,-41 1916.5,-41 1916.5,-12 1916.5,-12 1916.5,-6 1922.5,0 1928.5,0 1928.5,0 1999.5,0 1999.5,0 2005.5,0 2011.5,-6 2011.5,-12 2011.5,-12 2011.5,-41 2011.5,-41 2011.5,-47 2005.5,-53 1999.5,-53\"/>\n<text text-anchor=\"start\" x=\"1936\" y=\"-37.8\" font-family=\"Helvetica,sans-Serif\" font-size=\"14.00\">gini = 0.0</text>\n<text text-anchor=\"start\" x=\"1926.5\" y=\"-22.8\" font-family=\"Helvetica,sans-Serif\" font-size=\"14.00\">samples = 2</text>\n<text text-anchor=\"start\" x=\"1924.5\" y=\"-7.8\" font-family=\"Helvetica,sans-Serif\" font-size=\"14.00\">value = [0, 2]</text>\n</g>\n<!-- 38&#45;&gt;39 -->\n<g id=\"edge39\" class=\"edge\">\n<title>38&#45;&gt;39</title>\n<path fill=\"none\" stroke=\"black\" d=\"M1996.51,-88.95C1991.91,-80.26 1986.94,-70.86 1982.3,-62.09\"/>\n<polygon fill=\"black\" stroke=\"black\" points=\"1985.39,-60.44 1977.62,-53.24 1979.2,-63.71 1985.39,-60.44\"/>\n</g>\n<!-- 40 -->\n<g id=\"node41\" class=\"node\">\n<title>40</title>\n<path fill=\"#e58139\" stroke=\"black\" d=\"M2112.5,-53C2112.5,-53 2041.5,-53 2041.5,-53 2035.5,-53 2029.5,-47 2029.5,-41 2029.5,-41 2029.5,-12 2029.5,-12 2029.5,-6 2035.5,0 2041.5,0 2041.5,0 2112.5,0 2112.5,0 2118.5,0 2124.5,-6 2124.5,-12 2124.5,-12 2124.5,-41 2124.5,-41 2124.5,-47 2118.5,-53 2112.5,-53\"/>\n<text text-anchor=\"start\" x=\"2049\" y=\"-37.8\" font-family=\"Helvetica,sans-Serif\" font-size=\"14.00\">gini = 0.0</text>\n<text text-anchor=\"start\" x=\"2039.5\" y=\"-22.8\" font-family=\"Helvetica,sans-Serif\" font-size=\"14.00\">samples = 4</text>\n<text text-anchor=\"start\" x=\"2037.5\" y=\"-7.8\" font-family=\"Helvetica,sans-Serif\" font-size=\"14.00\">value = [4, 0]</text>\n</g>\n<!-- 38&#45;&gt;40 -->\n<g id=\"edge40\" class=\"edge\">\n<title>38&#45;&gt;40</title>\n<path fill=\"none\" stroke=\"black\" d=\"M2036.03,-88.95C2041.89,-80.17 2048.22,-70.66 2054.12,-61.82\"/>\n<polygon fill=\"black\" stroke=\"black\" points=\"2057.21,-63.5 2059.84,-53.24 2051.38,-59.62 2057.21,-63.5\"/>\n</g>\n<!-- 42 -->\n<g id=\"node43\" class=\"node\">\n<title>42</title>\n<path fill=\"#49a5e7\" stroke=\"black\" d=\"M2233,-53C2233,-53 2155,-53 2155,-53 2149,-53 2143,-47 2143,-41 2143,-41 2143,-12 2143,-12 2143,-6 2149,0 2155,0 2155,0 2233,0 2233,0 2239,0 2245,-6 2245,-12 2245,-12 2245,-41 2245,-41 2245,-47 2239,-53 2233,-53\"/>\n<text text-anchor=\"start\" x=\"2158.5\" y=\"-37.8\" font-family=\"Helvetica,sans-Serif\" font-size=\"14.00\">gini = 0.137</text>\n<text text-anchor=\"start\" x=\"2153\" y=\"-22.8\" font-family=\"Helvetica,sans-Serif\" font-size=\"14.00\">samples = 27</text>\n<text text-anchor=\"start\" x=\"2151\" y=\"-7.8\" font-family=\"Helvetica,sans-Serif\" font-size=\"14.00\">value = [2, 25]</text>\n</g>\n<!-- 41&#45;&gt;42 -->\n<g id=\"edge42\" class=\"edge\">\n<title>41&#45;&gt;42</title>\n<path fill=\"none\" stroke=\"black\" d=\"M2194,-88.95C2194,-80.72 2194,-71.85 2194,-63.48\"/>\n<polygon fill=\"black\" stroke=\"black\" points=\"2197.5,-63.24 2194,-53.24 2190.5,-63.24 2197.5,-63.24\"/>\n</g>\n<!-- 43 -->\n<g id=\"node44\" class=\"node\">\n<title>43</title>\n<path fill=\"#fae6d7\" stroke=\"black\" d=\"M2346.5,-53C2346.5,-53 2275.5,-53 2275.5,-53 2269.5,-53 2263.5,-47 2263.5,-41 2263.5,-41 2263.5,-12 2263.5,-12 2263.5,-6 2269.5,0 2275.5,0 2275.5,0 2346.5,0 2346.5,0 2352.5,0 2358.5,-6 2358.5,-12 2358.5,-12 2358.5,-41 2358.5,-41 2358.5,-47 2352.5,-53 2346.5,-53\"/>\n<text text-anchor=\"start\" x=\"2275.5\" y=\"-37.8\" font-family=\"Helvetica,sans-Serif\" font-size=\"14.00\">gini = 0.494</text>\n<text text-anchor=\"start\" x=\"2273.5\" y=\"-22.8\" font-family=\"Helvetica,sans-Serif\" font-size=\"14.00\">samples = 9</text>\n<text text-anchor=\"start\" x=\"2271.5\" y=\"-7.8\" font-family=\"Helvetica,sans-Serif\" font-size=\"14.00\">value = [5, 4]</text>\n</g>\n<!-- 41&#45;&gt;43 -->\n<g id=\"edge43\" class=\"edge\">\n<title>41&#45;&gt;43</title>\n<path fill=\"none\" stroke=\"black\" d=\"M2234.92,-88.95C2246.7,-79.43 2259.53,-69.07 2271.24,-59.62\"/>\n<polygon fill=\"black\" stroke=\"black\" points=\"2273.56,-62.24 2279.14,-53.24 2269.16,-56.8 2273.56,-62.24\"/>\n</g>\n<!-- 45 -->\n<g id=\"node46\" class=\"node\">\n<title>45</title>\n<path fill=\"#e68844\" stroke=\"black\" d=\"M2480.5,-261C2480.5,-261 2375.5,-261 2375.5,-261 2369.5,-261 2363.5,-255 2363.5,-249 2363.5,-249 2363.5,-205 2363.5,-205 2363.5,-199 2369.5,-193 2375.5,-193 2375.5,-193 2480.5,-193 2480.5,-193 2486.5,-193 2492.5,-199 2492.5,-205 2492.5,-205 2492.5,-249 2492.5,-249 2492.5,-255 2486.5,-261 2480.5,-261\"/>\n<text text-anchor=\"start\" x=\"2371.5\" y=\"-245.8\" font-family=\"Helvetica,sans-Serif\" font-size=\"14.00\">RestingBP ≤ 191.0</text>\n<text text-anchor=\"start\" x=\"2392.5\" y=\"-230.8\" font-family=\"Helvetica,sans-Serif\" font-size=\"14.00\">gini = 0.098</text>\n<text text-anchor=\"start\" x=\"2383\" y=\"-215.8\" font-family=\"Helvetica,sans-Serif\" font-size=\"14.00\">samples = 233</text>\n<text text-anchor=\"start\" x=\"2377.5\" y=\"-200.8\" font-family=\"Helvetica,sans-Serif\" font-size=\"14.00\">value = [221, 12]</text>\n</g>\n<!-- 44&#45;&gt;45 -->\n<g id=\"edge45\" class=\"edge\">\n<title>44&#45;&gt;45</title>\n<path fill=\"none\" stroke=\"black\" d=\"M2428,-296.88C2428,-288.78 2428,-279.98 2428,-271.47\"/>\n<polygon fill=\"black\" stroke=\"black\" points=\"2431.5,-271.3 2428,-261.3 2424.5,-271.3 2431.5,-271.3\"/>\n</g>\n<!-- 50 -->\n<g id=\"node51\" class=\"node\">\n<title>50</title>\n<path fill=\"#399de5\" stroke=\"black\" d=\"M2593.5,-253.5C2593.5,-253.5 2522.5,-253.5 2522.5,-253.5 2516.5,-253.5 2510.5,-247.5 2510.5,-241.5 2510.5,-241.5 2510.5,-212.5 2510.5,-212.5 2510.5,-206.5 2516.5,-200.5 2522.5,-200.5 2522.5,-200.5 2593.5,-200.5 2593.5,-200.5 2599.5,-200.5 2605.5,-206.5 2605.5,-212.5 2605.5,-212.5 2605.5,-241.5 2605.5,-241.5 2605.5,-247.5 2599.5,-253.5 2593.5,-253.5\"/>\n<text text-anchor=\"start\" x=\"2530\" y=\"-238.3\" font-family=\"Helvetica,sans-Serif\" font-size=\"14.00\">gini = 0.0</text>\n<text text-anchor=\"start\" x=\"2520.5\" y=\"-223.3\" font-family=\"Helvetica,sans-Serif\" font-size=\"14.00\">samples = 4</text>\n<text text-anchor=\"start\" x=\"2518.5\" y=\"-208.3\" font-family=\"Helvetica,sans-Serif\" font-size=\"14.00\">value = [0, 4]</text>\n</g>\n<!-- 44&#45;&gt;50 -->\n<g id=\"edge50\" class=\"edge\">\n<title>44&#45;&gt;50</title>\n<path fill=\"none\" stroke=\"black\" d=\"M2470.21,-296.88C2485.35,-285.01 2502.37,-271.65 2517.37,-259.88\"/>\n<polygon fill=\"black\" stroke=\"black\" points=\"2519.77,-262.45 2525.47,-253.52 2515.45,-256.94 2519.77,-262.45\"/>\n</g>\n<!-- 46 -->\n<g id=\"node47\" class=\"node\">\n<title>46</title>\n<path fill=\"#e68743\" stroke=\"black\" d=\"M2483,-157C2483,-157 2373,-157 2373,-157 2367,-157 2361,-151 2361,-145 2361,-145 2361,-101 2361,-101 2361,-95 2367,-89 2373,-89 2373,-89 2483,-89 2483,-89 2489,-89 2495,-95 2495,-101 2495,-101 2495,-145 2495,-145 2495,-151 2489,-157 2483,-157\"/>\n<text text-anchor=\"start\" x=\"2369\" y=\"-141.8\" font-family=\"Helvetica,sans-Serif\" font-size=\"14.00\">Cholesterol ≤ 153.0</text>\n<text text-anchor=\"start\" x=\"2396\" y=\"-126.8\" font-family=\"Helvetica,sans-Serif\" font-size=\"14.00\">gini = 0.09</text>\n<text text-anchor=\"start\" x=\"2383\" y=\"-111.8\" font-family=\"Helvetica,sans-Serif\" font-size=\"14.00\">samples = 232</text>\n<text text-anchor=\"start\" x=\"2377.5\" y=\"-96.8\" font-family=\"Helvetica,sans-Serif\" font-size=\"14.00\">value = [221, 11]</text>\n</g>\n<!-- 45&#45;&gt;46 -->\n<g id=\"edge46\" class=\"edge\">\n<title>45&#45;&gt;46</title>\n<path fill=\"none\" stroke=\"black\" d=\"M2428,-192.88C2428,-184.78 2428,-175.98 2428,-167.47\"/>\n<polygon fill=\"black\" stroke=\"black\" points=\"2431.5,-167.3 2428,-157.3 2424.5,-167.3 2431.5,-167.3\"/>\n</g>\n<!-- 49 -->\n<g id=\"node50\" class=\"node\">\n<title>49</title>\n<path fill=\"#399de5\" stroke=\"black\" d=\"M2596.5,-149.5C2596.5,-149.5 2525.5,-149.5 2525.5,-149.5 2519.5,-149.5 2513.5,-143.5 2513.5,-137.5 2513.5,-137.5 2513.5,-108.5 2513.5,-108.5 2513.5,-102.5 2519.5,-96.5 2525.5,-96.5 2525.5,-96.5 2596.5,-96.5 2596.5,-96.5 2602.5,-96.5 2608.5,-102.5 2608.5,-108.5 2608.5,-108.5 2608.5,-137.5 2608.5,-137.5 2608.5,-143.5 2602.5,-149.5 2596.5,-149.5\"/>\n<text text-anchor=\"start\" x=\"2533\" y=\"-134.3\" font-family=\"Helvetica,sans-Serif\" font-size=\"14.00\">gini = 0.0</text>\n<text text-anchor=\"start\" x=\"2523.5\" y=\"-119.3\" font-family=\"Helvetica,sans-Serif\" font-size=\"14.00\">samples = 1</text>\n<text text-anchor=\"start\" x=\"2521.5\" y=\"-104.3\" font-family=\"Helvetica,sans-Serif\" font-size=\"14.00\">value = [0, 1]</text>\n</g>\n<!-- 45&#45;&gt;49 -->\n<g id=\"edge49\" class=\"edge\">\n<title>45&#45;&gt;49</title>\n<path fill=\"none\" stroke=\"black\" d=\"M2471.18,-192.88C2486.67,-181.01 2504.09,-167.65 2519.44,-155.88\"/>\n<polygon fill=\"black\" stroke=\"black\" points=\"2521.92,-158.38 2527.72,-149.52 2517.66,-152.83 2521.92,-158.38\"/>\n</g>\n<!-- 47 -->\n<g id=\"node48\" class=\"node\">\n<title>47</title>\n<path fill=\"#efb388\" stroke=\"black\" d=\"M2467,-53C2467,-53 2389,-53 2389,-53 2383,-53 2377,-47 2377,-41 2377,-41 2377,-12 2377,-12 2377,-6 2383,0 2389,0 2389,0 2467,0 2467,0 2473,0 2479,-6 2479,-12 2479,-12 2479,-41 2479,-41 2479,-47 2473,-53 2467,-53\"/>\n<text text-anchor=\"start\" x=\"2392.5\" y=\"-37.8\" font-family=\"Helvetica,sans-Serif\" font-size=\"14.00\">gini = 0.408</text>\n<text text-anchor=\"start\" x=\"2387\" y=\"-22.8\" font-family=\"Helvetica,sans-Serif\" font-size=\"14.00\">samples = 14</text>\n<text text-anchor=\"start\" x=\"2385\" y=\"-7.8\" font-family=\"Helvetica,sans-Serif\" font-size=\"14.00\">value = [10, 4]</text>\n</g>\n<!-- 46&#45;&gt;47 -->\n<g id=\"edge47\" class=\"edge\">\n<title>46&#45;&gt;47</title>\n<path fill=\"none\" stroke=\"black\" d=\"M2428,-88.95C2428,-80.72 2428,-71.85 2428,-63.48\"/>\n<polygon fill=\"black\" stroke=\"black\" points=\"2431.5,-63.24 2428,-53.24 2424.5,-63.24 2431.5,-63.24\"/>\n</g>\n<!-- 48 -->\n<g id=\"node49\" class=\"node\">\n<title>48</title>\n<path fill=\"#e68540\" stroke=\"black\" d=\"M2595,-53C2595,-53 2509,-53 2509,-53 2503,-53 2497,-47 2497,-41 2497,-41 2497,-12 2497,-12 2497,-6 2503,0 2509,0 2509,0 2595,0 2595,0 2601,0 2607,-6 2607,-12 2607,-12 2607,-41 2607,-41 2607,-47 2601,-53 2595,-53\"/>\n<text text-anchor=\"start\" x=\"2516.5\" y=\"-37.8\" font-family=\"Helvetica,sans-Serif\" font-size=\"14.00\">gini = 0.062</text>\n<text text-anchor=\"start\" x=\"2507\" y=\"-22.8\" font-family=\"Helvetica,sans-Serif\" font-size=\"14.00\">samples = 218</text>\n<text text-anchor=\"start\" x=\"2505\" y=\"-7.8\" font-family=\"Helvetica,sans-Serif\" font-size=\"14.00\">value = [211, 7]</text>\n</g>\n<!-- 46&#45;&gt;48 -->\n<g id=\"edge48\" class=\"edge\">\n<title>46&#45;&gt;48</title>\n<path fill=\"none\" stroke=\"black\" d=\"M2471.37,-88.95C2483.97,-79.34 2497.71,-68.87 2510.21,-59.34\"/>\n<polygon fill=\"black\" stroke=\"black\" points=\"2512.4,-62.08 2518.23,-53.24 2508.15,-56.51 2512.4,-62.08\"/>\n</g>\n</g>\n</svg>\n"
          },
          "metadata": {},
          "execution_count": 91
        }
      ]
    },
    {
      "cell_type": "markdown",
      "source": [
        "## Exercise:\n",
        "\n",
        "Choose a dataset of your choice and apply classification tree on it.\n",
        "What do you observe? Change parameters to obtain the best possible accuracy"
      ],
      "metadata": {
        "id": "wyZCzkTWpF-8"
      }
    },
    {
      "cell_type": "markdown",
      "source": [
        "### Application on Cuisines Dataset"
      ],
      "metadata": {
        "id": "hwX49hXC2oU-"
      }
    },
    {
      "cell_type": "code",
      "source": [
        "import pandas as pd\n",
        "cuisines_df = pd.read_csv(\"https://an-utd-python.s3.us-west-1.amazonaws.com/cuisines.csv\")\n",
        "cuisines_df.head()"
      ],
      "metadata": {
        "id": "crBh36AxfT-j",
        "colab": {
          "base_uri": "https://localhost:8080/",
          "height": 317
        },
        "outputId": "7d15e927-46dc-4fbb-d166-3fcbd45632d4"
      },
      "execution_count": null,
      "outputs": [
        {
          "output_type": "execute_result",
          "data": {
            "text/plain": [
              "   Unnamed: 0 cuisine  almond  angelica  anise  anise_seed  apple  \\\n",
              "0           0  indian       0         0      0           0      0   \n",
              "1           1  indian       1         0      0           0      0   \n",
              "2           2  indian       0         0      0           0      0   \n",
              "3           3  indian       0         0      0           0      0   \n",
              "4           4  indian       0         0      0           0      0   \n",
              "\n",
              "   apple_brandy  apricot  armagnac  ...  whiskey  white_bread  white_wine  \\\n",
              "0             0        0         0  ...        0            0           0   \n",
              "1             0        0         0  ...        0            0           0   \n",
              "2             0        0         0  ...        0            0           0   \n",
              "3             0        0         0  ...        0            0           0   \n",
              "4             0        0         0  ...        0            0           0   \n",
              "\n",
              "   whole_grain_wheat_flour  wine  wood  yam  yeast  yogurt  zucchini  \n",
              "0                        0     0     0    0      0       0         0  \n",
              "1                        0     0     0    0      0       0         0  \n",
              "2                        0     0     0    0      0       0         0  \n",
              "3                        0     0     0    0      0       0         0  \n",
              "4                        0     0     0    0      0       1         0  \n",
              "\n",
              "[5 rows x 382 columns]"
            ],
            "text/html": [
              "\n",
              "  <div id=\"df-624d0d75-6fef-4550-9733-60d0fe3edaf2\">\n",
              "    <div class=\"colab-df-container\">\n",
              "      <div>\n",
              "<style scoped>\n",
              "    .dataframe tbody tr th:only-of-type {\n",
              "        vertical-align: middle;\n",
              "    }\n",
              "\n",
              "    .dataframe tbody tr th {\n",
              "        vertical-align: top;\n",
              "    }\n",
              "\n",
              "    .dataframe thead th {\n",
              "        text-align: right;\n",
              "    }\n",
              "</style>\n",
              "<table border=\"1\" class=\"dataframe\">\n",
              "  <thead>\n",
              "    <tr style=\"text-align: right;\">\n",
              "      <th></th>\n",
              "      <th>Unnamed: 0</th>\n",
              "      <th>cuisine</th>\n",
              "      <th>almond</th>\n",
              "      <th>angelica</th>\n",
              "      <th>anise</th>\n",
              "      <th>anise_seed</th>\n",
              "      <th>apple</th>\n",
              "      <th>apple_brandy</th>\n",
              "      <th>apricot</th>\n",
              "      <th>armagnac</th>\n",
              "      <th>...</th>\n",
              "      <th>whiskey</th>\n",
              "      <th>white_bread</th>\n",
              "      <th>white_wine</th>\n",
              "      <th>whole_grain_wheat_flour</th>\n",
              "      <th>wine</th>\n",
              "      <th>wood</th>\n",
              "      <th>yam</th>\n",
              "      <th>yeast</th>\n",
              "      <th>yogurt</th>\n",
              "      <th>zucchini</th>\n",
              "    </tr>\n",
              "  </thead>\n",
              "  <tbody>\n",
              "    <tr>\n",
              "      <th>0</th>\n",
              "      <td>0</td>\n",
              "      <td>indian</td>\n",
              "      <td>0</td>\n",
              "      <td>0</td>\n",
              "      <td>0</td>\n",
              "      <td>0</td>\n",
              "      <td>0</td>\n",
              "      <td>0</td>\n",
              "      <td>0</td>\n",
              "      <td>0</td>\n",
              "      <td>...</td>\n",
              "      <td>0</td>\n",
              "      <td>0</td>\n",
              "      <td>0</td>\n",
              "      <td>0</td>\n",
              "      <td>0</td>\n",
              "      <td>0</td>\n",
              "      <td>0</td>\n",
              "      <td>0</td>\n",
              "      <td>0</td>\n",
              "      <td>0</td>\n",
              "    </tr>\n",
              "    <tr>\n",
              "      <th>1</th>\n",
              "      <td>1</td>\n",
              "      <td>indian</td>\n",
              "      <td>1</td>\n",
              "      <td>0</td>\n",
              "      <td>0</td>\n",
              "      <td>0</td>\n",
              "      <td>0</td>\n",
              "      <td>0</td>\n",
              "      <td>0</td>\n",
              "      <td>0</td>\n",
              "      <td>...</td>\n",
              "      <td>0</td>\n",
              "      <td>0</td>\n",
              "      <td>0</td>\n",
              "      <td>0</td>\n",
              "      <td>0</td>\n",
              "      <td>0</td>\n",
              "      <td>0</td>\n",
              "      <td>0</td>\n",
              "      <td>0</td>\n",
              "      <td>0</td>\n",
              "    </tr>\n",
              "    <tr>\n",
              "      <th>2</th>\n",
              "      <td>2</td>\n",
              "      <td>indian</td>\n",
              "      <td>0</td>\n",
              "      <td>0</td>\n",
              "      <td>0</td>\n",
              "      <td>0</td>\n",
              "      <td>0</td>\n",
              "      <td>0</td>\n",
              "      <td>0</td>\n",
              "      <td>0</td>\n",
              "      <td>...</td>\n",
              "      <td>0</td>\n",
              "      <td>0</td>\n",
              "      <td>0</td>\n",
              "      <td>0</td>\n",
              "      <td>0</td>\n",
              "      <td>0</td>\n",
              "      <td>0</td>\n",
              "      <td>0</td>\n",
              "      <td>0</td>\n",
              "      <td>0</td>\n",
              "    </tr>\n",
              "    <tr>\n",
              "      <th>3</th>\n",
              "      <td>3</td>\n",
              "      <td>indian</td>\n",
              "      <td>0</td>\n",
              "      <td>0</td>\n",
              "      <td>0</td>\n",
              "      <td>0</td>\n",
              "      <td>0</td>\n",
              "      <td>0</td>\n",
              "      <td>0</td>\n",
              "      <td>0</td>\n",
              "      <td>...</td>\n",
              "      <td>0</td>\n",
              "      <td>0</td>\n",
              "      <td>0</td>\n",
              "      <td>0</td>\n",
              "      <td>0</td>\n",
              "      <td>0</td>\n",
              "      <td>0</td>\n",
              "      <td>0</td>\n",
              "      <td>0</td>\n",
              "      <td>0</td>\n",
              "    </tr>\n",
              "    <tr>\n",
              "      <th>4</th>\n",
              "      <td>4</td>\n",
              "      <td>indian</td>\n",
              "      <td>0</td>\n",
              "      <td>0</td>\n",
              "      <td>0</td>\n",
              "      <td>0</td>\n",
              "      <td>0</td>\n",
              "      <td>0</td>\n",
              "      <td>0</td>\n",
              "      <td>0</td>\n",
              "      <td>...</td>\n",
              "      <td>0</td>\n",
              "      <td>0</td>\n",
              "      <td>0</td>\n",
              "      <td>0</td>\n",
              "      <td>0</td>\n",
              "      <td>0</td>\n",
              "      <td>0</td>\n",
              "      <td>0</td>\n",
              "      <td>1</td>\n",
              "      <td>0</td>\n",
              "    </tr>\n",
              "  </tbody>\n",
              "</table>\n",
              "<p>5 rows × 382 columns</p>\n",
              "</div>\n",
              "      <button class=\"colab-df-convert\" onclick=\"convertToInteractive('df-624d0d75-6fef-4550-9733-60d0fe3edaf2')\"\n",
              "              title=\"Convert this dataframe to an interactive table.\"\n",
              "              style=\"display:none;\">\n",
              "        \n",
              "  <svg xmlns=\"http://www.w3.org/2000/svg\" height=\"24px\"viewBox=\"0 0 24 24\"\n",
              "       width=\"24px\">\n",
              "    <path d=\"M0 0h24v24H0V0z\" fill=\"none\"/>\n",
              "    <path d=\"M18.56 5.44l.94 2.06.94-2.06 2.06-.94-2.06-.94-.94-2.06-.94 2.06-2.06.94zm-11 1L8.5 8.5l.94-2.06 2.06-.94-2.06-.94L8.5 2.5l-.94 2.06-2.06.94zm10 10l.94 2.06.94-2.06 2.06-.94-2.06-.94-.94-2.06-.94 2.06-2.06.94z\"/><path d=\"M17.41 7.96l-1.37-1.37c-.4-.4-.92-.59-1.43-.59-.52 0-1.04.2-1.43.59L10.3 9.45l-7.72 7.72c-.78.78-.78 2.05 0 2.83L4 21.41c.39.39.9.59 1.41.59.51 0 1.02-.2 1.41-.59l7.78-7.78 2.81-2.81c.8-.78.8-2.07 0-2.86zM5.41 20L4 18.59l7.72-7.72 1.47 1.35L5.41 20z\"/>\n",
              "  </svg>\n",
              "      </button>\n",
              "      \n",
              "  <style>\n",
              "    .colab-df-container {\n",
              "      display:flex;\n",
              "      flex-wrap:wrap;\n",
              "      gap: 12px;\n",
              "    }\n",
              "\n",
              "    .colab-df-convert {\n",
              "      background-color: #E8F0FE;\n",
              "      border: none;\n",
              "      border-radius: 50%;\n",
              "      cursor: pointer;\n",
              "      display: none;\n",
              "      fill: #1967D2;\n",
              "      height: 32px;\n",
              "      padding: 0 0 0 0;\n",
              "      width: 32px;\n",
              "    }\n",
              "\n",
              "    .colab-df-convert:hover {\n",
              "      background-color: #E2EBFA;\n",
              "      box-shadow: 0px 1px 2px rgba(60, 64, 67, 0.3), 0px 1px 3px 1px rgba(60, 64, 67, 0.15);\n",
              "      fill: #174EA6;\n",
              "    }\n",
              "\n",
              "    [theme=dark] .colab-df-convert {\n",
              "      background-color: #3B4455;\n",
              "      fill: #D2E3FC;\n",
              "    }\n",
              "\n",
              "    [theme=dark] .colab-df-convert:hover {\n",
              "      background-color: #434B5C;\n",
              "      box-shadow: 0px 1px 3px 1px rgba(0, 0, 0, 0.15);\n",
              "      filter: drop-shadow(0px 1px 2px rgba(0, 0, 0, 0.3));\n",
              "      fill: #FFFFFF;\n",
              "    }\n",
              "  </style>\n",
              "\n",
              "      <script>\n",
              "        const buttonEl =\n",
              "          document.querySelector('#df-624d0d75-6fef-4550-9733-60d0fe3edaf2 button.colab-df-convert');\n",
              "        buttonEl.style.display =\n",
              "          google.colab.kernel.accessAllowed ? 'block' : 'none';\n",
              "\n",
              "        async function convertToInteractive(key) {\n",
              "          const element = document.querySelector('#df-624d0d75-6fef-4550-9733-60d0fe3edaf2');\n",
              "          const dataTable =\n",
              "            await google.colab.kernel.invokeFunction('convertToInteractive',\n",
              "                                                     [key], {});\n",
              "          if (!dataTable) return;\n",
              "\n",
              "          const docLinkHtml = 'Like what you see? Visit the ' +\n",
              "            '<a target=\"_blank\" href=https://colab.research.google.com/notebooks/data_table.ipynb>data table notebook</a>'\n",
              "            + ' to learn more about interactive tables.';\n",
              "          element.innerHTML = '';\n",
              "          dataTable['output_type'] = 'display_data';\n",
              "          await google.colab.output.renderOutput(dataTable, element);\n",
              "          const docLink = document.createElement('div');\n",
              "          docLink.innerHTML = docLinkHtml;\n",
              "          element.appendChild(docLink);\n",
              "        }\n",
              "      </script>\n",
              "    </div>\n",
              "  </div>\n",
              "  "
            ]
          },
          "metadata": {},
          "execution_count": 47
        }
      ]
    },
    {
      "cell_type": "code",
      "source": [
        "cuisines_label_df = cuisines_df['cuisine']\n",
        "cuisines_label_df.head()"
      ],
      "metadata": {
        "colab": {
          "base_uri": "https://localhost:8080/"
        },
        "id": "BWtwh2C82-Sm",
        "outputId": "2d70fd69-c3e5-4d4e-8b23-469cba9c555e"
      },
      "execution_count": null,
      "outputs": [
        {
          "output_type": "execute_result",
          "data": {
            "text/plain": [
              "0    indian\n",
              "1    indian\n",
              "2    indian\n",
              "3    indian\n",
              "4    indian\n",
              "Name: cuisine, dtype: object"
            ]
          },
          "metadata": {},
          "execution_count": 48
        }
      ]
    },
    {
      "cell_type": "code",
      "source": [
        "cuisines_label_df.value_counts()"
      ],
      "metadata": {
        "colab": {
          "base_uri": "https://localhost:8080/"
        },
        "id": "WcnvKa3D3wcg",
        "outputId": "aae7e1fd-1cfe-4c73-9aa6-7c7437592427"
      },
      "execution_count": null,
      "outputs": [
        {
          "output_type": "execute_result",
          "data": {
            "text/plain": [
              "indian      799\n",
              "thai        799\n",
              "chinese     799\n",
              "japanese    799\n",
              "korean      799\n",
              "Name: cuisine, dtype: int64"
            ]
          },
          "metadata": {},
          "execution_count": 49
        }
      ]
    },
    {
      "cell_type": "code",
      "source": [
        "type(cuisines_label_df)"
      ],
      "metadata": {
        "colab": {
          "base_uri": "https://localhost:8080/"
        },
        "id": "dSav2CAO5OB_",
        "outputId": "eb7d28b6-254f-4788-f9ad-b9d470a0fbb1"
      },
      "execution_count": null,
      "outputs": [
        {
          "output_type": "execute_result",
          "data": {
            "text/plain": [
              "pandas.core.series.Series"
            ]
          },
          "metadata": {},
          "execution_count": 50
        }
      ]
    },
    {
      "cell_type": "code",
      "source": [
        "cuisine_labels_distinct = cuisines_label_df.unique()"
      ],
      "metadata": {
        "id": "OBDjJJIX4rRC"
      },
      "execution_count": null,
      "outputs": []
    },
    {
      "cell_type": "code",
      "source": [
        "cuisine_labels_distinct"
      ],
      "metadata": {
        "colab": {
          "base_uri": "https://localhost:8080/"
        },
        "id": "FEFS3eqM47ly",
        "outputId": "6659437c-27c7-443f-e909-33ac6692cadb"
      },
      "execution_count": null,
      "outputs": [
        {
          "output_type": "execute_result",
          "data": {
            "text/plain": [
              "array(['indian', 'thai', 'chinese', 'japanese', 'korean'], dtype=object)"
            ]
          },
          "metadata": {},
          "execution_count": 52
        }
      ]
    },
    {
      "cell_type": "code",
      "source": [
        "cuisines_feature_df = cuisines_df.drop(['Unnamed: 0', 'cuisine'], axis=1)\n",
        "cuisines_feature_df.head()"
      ],
      "metadata": {
        "colab": {
          "base_uri": "https://localhost:8080/",
          "height": 300
        },
        "id": "soUQ01EQ3Cv8",
        "outputId": "8df55e46-5c6a-4c5d-a6b2-e52b743d4d8d"
      },
      "execution_count": null,
      "outputs": [
        {
          "output_type": "execute_result",
          "data": {
            "text/plain": [
              "   almond  angelica  anise  anise_seed  apple  apple_brandy  apricot  \\\n",
              "0       0         0      0           0      0             0        0   \n",
              "1       1         0      0           0      0             0        0   \n",
              "2       0         0      0           0      0             0        0   \n",
              "3       0         0      0           0      0             0        0   \n",
              "4       0         0      0           0      0             0        0   \n",
              "\n",
              "   armagnac  artemisia  artichoke  ...  whiskey  white_bread  white_wine  \\\n",
              "0         0          0          0  ...        0            0           0   \n",
              "1         0          0          0  ...        0            0           0   \n",
              "2         0          0          0  ...        0            0           0   \n",
              "3         0          0          0  ...        0            0           0   \n",
              "4         0          0          0  ...        0            0           0   \n",
              "\n",
              "   whole_grain_wheat_flour  wine  wood  yam  yeast  yogurt  zucchini  \n",
              "0                        0     0     0    0      0       0         0  \n",
              "1                        0     0     0    0      0       0         0  \n",
              "2                        0     0     0    0      0       0         0  \n",
              "3                        0     0     0    0      0       0         0  \n",
              "4                        0     0     0    0      0       1         0  \n",
              "\n",
              "[5 rows x 380 columns]"
            ],
            "text/html": [
              "\n",
              "  <div id=\"df-eba4e992-7be0-4678-8146-4b15d4c9fae5\">\n",
              "    <div class=\"colab-df-container\">\n",
              "      <div>\n",
              "<style scoped>\n",
              "    .dataframe tbody tr th:only-of-type {\n",
              "        vertical-align: middle;\n",
              "    }\n",
              "\n",
              "    .dataframe tbody tr th {\n",
              "        vertical-align: top;\n",
              "    }\n",
              "\n",
              "    .dataframe thead th {\n",
              "        text-align: right;\n",
              "    }\n",
              "</style>\n",
              "<table border=\"1\" class=\"dataframe\">\n",
              "  <thead>\n",
              "    <tr style=\"text-align: right;\">\n",
              "      <th></th>\n",
              "      <th>almond</th>\n",
              "      <th>angelica</th>\n",
              "      <th>anise</th>\n",
              "      <th>anise_seed</th>\n",
              "      <th>apple</th>\n",
              "      <th>apple_brandy</th>\n",
              "      <th>apricot</th>\n",
              "      <th>armagnac</th>\n",
              "      <th>artemisia</th>\n",
              "      <th>artichoke</th>\n",
              "      <th>...</th>\n",
              "      <th>whiskey</th>\n",
              "      <th>white_bread</th>\n",
              "      <th>white_wine</th>\n",
              "      <th>whole_grain_wheat_flour</th>\n",
              "      <th>wine</th>\n",
              "      <th>wood</th>\n",
              "      <th>yam</th>\n",
              "      <th>yeast</th>\n",
              "      <th>yogurt</th>\n",
              "      <th>zucchini</th>\n",
              "    </tr>\n",
              "  </thead>\n",
              "  <tbody>\n",
              "    <tr>\n",
              "      <th>0</th>\n",
              "      <td>0</td>\n",
              "      <td>0</td>\n",
              "      <td>0</td>\n",
              "      <td>0</td>\n",
              "      <td>0</td>\n",
              "      <td>0</td>\n",
              "      <td>0</td>\n",
              "      <td>0</td>\n",
              "      <td>0</td>\n",
              "      <td>0</td>\n",
              "      <td>...</td>\n",
              "      <td>0</td>\n",
              "      <td>0</td>\n",
              "      <td>0</td>\n",
              "      <td>0</td>\n",
              "      <td>0</td>\n",
              "      <td>0</td>\n",
              "      <td>0</td>\n",
              "      <td>0</td>\n",
              "      <td>0</td>\n",
              "      <td>0</td>\n",
              "    </tr>\n",
              "    <tr>\n",
              "      <th>1</th>\n",
              "      <td>1</td>\n",
              "      <td>0</td>\n",
              "      <td>0</td>\n",
              "      <td>0</td>\n",
              "      <td>0</td>\n",
              "      <td>0</td>\n",
              "      <td>0</td>\n",
              "      <td>0</td>\n",
              "      <td>0</td>\n",
              "      <td>0</td>\n",
              "      <td>...</td>\n",
              "      <td>0</td>\n",
              "      <td>0</td>\n",
              "      <td>0</td>\n",
              "      <td>0</td>\n",
              "      <td>0</td>\n",
              "      <td>0</td>\n",
              "      <td>0</td>\n",
              "      <td>0</td>\n",
              "      <td>0</td>\n",
              "      <td>0</td>\n",
              "    </tr>\n",
              "    <tr>\n",
              "      <th>2</th>\n",
              "      <td>0</td>\n",
              "      <td>0</td>\n",
              "      <td>0</td>\n",
              "      <td>0</td>\n",
              "      <td>0</td>\n",
              "      <td>0</td>\n",
              "      <td>0</td>\n",
              "      <td>0</td>\n",
              "      <td>0</td>\n",
              "      <td>0</td>\n",
              "      <td>...</td>\n",
              "      <td>0</td>\n",
              "      <td>0</td>\n",
              "      <td>0</td>\n",
              "      <td>0</td>\n",
              "      <td>0</td>\n",
              "      <td>0</td>\n",
              "      <td>0</td>\n",
              "      <td>0</td>\n",
              "      <td>0</td>\n",
              "      <td>0</td>\n",
              "    </tr>\n",
              "    <tr>\n",
              "      <th>3</th>\n",
              "      <td>0</td>\n",
              "      <td>0</td>\n",
              "      <td>0</td>\n",
              "      <td>0</td>\n",
              "      <td>0</td>\n",
              "      <td>0</td>\n",
              "      <td>0</td>\n",
              "      <td>0</td>\n",
              "      <td>0</td>\n",
              "      <td>0</td>\n",
              "      <td>...</td>\n",
              "      <td>0</td>\n",
              "      <td>0</td>\n",
              "      <td>0</td>\n",
              "      <td>0</td>\n",
              "      <td>0</td>\n",
              "      <td>0</td>\n",
              "      <td>0</td>\n",
              "      <td>0</td>\n",
              "      <td>0</td>\n",
              "      <td>0</td>\n",
              "    </tr>\n",
              "    <tr>\n",
              "      <th>4</th>\n",
              "      <td>0</td>\n",
              "      <td>0</td>\n",
              "      <td>0</td>\n",
              "      <td>0</td>\n",
              "      <td>0</td>\n",
              "      <td>0</td>\n",
              "      <td>0</td>\n",
              "      <td>0</td>\n",
              "      <td>0</td>\n",
              "      <td>0</td>\n",
              "      <td>...</td>\n",
              "      <td>0</td>\n",
              "      <td>0</td>\n",
              "      <td>0</td>\n",
              "      <td>0</td>\n",
              "      <td>0</td>\n",
              "      <td>0</td>\n",
              "      <td>0</td>\n",
              "      <td>0</td>\n",
              "      <td>1</td>\n",
              "      <td>0</td>\n",
              "    </tr>\n",
              "  </tbody>\n",
              "</table>\n",
              "<p>5 rows × 380 columns</p>\n",
              "</div>\n",
              "      <button class=\"colab-df-convert\" onclick=\"convertToInteractive('df-eba4e992-7be0-4678-8146-4b15d4c9fae5')\"\n",
              "              title=\"Convert this dataframe to an interactive table.\"\n",
              "              style=\"display:none;\">\n",
              "        \n",
              "  <svg xmlns=\"http://www.w3.org/2000/svg\" height=\"24px\"viewBox=\"0 0 24 24\"\n",
              "       width=\"24px\">\n",
              "    <path d=\"M0 0h24v24H0V0z\" fill=\"none\"/>\n",
              "    <path d=\"M18.56 5.44l.94 2.06.94-2.06 2.06-.94-2.06-.94-.94-2.06-.94 2.06-2.06.94zm-11 1L8.5 8.5l.94-2.06 2.06-.94-2.06-.94L8.5 2.5l-.94 2.06-2.06.94zm10 10l.94 2.06.94-2.06 2.06-.94-2.06-.94-.94-2.06-.94 2.06-2.06.94z\"/><path d=\"M17.41 7.96l-1.37-1.37c-.4-.4-.92-.59-1.43-.59-.52 0-1.04.2-1.43.59L10.3 9.45l-7.72 7.72c-.78.78-.78 2.05 0 2.83L4 21.41c.39.39.9.59 1.41.59.51 0 1.02-.2 1.41-.59l7.78-7.78 2.81-2.81c.8-.78.8-2.07 0-2.86zM5.41 20L4 18.59l7.72-7.72 1.47 1.35L5.41 20z\"/>\n",
              "  </svg>\n",
              "      </button>\n",
              "      \n",
              "  <style>\n",
              "    .colab-df-container {\n",
              "      display:flex;\n",
              "      flex-wrap:wrap;\n",
              "      gap: 12px;\n",
              "    }\n",
              "\n",
              "    .colab-df-convert {\n",
              "      background-color: #E8F0FE;\n",
              "      border: none;\n",
              "      border-radius: 50%;\n",
              "      cursor: pointer;\n",
              "      display: none;\n",
              "      fill: #1967D2;\n",
              "      height: 32px;\n",
              "      padding: 0 0 0 0;\n",
              "      width: 32px;\n",
              "    }\n",
              "\n",
              "    .colab-df-convert:hover {\n",
              "      background-color: #E2EBFA;\n",
              "      box-shadow: 0px 1px 2px rgba(60, 64, 67, 0.3), 0px 1px 3px 1px rgba(60, 64, 67, 0.15);\n",
              "      fill: #174EA6;\n",
              "    }\n",
              "\n",
              "    [theme=dark] .colab-df-convert {\n",
              "      background-color: #3B4455;\n",
              "      fill: #D2E3FC;\n",
              "    }\n",
              "\n",
              "    [theme=dark] .colab-df-convert:hover {\n",
              "      background-color: #434B5C;\n",
              "      box-shadow: 0px 1px 3px 1px rgba(0, 0, 0, 0.15);\n",
              "      filter: drop-shadow(0px 1px 2px rgba(0, 0, 0, 0.3));\n",
              "      fill: #FFFFFF;\n",
              "    }\n",
              "  </style>\n",
              "\n",
              "      <script>\n",
              "        const buttonEl =\n",
              "          document.querySelector('#df-eba4e992-7be0-4678-8146-4b15d4c9fae5 button.colab-df-convert');\n",
              "        buttonEl.style.display =\n",
              "          google.colab.kernel.accessAllowed ? 'block' : 'none';\n",
              "\n",
              "        async function convertToInteractive(key) {\n",
              "          const element = document.querySelector('#df-eba4e992-7be0-4678-8146-4b15d4c9fae5');\n",
              "          const dataTable =\n",
              "            await google.colab.kernel.invokeFunction('convertToInteractive',\n",
              "                                                     [key], {});\n",
              "          if (!dataTable) return;\n",
              "\n",
              "          const docLinkHtml = 'Like what you see? Visit the ' +\n",
              "            '<a target=\"_blank\" href=https://colab.research.google.com/notebooks/data_table.ipynb>data table notebook</a>'\n",
              "            + ' to learn more about interactive tables.';\n",
              "          element.innerHTML = '';\n",
              "          dataTable['output_type'] = 'display_data';\n",
              "          await google.colab.output.renderOutput(dataTable, element);\n",
              "          const docLink = document.createElement('div');\n",
              "          docLink.innerHTML = docLinkHtml;\n",
              "          element.appendChild(docLink);\n",
              "        }\n",
              "      </script>\n",
              "    </div>\n",
              "  </div>\n",
              "  "
            ]
          },
          "metadata": {},
          "execution_count": 53
        }
      ]
    },
    {
      "cell_type": "code",
      "source": [
        "from sklearn.tree import DecisionTreeClassifier\n",
        "from sklearn.ensemble import RandomForestClassifier, AdaBoostClassifier\n",
        "from sklearn.model_selection import train_test_split, cross_val_score\n",
        "from sklearn.metrics import accuracy_score,precision_score,confusion_matrix,classification_report, precision_recall_curve\n",
        "import numpy as np\n",
        "\n",
        "X_train, X_test, y_train, y_test = train_test_split(cuisines_feature_df, cuisines_label_df, test_size=0.3)"
      ],
      "metadata": {
        "id": "HZKDS-UM3NN_"
      },
      "execution_count": null,
      "outputs": []
    },
    {
      "cell_type": "code",
      "source": [
        "from matplotlib.pyplot import figure\n",
        "\n",
        "figure(figsize=(12, 12), dpi=80)\n",
        "from sklearn import tree\n",
        "clf = tree.DecisionTreeClassifier(max_depth = 5)\n",
        "clf = clf.fit(X_train, y_train)\n",
        "tree.plot_tree(clf)"
      ],
      "metadata": {
        "colab": {
          "base_uri": "https://localhost:8080/",
          "height": 1000
        },
        "id": "2Pvn3_qA3TG5",
        "outputId": "992eaa61-8836-4a97-c859-f05f176ac28c"
      },
      "execution_count": null,
      "outputs": [
        {
          "output_type": "execute_result",
          "data": {
            "text/plain": [
              "[Text(0.4973958333333333, 0.9166666666666666, 'X[112] <= 0.5\\ngini = 0.8\\nsamples = 2796\\nvalue = [537, 566, 565, 559, 569]'),\n",
              " Text(0.2916666666666667, 0.75, 'X[290] <= 0.5\\ngini = 0.786\\nsamples = 2311\\nvalue = [534, 236, 563, 557, 421]'),\n",
              " Text(0.16666666666666666, 0.5833333333333334, 'X[185] <= 0.5\\ngini = 0.786\\nsamples = 2144\\nvalue = [530, 236, 561, 397, 420]'),\n",
              " Text(0.08333333333333333, 0.4166666666666667, 'X[334] <= 0.5\\ngini = 0.78\\nsamples = 2000\\nvalue = [526, 224, 551, 397, 302]'),\n",
              " Text(0.041666666666666664, 0.25, 'X[68] <= 0.5\\ngini = 0.783\\nsamples = 1787\\nvalue = [368, 223, 538, 366, 292]'),\n",
              " Text(0.020833333333333332, 0.08333333333333333, 'gini = 0.753\\nsamples = 1371\\nvalue = [310, 142, 518, 196, 205]'),\n",
              " Text(0.0625, 0.08333333333333333, 'gini = 0.73\\nsamples = 416\\nvalue = [58, 81, 20, 170, 87]'),\n",
              " Text(0.125, 0.25, 'X[95] <= 0.5\\ngini = 0.423\\nsamples = 213\\nvalue = [158, 1, 13, 31, 10]'),\n",
              " Text(0.10416666666666667, 0.08333333333333333, 'gini = 0.391\\nsamples = 207\\nvalue = [158, 1, 13, 31, 4]'),\n",
              " Text(0.14583333333333334, 0.08333333333333333, 'gini = 0.0\\nsamples = 6\\nvalue = [0, 0, 0, 0, 6]'),\n",
              " Text(0.25, 0.4166666666666667, 'X[129] <= 0.5\\ngini = 0.316\\nsamples = 144\\nvalue = [4, 12, 10, 0, 118]'),\n",
              " Text(0.20833333333333334, 0.25, 'X[308] <= 0.5\\ngini = 0.677\\nsamples = 42\\nvalue = [4, 12, 7, 0, 19]'),\n",
              " Text(0.1875, 0.08333333333333333, 'gini = 0.712\\nsamples = 35\\nvalue = [4, 12, 7, 0, 12]'),\n",
              " Text(0.22916666666666666, 0.08333333333333333, 'gini = 0.0\\nsamples = 7\\nvalue = [0, 0, 0, 0, 7]'),\n",
              " Text(0.2916666666666667, 0.25, 'X[302] <= 0.5\\ngini = 0.057\\nsamples = 102\\nvalue = [0, 0, 3, 0, 99]'),\n",
              " Text(0.2708333333333333, 0.08333333333333333, 'gini = 0.039\\nsamples = 101\\nvalue = [0, 0, 2, 0, 99]'),\n",
              " Text(0.3125, 0.08333333333333333, 'gini = 0.0\\nsamples = 1\\nvalue = [0, 0, 1, 0, 0]'),\n",
              " Text(0.4166666666666667, 0.5833333333333334, 'X[236] <= 0.5\\ngini = 0.081\\nsamples = 167\\nvalue = [4, 0, 2, 160, 1]'),\n",
              " Text(0.3958333333333333, 0.4166666666666667, 'X[81] <= 0.5\\ngini = 0.07\\nsamples = 166\\nvalue = [4, 0, 2, 160, 0]'),\n",
              " Text(0.375, 0.25, 'X[246] <= 0.5\\ngini = 0.059\\nsamples = 165\\nvalue = [3, 0, 2, 160, 0]'),\n",
              " Text(0.3541666666666667, 0.08333333333333333, 'gini = 0.048\\nsamples = 164\\nvalue = [2, 0, 2, 160, 0]'),\n",
              " Text(0.3958333333333333, 0.08333333333333333, 'gini = 0.0\\nsamples = 1\\nvalue = [1, 0, 0, 0, 0]'),\n",
              " Text(0.4166666666666667, 0.25, 'gini = 0.0\\nsamples = 1\\nvalue = [1, 0, 0, 0, 0]'),\n",
              " Text(0.4375, 0.4166666666666667, 'gini = 0.0\\nsamples = 1\\nvalue = [0, 0, 0, 0, 1]'),\n",
              " Text(0.703125, 0.75, 'X[95] <= 0.5\\ngini = 0.444\\nsamples = 485\\nvalue = [3, 330, 2, 2, 148]'),\n",
              " Text(0.5729166666666666, 0.5833333333333334, 'X[129] <= 0.5\\ngini = 0.186\\nsamples = 314\\nvalue = [3, 282, 1, 2, 26]'),\n",
              " Text(0.5, 0.4166666666666667, 'X[327] <= 0.5\\ngini = 0.132\\nsamples = 301\\nvalue = [3, 280, 1, 1, 16]'),\n",
              " Text(0.4583333333333333, 0.25, 'X[202] <= 0.5\\ngini = 0.087\\nsamples = 287\\nvalue = [0, 274, 1, 1, 11]'),\n",
              " Text(0.4375, 0.08333333333333333, 'gini = 0.075\\nsamples = 285\\nvalue = [0, 274, 1, 1, 9]'),\n",
              " Text(0.4791666666666667, 0.08333333333333333, 'gini = 0.0\\nsamples = 2\\nvalue = [0, 0, 0, 0, 2]'),\n",
              " Text(0.5416666666666666, 0.25, 'X[81] <= 0.5\\ngini = 0.643\\nsamples = 14\\nvalue = [3, 6, 0, 0, 5]'),\n",
              " Text(0.5208333333333334, 0.08333333333333333, 'gini = 0.48\\nsamples = 10\\nvalue = [0, 6, 0, 0, 4]'),\n",
              " Text(0.5625, 0.08333333333333333, 'gini = 0.375\\nsamples = 4\\nvalue = [3, 0, 0, 0, 1]'),\n",
              " Text(0.6458333333333334, 0.4166666666666667, 'X[111] <= 0.5\\ngini = 0.379\\nsamples = 13\\nvalue = [0, 2, 0, 1, 10]'),\n",
              " Text(0.625, 0.25, 'X[360] <= 0.5\\ngini = 0.165\\nsamples = 11\\nvalue = [0, 0, 0, 1, 10]'),\n",
              " Text(0.6041666666666666, 0.08333333333333333, 'gini = 0.0\\nsamples = 10\\nvalue = [0, 0, 0, 0, 10]'),\n",
              " Text(0.6458333333333334, 0.08333333333333333, 'gini = 0.0\\nsamples = 1\\nvalue = [0, 0, 0, 1, 0]'),\n",
              " Text(0.6666666666666666, 0.25, 'gini = 0.0\\nsamples = 2\\nvalue = [0, 2, 0, 0, 0]'),\n",
              " Text(0.8333333333333334, 0.5833333333333334, 'X[68] <= 0.5\\ngini = 0.412\\nsamples = 171\\nvalue = [0, 48, 1, 0, 122]'),\n",
              " Text(0.75, 0.4166666666666667, 'X[328] <= 0.5\\ngini = 0.245\\nsamples = 126\\nvalue = [0, 18, 0, 0, 108]'),\n",
              " Text(0.7083333333333334, 0.25, 'X[89] <= 0.5\\ngini = 0.216\\nsamples = 122\\nvalue = [0, 15, 0, 0, 107]'),\n",
              " Text(0.6875, 0.08333333333333333, 'gini = 0.193\\nsamples = 120\\nvalue = [0, 13, 0, 0, 107]'),\n",
              " Text(0.7291666666666666, 0.08333333333333333, 'gini = 0.0\\nsamples = 2\\nvalue = [0, 2, 0, 0, 0]'),\n",
              " Text(0.7916666666666666, 0.25, 'X[178] <= 0.5\\ngini = 0.375\\nsamples = 4\\nvalue = [0, 3, 0, 0, 1]'),\n",
              " Text(0.7708333333333334, 0.08333333333333333, 'gini = 0.0\\nsamples = 3\\nvalue = [0, 3, 0, 0, 0]'),\n",
              " Text(0.8125, 0.08333333333333333, 'gini = 0.0\\nsamples = 1\\nvalue = [0, 0, 0, 0, 1]'),\n",
              " Text(0.9166666666666666, 0.4166666666666667, 'X[129] <= 0.5\\ngini = 0.458\\nsamples = 45\\nvalue = [0, 30, 1, 0, 14]'),\n",
              " Text(0.875, 0.25, 'X[27] <= 0.5\\ngini = 0.17\\nsamples = 32\\nvalue = [0, 29, 0, 0, 3]'),\n",
              " Text(0.8541666666666666, 0.08333333333333333, 'gini = 0.064\\nsamples = 30\\nvalue = [0, 29, 0, 0, 1]'),\n",
              " Text(0.8958333333333334, 0.08333333333333333, 'gini = 0.0\\nsamples = 2\\nvalue = [0, 0, 0, 0, 2]'),\n",
              " Text(0.9583333333333334, 0.25, 'X[119] <= 0.5\\ngini = 0.272\\nsamples = 13\\nvalue = [0, 1, 1, 0, 11]'),\n",
              " Text(0.9375, 0.08333333333333333, 'gini = 0.153\\nsamples = 12\\nvalue = [0, 0, 1, 0, 11]'),\n",
              " Text(0.9791666666666666, 0.08333333333333333, 'gini = 0.0\\nsamples = 1\\nvalue = [0, 1, 0, 0, 0]')]"
            ]
          },
          "metadata": {},
          "execution_count": 55
        },
        {
          "output_type": "display_data",
          "data": {
            "text/plain": [
              "<Figure size 960x960 with 1 Axes>"
            ],
            "image/png": "[encoded data removed]"
          },
          "metadata": {
            "needs_background": "light"
          }
        }
      ]
    },
    {
      "cell_type": "code",
      "source": [
        "import graphviz \n",
        "dot_data = tree.export_graphviz(clf, out_file=None, \n",
        "                     feature_names=cuisines_feature_df.columns,  \n",
        "                     class_names=cuisine_labels_distinct,  \n",
        "                     filled=True, rounded=True,\n",
        "                     special_characters=True)  \n",
        "graph = graphviz.Source(dot_data)  \n",
        "graph "
      ],
      "metadata": {
        "colab": {
          "base_uri": "https://localhost:8080/",
          "height": 936
        },
        "id": "HanSk-YF3-QA",
        "outputId": "3a69dfdb-84b2-4aa2-a9f0-5554b392f8bf"
      },
      "execution_count": null,
      "outputs": [
        {
          "output_type": "execute_result",
          "data": {
            "text/plain": [
              "<graphviz.files.Source at 0x7f16443caf50>"
            ],
            "image/svg+xml": "<?xml version=\"1.0\" encoding=\"UTF-8\" standalone=\"no\"?>\n<!DOCTYPE svg PUBLIC \"-//W3C//DTD SVG 1.1//EN\"\n \"http://www.w3.org/Graphics/SVG/1.1/DTD/svg11.dtd\">\n<!-- Generated by graphviz version 2.40.1 (20161225.0304)\n -->\n<!-- Title: Tree Pages: 1 -->\n<svg width=\"4214pt\" height=\"671pt\"\n viewBox=\"0.00 0.00 4213.50 671.00\" xmlns=\"http://www.w3.org/2000/svg\" xmlns:xlink=\"http://www.w3.org/1999/xlink\">\n<g id=\"graph0\" class=\"graph\" transform=\"scale(1 1) rotate(0) translate(4 667)\">\n<title>Tree</title>\n<polygon fill=\"#ffffff\" stroke=\"transparent\" points=\"-4,4 -4,-667 4209.5,-667 4209.5,4 -4,4\"/>\n<!-- 0 -->\n<g id=\"node1\" class=\"node\">\n<title>0</title>\n<path fill=\"#ffffff\" stroke=\"#000000\" d=\"M2296,-663C2296,-663 2091,-663 2091,-663 2085,-663 2079,-657 2079,-651 2079,-651 2079,-592 2079,-592 2079,-586 2085,-580 2091,-580 2091,-580 2296,-580 2296,-580 2302,-580 2308,-586 2308,-592 2308,-592 2308,-651 2308,-651 2308,-657 2302,-663 2296,-663\"/>\n<text text-anchor=\"start\" x=\"2156\" y=\"-647.8\" font-family=\"Helvetica,sans-Serif\" font-size=\"14.00\" fill=\"#000000\">cumin ≤ 0.5</text>\n<text text-anchor=\"start\" x=\"2164\" y=\"-632.8\" font-family=\"Helvetica,sans-Serif\" font-size=\"14.00\" fill=\"#000000\">gini = 0.8</text>\n<text text-anchor=\"start\" x=\"2141.5\" y=\"-617.8\" font-family=\"Helvetica,sans-Serif\" font-size=\"14.00\" fill=\"#000000\">samples = 2796</text>\n<text text-anchor=\"start\" x=\"2087\" y=\"-602.8\" font-family=\"Helvetica,sans-Serif\" font-size=\"14.00\" fill=\"#000000\">value = [537, 566, 565, 559, 569]</text>\n<text text-anchor=\"start\" x=\"2146\" y=\"-587.8\" font-family=\"Helvetica,sans-Serif\" font-size=\"14.00\" fill=\"#000000\">class = korean</text>\n</g>\n<!-- 1 -->\n<g id=\"node2\" class=\"node\">\n<title>1</title>\n<path fill=\"#feffff\" stroke=\"#000000\" d=\"M1948,-544C1948,-544 1743,-544 1743,-544 1737,-544 1731,-538 1731,-532 1731,-532 1731,-473 1731,-473 1731,-467 1737,-461 1743,-461 1743,-461 1948,-461 1948,-461 1954,-461 1960,-467 1960,-473 1960,-473 1960,-532 1960,-532 1960,-538 1954,-544 1948,-544\"/>\n<text text-anchor=\"start\" x=\"1753\" y=\"-528.8\" font-family=\"Helvetica,sans-Serif\" font-size=\"14.00\" fill=\"#000000\">roasted_sesame_seed ≤ 0.5</text>\n<text text-anchor=\"start\" x=\"1807.5\" y=\"-513.8\" font-family=\"Helvetica,sans-Serif\" font-size=\"14.00\" fill=\"#000000\">gini = 0.786</text>\n<text text-anchor=\"start\" x=\"1793.5\" y=\"-498.8\" font-family=\"Helvetica,sans-Serif\" font-size=\"14.00\" fill=\"#000000\">samples = 2311</text>\n<text text-anchor=\"start\" x=\"1739\" y=\"-483.8\" font-family=\"Helvetica,sans-Serif\" font-size=\"14.00\" fill=\"#000000\">value = [534, 236, 563, 557, 421]</text>\n<text text-anchor=\"start\" x=\"1795\" y=\"-468.8\" font-family=\"Helvetica,sans-Serif\" font-size=\"14.00\" fill=\"#000000\">class = chinese</text>\n</g>\n<!-- 0&#45;&gt;1 -->\n<g id=\"edge1\" class=\"edge\">\n<title>0&#45;&gt;1</title>\n<path fill=\"none\" stroke=\"#000000\" d=\"M2078.5873,-582.2052C2043.8422,-570.3239 2005.5302,-557.223 1970.1789,-545.1345\"/>\n<polygon fill=\"#000000\" stroke=\"#000000\" points=\"1970.8866,-541.6775 1960.292,-541.7536 1968.6216,-548.301 1970.8866,-541.6775\"/>\n<text text-anchor=\"middle\" x=\"1971.299\" y=\"-560.5001\" font-family=\"Helvetica,sans-Serif\" font-size=\"14.00\" fill=\"#000000\">True</text>\n</g>\n<!-- 24 -->\n<g id=\"node25\" class=\"node\">\n<title>24</title>\n<path fill=\"#b8f194\" stroke=\"#000000\" d=\"M2557,-544C2557,-544 2402,-544 2402,-544 2396,-544 2390,-538 2390,-532 2390,-532 2390,-473 2390,-473 2390,-467 2396,-461 2402,-461 2402,-461 2557,-461 2557,-461 2563,-461 2569,-467 2569,-473 2569,-473 2569,-532 2569,-532 2569,-538 2563,-544 2557,-544\"/>\n<text text-anchor=\"start\" x=\"2435.5\" y=\"-528.8\" font-family=\"Helvetica,sans-Serif\" font-size=\"14.00\" fill=\"#000000\">coconut ≤ 0.5</text>\n<text text-anchor=\"start\" x=\"2441.5\" y=\"-513.8\" font-family=\"Helvetica,sans-Serif\" font-size=\"14.00\" fill=\"#000000\">gini = 0.444</text>\n<text text-anchor=\"start\" x=\"2431.5\" y=\"-498.8\" font-family=\"Helvetica,sans-Serif\" font-size=\"14.00\" fill=\"#000000\">samples = 485</text>\n<text text-anchor=\"start\" x=\"2398\" y=\"-483.8\" font-family=\"Helvetica,sans-Serif\" font-size=\"14.00\" fill=\"#000000\">value = [3, 330, 2, 2, 148]</text>\n<text text-anchor=\"start\" x=\"2443\" y=\"-468.8\" font-family=\"Helvetica,sans-Serif\" font-size=\"14.00\" fill=\"#000000\">class = thai</text>\n</g>\n<!-- 0&#45;&gt;24 -->\n<g id=\"edge24\" class=\"edge\">\n<title>0&#45;&gt;24</title>\n<path fill=\"none\" stroke=\"#000000\" d=\"M2293.5289,-579.8796C2321.6051,-568.1975 2352.1175,-555.5018 2380.1538,-543.8364\"/>\n<polygon fill=\"#000000\" stroke=\"#000000\" points=\"2381.6716,-546.9958 2389.5597,-539.9227 2378.9825,-540.5329 2381.6716,-546.9958\"/>\n<text text-anchor=\"middle\" x=\"2380.0295\" y=\"-559.3349\" font-family=\"Helvetica,sans-Serif\" font-size=\"14.00\" fill=\"#000000\">False</text>\n</g>\n<!-- 2 -->\n<g id=\"node3\" class=\"node\">\n<title>2</title>\n<path fill=\"#fbfffe\" stroke=\"#000000\" d=\"M1266,-425C1266,-425 1061,-425 1061,-425 1055,-425 1049,-419 1049,-413 1049,-413 1049,-354 1049,-354 1049,-348 1055,-342 1061,-342 1061,-342 1266,-342 1266,-342 1272,-342 1278,-348 1278,-354 1278,-354 1278,-413 1278,-413 1278,-419 1272,-425 1266,-425\"/>\n<text text-anchor=\"start\" x=\"1113.5\" y=\"-409.8\" font-family=\"Helvetica,sans-Serif\" font-size=\"14.00\" fill=\"#000000\">lime_juice ≤ 0.5</text>\n<text text-anchor=\"start\" x=\"1125.5\" y=\"-394.8\" font-family=\"Helvetica,sans-Serif\" font-size=\"14.00\" fill=\"#000000\">gini = 0.786</text>\n<text text-anchor=\"start\" x=\"1111.5\" y=\"-379.8\" font-family=\"Helvetica,sans-Serif\" font-size=\"14.00\" fill=\"#000000\">samples = 2144</text>\n<text text-anchor=\"start\" x=\"1057\" y=\"-364.8\" font-family=\"Helvetica,sans-Serif\" font-size=\"14.00\" fill=\"#000000\">value = [530, 236, 561, 397, 420]</text>\n<text text-anchor=\"start\" x=\"1113\" y=\"-349.8\" font-family=\"Helvetica,sans-Serif\" font-size=\"14.00\" fill=\"#000000\">class = chinese</text>\n</g>\n<!-- 1&#45;&gt;2 -->\n<g id=\"edge2\" class=\"edge\">\n<title>1&#45;&gt;2</title>\n<path fill=\"none\" stroke=\"#000000\" d=\"M1730.9641,-482.515C1608.4141,-461.1316 1414.6439,-427.3213 1288.2878,-405.2738\"/>\n<polygon fill=\"#000000\" stroke=\"#000000\" points=\"1288.626,-401.78 1278.1732,-403.509 1287.4228,-408.6759 1288.626,-401.78\"/>\n</g>\n<!-- 17 -->\n<g id=\"node18\" class=\"node\">\n<title>17</title>\n<path fill=\"#4442e6\" stroke=\"#000000\" d=\"M1915,-425C1915,-425 1776,-425 1776,-425 1770,-425 1764,-419 1764,-413 1764,-413 1764,-354 1764,-354 1764,-348 1770,-342 1776,-342 1776,-342 1915,-342 1915,-342 1921,-342 1927,-348 1927,-354 1927,-354 1927,-413 1927,-413 1927,-419 1921,-425 1915,-425\"/>\n<text text-anchor=\"start\" x=\"1812\" y=\"-409.8\" font-family=\"Helvetica,sans-Serif\" font-size=\"14.00\" fill=\"#000000\">palm ≤ 0.5</text>\n<text text-anchor=\"start\" x=\"1807.5\" y=\"-394.8\" font-family=\"Helvetica,sans-Serif\" font-size=\"14.00\" fill=\"#000000\">gini = 0.081</text>\n<text text-anchor=\"start\" x=\"1797.5\" y=\"-379.8\" font-family=\"Helvetica,sans-Serif\" font-size=\"14.00\" fill=\"#000000\">samples = 167</text>\n<text text-anchor=\"start\" x=\"1772\" y=\"-364.8\" font-family=\"Helvetica,sans-Serif\" font-size=\"14.00\" fill=\"#000000\">value = [4, 0, 2, 160, 1]</text>\n<text text-anchor=\"start\" x=\"1790.5\" y=\"-349.8\" font-family=\"Helvetica,sans-Serif\" font-size=\"14.00\" fill=\"#000000\">class = japanese</text>\n</g>\n<!-- 1&#45;&gt;17 -->\n<g id=\"edge17\" class=\"edge\">\n<title>1&#45;&gt;17</title>\n<path fill=\"none\" stroke=\"#000000\" d=\"M1845.5,-460.8796C1845.5,-452.6838 1845.5,-443.9891 1845.5,-435.5013\"/>\n<polygon fill=\"#000000\" stroke=\"#000000\" points=\"1849.0001,-435.298 1845.5,-425.2981 1842.0001,-435.2981 1849.0001,-435.298\"/>\n</g>\n<!-- 3 -->\n<g id=\"node4\" class=\"node\">\n<title>3</title>\n<path fill=\"#fcfffe\" stroke=\"#000000\" d=\"M755,-306C755,-306 550,-306 550,-306 544,-306 538,-300 538,-294 538,-294 538,-235 538,-235 538,-229 544,-223 550,-223 550,-223 755,-223 755,-223 761,-223 767,-229 767,-235 767,-235 767,-294 767,-294 767,-300 761,-306 755,-306\"/>\n<text text-anchor=\"start\" x=\"614.5\" y=\"-290.8\" font-family=\"Helvetica,sans-Serif\" font-size=\"14.00\" fill=\"#000000\">starch ≤ 0.5</text>\n<text text-anchor=\"start\" x=\"619\" y=\"-275.8\" font-family=\"Helvetica,sans-Serif\" font-size=\"14.00\" fill=\"#000000\">gini = 0.78</text>\n<text text-anchor=\"start\" x=\"600.5\" y=\"-260.8\" font-family=\"Helvetica,sans-Serif\" font-size=\"14.00\" fill=\"#000000\">samples = 2000</text>\n<text text-anchor=\"start\" x=\"546\" y=\"-245.8\" font-family=\"Helvetica,sans-Serif\" font-size=\"14.00\" fill=\"#000000\">value = [526, 224, 551, 397, 302]</text>\n<text text-anchor=\"start\" x=\"602\" y=\"-230.8\" font-family=\"Helvetica,sans-Serif\" font-size=\"14.00\" fill=\"#000000\">class = chinese</text>\n</g>\n<!-- 2&#45;&gt;3 -->\n<g id=\"edge3\" class=\"edge\">\n<title>2&#45;&gt;3</title>\n<path fill=\"none\" stroke=\"#000000\" d=\"M1048.8216,-356.7941C968.0928,-337.9942 860.087,-312.8422 777.215,-293.5432\"/>\n<polygon fill=\"#000000\" stroke=\"#000000\" points=\"777.7701,-290.0789 767.2368,-291.2195 776.1824,-296.8965 777.7701,-290.0789\"/>\n</g>\n<!-- 10 -->\n<g id=\"node11\" class=\"node\">\n<title>10</title>\n<path fill=\"#ea60cc\" stroke=\"#000000\" d=\"M1241,-306C1241,-306 1086,-306 1086,-306 1080,-306 1074,-300 1074,-294 1074,-294 1074,-235 1074,-235 1074,-229 1080,-223 1086,-223 1086,-223 1241,-223 1241,-223 1247,-223 1253,-229 1253,-235 1253,-235 1253,-294 1253,-294 1253,-300 1247,-306 1241,-306\"/>\n<text text-anchor=\"start\" x=\"1134.5\" y=\"-290.8\" font-family=\"Helvetica,sans-Serif\" font-size=\"14.00\" fill=\"#000000\">fish ≤ 0.5</text>\n<text text-anchor=\"start\" x=\"1125.5\" y=\"-275.8\" font-family=\"Helvetica,sans-Serif\" font-size=\"14.00\" fill=\"#000000\">gini = 0.316</text>\n<text text-anchor=\"start\" x=\"1115.5\" y=\"-260.8\" font-family=\"Helvetica,sans-Serif\" font-size=\"14.00\" fill=\"#000000\">samples = 144</text>\n<text text-anchor=\"start\" x=\"1082\" y=\"-245.8\" font-family=\"Helvetica,sans-Serif\" font-size=\"14.00\" fill=\"#000000\">value = [4, 12, 10, 0, 118]</text>\n<text text-anchor=\"start\" x=\"1116\" y=\"-230.8\" font-family=\"Helvetica,sans-Serif\" font-size=\"14.00\" fill=\"#000000\">class = korean</text>\n</g>\n<!-- 2&#45;&gt;10 -->\n<g id=\"edge10\" class=\"edge\">\n<title>2&#45;&gt;10</title>\n<path fill=\"none\" stroke=\"#000000\" d=\"M1163.5,-341.8796C1163.5,-333.6838 1163.5,-324.9891 1163.5,-316.5013\"/>\n<polygon fill=\"#000000\" stroke=\"#000000\" points=\"1167.0001,-316.298 1163.5,-306.2981 1160.0001,-316.2981 1167.0001,-316.298\"/>\n</g>\n<!-- 4 -->\n<g id=\"node5\" class=\"node\">\n<title>4</title>\n<path fill=\"#e7fcf8\" stroke=\"#000000\" d=\"M448,-187C448,-187 243,-187 243,-187 237,-187 231,-181 231,-175 231,-175 231,-116 231,-116 231,-110 237,-104 243,-104 243,-104 448,-104 448,-104 454,-104 460,-110 460,-116 460,-116 460,-175 460,-175 460,-181 454,-187 448,-187\"/>\n<text text-anchor=\"start\" x=\"299.5\" y=\"-171.8\" font-family=\"Helvetica,sans-Serif\" font-size=\"14.00\" fill=\"#000000\">cayenne ≤ 0.5</text>\n<text text-anchor=\"start\" x=\"307.5\" y=\"-156.8\" font-family=\"Helvetica,sans-Serif\" font-size=\"14.00\" fill=\"#000000\">gini = 0.783</text>\n<text text-anchor=\"start\" x=\"293.5\" y=\"-141.8\" font-family=\"Helvetica,sans-Serif\" font-size=\"14.00\" fill=\"#000000\">samples = 1787</text>\n<text text-anchor=\"start\" x=\"239\" y=\"-126.8\" font-family=\"Helvetica,sans-Serif\" font-size=\"14.00\" fill=\"#000000\">value = [368, 223, 538, 366, 292]</text>\n<text text-anchor=\"start\" x=\"295\" y=\"-111.8\" font-family=\"Helvetica,sans-Serif\" font-size=\"14.00\" fill=\"#000000\">class = chinese</text>\n</g>\n<!-- 3&#45;&gt;4 -->\n<g id=\"edge4\" class=\"edge\">\n<title>3&#45;&gt;4</title>\n<path fill=\"none\" stroke=\"#000000\" d=\"M545.1263,-222.8796C518.3678,-212.5074 489.5477,-201.3361 462.3568,-190.7963\"/>\n<polygon fill=\"#000000\" stroke=\"#000000\" points=\"463.4021,-187.4478 452.8131,-187.0969 460.8721,-193.9746 463.4021,-187.4478\"/>\n</g>\n<!-- 7 -->\n<g id=\"node8\" class=\"node\">\n<title>7</title>\n<path fill=\"#eda775\" stroke=\"#000000\" d=\"M734.5,-187C734.5,-187 570.5,-187 570.5,-187 564.5,-187 558.5,-181 558.5,-175 558.5,-175 558.5,-116 558.5,-116 558.5,-110 564.5,-104 570.5,-104 570.5,-104 734.5,-104 734.5,-104 740.5,-104 746.5,-110 746.5,-116 746.5,-116 746.5,-175 746.5,-175 746.5,-181 740.5,-187 734.5,-187\"/>\n<text text-anchor=\"start\" x=\"608.5\" y=\"-171.8\" font-family=\"Helvetica,sans-Serif\" font-size=\"14.00\" fill=\"#000000\">coconut ≤ 0.5</text>\n<text text-anchor=\"start\" x=\"614.5\" y=\"-156.8\" font-family=\"Helvetica,sans-Serif\" font-size=\"14.00\" fill=\"#000000\">gini = 0.423</text>\n<text text-anchor=\"start\" x=\"604.5\" y=\"-141.8\" font-family=\"Helvetica,sans-Serif\" font-size=\"14.00\" fill=\"#000000\">samples = 213</text>\n<text text-anchor=\"start\" x=\"566.5\" y=\"-126.8\" font-family=\"Helvetica,sans-Serif\" font-size=\"14.00\" fill=\"#000000\">value = [158, 1, 13, 31, 10]</text>\n<text text-anchor=\"start\" x=\"608\" y=\"-111.8\" font-family=\"Helvetica,sans-Serif\" font-size=\"14.00\" fill=\"#000000\">class = indian</text>\n</g>\n<!-- 3&#45;&gt;7 -->\n<g id=\"edge7\" class=\"edge\">\n<title>3&#45;&gt;7</title>\n<path fill=\"none\" stroke=\"#000000\" d=\"M652.5,-222.8796C652.5,-214.6838 652.5,-205.9891 652.5,-197.5013\"/>\n<polygon fill=\"#000000\" stroke=\"#000000\" points=\"656.0001,-197.298 652.5,-187.2981 649.0001,-197.2981 656.0001,-197.298\"/>\n</g>\n<!-- 5 -->\n<g id=\"node6\" class=\"node\">\n<title>5</title>\n<path fill=\"#d8faf4\" stroke=\"#000000\" d=\"M217,-68C217,-68 12,-68 12,-68 6,-68 0,-62 0,-56 0,-56 0,-12 0,-12 0,-6 6,0 12,0 12,0 217,0 217,0 223,0 229,-6 229,-12 229,-12 229,-56 229,-56 229,-62 223,-68 217,-68\"/>\n<text text-anchor=\"start\" x=\"76.5\" y=\"-52.8\" font-family=\"Helvetica,sans-Serif\" font-size=\"14.00\" fill=\"#000000\">gini = 0.753</text>\n<text text-anchor=\"start\" x=\"62.5\" y=\"-37.8\" font-family=\"Helvetica,sans-Serif\" font-size=\"14.00\" fill=\"#000000\">samples = 1371</text>\n<text text-anchor=\"start\" x=\"8\" y=\"-22.8\" font-family=\"Helvetica,sans-Serif\" font-size=\"14.00\" fill=\"#000000\">value = [310, 142, 518, 196, 205]</text>\n<text text-anchor=\"start\" x=\"64\" y=\"-7.8\" font-family=\"Helvetica,sans-Serif\" font-size=\"14.00\" fill=\"#000000\">class = chinese</text>\n</g>\n<!-- 4&#45;&gt;5 -->\n<g id=\"edge5\" class=\"edge\">\n<title>4&#45;&gt;5</title>\n<path fill=\"none\" stroke=\"#000000\" d=\"M259.4841,-103.9815C238.1419,-93.68 215.3604,-82.6837 194.3286,-72.532\"/>\n<polygon fill=\"#000000\" stroke=\"#000000\" points=\"195.6441,-69.2806 185.1169,-68.0856 192.6012,-75.5847 195.6441,-69.2806\"/>\n</g>\n<!-- 6 -->\n<g id=\"node7\" class=\"node\">\n<title>6</title>\n<path fill=\"#cecdf8\" stroke=\"#000000\" d=\"M431.5,-68C431.5,-68 259.5,-68 259.5,-68 253.5,-68 247.5,-62 247.5,-56 247.5,-56 247.5,-12 247.5,-12 247.5,-6 253.5,0 259.5,0 259.5,0 431.5,0 431.5,0 437.5,0 443.5,-6 443.5,-12 443.5,-12 443.5,-56 443.5,-56 443.5,-62 437.5,-68 431.5,-68\"/>\n<text text-anchor=\"start\" x=\"312\" y=\"-52.8\" font-family=\"Helvetica,sans-Serif\" font-size=\"14.00\" fill=\"#000000\">gini = 0.73</text>\n<text text-anchor=\"start\" x=\"297.5\" y=\"-37.8\" font-family=\"Helvetica,sans-Serif\" font-size=\"14.00\" fill=\"#000000\">samples = 416</text>\n<text text-anchor=\"start\" x=\"255.5\" y=\"-22.8\" font-family=\"Helvetica,sans-Serif\" font-size=\"14.00\" fill=\"#000000\">value = [58, 81, 20, 170, 87]</text>\n<text text-anchor=\"start\" x=\"290.5\" y=\"-7.8\" font-family=\"Helvetica,sans-Serif\" font-size=\"14.00\" fill=\"#000000\">class = japanese</text>\n</g>\n<!-- 4&#45;&gt;6 -->\n<g id=\"edge6\" class=\"edge\">\n<title>4&#45;&gt;6</title>\n<path fill=\"none\" stroke=\"#000000\" d=\"M345.5,-103.9815C345.5,-95.618 345.5,-86.7965 345.5,-78.3409\"/>\n<polygon fill=\"#000000\" stroke=\"#000000\" points=\"349.0001,-78.2636 345.5,-68.2637 342.0001,-78.2637 349.0001,-78.2636\"/>\n</g>\n<!-- 8 -->\n<g id=\"node9\" class=\"node\">\n<title>8</title>\n<path fill=\"#eca470\" stroke=\"#000000\" d=\"M629,-68C629,-68 474,-68 474,-68 468,-68 462,-62 462,-56 462,-56 462,-12 462,-12 462,-6 468,0 474,0 474,0 629,0 629,0 635,0 641,-6 641,-12 641,-12 641,-56 641,-56 641,-62 635,-68 629,-68\"/>\n<text text-anchor=\"start\" x=\"513.5\" y=\"-52.8\" font-family=\"Helvetica,sans-Serif\" font-size=\"14.00\" fill=\"#000000\">gini = 0.391</text>\n<text text-anchor=\"start\" x=\"503.5\" y=\"-37.8\" font-family=\"Helvetica,sans-Serif\" font-size=\"14.00\" fill=\"#000000\">samples = 207</text>\n<text text-anchor=\"start\" x=\"470\" y=\"-22.8\" font-family=\"Helvetica,sans-Serif\" font-size=\"14.00\" fill=\"#000000\">value = [158, 1, 13, 31, 4]</text>\n<text text-anchor=\"start\" x=\"507\" y=\"-7.8\" font-family=\"Helvetica,sans-Serif\" font-size=\"14.00\" fill=\"#000000\">class = indian</text>\n</g>\n<!-- 7&#45;&gt;8 -->\n<g id=\"edge8\" class=\"edge\">\n<title>7&#45;&gt;8</title>\n<path fill=\"none\" stroke=\"#000000\" d=\"M614.8913,-103.9815C606.5661,-94.7908 597.74,-85.0472 589.4032,-75.8436\"/>\n<polygon fill=\"#000000\" stroke=\"#000000\" points=\"591.8446,-73.3254 582.537,-68.2637 586.6566,-78.0248 591.8446,-73.3254\"/>\n</g>\n<!-- 9 -->\n<g id=\"node10\" class=\"node\">\n<title>9</title>\n<path fill=\"#e539c0\" stroke=\"#000000\" d=\"M793.5,-68C793.5,-68 671.5,-68 671.5,-68 665.5,-68 659.5,-62 659.5,-56 659.5,-56 659.5,-12 659.5,-12 659.5,-6 665.5,0 671.5,0 671.5,0 793.5,0 793.5,0 799.5,0 805.5,-6 805.5,-12 805.5,-12 805.5,-56 805.5,-56 805.5,-62 799.5,-68 793.5,-68\"/>\n<text text-anchor=\"start\" x=\"703\" y=\"-52.8\" font-family=\"Helvetica,sans-Serif\" font-size=\"14.00\" fill=\"#000000\">gini = 0.0</text>\n<text text-anchor=\"start\" x=\"693\" y=\"-37.8\" font-family=\"Helvetica,sans-Serif\" font-size=\"14.00\" fill=\"#000000\">samples = 6</text>\n<text text-anchor=\"start\" x=\"667.5\" y=\"-22.8\" font-family=\"Helvetica,sans-Serif\" font-size=\"14.00\" fill=\"#000000\">value = [0, 0, 0, 0, 6]</text>\n<text text-anchor=\"start\" x=\"685\" y=\"-7.8\" font-family=\"Helvetica,sans-Serif\" font-size=\"14.00\" fill=\"#000000\">class = korean</text>\n</g>\n<!-- 7&#45;&gt;9 -->\n<g id=\"edge9\" class=\"edge\">\n<title>7&#45;&gt;9</title>\n<path fill=\"none\" stroke=\"#000000\" d=\"M682.289,-103.9815C688.7514,-94.9747 695.5948,-85.4367 702.081,-76.3965\"/>\n<polygon fill=\"#000000\" stroke=\"#000000\" points=\"704.9303,-78.4291 707.9162,-68.2637 699.2428,-74.3483 704.9303,-78.4291\"/>\n</g>\n<!-- 11 -->\n<g id=\"node12\" class=\"node\">\n<title>11</title>\n<path fill=\"#f9d1f0\" stroke=\"#000000\" d=\"M1144,-187C1144,-187 1005,-187 1005,-187 999,-187 993,-181 993,-175 993,-175 993,-116 993,-116 993,-110 999,-104 1005,-104 1005,-104 1144,-104 1144,-104 1150,-104 1156,-110 1156,-116 1156,-116 1156,-175 1156,-175 1156,-181 1150,-187 1144,-187\"/>\n<text text-anchor=\"start\" x=\"1032\" y=\"-171.8\" font-family=\"Helvetica,sans-Serif\" font-size=\"14.00\" fill=\"#000000\">scallion ≤ 0.5</text>\n<text text-anchor=\"start\" x=\"1036.5\" y=\"-156.8\" font-family=\"Helvetica,sans-Serif\" font-size=\"14.00\" fill=\"#000000\">gini = 0.677</text>\n<text text-anchor=\"start\" x=\"1030.5\" y=\"-141.8\" font-family=\"Helvetica,sans-Serif\" font-size=\"14.00\" fill=\"#000000\">samples = 42</text>\n<text text-anchor=\"start\" x=\"1001\" y=\"-126.8\" font-family=\"Helvetica,sans-Serif\" font-size=\"14.00\" fill=\"#000000\">value = [4, 12, 7, 0, 19]</text>\n<text text-anchor=\"start\" x=\"1027\" y=\"-111.8\" font-family=\"Helvetica,sans-Serif\" font-size=\"14.00\" fill=\"#000000\">class = korean</text>\n</g>\n<!-- 10&#45;&gt;11 -->\n<g id=\"edge11\" class=\"edge\">\n<title>10&#45;&gt;11</title>\n<path fill=\"none\" stroke=\"#000000\" d=\"M1132.3721,-222.8796C1125.771,-214.0534 1118.7371,-204.6485 1111.9298,-195.5466\"/>\n<polygon fill=\"#000000\" stroke=\"#000000\" points=\"1114.5528,-193.2099 1105.7607,-187.2981 1108.9472,-197.4024 1114.5528,-193.2099\"/>\n</g>\n<!-- 14 -->\n<g id=\"node15\" class=\"node\">\n<title>14</title>\n<path fill=\"#e63fc2\" stroke=\"#000000\" d=\"M1317,-187C1317,-187 1186,-187 1186,-187 1180,-187 1174,-181 1174,-175 1174,-175 1174,-116 1174,-116 1174,-110 1180,-104 1186,-104 1186,-104 1317,-104 1317,-104 1323,-104 1329,-110 1329,-116 1329,-116 1329,-175 1329,-175 1329,-181 1323,-187 1317,-187\"/>\n<text text-anchor=\"start\" x=\"1218\" y=\"-171.8\" font-family=\"Helvetica,sans-Serif\" font-size=\"14.00\" fill=\"#000000\">sake ≤ 0.5</text>\n<text text-anchor=\"start\" x=\"1213.5\" y=\"-156.8\" font-family=\"Helvetica,sans-Serif\" font-size=\"14.00\" fill=\"#000000\">gini = 0.057</text>\n<text text-anchor=\"start\" x=\"1203.5\" y=\"-141.8\" font-family=\"Helvetica,sans-Serif\" font-size=\"14.00\" fill=\"#000000\">samples = 102</text>\n<text text-anchor=\"start\" x=\"1182\" y=\"-126.8\" font-family=\"Helvetica,sans-Serif\" font-size=\"14.00\" fill=\"#000000\">value = [0, 0, 3, 0, 99]</text>\n<text text-anchor=\"start\" x=\"1204\" y=\"-111.8\" font-family=\"Helvetica,sans-Serif\" font-size=\"14.00\" fill=\"#000000\">class = korean</text>\n</g>\n<!-- 10&#45;&gt;14 -->\n<g id=\"edge14\" class=\"edge\">\n<title>10&#45;&gt;14</title>\n<path fill=\"none\" stroke=\"#000000\" d=\"M1194.2781,-222.8796C1200.8051,-214.0534 1207.7599,-204.6485 1214.4908,-195.5466\"/>\n<polygon fill=\"#000000\" stroke=\"#000000\" points=\"1217.4588,-197.4195 1220.5905,-187.2981 1211.8305,-193.2574 1217.4588,-197.4195\"/>\n</g>\n<!-- 12 -->\n<g id=\"node13\" class=\"node\">\n<title>12</title>\n<path fill=\"#ffffff\" stroke=\"#000000\" d=\"M975,-68C975,-68 836,-68 836,-68 830,-68 824,-62 824,-56 824,-56 824,-12 824,-12 824,-6 830,0 836,0 836,0 975,0 975,0 981,0 987,-6 987,-12 987,-12 987,-56 987,-56 987,-62 981,-68 975,-68\"/>\n<text text-anchor=\"start\" x=\"867.5\" y=\"-52.8\" font-family=\"Helvetica,sans-Serif\" font-size=\"14.00\" fill=\"#000000\">gini = 0.712</text>\n<text text-anchor=\"start\" x=\"861.5\" y=\"-37.8\" font-family=\"Helvetica,sans-Serif\" font-size=\"14.00\" fill=\"#000000\">samples = 35</text>\n<text text-anchor=\"start\" x=\"832\" y=\"-22.8\" font-family=\"Helvetica,sans-Serif\" font-size=\"14.00\" fill=\"#000000\">value = [4, 12, 7, 0, 12]</text>\n<text text-anchor=\"start\" x=\"869\" y=\"-7.8\" font-family=\"Helvetica,sans-Serif\" font-size=\"14.00\" fill=\"#000000\">class = thai</text>\n</g>\n<!-- 11&#45;&gt;12 -->\n<g id=\"edge12\" class=\"edge\">\n<title>11&#45;&gt;12</title>\n<path fill=\"none\" stroke=\"#000000\" d=\"M1011.5706,-103.9815C996.5868,-94.0957 980.6332,-83.5701 965.7718,-73.7651\"/>\n<polygon fill=\"#000000\" stroke=\"#000000\" points=\"967.4379,-70.6713 957.1634,-68.0856 963.583,-76.5142 967.4379,-70.6713\"/>\n</g>\n<!-- 13 -->\n<g id=\"node14\" class=\"node\">\n<title>13</title>\n<path fill=\"#e539c0\" stroke=\"#000000\" d=\"M1139.5,-68C1139.5,-68 1017.5,-68 1017.5,-68 1011.5,-68 1005.5,-62 1005.5,-56 1005.5,-56 1005.5,-12 1005.5,-12 1005.5,-6 1011.5,0 1017.5,0 1017.5,0 1139.5,0 1139.5,0 1145.5,0 1151.5,-6 1151.5,-12 1151.5,-12 1151.5,-56 1151.5,-56 1151.5,-62 1145.5,-68 1139.5,-68\"/>\n<text text-anchor=\"start\" x=\"1049\" y=\"-52.8\" font-family=\"Helvetica,sans-Serif\" font-size=\"14.00\" fill=\"#000000\">gini = 0.0</text>\n<text text-anchor=\"start\" x=\"1039\" y=\"-37.8\" font-family=\"Helvetica,sans-Serif\" font-size=\"14.00\" fill=\"#000000\">samples = 7</text>\n<text text-anchor=\"start\" x=\"1013.5\" y=\"-22.8\" font-family=\"Helvetica,sans-Serif\" font-size=\"14.00\" fill=\"#000000\">value = [0, 0, 0, 0, 7]</text>\n<text text-anchor=\"start\" x=\"1031\" y=\"-7.8\" font-family=\"Helvetica,sans-Serif\" font-size=\"14.00\" fill=\"#000000\">class = korean</text>\n</g>\n<!-- 11&#45;&gt;13 -->\n<g id=\"edge13\" class=\"edge\">\n<title>11&#45;&gt;13</title>\n<path fill=\"none\" stroke=\"#000000\" d=\"M1075.9895,-103.9815C1076.2895,-95.618 1076.606,-86.7965 1076.9093,-78.3409\"/>\n<polygon fill=\"#000000\" stroke=\"#000000\" points=\"1080.41,-78.3828 1077.2708,-68.2637 1073.4145,-78.1317 1080.41,-78.3828\"/>\n</g>\n<!-- 15 -->\n<g id=\"node16\" class=\"node\">\n<title>15</title>\n<path fill=\"#e63dc1\" stroke=\"#000000\" d=\"M1313,-68C1313,-68 1182,-68 1182,-68 1176,-68 1170,-62 1170,-56 1170,-56 1170,-12 1170,-12 1170,-6 1176,0 1182,0 1182,0 1313,0 1313,0 1319,0 1325,-6 1325,-12 1325,-12 1325,-56 1325,-56 1325,-62 1319,-68 1313,-68\"/>\n<text text-anchor=\"start\" x=\"1209.5\" y=\"-52.8\" font-family=\"Helvetica,sans-Serif\" font-size=\"14.00\" fill=\"#000000\">gini = 0.039</text>\n<text text-anchor=\"start\" x=\"1199.5\" y=\"-37.8\" font-family=\"Helvetica,sans-Serif\" font-size=\"14.00\" fill=\"#000000\">samples = 101</text>\n<text text-anchor=\"start\" x=\"1178\" y=\"-22.8\" font-family=\"Helvetica,sans-Serif\" font-size=\"14.00\" fill=\"#000000\">value = [0, 0, 2, 0, 99]</text>\n<text text-anchor=\"start\" x=\"1200\" y=\"-7.8\" font-family=\"Helvetica,sans-Serif\" font-size=\"14.00\" fill=\"#000000\">class = korean</text>\n</g>\n<!-- 14&#45;&gt;15 -->\n<g id=\"edge15\" class=\"edge\">\n<title>14&#45;&gt;15</title>\n<path fill=\"none\" stroke=\"#000000\" d=\"M1250.0105,-103.9815C1249.7105,-95.618 1249.394,-86.7965 1249.0907,-78.3409\"/>\n<polygon fill=\"#000000\" stroke=\"#000000\" points=\"1252.5855,-78.1317 1248.7292,-68.2637 1245.59,-78.3828 1252.5855,-78.1317\"/>\n</g>\n<!-- 16 -->\n<g id=\"node17\" class=\"node\">\n<title>16</title>\n<path fill=\"#39e5c5\" stroke=\"#000000\" d=\"M1477.5,-68C1477.5,-68 1355.5,-68 1355.5,-68 1349.5,-68 1343.5,-62 1343.5,-56 1343.5,-56 1343.5,-12 1343.5,-12 1343.5,-6 1349.5,0 1355.5,0 1355.5,0 1477.5,0 1477.5,0 1483.5,0 1489.5,-6 1489.5,-12 1489.5,-12 1489.5,-56 1489.5,-56 1489.5,-62 1483.5,-68 1477.5,-68\"/>\n<text text-anchor=\"start\" x=\"1387\" y=\"-52.8\" font-family=\"Helvetica,sans-Serif\" font-size=\"14.00\" fill=\"#000000\">gini = 0.0</text>\n<text text-anchor=\"start\" x=\"1377\" y=\"-37.8\" font-family=\"Helvetica,sans-Serif\" font-size=\"14.00\" fill=\"#000000\">samples = 1</text>\n<text text-anchor=\"start\" x=\"1351.5\" y=\"-22.8\" font-family=\"Helvetica,sans-Serif\" font-size=\"14.00\" fill=\"#000000\">value = [0, 0, 1, 0, 0]</text>\n<text text-anchor=\"start\" x=\"1366\" y=\"-7.8\" font-family=\"Helvetica,sans-Serif\" font-size=\"14.00\" fill=\"#000000\">class = chinese</text>\n</g>\n<!-- 14&#45;&gt;16 -->\n<g id=\"edge16\" class=\"edge\">\n<title>14&#45;&gt;16</title>\n<path fill=\"none\" stroke=\"#000000\" d=\"M1312.9399,-103.9815C1327.5691,-94.0957 1343.1451,-83.5701 1357.6548,-73.7651\"/>\n<polygon fill=\"#000000\" stroke=\"#000000\" points=\"1359.7335,-76.5847 1366.0594,-68.0856 1355.8141,-70.7848 1359.7335,-76.5847\"/>\n</g>\n<!-- 18 -->\n<g id=\"node19\" class=\"node\">\n<title>18</title>\n<path fill=\"#4340e6\" stroke=\"#000000\" d=\"M1829,-306C1829,-306 1690,-306 1690,-306 1684,-306 1678,-300 1678,-294 1678,-294 1678,-235 1678,-235 1678,-229 1684,-223 1690,-223 1690,-223 1829,-223 1829,-223 1835,-223 1841,-229 1841,-235 1841,-235 1841,-294 1841,-294 1841,-300 1835,-306 1829,-306\"/>\n<text text-anchor=\"start\" x=\"1696\" y=\"-290.8\" font-family=\"Helvetica,sans-Serif\" font-size=\"14.00\" fill=\"#000000\">chicken_broth ≤ 0.5</text>\n<text text-anchor=\"start\" x=\"1726\" y=\"-275.8\" font-family=\"Helvetica,sans-Serif\" font-size=\"14.00\" fill=\"#000000\">gini = 0.07</text>\n<text text-anchor=\"start\" x=\"1711.5\" y=\"-260.8\" font-family=\"Helvetica,sans-Serif\" font-size=\"14.00\" fill=\"#000000\">samples = 166</text>\n<text text-anchor=\"start\" x=\"1686\" y=\"-245.8\" font-family=\"Helvetica,sans-Serif\" font-size=\"14.00\" fill=\"#000000\">value = [4, 0, 2, 160, 0]</text>\n<text text-anchor=\"start\" x=\"1704.5\" y=\"-230.8\" font-family=\"Helvetica,sans-Serif\" font-size=\"14.00\" fill=\"#000000\">class = japanese</text>\n</g>\n<!-- 17&#45;&gt;18 -->\n<g id=\"edge18\" class=\"edge\">\n<title>17&#45;&gt;18</title>\n<path fill=\"none\" stroke=\"#000000\" d=\"M1815.4214,-341.8796C1809.0428,-333.0534 1802.246,-323.6485 1795.6681,-314.5466\"/>\n<polygon fill=\"#000000\" stroke=\"#000000\" points=\"1798.4012,-312.353 1789.707,-306.2981 1792.7277,-316.4532 1798.4012,-312.353\"/>\n</g>\n<!-- 23 -->\n<g id=\"node24\" class=\"node\">\n<title>23</title>\n<path fill=\"#e539c0\" stroke=\"#000000\" d=\"M1993.5,-298.5C1993.5,-298.5 1871.5,-298.5 1871.5,-298.5 1865.5,-298.5 1859.5,-292.5 1859.5,-286.5 1859.5,-286.5 1859.5,-242.5 1859.5,-242.5 1859.5,-236.5 1865.5,-230.5 1871.5,-230.5 1871.5,-230.5 1993.5,-230.5 1993.5,-230.5 1999.5,-230.5 2005.5,-236.5 2005.5,-242.5 2005.5,-242.5 2005.5,-286.5 2005.5,-286.5 2005.5,-292.5 1999.5,-298.5 1993.5,-298.5\"/>\n<text text-anchor=\"start\" x=\"1903\" y=\"-283.3\" font-family=\"Helvetica,sans-Serif\" font-size=\"14.00\" fill=\"#000000\">gini = 0.0</text>\n<text text-anchor=\"start\" x=\"1893\" y=\"-268.3\" font-family=\"Helvetica,sans-Serif\" font-size=\"14.00\" fill=\"#000000\">samples = 1</text>\n<text text-anchor=\"start\" x=\"1867.5\" y=\"-253.3\" font-family=\"Helvetica,sans-Serif\" font-size=\"14.00\" fill=\"#000000\">value = [0, 0, 0, 0, 1]</text>\n<text text-anchor=\"start\" x=\"1885\" y=\"-238.3\" font-family=\"Helvetica,sans-Serif\" font-size=\"14.00\" fill=\"#000000\">class = korean</text>\n</g>\n<!-- 17&#45;&gt;23 -->\n<g id=\"edge23\" class=\"edge\">\n<title>17&#45;&gt;23</title>\n<path fill=\"none\" stroke=\"#000000\" d=\"M1875.9284,-341.8796C1884.2087,-330.5536 1893.1857,-318.2748 1901.4974,-306.9058\"/>\n<polygon fill=\"#000000\" stroke=\"#000000\" points=\"1904.3361,-308.9533 1907.4126,-298.8149 1898.6853,-304.822 1904.3361,-308.9533\"/>\n</g>\n<!-- 19 -->\n<g id=\"node20\" class=\"node\">\n<title>19</title>\n<path fill=\"#423fe6\" stroke=\"#000000\" d=\"M1743,-187C1743,-187 1604,-187 1604,-187 1598,-187 1592,-181 1592,-175 1592,-175 1592,-116 1592,-116 1592,-110 1598,-104 1604,-104 1604,-104 1743,-104 1743,-104 1749,-104 1755,-110 1755,-116 1755,-116 1755,-175 1755,-175 1755,-181 1749,-187 1743,-187\"/>\n<text text-anchor=\"start\" x=\"1622\" y=\"-171.8\" font-family=\"Helvetica,sans-Serif\" font-size=\"14.00\" fill=\"#000000\">peanut_oil ≤ 0.5</text>\n<text text-anchor=\"start\" x=\"1635.5\" y=\"-156.8\" font-family=\"Helvetica,sans-Serif\" font-size=\"14.00\" fill=\"#000000\">gini = 0.059</text>\n<text text-anchor=\"start\" x=\"1625.5\" y=\"-141.8\" font-family=\"Helvetica,sans-Serif\" font-size=\"14.00\" fill=\"#000000\">samples = 165</text>\n<text text-anchor=\"start\" x=\"1600\" y=\"-126.8\" font-family=\"Helvetica,sans-Serif\" font-size=\"14.00\" fill=\"#000000\">value = [3, 0, 2, 160, 0]</text>\n<text text-anchor=\"start\" x=\"1618.5\" y=\"-111.8\" font-family=\"Helvetica,sans-Serif\" font-size=\"14.00\" fill=\"#000000\">class = japanese</text>\n</g>\n<!-- 18&#45;&gt;19 -->\n<g id=\"edge19\" class=\"edge\">\n<title>18&#45;&gt;19</title>\n<path fill=\"none\" stroke=\"#000000\" d=\"M1729.4214,-222.8796C1723.0428,-214.0534 1716.246,-204.6485 1709.6681,-195.5466\"/>\n<polygon fill=\"#000000\" stroke=\"#000000\" points=\"1712.4012,-193.353 1703.707,-187.2981 1706.7277,-197.4532 1712.4012,-193.353\"/>\n</g>\n<!-- 22 -->\n<g id=\"node23\" class=\"node\">\n<title>22</title>\n<path fill=\"#e58139\" stroke=\"#000000\" d=\"M1907.5,-179.5C1907.5,-179.5 1785.5,-179.5 1785.5,-179.5 1779.5,-179.5 1773.5,-173.5 1773.5,-167.5 1773.5,-167.5 1773.5,-123.5 1773.5,-123.5 1773.5,-117.5 1779.5,-111.5 1785.5,-111.5 1785.5,-111.5 1907.5,-111.5 1907.5,-111.5 1913.5,-111.5 1919.5,-117.5 1919.5,-123.5 1919.5,-123.5 1919.5,-167.5 1919.5,-167.5 1919.5,-173.5 1913.5,-179.5 1907.5,-179.5\"/>\n<text text-anchor=\"start\" x=\"1817\" y=\"-164.3\" font-family=\"Helvetica,sans-Serif\" font-size=\"14.00\" fill=\"#000000\">gini = 0.0</text>\n<text text-anchor=\"start\" x=\"1807\" y=\"-149.3\" font-family=\"Helvetica,sans-Serif\" font-size=\"14.00\" fill=\"#000000\">samples = 1</text>\n<text text-anchor=\"start\" x=\"1781.5\" y=\"-134.3\" font-family=\"Helvetica,sans-Serif\" font-size=\"14.00\" fill=\"#000000\">value = [1, 0, 0, 0, 0]</text>\n<text text-anchor=\"start\" x=\"1802\" y=\"-119.3\" font-family=\"Helvetica,sans-Serif\" font-size=\"14.00\" fill=\"#000000\">class = indian</text>\n</g>\n<!-- 18&#45;&gt;22 -->\n<g id=\"edge22\" class=\"edge\">\n<title>18&#45;&gt;22</title>\n<path fill=\"none\" stroke=\"#000000\" d=\"M1789.9284,-222.8796C1798.2087,-211.5536 1807.1857,-199.2748 1815.4974,-187.9058\"/>\n<polygon fill=\"#000000\" stroke=\"#000000\" points=\"1818.3361,-189.9533 1821.4126,-179.8149 1812.6853,-185.822 1818.3361,-189.9533\"/>\n</g>\n<!-- 20 -->\n<g id=\"node21\" class=\"node\">\n<title>20</title>\n<path fill=\"#413ee6\" stroke=\"#000000\" d=\"M1659,-68C1659,-68 1520,-68 1520,-68 1514,-68 1508,-62 1508,-56 1508,-56 1508,-12 1508,-12 1508,-6 1514,0 1520,0 1520,0 1659,0 1659,0 1665,0 1671,-6 1671,-12 1671,-12 1671,-56 1671,-56 1671,-62 1665,-68 1659,-68\"/>\n<text text-anchor=\"start\" x=\"1551.5\" y=\"-52.8\" font-family=\"Helvetica,sans-Serif\" font-size=\"14.00\" fill=\"#000000\">gini = 0.048</text>\n<text text-anchor=\"start\" x=\"1541.5\" y=\"-37.8\" font-family=\"Helvetica,sans-Serif\" font-size=\"14.00\" fill=\"#000000\">samples = 164</text>\n<text text-anchor=\"start\" x=\"1516\" y=\"-22.8\" font-family=\"Helvetica,sans-Serif\" font-size=\"14.00\" fill=\"#000000\">value = [2, 0, 2, 160, 0]</text>\n<text text-anchor=\"start\" x=\"1534.5\" y=\"-7.8\" font-family=\"Helvetica,sans-Serif\" font-size=\"14.00\" fill=\"#000000\">class = japanese</text>\n</g>\n<!-- 19&#45;&gt;20 -->\n<g id=\"edge20\" class=\"edge\">\n<title>19&#45;&gt;20</title>\n<path fill=\"none\" stroke=\"#000000\" d=\"M1642.2215,-103.9815C1635.4361,-94.9747 1628.2505,-85.4367 1621.4399,-76.3965\"/>\n<polygon fill=\"#000000\" stroke=\"#000000\" points=\"1624.1257,-74.1448 1615.313,-68.2637 1618.5347,-78.3568 1624.1257,-74.1448\"/>\n</g>\n<!-- 21 -->\n<g id=\"node22\" class=\"node\">\n<title>21</title>\n<path fill=\"#e58139\" stroke=\"#000000\" d=\"M1823.5,-68C1823.5,-68 1701.5,-68 1701.5,-68 1695.5,-68 1689.5,-62 1689.5,-56 1689.5,-56 1689.5,-12 1689.5,-12 1689.5,-6 1695.5,0 1701.5,0 1701.5,0 1823.5,0 1823.5,0 1829.5,0 1835.5,-6 1835.5,-12 1835.5,-12 1835.5,-56 1835.5,-56 1835.5,-62 1829.5,-68 1823.5,-68\"/>\n<text text-anchor=\"start\" x=\"1733\" y=\"-52.8\" font-family=\"Helvetica,sans-Serif\" font-size=\"14.00\" fill=\"#000000\">gini = 0.0</text>\n<text text-anchor=\"start\" x=\"1723\" y=\"-37.8\" font-family=\"Helvetica,sans-Serif\" font-size=\"14.00\" fill=\"#000000\">samples = 1</text>\n<text text-anchor=\"start\" x=\"1697.5\" y=\"-22.8\" font-family=\"Helvetica,sans-Serif\" font-size=\"14.00\" fill=\"#000000\">value = [1, 0, 0, 0, 0]</text>\n<text text-anchor=\"start\" x=\"1718\" y=\"-7.8\" font-family=\"Helvetica,sans-Serif\" font-size=\"14.00\" fill=\"#000000\">class = indian</text>\n</g>\n<!-- 19&#45;&gt;21 -->\n<g id=\"edge21\" class=\"edge\">\n<title>19&#45;&gt;21</title>\n<path fill=\"none\" stroke=\"#000000\" d=\"M1706.6403,-103.9815C1713.903,-94.8828 1721.5983,-85.242 1728.8796,-76.1199\"/>\n<polygon fill=\"#000000\" stroke=\"#000000\" points=\"1731.6475,-78.2627 1735.1505,-68.2637 1726.1766,-73.8958 1731.6475,-78.2627\"/>\n</g>\n<!-- 25 -->\n<g id=\"node26\" class=\"node\">\n<title>25</title>\n<path fill=\"#8ae84f\" stroke=\"#000000\" d=\"M2553,-425C2553,-425 2406,-425 2406,-425 2400,-425 2394,-419 2394,-413 2394,-413 2394,-354 2394,-354 2394,-348 2400,-342 2406,-342 2406,-342 2553,-342 2553,-342 2559,-342 2565,-348 2565,-354 2565,-354 2565,-413 2565,-413 2565,-419 2559,-425 2553,-425\"/>\n<text text-anchor=\"start\" x=\"2450.5\" y=\"-409.8\" font-family=\"Helvetica,sans-Serif\" font-size=\"14.00\" fill=\"#000000\">fish ≤ 0.5</text>\n<text text-anchor=\"start\" x=\"2441.5\" y=\"-394.8\" font-family=\"Helvetica,sans-Serif\" font-size=\"14.00\" fill=\"#000000\">gini = 0.186</text>\n<text text-anchor=\"start\" x=\"2431.5\" y=\"-379.8\" font-family=\"Helvetica,sans-Serif\" font-size=\"14.00\" fill=\"#000000\">samples = 314</text>\n<text text-anchor=\"start\" x=\"2402\" y=\"-364.8\" font-family=\"Helvetica,sans-Serif\" font-size=\"14.00\" fill=\"#000000\">value = [3, 282, 1, 2, 26]</text>\n<text text-anchor=\"start\" x=\"2443\" y=\"-349.8\" font-family=\"Helvetica,sans-Serif\" font-size=\"14.00\" fill=\"#000000\">class = thai</text>\n</g>\n<!-- 24&#45;&gt;25 -->\n<g id=\"edge25\" class=\"edge\">\n<title>24&#45;&gt;25</title>\n<path fill=\"none\" stroke=\"#000000\" d=\"M2479.5,-460.8796C2479.5,-452.6838 2479.5,-443.9891 2479.5,-435.5013\"/>\n<polygon fill=\"#000000\" stroke=\"#000000\" points=\"2483.0001,-435.298 2479.5,-425.2981 2476.0001,-435.2981 2483.0001,-435.298\"/>\n</g>\n<!-- 38 -->\n<g id=\"node39\" class=\"node\">\n<title>38</title>\n<path fill=\"#ef88d9\" stroke=\"#000000\" d=\"M3283,-425C3283,-425 3136,-425 3136,-425 3130,-425 3124,-419 3124,-413 3124,-413 3124,-354 3124,-354 3124,-348 3130,-342 3136,-342 3136,-342 3283,-342 3283,-342 3289,-342 3295,-348 3295,-354 3295,-354 3295,-413 3295,-413 3295,-419 3289,-425 3283,-425\"/>\n<text text-anchor=\"start\" x=\"3163.5\" y=\"-409.8\" font-family=\"Helvetica,sans-Serif\" font-size=\"14.00\" fill=\"#000000\">cayenne ≤ 0.5</text>\n<text text-anchor=\"start\" x=\"3171.5\" y=\"-394.8\" font-family=\"Helvetica,sans-Serif\" font-size=\"14.00\" fill=\"#000000\">gini = 0.412</text>\n<text text-anchor=\"start\" x=\"3161.5\" y=\"-379.8\" font-family=\"Helvetica,sans-Serif\" font-size=\"14.00\" fill=\"#000000\">samples = 171</text>\n<text text-anchor=\"start\" x=\"3132\" y=\"-364.8\" font-family=\"Helvetica,sans-Serif\" font-size=\"14.00\" fill=\"#000000\">value = [0, 48, 1, 0, 122]</text>\n<text text-anchor=\"start\" x=\"3162\" y=\"-349.8\" font-family=\"Helvetica,sans-Serif\" font-size=\"14.00\" fill=\"#000000\">class = korean</text>\n</g>\n<!-- 24&#45;&gt;38 -->\n<g id=\"edge38\" class=\"edge\">\n<title>24&#45;&gt;38</title>\n<path fill=\"none\" stroke=\"#000000\" d=\"M2569.0123,-487.9083C2707.3225,-465.3618 2971.8071,-422.2472 3113.7855,-399.1028\"/>\n<polygon fill=\"#000000\" stroke=\"#000000\" points=\"3114.4862,-402.5348 3123.7928,-397.4714 3113.3599,-395.626 3114.4862,-402.5348\"/>\n</g>\n<!-- 26 -->\n<g id=\"node27\" class=\"node\">\n<title>26</title>\n<path fill=\"#85e748\" stroke=\"#000000\" d=\"M2428,-306C2428,-306 2281,-306 2281,-306 2275,-306 2269,-300 2269,-294 2269,-294 2269,-235 2269,-235 2269,-229 2275,-223 2281,-223 2281,-223 2428,-223 2428,-223 2434,-223 2440,-229 2440,-235 2440,-235 2440,-294 2440,-294 2440,-300 2434,-306 2428,-306\"/>\n<text text-anchor=\"start\" x=\"2301\" y=\"-290.8\" font-family=\"Helvetica,sans-Serif\" font-size=\"14.00\" fill=\"#000000\">soy_sauce ≤ 0.5</text>\n<text text-anchor=\"start\" x=\"2316.5\" y=\"-275.8\" font-family=\"Helvetica,sans-Serif\" font-size=\"14.00\" fill=\"#000000\">gini = 0.132</text>\n<text text-anchor=\"start\" x=\"2306.5\" y=\"-260.8\" font-family=\"Helvetica,sans-Serif\" font-size=\"14.00\" fill=\"#000000\">samples = 301</text>\n<text text-anchor=\"start\" x=\"2277\" y=\"-245.8\" font-family=\"Helvetica,sans-Serif\" font-size=\"14.00\" fill=\"#000000\">value = [3, 280, 1, 1, 16]</text>\n<text text-anchor=\"start\" x=\"2318\" y=\"-230.8\" font-family=\"Helvetica,sans-Serif\" font-size=\"14.00\" fill=\"#000000\">class = thai</text>\n</g>\n<!-- 25&#45;&gt;26 -->\n<g id=\"edge26\" class=\"edge\">\n<title>25&#45;&gt;26</title>\n<path fill=\"none\" stroke=\"#000000\" d=\"M2435.7811,-341.8796C2426.1314,-332.6931 2415.8234,-322.8798 2405.9009,-313.4336\"/>\n<polygon fill=\"#000000\" stroke=\"#000000\" points=\"2408.0616,-310.6582 2398.4055,-306.2981 2403.235,-315.7282 2408.0616,-310.6582\"/>\n</g>\n<!-- 33 -->\n<g id=\"node34\" class=\"node\">\n<title>33</title>\n<path fill=\"#ec6fd1\" stroke=\"#000000\" d=\"M2671,-306C2671,-306 2540,-306 2540,-306 2534,-306 2528,-300 2528,-294 2528,-294 2528,-235 2528,-235 2528,-229 2534,-223 2540,-223 2540,-223 2671,-223 2671,-223 2677,-223 2683,-229 2683,-235 2683,-235 2683,-294 2683,-294 2683,-300 2677,-306 2671,-306\"/>\n<text text-anchor=\"start\" x=\"2555.5\" y=\"-290.8\" font-family=\"Helvetica,sans-Serif\" font-size=\"14.00\" fill=\"#000000\">cucumber ≤ 0.5</text>\n<text text-anchor=\"start\" x=\"2567.5\" y=\"-275.8\" font-family=\"Helvetica,sans-Serif\" font-size=\"14.00\" fill=\"#000000\">gini = 0.379</text>\n<text text-anchor=\"start\" x=\"2561.5\" y=\"-260.8\" font-family=\"Helvetica,sans-Serif\" font-size=\"14.00\" fill=\"#000000\">samples = 13</text>\n<text text-anchor=\"start\" x=\"2536\" y=\"-245.8\" font-family=\"Helvetica,sans-Serif\" font-size=\"14.00\" fill=\"#000000\">value = [0, 2, 0, 1, 10]</text>\n<text text-anchor=\"start\" x=\"2558\" y=\"-230.8\" font-family=\"Helvetica,sans-Serif\" font-size=\"14.00\" fill=\"#000000\">class = korean</text>\n</g>\n<!-- 25&#45;&gt;33 -->\n<g id=\"edge33\" class=\"edge\">\n<title>25&#45;&gt;33</title>\n<path fill=\"none\" stroke=\"#000000\" d=\"M2523.5687,-341.8796C2533.2955,-332.6931 2543.6861,-322.8798 2553.6879,-313.4336\"/>\n<polygon fill=\"#000000\" stroke=\"#000000\" points=\"2556.3763,-315.7089 2561.2432,-306.2981 2551.5699,-310.6198 2556.3763,-315.7089\"/>\n</g>\n<!-- 27 -->\n<g id=\"node28\" class=\"node\">\n<title>27</title>\n<path fill=\"#81e642\" stroke=\"#000000\" d=\"M2182,-187C2182,-187 2035,-187 2035,-187 2029,-187 2023,-181 2023,-175 2023,-175 2023,-116 2023,-116 2023,-110 2029,-104 2035,-104 2035,-104 2182,-104 2182,-104 2188,-104 2194,-110 2194,-116 2194,-116 2194,-175 2194,-175 2194,-181 2188,-187 2182,-187\"/>\n<text text-anchor=\"start\" x=\"2060\" y=\"-171.8\" font-family=\"Helvetica,sans-Serif\" font-size=\"14.00\" fill=\"#000000\">marjoram ≤ 0.5</text>\n<text text-anchor=\"start\" x=\"2070.5\" y=\"-156.8\" font-family=\"Helvetica,sans-Serif\" font-size=\"14.00\" fill=\"#000000\">gini = 0.087</text>\n<text text-anchor=\"start\" x=\"2060.5\" y=\"-141.8\" font-family=\"Helvetica,sans-Serif\" font-size=\"14.00\" fill=\"#000000\">samples = 287</text>\n<text text-anchor=\"start\" x=\"2031\" y=\"-126.8\" font-family=\"Helvetica,sans-Serif\" font-size=\"14.00\" fill=\"#000000\">value = [0, 274, 1, 1, 11]</text>\n<text text-anchor=\"start\" x=\"2072\" y=\"-111.8\" font-family=\"Helvetica,sans-Serif\" font-size=\"14.00\" fill=\"#000000\">class = thai</text>\n</g>\n<!-- 26&#45;&gt;27 -->\n<g id=\"edge27\" class=\"edge\">\n<title>26&#45;&gt;27</title>\n<path fill=\"none\" stroke=\"#000000\" d=\"M2268.8065,-223.0466C2247.6951,-212.8342 2224.9641,-201.8383 2203.4435,-191.428\"/>\n<polygon fill=\"#000000\" stroke=\"#000000\" points=\"2204.829,-188.2102 2194.3028,-187.0062 2201.7807,-194.5116 2204.829,-188.2102\"/>\n</g>\n<!-- 30 -->\n<g id=\"node31\" class=\"node\">\n<title>30</title>\n<path fill=\"#f0fce9\" stroke=\"#000000\" d=\"M2415.5,-187C2415.5,-187 2293.5,-187 2293.5,-187 2287.5,-187 2281.5,-181 2281.5,-175 2281.5,-175 2281.5,-116 2281.5,-116 2281.5,-110 2287.5,-104 2293.5,-104 2293.5,-104 2415.5,-104 2415.5,-104 2421.5,-104 2427.5,-110 2427.5,-116 2427.5,-116 2427.5,-175 2427.5,-175 2427.5,-181 2421.5,-187 2415.5,-187\"/>\n<text text-anchor=\"start\" x=\"2291\" y=\"-171.8\" font-family=\"Helvetica,sans-Serif\" font-size=\"14.00\" fill=\"#000000\">chicken_broth ≤ 0.5</text>\n<text text-anchor=\"start\" x=\"2316.5\" y=\"-156.8\" font-family=\"Helvetica,sans-Serif\" font-size=\"14.00\" fill=\"#000000\">gini = 0.643</text>\n<text text-anchor=\"start\" x=\"2310.5\" y=\"-141.8\" font-family=\"Helvetica,sans-Serif\" font-size=\"14.00\" fill=\"#000000\">samples = 14</text>\n<text text-anchor=\"start\" x=\"2289.5\" y=\"-126.8\" font-family=\"Helvetica,sans-Serif\" font-size=\"14.00\" fill=\"#000000\">value = [3, 6, 0, 0, 5]</text>\n<text text-anchor=\"start\" x=\"2318\" y=\"-111.8\" font-family=\"Helvetica,sans-Serif\" font-size=\"14.00\" fill=\"#000000\">class = thai</text>\n</g>\n<!-- 26&#45;&gt;30 -->\n<g id=\"edge30\" class=\"edge\">\n<title>26&#45;&gt;30</title>\n<path fill=\"none\" stroke=\"#000000\" d=\"M2354.5,-222.8796C2354.5,-214.6838 2354.5,-205.9891 2354.5,-197.5013\"/>\n<polygon fill=\"#000000\" stroke=\"#000000\" points=\"2358.0001,-197.298 2354.5,-187.2981 2351.0001,-197.2981 2358.0001,-197.298\"/>\n</g>\n<!-- 28 -->\n<g id=\"node29\" class=\"node\">\n<title>28</title>\n<path fill=\"#80e641\" stroke=\"#000000\" d=\"M2005,-68C2005,-68 1866,-68 1866,-68 1860,-68 1854,-62 1854,-56 1854,-56 1854,-12 1854,-12 1854,-6 1860,0 1866,0 1866,0 2005,0 2005,0 2011,0 2017,-6 2017,-12 2017,-12 2017,-56 2017,-56 2017,-62 2011,-68 2005,-68\"/>\n<text text-anchor=\"start\" x=\"1897.5\" y=\"-52.8\" font-family=\"Helvetica,sans-Serif\" font-size=\"14.00\" fill=\"#000000\">gini = 0.075</text>\n<text text-anchor=\"start\" x=\"1887.5\" y=\"-37.8\" font-family=\"Helvetica,sans-Serif\" font-size=\"14.00\" fill=\"#000000\">samples = 285</text>\n<text text-anchor=\"start\" x=\"1862\" y=\"-22.8\" font-family=\"Helvetica,sans-Serif\" font-size=\"14.00\" fill=\"#000000\">value = [0, 274, 1, 1, 9]</text>\n<text text-anchor=\"start\" x=\"1899\" y=\"-7.8\" font-family=\"Helvetica,sans-Serif\" font-size=\"14.00\" fill=\"#000000\">class = thai</text>\n</g>\n<!-- 27&#45;&gt;28 -->\n<g id=\"edge28\" class=\"edge\">\n<title>27&#45;&gt;28</title>\n<path fill=\"none\" stroke=\"#000000\" d=\"M2044.0812,-103.9815C2028.7427,-94.0957 2012.4115,-83.5701 1997.1984,-73.7651\"/>\n<polygon fill=\"#000000\" stroke=\"#000000\" points=\"1998.6878,-70.5611 1988.3862,-68.0856 1994.8956,-76.445 1998.6878,-70.5611\"/>\n</g>\n<!-- 29 -->\n<g id=\"node30\" class=\"node\">\n<title>29</title>\n<path fill=\"#e539c0\" stroke=\"#000000\" d=\"M2169.5,-68C2169.5,-68 2047.5,-68 2047.5,-68 2041.5,-68 2035.5,-62 2035.5,-56 2035.5,-56 2035.5,-12 2035.5,-12 2035.5,-6 2041.5,0 2047.5,0 2047.5,0 2169.5,0 2169.5,0 2175.5,0 2181.5,-6 2181.5,-12 2181.5,-12 2181.5,-56 2181.5,-56 2181.5,-62 2175.5,-68 2169.5,-68\"/>\n<text text-anchor=\"start\" x=\"2079\" y=\"-52.8\" font-family=\"Helvetica,sans-Serif\" font-size=\"14.00\" fill=\"#000000\">gini = 0.0</text>\n<text text-anchor=\"start\" x=\"2069\" y=\"-37.8\" font-family=\"Helvetica,sans-Serif\" font-size=\"14.00\" fill=\"#000000\">samples = 2</text>\n<text text-anchor=\"start\" x=\"2043.5\" y=\"-22.8\" font-family=\"Helvetica,sans-Serif\" font-size=\"14.00\" fill=\"#000000\">value = [0, 0, 0, 0, 2]</text>\n<text text-anchor=\"start\" x=\"2061\" y=\"-7.8\" font-family=\"Helvetica,sans-Serif\" font-size=\"14.00\" fill=\"#000000\">class = korean</text>\n</g>\n<!-- 27&#45;&gt;29 -->\n<g id=\"edge29\" class=\"edge\">\n<title>27&#45;&gt;29</title>\n<path fill=\"none\" stroke=\"#000000\" d=\"M2108.5,-103.9815C2108.5,-95.618 2108.5,-86.7965 2108.5,-78.3409\"/>\n<polygon fill=\"#000000\" stroke=\"#000000\" points=\"2112.0001,-78.2636 2108.5,-68.2637 2105.0001,-78.2637 2112.0001,-78.2636\"/>\n</g>\n<!-- 31 -->\n<g id=\"node32\" class=\"node\">\n<title>31</title>\n<path fill=\"#d3f6bd\" stroke=\"#000000\" d=\"M2333.5,-68C2333.5,-68 2211.5,-68 2211.5,-68 2205.5,-68 2199.5,-62 2199.5,-56 2199.5,-56 2199.5,-12 2199.5,-12 2199.5,-6 2205.5,0 2211.5,0 2211.5,0 2333.5,0 2333.5,0 2339.5,0 2345.5,-6 2345.5,-12 2345.5,-12 2345.5,-56 2345.5,-56 2345.5,-62 2339.5,-68 2333.5,-68\"/>\n<text text-anchor=\"start\" x=\"2239\" y=\"-52.8\" font-family=\"Helvetica,sans-Serif\" font-size=\"14.00\" fill=\"#000000\">gini = 0.48</text>\n<text text-anchor=\"start\" x=\"2228.5\" y=\"-37.8\" font-family=\"Helvetica,sans-Serif\" font-size=\"14.00\" fill=\"#000000\">samples = 10</text>\n<text text-anchor=\"start\" x=\"2207.5\" y=\"-22.8\" font-family=\"Helvetica,sans-Serif\" font-size=\"14.00\" fill=\"#000000\">value = [0, 6, 0, 0, 4]</text>\n<text text-anchor=\"start\" x=\"2236\" y=\"-7.8\" font-family=\"Helvetica,sans-Serif\" font-size=\"14.00\" fill=\"#000000\">class = thai</text>\n</g>\n<!-- 30&#45;&gt;31 -->\n<g id=\"edge31\" class=\"edge\">\n<title>30&#45;&gt;31</title>\n<path fill=\"none\" stroke=\"#000000\" d=\"M2323.9662,-103.9815C2317.3424,-94.9747 2310.3279,-85.4367 2303.6795,-76.3965\"/>\n<polygon fill=\"#000000\" stroke=\"#000000\" points=\"2306.4426,-74.2461 2297.6984,-68.2637 2300.8034,-78.3933 2306.4426,-74.2461\"/>\n</g>\n<!-- 32 -->\n<g id=\"node33\" class=\"node\">\n<title>32</title>\n<path fill=\"#eeab7b\" stroke=\"#000000\" d=\"M2497.5,-68C2497.5,-68 2375.5,-68 2375.5,-68 2369.5,-68 2363.5,-62 2363.5,-56 2363.5,-56 2363.5,-12 2363.5,-12 2363.5,-6 2369.5,0 2375.5,0 2375.5,0 2497.5,0 2497.5,0 2503.5,0 2509.5,-6 2509.5,-12 2509.5,-12 2509.5,-56 2509.5,-56 2509.5,-62 2503.5,-68 2497.5,-68\"/>\n<text text-anchor=\"start\" x=\"2398.5\" y=\"-52.8\" font-family=\"Helvetica,sans-Serif\" font-size=\"14.00\" fill=\"#000000\">gini = 0.375</text>\n<text text-anchor=\"start\" x=\"2397\" y=\"-37.8\" font-family=\"Helvetica,sans-Serif\" font-size=\"14.00\" fill=\"#000000\">samples = 4</text>\n<text text-anchor=\"start\" x=\"2371.5\" y=\"-22.8\" font-family=\"Helvetica,sans-Serif\" font-size=\"14.00\" fill=\"#000000\">value = [3, 0, 0, 0, 1]</text>\n<text text-anchor=\"start\" x=\"2392\" y=\"-7.8\" font-family=\"Helvetica,sans-Serif\" font-size=\"14.00\" fill=\"#000000\">class = indian</text>\n</g>\n<!-- 30&#45;&gt;32 -->\n<g id=\"edge32\" class=\"edge\">\n<title>30&#45;&gt;32</title>\n<path fill=\"none\" stroke=\"#000000\" d=\"M2385.0338,-103.9815C2391.6576,-94.9747 2398.6721,-85.4367 2405.3205,-76.3965\"/>\n<polygon fill=\"#000000\" stroke=\"#000000\" points=\"2408.1966,-78.3933 2411.3016,-68.2637 2402.5574,-74.2461 2408.1966,-78.3933\"/>\n</g>\n<!-- 34 -->\n<g id=\"node35\" class=\"node\">\n<title>34</title>\n<path fill=\"#e84dc6\" stroke=\"#000000\" d=\"M2671,-187C2671,-187 2540,-187 2540,-187 2534,-187 2528,-181 2528,-175 2528,-175 2528,-116 2528,-116 2528,-110 2534,-104 2540,-104 2540,-104 2671,-104 2671,-104 2677,-104 2683,-110 2683,-116 2683,-116 2683,-175 2683,-175 2683,-181 2677,-187 2671,-187\"/>\n<text text-anchor=\"start\" x=\"2555.5\" y=\"-171.8\" font-family=\"Helvetica,sans-Serif\" font-size=\"14.00\" fill=\"#000000\">vegetable ≤ 0.5</text>\n<text text-anchor=\"start\" x=\"2567.5\" y=\"-156.8\" font-family=\"Helvetica,sans-Serif\" font-size=\"14.00\" fill=\"#000000\">gini = 0.165</text>\n<text text-anchor=\"start\" x=\"2561.5\" y=\"-141.8\" font-family=\"Helvetica,sans-Serif\" font-size=\"14.00\" fill=\"#000000\">samples = 11</text>\n<text text-anchor=\"start\" x=\"2536\" y=\"-126.8\" font-family=\"Helvetica,sans-Serif\" font-size=\"14.00\" fill=\"#000000\">value = [0, 0, 0, 1, 10]</text>\n<text text-anchor=\"start\" x=\"2558\" y=\"-111.8\" font-family=\"Helvetica,sans-Serif\" font-size=\"14.00\" fill=\"#000000\">class = korean</text>\n</g>\n<!-- 33&#45;&gt;34 -->\n<g id=\"edge34\" class=\"edge\">\n<title>33&#45;&gt;34</title>\n<path fill=\"none\" stroke=\"#000000\" d=\"M2605.5,-222.8796C2605.5,-214.6838 2605.5,-205.9891 2605.5,-197.5013\"/>\n<polygon fill=\"#000000\" stroke=\"#000000\" points=\"2609.0001,-197.298 2605.5,-187.2981 2602.0001,-197.2981 2609.0001,-197.298\"/>\n</g>\n<!-- 37 -->\n<g id=\"node38\" class=\"node\">\n<title>37</title>\n<path fill=\"#7be539\" stroke=\"#000000\" d=\"M2835.5,-179.5C2835.5,-179.5 2713.5,-179.5 2713.5,-179.5 2707.5,-179.5 2701.5,-173.5 2701.5,-167.5 2701.5,-167.5 2701.5,-123.5 2701.5,-123.5 2701.5,-117.5 2707.5,-111.5 2713.5,-111.5 2713.5,-111.5 2835.5,-111.5 2835.5,-111.5 2841.5,-111.5 2847.5,-117.5 2847.5,-123.5 2847.5,-123.5 2847.5,-167.5 2847.5,-167.5 2847.5,-173.5 2841.5,-179.5 2835.5,-179.5\"/>\n<text text-anchor=\"start\" x=\"2745\" y=\"-164.3\" font-family=\"Helvetica,sans-Serif\" font-size=\"14.00\" fill=\"#000000\">gini = 0.0</text>\n<text text-anchor=\"start\" x=\"2735\" y=\"-149.3\" font-family=\"Helvetica,sans-Serif\" font-size=\"14.00\" fill=\"#000000\">samples = 2</text>\n<text text-anchor=\"start\" x=\"2709.5\" y=\"-134.3\" font-family=\"Helvetica,sans-Serif\" font-size=\"14.00\" fill=\"#000000\">value = [0, 2, 0, 0, 0]</text>\n<text text-anchor=\"start\" x=\"2738\" y=\"-119.3\" font-family=\"Helvetica,sans-Serif\" font-size=\"14.00\" fill=\"#000000\">class = thai</text>\n</g>\n<!-- 33&#45;&gt;37 -->\n<g id=\"edge37\" class=\"edge\">\n<title>33&#45;&gt;37</title>\n<path fill=\"none\" stroke=\"#000000\" d=\"M2664.608,-222.8796C2681.8677,-210.7263 2700.6856,-197.4759 2717.793,-185.4297\"/>\n<polygon fill=\"#000000\" stroke=\"#000000\" points=\"2719.8782,-188.2421 2726.0396,-179.623 2715.8481,-182.5187 2719.8782,-188.2421\"/>\n</g>\n<!-- 35 -->\n<g id=\"node36\" class=\"node\">\n<title>35</title>\n<path fill=\"#e539c0\" stroke=\"#000000\" d=\"M2671,-68C2671,-68 2540,-68 2540,-68 2534,-68 2528,-62 2528,-56 2528,-56 2528,-12 2528,-12 2528,-6 2534,0 2540,0 2540,0 2671,0 2671,0 2677,0 2683,-6 2683,-12 2683,-12 2683,-56 2683,-56 2683,-62 2677,-68 2671,-68\"/>\n<text text-anchor=\"start\" x=\"2576\" y=\"-52.8\" font-family=\"Helvetica,sans-Serif\" font-size=\"14.00\" fill=\"#000000\">gini = 0.0</text>\n<text text-anchor=\"start\" x=\"2561.5\" y=\"-37.8\" font-family=\"Helvetica,sans-Serif\" font-size=\"14.00\" fill=\"#000000\">samples = 10</text>\n<text text-anchor=\"start\" x=\"2536\" y=\"-22.8\" font-family=\"Helvetica,sans-Serif\" font-size=\"14.00\" fill=\"#000000\">value = [0, 0, 0, 0, 10]</text>\n<text text-anchor=\"start\" x=\"2558\" y=\"-7.8\" font-family=\"Helvetica,sans-Serif\" font-size=\"14.00\" fill=\"#000000\">class = korean</text>\n</g>\n<!-- 34&#45;&gt;35 -->\n<g id=\"edge35\" class=\"edge\">\n<title>34&#45;&gt;35</title>\n<path fill=\"none\" stroke=\"#000000\" d=\"M2605.5,-103.9815C2605.5,-95.618 2605.5,-86.7965 2605.5,-78.3409\"/>\n<polygon fill=\"#000000\" stroke=\"#000000\" points=\"2609.0001,-78.2636 2605.5,-68.2637 2602.0001,-78.2637 2609.0001,-78.2636\"/>\n</g>\n<!-- 36 -->\n<g id=\"node37\" class=\"node\">\n<title>36</title>\n<path fill=\"#3c39e5\" stroke=\"#000000\" d=\"M2835.5,-68C2835.5,-68 2713.5,-68 2713.5,-68 2707.5,-68 2701.5,-62 2701.5,-56 2701.5,-56 2701.5,-12 2701.5,-12 2701.5,-6 2707.5,0 2713.5,0 2713.5,0 2835.5,0 2835.5,0 2841.5,0 2847.5,-6 2847.5,-12 2847.5,-12 2847.5,-56 2847.5,-56 2847.5,-62 2841.5,-68 2835.5,-68\"/>\n<text text-anchor=\"start\" x=\"2745\" y=\"-52.8\" font-family=\"Helvetica,sans-Serif\" font-size=\"14.00\" fill=\"#000000\">gini = 0.0</text>\n<text text-anchor=\"start\" x=\"2735\" y=\"-37.8\" font-family=\"Helvetica,sans-Serif\" font-size=\"14.00\" fill=\"#000000\">samples = 1</text>\n<text text-anchor=\"start\" x=\"2709.5\" y=\"-22.8\" font-family=\"Helvetica,sans-Serif\" font-size=\"14.00\" fill=\"#000000\">value = [0, 0, 0, 1, 0]</text>\n<text text-anchor=\"start\" x=\"2719.5\" y=\"-7.8\" font-family=\"Helvetica,sans-Serif\" font-size=\"14.00\" fill=\"#000000\">class = japanese</text>\n</g>\n<!-- 34&#45;&gt;36 -->\n<g id=\"edge36\" class=\"edge\">\n<title>34&#45;&gt;36</title>\n<path fill=\"none\" stroke=\"#000000\" d=\"M2668.4294,-103.9815C2683.4132,-94.0957 2699.3668,-83.5701 2714.2282,-73.7651\"/>\n<polygon fill=\"#000000\" stroke=\"#000000\" points=\"2716.417,-76.5142 2722.8366,-68.0856 2712.5621,-70.6713 2716.417,-76.5142\"/>\n</g>\n<!-- 39 -->\n<g id=\"node40\" class=\"node\">\n<title>39</title>\n<path fill=\"#e95acb\" stroke=\"#000000\" d=\"M3283,-306C3283,-306 3136,-306 3136,-306 3130,-306 3124,-300 3124,-294 3124,-294 3124,-235 3124,-235 3124,-229 3130,-223 3136,-223 3136,-223 3283,-223 3283,-223 3289,-223 3295,-229 3295,-235 3295,-235 3295,-294 3295,-294 3295,-300 3289,-306 3283,-306\"/>\n<text text-anchor=\"start\" x=\"3163.5\" y=\"-290.8\" font-family=\"Helvetica,sans-Serif\" font-size=\"14.00\" fill=\"#000000\">soybean ≤ 0.5</text>\n<text text-anchor=\"start\" x=\"3171.5\" y=\"-275.8\" font-family=\"Helvetica,sans-Serif\" font-size=\"14.00\" fill=\"#000000\">gini = 0.245</text>\n<text text-anchor=\"start\" x=\"3161.5\" y=\"-260.8\" font-family=\"Helvetica,sans-Serif\" font-size=\"14.00\" fill=\"#000000\">samples = 126</text>\n<text text-anchor=\"start\" x=\"3132\" y=\"-245.8\" font-family=\"Helvetica,sans-Serif\" font-size=\"14.00\" fill=\"#000000\">value = [0, 18, 0, 0, 108]</text>\n<text text-anchor=\"start\" x=\"3162\" y=\"-230.8\" font-family=\"Helvetica,sans-Serif\" font-size=\"14.00\" fill=\"#000000\">class = korean</text>\n</g>\n<!-- 38&#45;&gt;39 -->\n<g id=\"edge39\" class=\"edge\">\n<title>38&#45;&gt;39</title>\n<path fill=\"none\" stroke=\"#000000\" d=\"M3209.5,-341.8796C3209.5,-333.6838 3209.5,-324.9891 3209.5,-316.5013\"/>\n<polygon fill=\"#000000\" stroke=\"#000000\" points=\"3213.0001,-316.298 3209.5,-306.2981 3206.0001,-316.2981 3213.0001,-316.298\"/>\n</g>\n<!-- 46 -->\n<g id=\"node47\" class=\"node\">\n<title>46</title>\n<path fill=\"#bbf299\" stroke=\"#000000\" d=\"M3777,-306C3777,-306 3638,-306 3638,-306 3632,-306 3626,-300 3626,-294 3626,-294 3626,-235 3626,-235 3626,-229 3632,-223 3638,-223 3638,-223 3777,-223 3777,-223 3783,-223 3789,-229 3789,-235 3789,-235 3789,-294 3789,-294 3789,-300 3783,-306 3777,-306\"/>\n<text text-anchor=\"start\" x=\"3678.5\" y=\"-290.8\" font-family=\"Helvetica,sans-Serif\" font-size=\"14.00\" fill=\"#000000\">fish ≤ 0.5</text>\n<text text-anchor=\"start\" x=\"3669.5\" y=\"-275.8\" font-family=\"Helvetica,sans-Serif\" font-size=\"14.00\" fill=\"#000000\">gini = 0.458</text>\n<text text-anchor=\"start\" x=\"3663.5\" y=\"-260.8\" font-family=\"Helvetica,sans-Serif\" font-size=\"14.00\" fill=\"#000000\">samples = 45</text>\n<text text-anchor=\"start\" x=\"3634\" y=\"-245.8\" font-family=\"Helvetica,sans-Serif\" font-size=\"14.00\" fill=\"#000000\">value = [0, 30, 1, 0, 14]</text>\n<text text-anchor=\"start\" x=\"3671\" y=\"-230.8\" font-family=\"Helvetica,sans-Serif\" font-size=\"14.00\" fill=\"#000000\">class = thai</text>\n</g>\n<!-- 38&#45;&gt;46 -->\n<g id=\"edge46\" class=\"edge\">\n<title>38&#45;&gt;46</title>\n<path fill=\"none\" stroke=\"#000000\" d=\"M3295.1093,-363.0432C3384.594,-341.6603 3524.4848,-308.2326 3616.0806,-286.3452\"/>\n<polygon fill=\"#000000\" stroke=\"#000000\" points=\"3616.9832,-289.7281 3625.8959,-283.9998 3615.3563,-282.9198 3616.9832,-289.7281\"/>\n</g>\n<!-- 40 -->\n<g id=\"node41\" class=\"node\">\n<title>40</title>\n<path fill=\"#e955c9\" stroke=\"#000000\" d=\"M3195,-187C3195,-187 3048,-187 3048,-187 3042,-187 3036,-181 3036,-175 3036,-175 3036,-116 3036,-116 3036,-110 3042,-104 3048,-104 3048,-104 3195,-104 3195,-104 3201,-104 3207,-110 3207,-116 3207,-116 3207,-175 3207,-175 3207,-181 3201,-187 3195,-187\"/>\n<text text-anchor=\"start\" x=\"3071.5\" y=\"-171.8\" font-family=\"Helvetica,sans-Serif\" font-size=\"14.00\" fill=\"#000000\">cinnamon ≤ 0.5</text>\n<text text-anchor=\"start\" x=\"3083.5\" y=\"-156.8\" font-family=\"Helvetica,sans-Serif\" font-size=\"14.00\" fill=\"#000000\">gini = 0.216</text>\n<text text-anchor=\"start\" x=\"3073.5\" y=\"-141.8\" font-family=\"Helvetica,sans-Serif\" font-size=\"14.00\" fill=\"#000000\">samples = 122</text>\n<text text-anchor=\"start\" x=\"3044\" y=\"-126.8\" font-family=\"Helvetica,sans-Serif\" font-size=\"14.00\" fill=\"#000000\">value = [0, 15, 0, 0, 107]</text>\n<text text-anchor=\"start\" x=\"3074\" y=\"-111.8\" font-family=\"Helvetica,sans-Serif\" font-size=\"14.00\" fill=\"#000000\">class = korean</text>\n</g>\n<!-- 39&#45;&gt;40 -->\n<g id=\"edge40\" class=\"edge\">\n<title>39&#45;&gt;40</title>\n<path fill=\"none\" stroke=\"#000000\" d=\"M3178.7219,-222.8796C3172.1949,-214.0534 3165.2401,-204.6485 3158.5092,-195.5466\"/>\n<polygon fill=\"#000000\" stroke=\"#000000\" points=\"3161.1695,-193.2574 3152.4095,-187.2981 3155.5412,-197.4195 3161.1695,-193.2574\"/>\n</g>\n<!-- 43 -->\n<g id=\"node44\" class=\"node\">\n<title>43</title>\n<path fill=\"#a7ee7b\" stroke=\"#000000\" d=\"M3359.5,-187C3359.5,-187 3237.5,-187 3237.5,-187 3231.5,-187 3225.5,-181 3225.5,-175 3225.5,-175 3225.5,-116 3225.5,-116 3225.5,-110 3231.5,-104 3237.5,-104 3237.5,-104 3359.5,-104 3359.5,-104 3365.5,-104 3371.5,-110 3371.5,-116 3371.5,-116 3371.5,-175 3371.5,-175 3371.5,-181 3365.5,-187 3359.5,-187\"/>\n<text text-anchor=\"start\" x=\"3242.5\" y=\"-171.8\" font-family=\"Helvetica,sans-Serif\" font-size=\"14.00\" fill=\"#000000\">lemongrass ≤ 0.5</text>\n<text text-anchor=\"start\" x=\"3260.5\" y=\"-156.8\" font-family=\"Helvetica,sans-Serif\" font-size=\"14.00\" fill=\"#000000\">gini = 0.375</text>\n<text text-anchor=\"start\" x=\"3259\" y=\"-141.8\" font-family=\"Helvetica,sans-Serif\" font-size=\"14.00\" fill=\"#000000\">samples = 4</text>\n<text text-anchor=\"start\" x=\"3233.5\" y=\"-126.8\" font-family=\"Helvetica,sans-Serif\" font-size=\"14.00\" fill=\"#000000\">value = [0, 3, 0, 0, 1]</text>\n<text text-anchor=\"start\" x=\"3262\" y=\"-111.8\" font-family=\"Helvetica,sans-Serif\" font-size=\"14.00\" fill=\"#000000\">class = thai</text>\n</g>\n<!-- 39&#45;&gt;43 -->\n<g id=\"edge43\" class=\"edge\">\n<title>39&#45;&gt;43</title>\n<path fill=\"none\" stroke=\"#000000\" d=\"M3240.6279,-222.8796C3247.229,-214.0534 3254.2629,-204.6485 3261.0702,-195.5466\"/>\n<polygon fill=\"#000000\" stroke=\"#000000\" points=\"3264.0528,-197.4024 3267.2393,-187.2981 3258.4472,-193.2099 3264.0528,-197.4024\"/>\n</g>\n<!-- 41 -->\n<g id=\"node42\" class=\"node\">\n<title>41</title>\n<path fill=\"#e851c8\" stroke=\"#000000\" d=\"M3025,-68C3025,-68 2878,-68 2878,-68 2872,-68 2866,-62 2866,-56 2866,-56 2866,-12 2866,-12 2866,-6 2872,0 2878,0 2878,0 3025,0 3025,0 3031,0 3037,-6 3037,-12 3037,-12 3037,-56 3037,-56 3037,-62 3031,-68 3025,-68\"/>\n<text text-anchor=\"start\" x=\"2913.5\" y=\"-52.8\" font-family=\"Helvetica,sans-Serif\" font-size=\"14.00\" fill=\"#000000\">gini = 0.193</text>\n<text text-anchor=\"start\" x=\"2903.5\" y=\"-37.8\" font-family=\"Helvetica,sans-Serif\" font-size=\"14.00\" fill=\"#000000\">samples = 120</text>\n<text text-anchor=\"start\" x=\"2874\" y=\"-22.8\" font-family=\"Helvetica,sans-Serif\" font-size=\"14.00\" fill=\"#000000\">value = [0, 13, 0, 0, 107]</text>\n<text text-anchor=\"start\" x=\"2904\" y=\"-7.8\" font-family=\"Helvetica,sans-Serif\" font-size=\"14.00\" fill=\"#000000\">class = korean</text>\n</g>\n<!-- 40&#45;&gt;41 -->\n<g id=\"edge41\" class=\"edge\">\n<title>40&#45;&gt;41</title>\n<path fill=\"none\" stroke=\"#000000\" d=\"M3058.1983,-103.9815C3043.1258,-94.0957 3027.0778,-83.5701 3012.1284,-73.7651\"/>\n<polygon fill=\"#000000\" stroke=\"#000000\" points=\"3013.7506,-70.6434 3003.4691,-68.0856 3009.9115,-76.4968 3013.7506,-70.6434\"/>\n</g>\n<!-- 42 -->\n<g id=\"node43\" class=\"node\">\n<title>42</title>\n<path fill=\"#7be539\" stroke=\"#000000\" d=\"M3189.5,-68C3189.5,-68 3067.5,-68 3067.5,-68 3061.5,-68 3055.5,-62 3055.5,-56 3055.5,-56 3055.5,-12 3055.5,-12 3055.5,-6 3061.5,0 3067.5,0 3067.5,0 3189.5,0 3189.5,0 3195.5,0 3201.5,-6 3201.5,-12 3201.5,-12 3201.5,-56 3201.5,-56 3201.5,-62 3195.5,-68 3189.5,-68\"/>\n<text text-anchor=\"start\" x=\"3099\" y=\"-52.8\" font-family=\"Helvetica,sans-Serif\" font-size=\"14.00\" fill=\"#000000\">gini = 0.0</text>\n<text text-anchor=\"start\" x=\"3089\" y=\"-37.8\" font-family=\"Helvetica,sans-Serif\" font-size=\"14.00\" fill=\"#000000\">samples = 2</text>\n<text text-anchor=\"start\" x=\"3063.5\" y=\"-22.8\" font-family=\"Helvetica,sans-Serif\" font-size=\"14.00\" fill=\"#000000\">value = [0, 2, 0, 0, 0]</text>\n<text text-anchor=\"start\" x=\"3092\" y=\"-7.8\" font-family=\"Helvetica,sans-Serif\" font-size=\"14.00\" fill=\"#000000\">class = thai</text>\n</g>\n<!-- 40&#45;&gt;42 -->\n<g id=\"edge42\" class=\"edge\">\n<title>40&#45;&gt;42</title>\n<path fill=\"none\" stroke=\"#000000\" d=\"M3124.1065,-103.9815C3124.6316,-95.618 3125.1854,-86.7965 3125.7163,-78.3409\"/>\n<polygon fill=\"#000000\" stroke=\"#000000\" points=\"3129.2154,-78.4634 3126.3489,-68.2637 3122.2291,-78.0247 3129.2154,-78.4634\"/>\n</g>\n<!-- 44 -->\n<g id=\"node45\" class=\"node\">\n<title>44</title>\n<path fill=\"#7be539\" stroke=\"#000000\" d=\"M3353.5,-68C3353.5,-68 3231.5,-68 3231.5,-68 3225.5,-68 3219.5,-62 3219.5,-56 3219.5,-56 3219.5,-12 3219.5,-12 3219.5,-6 3225.5,0 3231.5,0 3231.5,0 3353.5,0 3353.5,0 3359.5,0 3365.5,-6 3365.5,-12 3365.5,-12 3365.5,-56 3365.5,-56 3365.5,-62 3359.5,-68 3353.5,-68\"/>\n<text text-anchor=\"start\" x=\"3263\" y=\"-52.8\" font-family=\"Helvetica,sans-Serif\" font-size=\"14.00\" fill=\"#000000\">gini = 0.0</text>\n<text text-anchor=\"start\" x=\"3253\" y=\"-37.8\" font-family=\"Helvetica,sans-Serif\" font-size=\"14.00\" fill=\"#000000\">samples = 3</text>\n<text text-anchor=\"start\" x=\"3227.5\" y=\"-22.8\" font-family=\"Helvetica,sans-Serif\" font-size=\"14.00\" fill=\"#000000\">value = [0, 3, 0, 0, 0]</text>\n<text text-anchor=\"start\" x=\"3256\" y=\"-7.8\" font-family=\"Helvetica,sans-Serif\" font-size=\"14.00\" fill=\"#000000\">class = thai</text>\n</g>\n<!-- 43&#45;&gt;44 -->\n<g id=\"edge44\" class=\"edge\">\n<title>43&#45;&gt;44</title>\n<path fill=\"none\" stroke=\"#000000\" d=\"M3296.2658,-103.9815C3295.8158,-95.618 3295.3411,-86.7965 3294.8861,-78.3409\"/>\n<polygon fill=\"#000000\" stroke=\"#000000\" points=\"3298.3762,-78.0611 3294.3438,-68.2637 3291.3863,-78.4373 3298.3762,-78.0611\"/>\n</g>\n<!-- 45 -->\n<g id=\"node46\" class=\"node\">\n<title>45</title>\n<path fill=\"#e539c0\" stroke=\"#000000\" d=\"M3517.5,-68C3517.5,-68 3395.5,-68 3395.5,-68 3389.5,-68 3383.5,-62 3383.5,-56 3383.5,-56 3383.5,-12 3383.5,-12 3383.5,-6 3389.5,0 3395.5,0 3395.5,0 3517.5,0 3517.5,0 3523.5,0 3529.5,-6 3529.5,-12 3529.5,-12 3529.5,-56 3529.5,-56 3529.5,-62 3523.5,-68 3517.5,-68\"/>\n<text text-anchor=\"start\" x=\"3427\" y=\"-52.8\" font-family=\"Helvetica,sans-Serif\" font-size=\"14.00\" fill=\"#000000\">gini = 0.0</text>\n<text text-anchor=\"start\" x=\"3417\" y=\"-37.8\" font-family=\"Helvetica,sans-Serif\" font-size=\"14.00\" fill=\"#000000\">samples = 1</text>\n<text text-anchor=\"start\" x=\"3391.5\" y=\"-22.8\" font-family=\"Helvetica,sans-Serif\" font-size=\"14.00\" fill=\"#000000\">value = [0, 0, 0, 0, 1]</text>\n<text text-anchor=\"start\" x=\"3409\" y=\"-7.8\" font-family=\"Helvetica,sans-Serif\" font-size=\"14.00\" fill=\"#000000\">class = korean</text>\n</g>\n<!-- 43&#45;&gt;45 -->\n<g id=\"edge45\" class=\"edge\">\n<title>43&#45;&gt;45</title>\n<path fill=\"none\" stroke=\"#000000\" d=\"M3357.3334,-103.9815C3371.211,-94.1881 3385.9784,-83.7668 3399.7614,-74.0402\"/>\n<polygon fill=\"#000000\" stroke=\"#000000\" points=\"3402.0469,-76.7111 3408.1993,-68.0856 3398.0108,-70.9918 3402.0469,-76.7111\"/>\n</g>\n<!-- 47 -->\n<g id=\"node48\" class=\"node\">\n<title>47</title>\n<path fill=\"#89e84d\" stroke=\"#000000\" d=\"M3773,-187C3773,-187 3642,-187 3642,-187 3636,-187 3630,-181 3630,-175 3630,-175 3630,-116 3630,-116 3630,-110 3636,-104 3642,-104 3642,-104 3773,-104 3773,-104 3779,-104 3785,-110 3785,-116 3785,-116 3785,-175 3785,-175 3785,-181 3779,-187 3773,-187\"/>\n<text text-anchor=\"start\" x=\"3651.5\" y=\"-171.8\" font-family=\"Helvetica,sans-Serif\" font-size=\"14.00\" fill=\"#000000\">bell_pepper ≤ 0.5</text>\n<text text-anchor=\"start\" x=\"3674\" y=\"-156.8\" font-family=\"Helvetica,sans-Serif\" font-size=\"14.00\" fill=\"#000000\">gini = 0.17</text>\n<text text-anchor=\"start\" x=\"3663.5\" y=\"-141.8\" font-family=\"Helvetica,sans-Serif\" font-size=\"14.00\" fill=\"#000000\">samples = 32</text>\n<text text-anchor=\"start\" x=\"3638\" y=\"-126.8\" font-family=\"Helvetica,sans-Serif\" font-size=\"14.00\" fill=\"#000000\">value = [0, 29, 0, 0, 3]</text>\n<text text-anchor=\"start\" x=\"3671\" y=\"-111.8\" font-family=\"Helvetica,sans-Serif\" font-size=\"14.00\" fill=\"#000000\">class = thai</text>\n</g>\n<!-- 46&#45;&gt;47 -->\n<g id=\"edge47\" class=\"edge\">\n<title>46&#45;&gt;47</title>\n<path fill=\"none\" stroke=\"#000000\" d=\"M3707.5,-222.8796C3707.5,-214.6838 3707.5,-205.9891 3707.5,-197.5013\"/>\n<polygon fill=\"#000000\" stroke=\"#000000\" points=\"3711.0001,-197.298 3707.5,-187.2981 3704.0001,-197.2981 3711.0001,-197.298\"/>\n</g>\n<!-- 50 -->\n<g id=\"node51\" class=\"node\">\n<title>50</title>\n<path fill=\"#e95acb\" stroke=\"#000000\" d=\"M4029,-187C4029,-187 3898,-187 3898,-187 3892,-187 3886,-181 3886,-175 3886,-175 3886,-116 3886,-116 3886,-110 3892,-104 3898,-104 3898,-104 4029,-104 4029,-104 4035,-104 4041,-110 4041,-116 4041,-116 4041,-175 4041,-175 4041,-181 4035,-187 4029,-187\"/>\n<text text-anchor=\"start\" x=\"3933\" y=\"-171.8\" font-family=\"Helvetica,sans-Serif\" font-size=\"14.00\" fill=\"#000000\">egg ≤ 0.5</text>\n<text text-anchor=\"start\" x=\"3925.5\" y=\"-156.8\" font-family=\"Helvetica,sans-Serif\" font-size=\"14.00\" fill=\"#000000\">gini = 0.272</text>\n<text text-anchor=\"start\" x=\"3919.5\" y=\"-141.8\" font-family=\"Helvetica,sans-Serif\" font-size=\"14.00\" fill=\"#000000\">samples = 13</text>\n<text text-anchor=\"start\" x=\"3894\" y=\"-126.8\" font-family=\"Helvetica,sans-Serif\" font-size=\"14.00\" fill=\"#000000\">value = [0, 1, 1, 0, 11]</text>\n<text text-anchor=\"start\" x=\"3916\" y=\"-111.8\" font-family=\"Helvetica,sans-Serif\" font-size=\"14.00\" fill=\"#000000\">class = korean</text>\n</g>\n<!-- 46&#45;&gt;50 -->\n<g id=\"edge50\" class=\"edge\">\n<title>46&#45;&gt;50</title>\n<path fill=\"none\" stroke=\"#000000\" d=\"M3789.2039,-226.5205C3816.9434,-213.6259 3848.0355,-199.1729 3876.1949,-186.0832\"/>\n<polygon fill=\"#000000\" stroke=\"#000000\" points=\"3878.0302,-189.0898 3885.623,-181.7006 3875.0795,-182.7421 3878.0302,-189.0898\"/>\n</g>\n<!-- 48 -->\n<g id=\"node49\" class=\"node\">\n<title>48</title>\n<path fill=\"#80e640\" stroke=\"#000000\" d=\"M3691,-68C3691,-68 3560,-68 3560,-68 3554,-68 3548,-62 3548,-56 3548,-56 3548,-12 3548,-12 3548,-6 3554,0 3560,0 3560,0 3691,0 3691,0 3697,0 3703,-6 3703,-12 3703,-12 3703,-56 3703,-56 3703,-62 3697,-68 3691,-68\"/>\n<text text-anchor=\"start\" x=\"3587.5\" y=\"-52.8\" font-family=\"Helvetica,sans-Serif\" font-size=\"14.00\" fill=\"#000000\">gini = 0.064</text>\n<text text-anchor=\"start\" x=\"3581.5\" y=\"-37.8\" font-family=\"Helvetica,sans-Serif\" font-size=\"14.00\" fill=\"#000000\">samples = 30</text>\n<text text-anchor=\"start\" x=\"3556\" y=\"-22.8\" font-family=\"Helvetica,sans-Serif\" font-size=\"14.00\" fill=\"#000000\">value = [0, 29, 0, 0, 1]</text>\n<text text-anchor=\"start\" x=\"3589\" y=\"-7.8\" font-family=\"Helvetica,sans-Serif\" font-size=\"14.00\" fill=\"#000000\">class = thai</text>\n</g>\n<!-- 47&#45;&gt;48 -->\n<g id=\"edge48\" class=\"edge\">\n<title>47&#45;&gt;48</title>\n<path fill=\"none\" stroke=\"#000000\" d=\"M3676.9662,-103.9815C3670.3424,-94.9747 3663.3279,-85.4367 3656.6795,-76.3965\"/>\n<polygon fill=\"#000000\" stroke=\"#000000\" points=\"3659.4426,-74.2461 3650.6984,-68.2637 3653.8034,-78.3933 3659.4426,-74.2461\"/>\n</g>\n<!-- 49 -->\n<g id=\"node50\" class=\"node\">\n<title>49</title>\n<path fill=\"#e539c0\" stroke=\"#000000\" d=\"M3855.5,-68C3855.5,-68 3733.5,-68 3733.5,-68 3727.5,-68 3721.5,-62 3721.5,-56 3721.5,-56 3721.5,-12 3721.5,-12 3721.5,-6 3727.5,0 3733.5,0 3733.5,0 3855.5,0 3855.5,0 3861.5,0 3867.5,-6 3867.5,-12 3867.5,-12 3867.5,-56 3867.5,-56 3867.5,-62 3861.5,-68 3855.5,-68\"/>\n<text text-anchor=\"start\" x=\"3765\" y=\"-52.8\" font-family=\"Helvetica,sans-Serif\" font-size=\"14.00\" fill=\"#000000\">gini = 0.0</text>\n<text text-anchor=\"start\" x=\"3755\" y=\"-37.8\" font-family=\"Helvetica,sans-Serif\" font-size=\"14.00\" fill=\"#000000\">samples = 2</text>\n<text text-anchor=\"start\" x=\"3729.5\" y=\"-22.8\" font-family=\"Helvetica,sans-Serif\" font-size=\"14.00\" fill=\"#000000\">value = [0, 0, 0, 0, 2]</text>\n<text text-anchor=\"start\" x=\"3747\" y=\"-7.8\" font-family=\"Helvetica,sans-Serif\" font-size=\"14.00\" fill=\"#000000\">class = korean</text>\n</g>\n<!-- 47&#45;&gt;49 -->\n<g id=\"edge49\" class=\"edge\">\n<title>47&#45;&gt;49</title>\n<path fill=\"none\" stroke=\"#000000\" d=\"M3739.8956,-103.9815C3746.9234,-94.9747 3754.3655,-85.4367 3761.4193,-76.3965\"/>\n<polygon fill=\"#000000\" stroke=\"#000000\" points=\"3764.3728,-78.3008 3767.7651,-68.2637 3758.854,-73.9946 3764.3728,-78.3008\"/>\n</g>\n<!-- 51 -->\n<g id=\"node52\" class=\"node\">\n<title>51</title>\n<path fill=\"#e74bc6\" stroke=\"#000000\" d=\"M4029,-68C4029,-68 3898,-68 3898,-68 3892,-68 3886,-62 3886,-56 3886,-56 3886,-12 3886,-12 3886,-6 3892,0 3898,0 3898,0 4029,0 4029,0 4035,0 4041,-6 4041,-12 4041,-12 4041,-56 4041,-56 4041,-62 4035,-68 4029,-68\"/>\n<text text-anchor=\"start\" x=\"3925.5\" y=\"-52.8\" font-family=\"Helvetica,sans-Serif\" font-size=\"14.00\" fill=\"#000000\">gini = 0.153</text>\n<text text-anchor=\"start\" x=\"3919.5\" y=\"-37.8\" font-family=\"Helvetica,sans-Serif\" font-size=\"14.00\" fill=\"#000000\">samples = 12</text>\n<text text-anchor=\"start\" x=\"3894\" y=\"-22.8\" font-family=\"Helvetica,sans-Serif\" font-size=\"14.00\" fill=\"#000000\">value = [0, 0, 1, 0, 11]</text>\n<text text-anchor=\"start\" x=\"3916\" y=\"-7.8\" font-family=\"Helvetica,sans-Serif\" font-size=\"14.00\" fill=\"#000000\">class = korean</text>\n</g>\n<!-- 50&#45;&gt;51 -->\n<g id=\"edge51\" class=\"edge\">\n<title>50&#45;&gt;51</title>\n<path fill=\"none\" stroke=\"#000000\" d=\"M3963.5,-103.9815C3963.5,-95.618 3963.5,-86.7965 3963.5,-78.3409\"/>\n<polygon fill=\"#000000\" stroke=\"#000000\" points=\"3967.0001,-78.2636 3963.5,-68.2637 3960.0001,-78.2637 3967.0001,-78.2636\"/>\n</g>\n<!-- 52 -->\n<g id=\"node53\" class=\"node\">\n<title>52</title>\n<path fill=\"#7be539\" stroke=\"#000000\" d=\"M4193.5,-68C4193.5,-68 4071.5,-68 4071.5,-68 4065.5,-68 4059.5,-62 4059.5,-56 4059.5,-56 4059.5,-12 4059.5,-12 4059.5,-6 4065.5,0 4071.5,0 4071.5,0 4193.5,0 4193.5,0 4199.5,0 4205.5,-6 4205.5,-12 4205.5,-12 4205.5,-56 4205.5,-56 4205.5,-62 4199.5,-68 4193.5,-68\"/>\n<text text-anchor=\"start\" x=\"4103\" y=\"-52.8\" font-family=\"Helvetica,sans-Serif\" font-size=\"14.00\" fill=\"#000000\">gini = 0.0</text>\n<text text-anchor=\"start\" x=\"4093\" y=\"-37.8\" font-family=\"Helvetica,sans-Serif\" font-size=\"14.00\" fill=\"#000000\">samples = 1</text>\n<text text-anchor=\"start\" x=\"4067.5\" y=\"-22.8\" font-family=\"Helvetica,sans-Serif\" font-size=\"14.00\" fill=\"#000000\">value = [0, 1, 0, 0, 0]</text>\n<text text-anchor=\"start\" x=\"4096\" y=\"-7.8\" font-family=\"Helvetica,sans-Serif\" font-size=\"14.00\" fill=\"#000000\">class = thai</text>\n</g>\n<!-- 50&#45;&gt;52 -->\n<g id=\"edge52\" class=\"edge\">\n<title>50&#45;&gt;52</title>\n<path fill=\"none\" stroke=\"#000000\" d=\"M4026.4294,-103.9815C4041.4132,-94.0957 4057.3668,-83.5701 4072.2282,-73.7651\"/>\n<polygon fill=\"#000000\" stroke=\"#000000\" points=\"4074.417,-76.5142 4080.8366,-68.0856 4070.5621,-70.6713 4074.417,-76.5142\"/>\n</g>\n</g>\n</svg>\n"
          },
          "metadata": {},
          "execution_count": 56
        }
      ]
    },
    {
      "cell_type": "code",
      "source": [
        "y_pred = clf.predict(X_test)\n",
        "accuracy = accuracy_score(y_test, y_pred)\n",
        "print(classification_report(y_test,y_pred))"
      ],
      "metadata": {
        "colab": {
          "base_uri": "https://localhost:8080/"
        },
        "id": "YrHY2bav5pgD",
        "outputId": "c46b67b7-50b1-4fd9-9952-e1b8de216f65"
      },
      "execution_count": null,
      "outputs": [
        {
          "output_type": "stream",
          "name": "stdout",
          "text": [
            "              precision    recall  f1-score   support\n",
            "\n",
            "     chinese       0.82      0.31      0.44       262\n",
            "      indian       0.81      0.57      0.67       233\n",
            "    japanese       0.37      0.88      0.52       234\n",
            "      korean       0.58      0.60      0.59       240\n",
            "        thai       0.83      0.44      0.58       230\n",
            "\n",
            "    accuracy                           0.55      1199\n",
            "   macro avg       0.68      0.56      0.56      1199\n",
            "weighted avg       0.68      0.55      0.56      1199\n",
            "\n"
          ]
        }
      ]
    },
    {
      "cell_type": "code",
      "source": [
        "rf = RandomForestClassifier(max_depth=3, random_state=0, n_estimators = 100)\n",
        "rf.fit(X_train, y_train)"
      ],
      "metadata": {
        "colab": {
          "base_uri": "https://localhost:8080/"
        },
        "id": "nD13MTIL81vC",
        "outputId": "51000971-851e-4fa2-ab92-dc5284616822"
      },
      "execution_count": null,
      "outputs": [
        {
          "output_type": "execute_result",
          "data": {
            "text/plain": [
              "RandomForestClassifier(max_depth=3, random_state=0)"
            ]
          },
          "metadata": {},
          "execution_count": 58
        }
      ]
    },
    {
      "cell_type": "code",
      "source": [
        "y_pred = rf.predict(X_test)\n",
        "accuracy = accuracy_score(y_test, y_pred)\n",
        "print(classification_report(y_test,y_pred))"
      ],
      "metadata": {
        "colab": {
          "base_uri": "https://localhost:8080/"
        },
        "id": "8iP_6XWu9OTL",
        "outputId": "0605dea8-ebaf-42ad-a35e-b54561d06989"
      },
      "execution_count": null,
      "outputs": [
        {
          "output_type": "stream",
          "name": "stdout",
          "text": [
            "              precision    recall  f1-score   support\n",
            "\n",
            "     chinese       0.82      0.47      0.60       262\n",
            "      indian       0.76      0.84      0.80       233\n",
            "    japanese       0.47      0.81      0.59       234\n",
            "      korean       0.76      0.69      0.72       240\n",
            "        thai       0.83      0.60      0.69       230\n",
            "\n",
            "    accuracy                           0.68      1199\n",
            "   macro avg       0.72      0.68      0.68      1199\n",
            "weighted avg       0.73      0.68      0.68      1199\n",
            "\n"
          ]
        }
      ]
    },
    {
      "cell_type": "code",
      "source": [
        "cars = pd.read_csv(\"https://an-vistra.s3.us-west-1.amazonaws.com/data/auto-mpg.csv\")"
      ],
      "metadata": {
        "id": "4hXtYQCV-dvN"
      },
      "execution_count": null,
      "outputs": []
    },
    {
      "cell_type": "code",
      "source": [
        "X = cars[['mpg', 'cyl', 'displ', 'hp', 'weight', 'accel', 'size']]"
      ],
      "metadata": {
        "id": "x7uQxtuLBFGh"
      },
      "execution_count": null,
      "outputs": []
    },
    {
      "cell_type": "code",
      "source": [
        "y = cars['origin']"
      ],
      "metadata": {
        "id": "kkAeVoULBI1A"
      },
      "execution_count": null,
      "outputs": []
    },
    {
      "cell_type": "code",
      "source": [
        "from sklearn.model_selection import train_test_split\n",
        "X_train, X_test, y_train, y_test = train_test_split(X, y, test_size=0.2, random_state=0)"
      ],
      "metadata": {
        "id": "NrOQZ6ZCBLbi"
      },
      "execution_count": null,
      "outputs": []
    },
    {
      "cell_type": "code",
      "source": [
        "clf = tree.DecisionTreeClassifier(max_depth = 5)\n",
        "clf = clf.fit(X_train, y_train)"
      ],
      "metadata": {
        "id": "cbwpp2_nBSTk"
      },
      "execution_count": null,
      "outputs": []
    },
    {
      "cell_type": "code",
      "source": [
        "import graphviz \n",
        "dot_data = tree.export_graphviz(clf, out_file=None, \n",
        "                     feature_names=X.columns,  \n",
        "                     class_names=y.unique(),  \n",
        "                     filled=True, rounded=True,\n",
        "                     special_characters=True)  \n",
        "graph = graphviz.Source(dot_data)  \n",
        "graph "
      ],
      "metadata": {
        "colab": {
          "base_uri": "https://localhost:8080/",
          "height": 936
        },
        "id": "JHtlbzY8BZp6",
        "outputId": "f9fd189e-04e3-4388-feeb-a51e06328349"
      },
      "execution_count": null,
      "outputs": [
        {
          "output_type": "execute_result",
          "data": {
            "text/plain": [
              "<graphviz.files.Source at 0x7f1645c91b10>"
            ],
            "image/svg+xml": "<?xml version=\"1.0\" encoding=\"UTF-8\" standalone=\"no\"?>\n<!DOCTYPE svg PUBLIC \"-//W3C//DTD SVG 1.1//EN\"\n \"http://www.w3.org/Graphics/SVG/1.1/DTD/svg11.dtd\">\n<!-- Generated by graphviz version 2.40.1 (20161225.0304)\n -->\n<!-- Title: Tree Pages: 1 -->\n<svg width=\"2041pt\" height=\"671pt\"\n viewBox=\"0.00 0.00 2041.00 671.00\" xmlns=\"http://www.w3.org/2000/svg\" xmlns:xlink=\"http://www.w3.org/1999/xlink\">\n<g id=\"graph0\" class=\"graph\" transform=\"scale(1 1) rotate(0) translate(4 667)\">\n<title>Tree</title>\n<polygon fill=\"#ffffff\" stroke=\"transparent\" points=\"-4,4 -4,-667 2037,-667 2037,4 -4,4\"/>\n<!-- 0 -->\n<g id=\"node1\" class=\"node\">\n<title>0</title>\n<path fill=\"#bb95f1\" stroke=\"#000000\" d=\"M1484.5,-663C1484.5,-663 1360.5,-663 1360.5,-663 1354.5,-663 1348.5,-657 1348.5,-651 1348.5,-651 1348.5,-592 1348.5,-592 1348.5,-586 1354.5,-580 1360.5,-580 1360.5,-580 1484.5,-580 1484.5,-580 1490.5,-580 1496.5,-586 1496.5,-592 1496.5,-592 1496.5,-651 1496.5,-651 1496.5,-657 1490.5,-663 1484.5,-663\"/>\n<text text-anchor=\"start\" x=\"1381.5\" y=\"-647.8\" font-family=\"Helvetica,sans-Serif\" font-size=\"14.00\" fill=\"#000000\">displ ≤ 134.5</text>\n<text text-anchor=\"start\" x=\"1384.5\" y=\"-632.8\" font-family=\"Helvetica,sans-Serif\" font-size=\"14.00\" fill=\"#000000\">gini = 0.535</text>\n<text text-anchor=\"start\" x=\"1374.5\" y=\"-617.8\" font-family=\"Helvetica,sans-Serif\" font-size=\"14.00\" fill=\"#000000\">samples = 313</text>\n<text text-anchor=\"start\" x=\"1356.5\" y=\"-602.8\" font-family=\"Helvetica,sans-Serif\" font-size=\"14.00\" fill=\"#000000\">value = [63, 53, 197]</text>\n<text text-anchor=\"start\" x=\"1374\" y=\"-587.8\" font-family=\"Helvetica,sans-Serif\" font-size=\"14.00\" fill=\"#000000\">class = Europe</text>\n</g>\n<!-- 1 -->\n<g id=\"node2\" class=\"node\">\n<title>1</title>\n<path fill=\"#fbeadf\" stroke=\"#000000\" d=\"M1275.5,-544C1275.5,-544 1159.5,-544 1159.5,-544 1153.5,-544 1147.5,-538 1147.5,-532 1147.5,-532 1147.5,-473 1147.5,-473 1147.5,-467 1153.5,-461 1159.5,-461 1159.5,-461 1275.5,-461 1275.5,-461 1281.5,-461 1287.5,-467 1287.5,-473 1287.5,-473 1287.5,-532 1287.5,-532 1287.5,-538 1281.5,-544 1275.5,-544\"/>\n<text text-anchor=\"start\" x=\"1177\" y=\"-528.8\" font-family=\"Helvetica,sans-Serif\" font-size=\"14.00\" fill=\"#000000\">mpg ≤ 30.75</text>\n<text text-anchor=\"start\" x=\"1179.5\" y=\"-513.8\" font-family=\"Helvetica,sans-Serif\" font-size=\"14.00\" fill=\"#000000\">gini = 0.633</text>\n<text text-anchor=\"start\" x=\"1169.5\" y=\"-498.8\" font-family=\"Helvetica,sans-Serif\" font-size=\"14.00\" fill=\"#000000\">samples = 132</text>\n<text text-anchor=\"start\" x=\"1155.5\" y=\"-483.8\" font-family=\"Helvetica,sans-Serif\" font-size=\"14.00\" fill=\"#000000\">value = [60, 46, 26]</text>\n<text text-anchor=\"start\" x=\"1182.5\" y=\"-468.8\" font-family=\"Helvetica,sans-Serif\" font-size=\"14.00\" fill=\"#000000\">class = US</text>\n</g>\n<!-- 0&#45;&gt;1 -->\n<g id=\"edge1\" class=\"edge\">\n<title>0&#45;&gt;1</title>\n<path fill=\"none\" stroke=\"#000000\" d=\"M1350.8009,-579.8796C1333.2382,-569.6846 1314.3455,-558.7176 1296.4632,-548.3372\"/>\n<polygon fill=\"#000000\" stroke=\"#000000\" points=\"1298.1816,-545.2878 1287.776,-543.2944 1294.6674,-551.3417 1298.1816,-545.2878\"/>\n<text text-anchor=\"middle\" x=\"1294.1897\" y=\"-563.7576\" font-family=\"Helvetica,sans-Serif\" font-size=\"14.00\" fill=\"#000000\">True</text>\n</g>\n<!-- 28 -->\n<g id=\"node29\" class=\"node\">\n<title>28</title>\n<path fill=\"#8844e6\" stroke=\"#000000\" d=\"M1682,-544C1682,-544 1575,-544 1575,-544 1569,-544 1563,-538 1563,-532 1563,-532 1563,-473 1563,-473 1563,-467 1569,-461 1575,-461 1575,-461 1682,-461 1682,-461 1688,-461 1694,-467 1694,-473 1694,-473 1694,-532 1694,-532 1694,-538 1688,-544 1682,-544\"/>\n<text text-anchor=\"start\" x=\"1585\" y=\"-528.8\" font-family=\"Helvetica,sans-Serif\" font-size=\"14.00\" fill=\"#000000\">accel ≤ 19.55</text>\n<text text-anchor=\"start\" x=\"1590.5\" y=\"-513.8\" font-family=\"Helvetica,sans-Serif\" font-size=\"14.00\" fill=\"#000000\">gini = 0.106</text>\n<text text-anchor=\"start\" x=\"1580.5\" y=\"-498.8\" font-family=\"Helvetica,sans-Serif\" font-size=\"14.00\" fill=\"#000000\">samples = 181</text>\n<text text-anchor=\"start\" x=\"1571\" y=\"-483.8\" font-family=\"Helvetica,sans-Serif\" font-size=\"14.00\" fill=\"#000000\">value = [3, 7, 171]</text>\n<text text-anchor=\"start\" x=\"1580\" y=\"-468.8\" font-family=\"Helvetica,sans-Serif\" font-size=\"14.00\" fill=\"#000000\">class = Europe</text>\n</g>\n<!-- 0&#45;&gt;28 -->\n<g id=\"edge28\" class=\"edge\">\n<title>0&#45;&gt;28</title>\n<path fill=\"none\" stroke=\"#000000\" d=\"M1494.5488,-579.8796C1513.7662,-568.7782 1534.5684,-556.7615 1553.9187,-545.5834\"/>\n<polygon fill=\"#000000\" stroke=\"#000000\" points=\"1555.788,-548.5456 1562.6963,-540.5128 1552.2865,-542.4842 1555.788,-548.5456\"/>\n<text text-anchor=\"middle\" x=\"1556.2317\" y=\"-560.9625\" font-family=\"Helvetica,sans-Serif\" font-size=\"14.00\" fill=\"#000000\">False</text>\n</g>\n<!-- 2 -->\n<g id=\"node3\" class=\"node\">\n<title>2</title>\n<path fill=\"#d3f9e3\" stroke=\"#000000\" d=\"M603.5,-425C603.5,-425 487.5,-425 487.5,-425 481.5,-425 475.5,-419 475.5,-413 475.5,-413 475.5,-354 475.5,-354 475.5,-348 481.5,-342 487.5,-342 487.5,-342 603.5,-342 603.5,-342 609.5,-342 615.5,-348 615.5,-354 615.5,-354 615.5,-413 615.5,-413 615.5,-419 609.5,-425 603.5,-425\"/>\n<text text-anchor=\"start\" x=\"515\" y=\"-409.8\" font-family=\"Helvetica,sans-Serif\" font-size=\"14.00\" fill=\"#000000\">hp ≤ 87.5</text>\n<text text-anchor=\"start\" x=\"507.5\" y=\"-394.8\" font-family=\"Helvetica,sans-Serif\" font-size=\"14.00\" fill=\"#000000\">gini = 0.624</text>\n<text text-anchor=\"start\" x=\"501.5\" y=\"-379.8\" font-family=\"Helvetica,sans-Serif\" font-size=\"14.00\" fill=\"#000000\">samples = 75</text>\n<text text-anchor=\"start\" x=\"483.5\" y=\"-364.8\" font-family=\"Helvetica,sans-Serif\" font-size=\"14.00\" fill=\"#000000\">value = [25, 36, 14]</text>\n<text text-anchor=\"start\" x=\"506.5\" y=\"-349.8\" font-family=\"Helvetica,sans-Serif\" font-size=\"14.00\" fill=\"#000000\">class = Asia</text>\n</g>\n<!-- 1&#45;&gt;2 -->\n<g id=\"edge2\" class=\"edge\">\n<title>1&#45;&gt;2</title>\n<path fill=\"none\" stroke=\"#000000\" d=\"M1147.486,-490.1017C1021.7585,-467.8374 758.4928,-421.2175 625.7155,-397.7048\"/>\n<polygon fill=\"#000000\" stroke=\"#000000\" points=\"626.0657,-394.2125 615.6086,-395.9151 624.8451,-401.1052 626.0657,-394.2125\"/>\n</g>\n<!-- 15 -->\n<g id=\"node16\" class=\"node\">\n<title>15</title>\n<path fill=\"#f2bf9a\" stroke=\"#000000\" d=\"M1275.5,-425C1275.5,-425 1159.5,-425 1159.5,-425 1153.5,-425 1147.5,-419 1147.5,-413 1147.5,-413 1147.5,-354 1147.5,-354 1147.5,-348 1153.5,-342 1159.5,-342 1159.5,-342 1275.5,-342 1275.5,-342 1281.5,-342 1287.5,-348 1287.5,-354 1287.5,-354 1287.5,-413 1287.5,-413 1287.5,-419 1281.5,-425 1275.5,-425\"/>\n<text text-anchor=\"start\" x=\"1180.5\" y=\"-409.8\" font-family=\"Helvetica,sans-Serif\" font-size=\"14.00\" fill=\"#000000\">displ ≤ 97.5</text>\n<text text-anchor=\"start\" x=\"1179.5\" y=\"-394.8\" font-family=\"Helvetica,sans-Serif\" font-size=\"14.00\" fill=\"#000000\">gini = 0.548</text>\n<text text-anchor=\"start\" x=\"1173.5\" y=\"-379.8\" font-family=\"Helvetica,sans-Serif\" font-size=\"14.00\" fill=\"#000000\">samples = 57</text>\n<text text-anchor=\"start\" x=\"1155.5\" y=\"-364.8\" font-family=\"Helvetica,sans-Serif\" font-size=\"14.00\" fill=\"#000000\">value = [35, 10, 12]</text>\n<text text-anchor=\"start\" x=\"1182.5\" y=\"-349.8\" font-family=\"Helvetica,sans-Serif\" font-size=\"14.00\" fill=\"#000000\">class = US</text>\n</g>\n<!-- 1&#45;&gt;15 -->\n<g id=\"edge15\" class=\"edge\">\n<title>1&#45;&gt;15</title>\n<path fill=\"none\" stroke=\"#000000\" d=\"M1217.5,-460.8796C1217.5,-452.6838 1217.5,-443.9891 1217.5,-435.5013\"/>\n<polygon fill=\"#000000\" stroke=\"#000000\" points=\"1221.0001,-435.298 1217.5,-425.2981 1214.0001,-435.2981 1221.0001,-435.298\"/>\n</g>\n<!-- 3 -->\n<g id=\"node4\" class=\"node\">\n<title>3</title>\n<path fill=\"#aef4cc\" stroke=\"#000000\" d=\"M385,-306C385,-306 278,-306 278,-306 272,-306 266,-300 266,-294 266,-294 266,-235 266,-235 266,-229 272,-223 278,-223 278,-223 385,-223 385,-223 391,-223 397,-229 397,-235 397,-235 397,-294 397,-294 397,-300 391,-306 385,-306\"/>\n<text text-anchor=\"start\" x=\"290.5\" y=\"-290.8\" font-family=\"Helvetica,sans-Serif\" font-size=\"14.00\" fill=\"#000000\">displ ≤ 120.5</text>\n<text text-anchor=\"start\" x=\"293.5\" y=\"-275.8\" font-family=\"Helvetica,sans-Serif\" font-size=\"14.00\" fill=\"#000000\">gini = 0.547</text>\n<text text-anchor=\"start\" x=\"287.5\" y=\"-260.8\" font-family=\"Helvetica,sans-Serif\" font-size=\"14.00\" fill=\"#000000\">samples = 39</text>\n<text text-anchor=\"start\" x=\"274\" y=\"-245.8\" font-family=\"Helvetica,sans-Serif\" font-size=\"14.00\" fill=\"#000000\">value = [4, 23, 12]</text>\n<text text-anchor=\"start\" x=\"292.5\" y=\"-230.8\" font-family=\"Helvetica,sans-Serif\" font-size=\"14.00\" fill=\"#000000\">class = Asia</text>\n</g>\n<!-- 2&#45;&gt;3 -->\n<g id=\"edge3\" class=\"edge\">\n<title>2&#45;&gt;3</title>\n<path fill=\"none\" stroke=\"#000000\" d=\"M475.4284,-344.5349C453.1526,-332.1479 428.443,-318.4075 405.8746,-305.8578\"/>\n<polygon fill=\"#000000\" stroke=\"#000000\" points=\"407.4517,-302.7301 397.011,-300.929 404.0497,-308.8479 407.4517,-302.7301\"/>\n</g>\n<!-- 8 -->\n<g id=\"node9\" class=\"node\">\n<title>8</title>\n<path fill=\"#f6d3ba\" stroke=\"#000000\" d=\"M599,-306C599,-306 492,-306 492,-306 486,-306 480,-300 480,-294 480,-294 480,-235 480,-235 480,-229 486,-223 492,-223 492,-223 599,-223 599,-223 605,-223 611,-229 611,-235 611,-235 611,-294 611,-294 611,-300 605,-306 599,-306\"/>\n<text text-anchor=\"start\" x=\"494\" y=\"-290.8\" font-family=\"Helvetica,sans-Serif\" font-size=\"14.00\" fill=\"#000000\">weight ≤ 2571.0</text>\n<text text-anchor=\"start\" x=\"507.5\" y=\"-275.8\" font-family=\"Helvetica,sans-Serif\" font-size=\"14.00\" fill=\"#000000\">gini = 0.526</text>\n<text text-anchor=\"start\" x=\"501.5\" y=\"-260.8\" font-family=\"Helvetica,sans-Serif\" font-size=\"14.00\" fill=\"#000000\">samples = 36</text>\n<text text-anchor=\"start\" x=\"488\" y=\"-245.8\" font-family=\"Helvetica,sans-Serif\" font-size=\"14.00\" fill=\"#000000\">value = [21, 13, 2]</text>\n<text text-anchor=\"start\" x=\"510.5\" y=\"-230.8\" font-family=\"Helvetica,sans-Serif\" font-size=\"14.00\" fill=\"#000000\">class = US</text>\n</g>\n<!-- 2&#45;&gt;8 -->\n<g id=\"edge8\" class=\"edge\">\n<title>2&#45;&gt;8</title>\n<path fill=\"none\" stroke=\"#000000\" d=\"M545.5,-341.8796C545.5,-333.6838 545.5,-324.9891 545.5,-316.5013\"/>\n<polygon fill=\"#000000\" stroke=\"#000000\" points=\"549.0001,-316.298 545.5,-306.2981 542.0001,-316.2981 549.0001,-316.298\"/>\n</g>\n<!-- 4 -->\n<g id=\"node5\" class=\"node\">\n<title>4</title>\n<path fill=\"#91f1b9\" stroke=\"#000000\" d=\"M244,-187C244,-187 145,-187 145,-187 139,-187 133,-181 133,-175 133,-175 133,-116 133,-116 133,-110 139,-104 145,-104 145,-104 244,-104 244,-104 250,-104 256,-110 256,-116 256,-116 256,-175 256,-175 256,-181 250,-187 244,-187\"/>\n<text text-anchor=\"start\" x=\"143\" y=\"-171.8\" font-family=\"Helvetica,sans-Serif\" font-size=\"14.00\" fill=\"#000000\">weight ≤ 1974.0</text>\n<text text-anchor=\"start\" x=\"156.5\" y=\"-156.8\" font-family=\"Helvetica,sans-Serif\" font-size=\"14.00\" fill=\"#000000\">gini = 0.503</text>\n<text text-anchor=\"start\" x=\"150.5\" y=\"-141.8\" font-family=\"Helvetica,sans-Serif\" font-size=\"14.00\" fill=\"#000000\">samples = 35</text>\n<text text-anchor=\"start\" x=\"141\" y=\"-126.8\" font-family=\"Helvetica,sans-Serif\" font-size=\"14.00\" fill=\"#000000\">value = [4, 23, 8]</text>\n<text text-anchor=\"start\" x=\"155.5\" y=\"-111.8\" font-family=\"Helvetica,sans-Serif\" font-size=\"14.00\" fill=\"#000000\">class = Asia</text>\n</g>\n<!-- 3&#45;&gt;4 -->\n<g id=\"edge4\" class=\"edge\">\n<title>3&#45;&gt;4</title>\n<path fill=\"none\" stroke=\"#000000\" d=\"M283.584,-222.8796C272.8007,-213.513 261.2671,-203.4948 250.1961,-193.8784\"/>\n<polygon fill=\"#000000\" stroke=\"#000000\" points=\"252.4653,-191.2134 242.6205,-187.2981 247.8749,-196.4982 252.4653,-191.2134\"/>\n</g>\n<!-- 7 -->\n<g id=\"node8\" class=\"node\">\n<title>7</title>\n<path fill=\"#8139e5\" stroke=\"#000000\" d=\"M377,-179.5C377,-179.5 286,-179.5 286,-179.5 280,-179.5 274,-173.5 274,-167.5 274,-167.5 274,-123.5 274,-123.5 274,-117.5 280,-111.5 286,-111.5 286,-111.5 377,-111.5 377,-111.5 383,-111.5 389,-117.5 389,-123.5 389,-123.5 389,-167.5 389,-167.5 389,-173.5 383,-179.5 377,-179.5\"/>\n<text text-anchor=\"start\" x=\"302\" y=\"-164.3\" font-family=\"Helvetica,sans-Serif\" font-size=\"14.00\" fill=\"#000000\">gini = 0.0</text>\n<text text-anchor=\"start\" x=\"292\" y=\"-149.3\" font-family=\"Helvetica,sans-Serif\" font-size=\"14.00\" fill=\"#000000\">samples = 4</text>\n<text text-anchor=\"start\" x=\"282\" y=\"-134.3\" font-family=\"Helvetica,sans-Serif\" font-size=\"14.00\" fill=\"#000000\">value = [0, 0, 4]</text>\n<text text-anchor=\"start\" x=\"283\" y=\"-119.3\" font-family=\"Helvetica,sans-Serif\" font-size=\"14.00\" fill=\"#000000\">class = Europe</text>\n</g>\n<!-- 3&#45;&gt;7 -->\n<g id=\"edge7\" class=\"edge\">\n<title>3&#45;&gt;7</title>\n<path fill=\"none\" stroke=\"#000000\" d=\"M331.5,-222.8796C331.5,-212.2134 331.5,-200.7021 331.5,-189.9015\"/>\n<polygon fill=\"#000000\" stroke=\"#000000\" points=\"335.0001,-189.8149 331.5,-179.8149 328.0001,-189.815 335.0001,-189.8149\"/>\n</g>\n<!-- 5 -->\n<g id=\"node6\" class=\"node\">\n<title>5</title>\n<path fill=\"#39e581\" stroke=\"#000000\" d=\"M103,-68C103,-68 12,-68 12,-68 6,-68 0,-62 0,-56 0,-56 0,-12 0,-12 0,-6 6,0 12,0 12,0 103,0 103,0 109,0 115,-6 115,-12 115,-12 115,-56 115,-56 115,-62 109,-68 103,-68\"/>\n<text text-anchor=\"start\" x=\"28\" y=\"-52.8\" font-family=\"Helvetica,sans-Serif\" font-size=\"14.00\" fill=\"#000000\">gini = 0.0</text>\n<text text-anchor=\"start\" x=\"18\" y=\"-37.8\" font-family=\"Helvetica,sans-Serif\" font-size=\"14.00\" fill=\"#000000\">samples = 9</text>\n<text text-anchor=\"start\" x=\"8\" y=\"-22.8\" font-family=\"Helvetica,sans-Serif\" font-size=\"14.00\" fill=\"#000000\">value = [0, 9, 0]</text>\n<text text-anchor=\"start\" x=\"18.5\" y=\"-7.8\" font-family=\"Helvetica,sans-Serif\" font-size=\"14.00\" fill=\"#000000\">class = Asia</text>\n</g>\n<!-- 4&#45;&gt;5 -->\n<g id=\"edge5\" class=\"edge\">\n<title>4&#45;&gt;5</title>\n<path fill=\"none\" stroke=\"#000000\" d=\"M143.4863,-103.9815C131.742,-94.4232 119.2628,-84.2668 107.5595,-74.7419\"/>\n<polygon fill=\"#000000\" stroke=\"#000000\" points=\"109.565,-71.8614 99.5998,-68.2637 105.1464,-77.2906 109.565,-71.8614\"/>\n</g>\n<!-- 6 -->\n<g id=\"node7\" class=\"node\">\n<title>6</title>\n<path fill=\"#bdf6d5\" stroke=\"#000000\" d=\"M244,-68C244,-68 145,-68 145,-68 139,-68 133,-62 133,-56 133,-56 133,-12 133,-12 133,-6 139,0 145,0 145,0 244,0 244,0 250,0 256,-6 256,-12 256,-12 256,-56 256,-56 256,-62 250,-68 244,-68\"/>\n<text text-anchor=\"start\" x=\"156.5\" y=\"-52.8\" font-family=\"Helvetica,sans-Serif\" font-size=\"14.00\" fill=\"#000000\">gini = 0.592</text>\n<text text-anchor=\"start\" x=\"150.5\" y=\"-37.8\" font-family=\"Helvetica,sans-Serif\" font-size=\"14.00\" fill=\"#000000\">samples = 26</text>\n<text text-anchor=\"start\" x=\"141\" y=\"-22.8\" font-family=\"Helvetica,sans-Serif\" font-size=\"14.00\" fill=\"#000000\">value = [4, 14, 8]</text>\n<text text-anchor=\"start\" x=\"155.5\" y=\"-7.8\" font-family=\"Helvetica,sans-Serif\" font-size=\"14.00\" fill=\"#000000\">class = Asia</text>\n</g>\n<!-- 4&#45;&gt;6 -->\n<g id=\"edge6\" class=\"edge\">\n<title>4&#45;&gt;6</title>\n<path fill=\"none\" stroke=\"#000000\" d=\"M194.5,-103.9815C194.5,-95.618 194.5,-86.7965 194.5,-78.3409\"/>\n<polygon fill=\"#000000\" stroke=\"#000000\" points=\"198.0001,-78.2636 194.5,-68.2637 191.0001,-78.2637 198.0001,-78.2636\"/>\n</g>\n<!-- 9 -->\n<g id=\"node10\" class=\"node\">\n<title>9</title>\n<path fill=\"#ea9c63\" stroke=\"#000000\" d=\"M518,-187C518,-187 419,-187 419,-187 413,-187 407,-181 407,-175 407,-175 407,-116 407,-116 407,-110 413,-104 419,-104 419,-104 518,-104 518,-104 524,-104 530,-110 530,-116 530,-116 530,-175 530,-175 530,-181 524,-187 518,-187\"/>\n<text text-anchor=\"start\" x=\"427.5\" y=\"-171.8\" font-family=\"Helvetica,sans-Serif\" font-size=\"14.00\" fill=\"#000000\">displ ≤ 107.5</text>\n<text text-anchor=\"start\" x=\"435\" y=\"-156.8\" font-family=\"Helvetica,sans-Serif\" font-size=\"14.00\" fill=\"#000000\">gini = 0.31</text>\n<text text-anchor=\"start\" x=\"424.5\" y=\"-141.8\" font-family=\"Helvetica,sans-Serif\" font-size=\"14.00\" fill=\"#000000\">samples = 22</text>\n<text text-anchor=\"start\" x=\"415\" y=\"-126.8\" font-family=\"Helvetica,sans-Serif\" font-size=\"14.00\" fill=\"#000000\">value = [18, 3, 1]</text>\n<text text-anchor=\"start\" x=\"433.5\" y=\"-111.8\" font-family=\"Helvetica,sans-Serif\" font-size=\"14.00\" fill=\"#000000\">class = US</text>\n</g>\n<!-- 8&#45;&gt;9 -->\n<g id=\"edge9\" class=\"edge\">\n<title>8&#45;&gt;9</title>\n<path fill=\"none\" stroke=\"#000000\" d=\"M518.5691,-222.8796C512.9163,-214.1434 506.8967,-204.8404 501.0634,-195.8253\"/>\n<polygon fill=\"#000000\" stroke=\"#000000\" points=\"503.9169,-193.7924 495.5458,-187.2981 498.0399,-197.5952 503.9169,-193.7924\"/>\n</g>\n<!-- 12 -->\n<g id=\"node13\" class=\"node\">\n<title>12</title>\n<path fill=\"#81eeaf\" stroke=\"#000000\" d=\"M659,-187C659,-187 560,-187 560,-187 554,-187 548,-181 548,-175 548,-175 548,-116 548,-116 548,-110 554,-104 560,-104 560,-104 659,-104 659,-104 665,-104 671,-110 671,-116 671,-116 671,-175 671,-175 671,-181 665,-187 659,-187\"/>\n<text text-anchor=\"start\" x=\"568.5\" y=\"-171.8\" font-family=\"Helvetica,sans-Serif\" font-size=\"14.00\" fill=\"#000000\">displ ≤ 132.5</text>\n<text text-anchor=\"start\" x=\"571.5\" y=\"-156.8\" font-family=\"Helvetica,sans-Serif\" font-size=\"14.00\" fill=\"#000000\">gini = 0.439</text>\n<text text-anchor=\"start\" x=\"565.5\" y=\"-141.8\" font-family=\"Helvetica,sans-Serif\" font-size=\"14.00\" fill=\"#000000\">samples = 14</text>\n<text text-anchor=\"start\" x=\"556\" y=\"-126.8\" font-family=\"Helvetica,sans-Serif\" font-size=\"14.00\" fill=\"#000000\">value = [3, 10, 1]</text>\n<text text-anchor=\"start\" x=\"570.5\" y=\"-111.8\" font-family=\"Helvetica,sans-Serif\" font-size=\"14.00\" fill=\"#000000\">class = Asia</text>\n</g>\n<!-- 8&#45;&gt;12 -->\n<g id=\"edge12\" class=\"edge\">\n<title>8&#45;&gt;12</title>\n<path fill=\"none\" stroke=\"#000000\" d=\"M567.8841,-222.8796C572.4856,-214.3236 577.3796,-205.2238 582.1342,-196.3833\"/>\n<polygon fill=\"#000000\" stroke=\"#000000\" points=\"585.3662,-197.763 587.0204,-187.2981 579.2012,-194.4473 585.3662,-197.763\"/>\n</g>\n<!-- 10 -->\n<g id=\"node11\" class=\"node\">\n<title>10</title>\n<path fill=\"#f0b78e\" stroke=\"#000000\" d=\"M377,-68C377,-68 286,-68 286,-68 280,-68 274,-62 274,-56 274,-56 274,-12 274,-12 274,-6 280,0 286,0 286,0 377,0 377,0 383,0 389,-6 389,-12 389,-12 389,-56 389,-56 389,-62 383,-68 377,-68\"/>\n<text text-anchor=\"start\" x=\"298\" y=\"-52.8\" font-family=\"Helvetica,sans-Serif\" font-size=\"14.00\" fill=\"#000000\">gini = 0.42</text>\n<text text-anchor=\"start\" x=\"287.5\" y=\"-37.8\" font-family=\"Helvetica,sans-Serif\" font-size=\"14.00\" fill=\"#000000\">samples = 10</text>\n<text text-anchor=\"start\" x=\"282\" y=\"-22.8\" font-family=\"Helvetica,sans-Serif\" font-size=\"14.00\" fill=\"#000000\">value = [7, 3, 0]</text>\n<text text-anchor=\"start\" x=\"296.5\" y=\"-7.8\" font-family=\"Helvetica,sans-Serif\" font-size=\"14.00\" fill=\"#000000\">class = US</text>\n</g>\n<!-- 9&#45;&gt;10 -->\n<g id=\"edge10\" class=\"edge\">\n<title>9&#45;&gt;10</title>\n<path fill=\"none\" stroke=\"#000000\" d=\"M417.4863,-103.9815C405.742,-94.4232 393.2628,-84.2668 381.5595,-74.7419\"/>\n<polygon fill=\"#000000\" stroke=\"#000000\" points=\"383.565,-71.8614 373.5998,-68.2637 379.1464,-77.2906 383.565,-71.8614\"/>\n</g>\n<!-- 11 -->\n<g id=\"node12\" class=\"node\">\n<title>11</title>\n<path fill=\"#e78c4b\" stroke=\"#000000\" d=\"M518,-68C518,-68 419,-68 419,-68 413,-68 407,-62 407,-56 407,-56 407,-12 407,-12 407,-6 413,0 419,0 419,0 518,0 518,0 524,0 530,-6 530,-12 530,-12 530,-56 530,-56 530,-62 524,-68 518,-68\"/>\n<text text-anchor=\"start\" x=\"430.5\" y=\"-52.8\" font-family=\"Helvetica,sans-Serif\" font-size=\"14.00\" fill=\"#000000\">gini = 0.153</text>\n<text text-anchor=\"start\" x=\"424.5\" y=\"-37.8\" font-family=\"Helvetica,sans-Serif\" font-size=\"14.00\" fill=\"#000000\">samples = 12</text>\n<text text-anchor=\"start\" x=\"415\" y=\"-22.8\" font-family=\"Helvetica,sans-Serif\" font-size=\"14.00\" fill=\"#000000\">value = [11, 0, 1]</text>\n<text text-anchor=\"start\" x=\"433.5\" y=\"-7.8\" font-family=\"Helvetica,sans-Serif\" font-size=\"14.00\" fill=\"#000000\">class = US</text>\n</g>\n<!-- 9&#45;&gt;11 -->\n<g id=\"edge11\" class=\"edge\">\n<title>9&#45;&gt;11</title>\n<path fill=\"none\" stroke=\"#000000\" d=\"M468.5,-103.9815C468.5,-95.618 468.5,-86.7965 468.5,-78.3409\"/>\n<polygon fill=\"#000000\" stroke=\"#000000\" points=\"472.0001,-78.2636 468.5,-68.2637 465.0001,-78.2637 472.0001,-78.2636\"/>\n</g>\n<!-- 13 -->\n<g id=\"node14\" class=\"node\">\n<title>13</title>\n<path fill=\"#5dea98\" stroke=\"#000000\" d=\"M659,-68C659,-68 560,-68 560,-68 554,-68 548,-62 548,-56 548,-56 548,-12 548,-12 548,-6 554,0 560,0 560,0 659,0 659,0 665,0 671,-6 671,-12 671,-12 671,-56 671,-56 671,-62 665,-68 659,-68\"/>\n<text text-anchor=\"start\" x=\"571.5\" y=\"-52.8\" font-family=\"Helvetica,sans-Serif\" font-size=\"14.00\" fill=\"#000000\">gini = 0.292</text>\n<text text-anchor=\"start\" x=\"565.5\" y=\"-37.8\" font-family=\"Helvetica,sans-Serif\" font-size=\"14.00\" fill=\"#000000\">samples = 12</text>\n<text text-anchor=\"start\" x=\"556\" y=\"-22.8\" font-family=\"Helvetica,sans-Serif\" font-size=\"14.00\" fill=\"#000000\">value = [1, 10, 1]</text>\n<text text-anchor=\"start\" x=\"570.5\" y=\"-7.8\" font-family=\"Helvetica,sans-Serif\" font-size=\"14.00\" fill=\"#000000\">class = Asia</text>\n</g>\n<!-- 12&#45;&gt;13 -->\n<g id=\"edge13\" class=\"edge\">\n<title>12&#45;&gt;13</title>\n<path fill=\"none\" stroke=\"#000000\" d=\"M609.5,-103.9815C609.5,-95.618 609.5,-86.7965 609.5,-78.3409\"/>\n<polygon fill=\"#000000\" stroke=\"#000000\" points=\"613.0001,-78.2636 609.5,-68.2637 606.0001,-78.2637 613.0001,-78.2636\"/>\n</g>\n<!-- 14 -->\n<g id=\"node15\" class=\"node\">\n<title>14</title>\n<path fill=\"#e58139\" stroke=\"#000000\" d=\"M792,-68C792,-68 701,-68 701,-68 695,-68 689,-62 689,-56 689,-56 689,-12 689,-12 689,-6 695,0 701,0 701,0 792,0 792,0 798,0 804,-6 804,-12 804,-12 804,-56 804,-56 804,-62 798,-68 792,-68\"/>\n<text text-anchor=\"start\" x=\"717\" y=\"-52.8\" font-family=\"Helvetica,sans-Serif\" font-size=\"14.00\" fill=\"#000000\">gini = 0.0</text>\n<text text-anchor=\"start\" x=\"707\" y=\"-37.8\" font-family=\"Helvetica,sans-Serif\" font-size=\"14.00\" fill=\"#000000\">samples = 2</text>\n<text text-anchor=\"start\" x=\"697\" y=\"-22.8\" font-family=\"Helvetica,sans-Serif\" font-size=\"14.00\" fill=\"#000000\">value = [2, 0, 0]</text>\n<text text-anchor=\"start\" x=\"711.5\" y=\"-7.8\" font-family=\"Helvetica,sans-Serif\" font-size=\"14.00\" fill=\"#000000\">class = US</text>\n</g>\n<!-- 12&#45;&gt;14 -->\n<g id=\"edge14\" class=\"edge\">\n<title>12&#45;&gt;14</title>\n<path fill=\"none\" stroke=\"#000000\" d=\"M660.5137,-103.9815C672.258,-94.4232 684.7372,-84.2668 696.4405,-74.7419\"/>\n<polygon fill=\"#000000\" stroke=\"#000000\" points=\"698.8536,-77.2906 704.4002,-68.2637 694.435,-71.8614 698.8536,-77.2906\"/>\n</g>\n<!-- 16 -->\n<g id=\"node17\" class=\"node\">\n<title>16</title>\n<path fill=\"#eeab7b\" stroke=\"#000000\" d=\"M1197,-306C1197,-306 1098,-306 1098,-306 1092,-306 1086,-300 1086,-294 1086,-294 1086,-235 1086,-235 1086,-229 1092,-223 1098,-223 1098,-223 1197,-223 1197,-223 1203,-223 1209,-229 1209,-235 1209,-235 1209,-294 1209,-294 1209,-300 1203,-306 1197,-306\"/>\n<text text-anchor=\"start\" x=\"1117\" y=\"-290.8\" font-family=\"Helvetica,sans-Serif\" font-size=\"14.00\" fill=\"#000000\">hp ≤ 70.5</text>\n<text text-anchor=\"start\" x=\"1109.5\" y=\"-275.8\" font-family=\"Helvetica,sans-Serif\" font-size=\"14.00\" fill=\"#000000\">gini = 0.395</text>\n<text text-anchor=\"start\" x=\"1103.5\" y=\"-260.8\" font-family=\"Helvetica,sans-Serif\" font-size=\"14.00\" fill=\"#000000\">samples = 35</text>\n<text text-anchor=\"start\" x=\"1094\" y=\"-245.8\" font-family=\"Helvetica,sans-Serif\" font-size=\"14.00\" fill=\"#000000\">value = [26, 8, 1]</text>\n<text text-anchor=\"start\" x=\"1112.5\" y=\"-230.8\" font-family=\"Helvetica,sans-Serif\" font-size=\"14.00\" fill=\"#000000\">class = US</text>\n</g>\n<!-- 15&#45;&gt;16 -->\n<g id=\"edge16\" class=\"edge\">\n<title>15&#45;&gt;16</title>\n<path fill=\"none\" stroke=\"#000000\" d=\"M1193.0174,-341.8796C1187.9315,-333.2335 1182.5189,-324.0322 1177.2672,-315.1042\"/>\n<polygon fill=\"#000000\" stroke=\"#000000\" points=\"1180.1741,-313.1428 1172.0871,-306.2981 1174.1406,-316.692 1180.1741,-313.1428\"/>\n</g>\n<!-- 21 -->\n<g id=\"node22\" class=\"node\">\n<title>21</title>\n<path fill=\"#ece1fb\" stroke=\"#000000\" d=\"M1338,-306C1338,-306 1239,-306 1239,-306 1233,-306 1227,-300 1227,-294 1227,-294 1227,-235 1227,-235 1227,-229 1233,-223 1239,-223 1239,-223 1338,-223 1338,-223 1344,-223 1350,-229 1350,-235 1350,-235 1350,-294 1350,-294 1350,-300 1344,-306 1338,-306\"/>\n<text text-anchor=\"start\" x=\"1247.5\" y=\"-290.8\" font-family=\"Helvetica,sans-Serif\" font-size=\"14.00\" fill=\"#000000\">displ ≤ 106.0</text>\n<text text-anchor=\"start\" x=\"1250.5\" y=\"-275.8\" font-family=\"Helvetica,sans-Serif\" font-size=\"14.00\" fill=\"#000000\">gini = 0.574</text>\n<text text-anchor=\"start\" x=\"1244.5\" y=\"-260.8\" font-family=\"Helvetica,sans-Serif\" font-size=\"14.00\" fill=\"#000000\">samples = 22</text>\n<text text-anchor=\"start\" x=\"1235\" y=\"-245.8\" font-family=\"Helvetica,sans-Serif\" font-size=\"14.00\" fill=\"#000000\">value = [9, 2, 11]</text>\n<text text-anchor=\"start\" x=\"1240\" y=\"-230.8\" font-family=\"Helvetica,sans-Serif\" font-size=\"14.00\" fill=\"#000000\">class = Europe</text>\n</g>\n<!-- 15&#45;&gt;21 -->\n<g id=\"edge21\" class=\"edge\">\n<title>15&#45;&gt;21</title>\n<path fill=\"none\" stroke=\"#000000\" d=\"M1242.3324,-341.8796C1247.4909,-333.2335 1252.9808,-324.0322 1258.3076,-315.1042\"/>\n<polygon fill=\"#000000\" stroke=\"#000000\" points=\"1261.4436,-316.679 1263.5617,-306.2981 1255.4322,-313.0924 1261.4436,-316.679\"/>\n</g>\n<!-- 17 -->\n<g id=\"node18\" class=\"node\">\n<title>17</title>\n<path fill=\"#eb9d65\" stroke=\"#000000\" d=\"M1062,-187C1062,-187 963,-187 963,-187 957,-187 951,-181 951,-175 951,-175 951,-116 951,-116 951,-110 957,-104 963,-104 963,-104 1062,-104 1062,-104 1068,-104 1074,-110 1074,-116 1074,-116 1074,-175 1074,-175 1074,-181 1068,-187 1062,-187\"/>\n<text text-anchor=\"start\" x=\"969\" y=\"-171.8\" font-family=\"Helvetica,sans-Serif\" font-size=\"14.00\" fill=\"#000000\">accel ≤ 21.25</text>\n<text text-anchor=\"start\" x=\"974.5\" y=\"-156.8\" font-family=\"Helvetica,sans-Serif\" font-size=\"14.00\" fill=\"#000000\">gini = 0.314</text>\n<text text-anchor=\"start\" x=\"968.5\" y=\"-141.8\" font-family=\"Helvetica,sans-Serif\" font-size=\"14.00\" fill=\"#000000\">samples = 32</text>\n<text text-anchor=\"start\" x=\"959\" y=\"-126.8\" font-family=\"Helvetica,sans-Serif\" font-size=\"14.00\" fill=\"#000000\">value = [26, 5, 1]</text>\n<text text-anchor=\"start\" x=\"977.5\" y=\"-111.8\" font-family=\"Helvetica,sans-Serif\" font-size=\"14.00\" fill=\"#000000\">class = US</text>\n</g>\n<!-- 16&#45;&gt;17 -->\n<g id=\"edge17\" class=\"edge\">\n<title>16&#45;&gt;17</title>\n<path fill=\"none\" stroke=\"#000000\" d=\"M1100.2836,-222.8796C1089.7598,-213.6031 1078.5109,-203.6874 1067.6979,-194.1559\"/>\n<polygon fill=\"#000000\" stroke=\"#000000\" points=\"1069.734,-191.2851 1059.918,-187.2981 1065.1052,-196.5362 1069.734,-191.2851\"/>\n</g>\n<!-- 20 -->\n<g id=\"node21\" class=\"node\">\n<title>20</title>\n<path fill=\"#39e581\" stroke=\"#000000\" d=\"M1195,-179.5C1195,-179.5 1104,-179.5 1104,-179.5 1098,-179.5 1092,-173.5 1092,-167.5 1092,-167.5 1092,-123.5 1092,-123.5 1092,-117.5 1098,-111.5 1104,-111.5 1104,-111.5 1195,-111.5 1195,-111.5 1201,-111.5 1207,-117.5 1207,-123.5 1207,-123.5 1207,-167.5 1207,-167.5 1207,-173.5 1201,-179.5 1195,-179.5\"/>\n<text text-anchor=\"start\" x=\"1120\" y=\"-164.3\" font-family=\"Helvetica,sans-Serif\" font-size=\"14.00\" fill=\"#000000\">gini = 0.0</text>\n<text text-anchor=\"start\" x=\"1110\" y=\"-149.3\" font-family=\"Helvetica,sans-Serif\" font-size=\"14.00\" fill=\"#000000\">samples = 3</text>\n<text text-anchor=\"start\" x=\"1100\" y=\"-134.3\" font-family=\"Helvetica,sans-Serif\" font-size=\"14.00\" fill=\"#000000\">value = [0, 3, 0]</text>\n<text text-anchor=\"start\" x=\"1110.5\" y=\"-119.3\" font-family=\"Helvetica,sans-Serif\" font-size=\"14.00\" fill=\"#000000\">class = Asia</text>\n</g>\n<!-- 16&#45;&gt;20 -->\n<g id=\"edge20\" class=\"edge\">\n<title>16&#45;&gt;20</title>\n<path fill=\"none\" stroke=\"#000000\" d=\"M1148.1995,-222.8796C1148.3788,-212.2134 1148.5722,-200.7021 1148.7538,-189.9015\"/>\n<polygon fill=\"#000000\" stroke=\"#000000\" points=\"1152.2546,-189.8724 1148.9233,-179.8149 1145.2556,-189.7547 1152.2546,-189.8724\"/>\n</g>\n<!-- 18 -->\n<g id=\"node19\" class=\"node\">\n<title>18</title>\n<path fill=\"#e99456\" stroke=\"#000000\" d=\"M933,-68C933,-68 834,-68 834,-68 828,-68 822,-62 822,-56 822,-56 822,-12 822,-12 822,-6 828,0 834,0 834,0 933,0 933,0 939,0 945,-6 945,-12 945,-12 945,-56 945,-56 945,-62 939,-68 933,-68\"/>\n<text text-anchor=\"start\" x=\"845.5\" y=\"-52.8\" font-family=\"Helvetica,sans-Serif\" font-size=\"14.00\" fill=\"#000000\">gini = 0.238</text>\n<text text-anchor=\"start\" x=\"839.5\" y=\"-37.8\" font-family=\"Helvetica,sans-Serif\" font-size=\"14.00\" fill=\"#000000\">samples = 30</text>\n<text text-anchor=\"start\" x=\"830\" y=\"-22.8\" font-family=\"Helvetica,sans-Serif\" font-size=\"14.00\" fill=\"#000000\">value = [26, 3, 1]</text>\n<text text-anchor=\"start\" x=\"848.5\" y=\"-7.8\" font-family=\"Helvetica,sans-Serif\" font-size=\"14.00\" fill=\"#000000\">class = US</text>\n</g>\n<!-- 17&#45;&gt;18 -->\n<g id=\"edge18\" class=\"edge\">\n<title>17&#45;&gt;18</title>\n<path fill=\"none\" stroke=\"#000000\" d=\"M964.4652,-103.9815C953.513,-94.5151 941.8821,-84.462 930.9544,-75.0168\"/>\n<polygon fill=\"#000000\" stroke=\"#000000\" points=\"932.9957,-72.155 923.1414,-68.2637 928.4182,-77.4509 932.9957,-72.155\"/>\n</g>\n<!-- 19 -->\n<g id=\"node20\" class=\"node\">\n<title>19</title>\n<path fill=\"#39e581\" stroke=\"#000000\" d=\"M1066,-68C1066,-68 975,-68 975,-68 969,-68 963,-62 963,-56 963,-56 963,-12 963,-12 963,-6 969,0 975,0 975,0 1066,0 1066,0 1072,0 1078,-6 1078,-12 1078,-12 1078,-56 1078,-56 1078,-62 1072,-68 1066,-68\"/>\n<text text-anchor=\"start\" x=\"991\" y=\"-52.8\" font-family=\"Helvetica,sans-Serif\" font-size=\"14.00\" fill=\"#000000\">gini = 0.0</text>\n<text text-anchor=\"start\" x=\"981\" y=\"-37.8\" font-family=\"Helvetica,sans-Serif\" font-size=\"14.00\" fill=\"#000000\">samples = 2</text>\n<text text-anchor=\"start\" x=\"971\" y=\"-22.8\" font-family=\"Helvetica,sans-Serif\" font-size=\"14.00\" fill=\"#000000\">value = [0, 2, 0]</text>\n<text text-anchor=\"start\" x=\"981.5\" y=\"-7.8\" font-family=\"Helvetica,sans-Serif\" font-size=\"14.00\" fill=\"#000000\">class = Asia</text>\n</g>\n<!-- 17&#45;&gt;19 -->\n<g id=\"edge19\" class=\"edge\">\n<title>17&#45;&gt;19</title>\n<path fill=\"none\" stroke=\"#000000\" d=\"M1015.4789,-103.9815C1016.079,-95.618 1016.7119,-86.7965 1017.3186,-78.3409\"/>\n<polygon fill=\"#000000\" stroke=\"#000000\" points=\"1020.8169,-78.4885 1018.0416,-68.2637 1013.8349,-77.9875 1020.8169,-78.4885\"/>\n</g>\n<!-- 22 -->\n<g id=\"node23\" class=\"node\">\n<title>22</title>\n<path fill=\"#9a61ea\" stroke=\"#000000\" d=\"M1332,-187C1332,-187 1241,-187 1241,-187 1235,-187 1229,-181 1229,-175 1229,-175 1229,-116 1229,-116 1229,-110 1235,-104 1241,-104 1241,-104 1332,-104 1332,-104 1338,-104 1344,-110 1344,-116 1344,-116 1344,-175 1344,-175 1344,-181 1338,-187 1332,-187\"/>\n<text text-anchor=\"start\" x=\"1250\" y=\"-171.8\" font-family=\"Helvetica,sans-Serif\" font-size=\"14.00\" fill=\"#000000\">mpg ≤ 31.8</text>\n<text text-anchor=\"start\" x=\"1248.5\" y=\"-156.8\" font-family=\"Helvetica,sans-Serif\" font-size=\"14.00\" fill=\"#000000\">gini = 0.314</text>\n<text text-anchor=\"start\" x=\"1242.5\" y=\"-141.8\" font-family=\"Helvetica,sans-Serif\" font-size=\"14.00\" fill=\"#000000\">samples = 11</text>\n<text text-anchor=\"start\" x=\"1237\" y=\"-126.8\" font-family=\"Helvetica,sans-Serif\" font-size=\"14.00\" fill=\"#000000\">value = [1, 1, 9]</text>\n<text text-anchor=\"start\" x=\"1238\" y=\"-111.8\" font-family=\"Helvetica,sans-Serif\" font-size=\"14.00\" fill=\"#000000\">class = Europe</text>\n</g>\n<!-- 21&#45;&gt;22 -->\n<g id=\"edge22\" class=\"edge\">\n<title>21&#45;&gt;22</title>\n<path fill=\"none\" stroke=\"#000000\" d=\"M1287.8005,-222.8796C1287.6628,-214.6838 1287.5166,-205.9891 1287.374,-197.5013\"/>\n<polygon fill=\"#000000\" stroke=\"#000000\" points=\"1290.8701,-197.2378 1287.2025,-187.2981 1283.8711,-197.3555 1290.8701,-197.2378\"/>\n</g>\n<!-- 25 -->\n<g id=\"node26\" class=\"node\">\n<title>25</title>\n<path fill=\"#eeab7b\" stroke=\"#000000\" d=\"M1465,-187C1465,-187 1374,-187 1374,-187 1368,-187 1362,-181 1362,-175 1362,-175 1362,-116 1362,-116 1362,-110 1368,-104 1374,-104 1374,-104 1465,-104 1465,-104 1471,-104 1477,-110 1477,-116 1477,-116 1477,-175 1477,-175 1477,-181 1471,-187 1465,-187\"/>\n<text text-anchor=\"start\" x=\"1379\" y=\"-171.8\" font-family=\"Helvetica,sans-Serif\" font-size=\"14.00\" fill=\"#000000\">mpg ≤ 31.15</text>\n<text text-anchor=\"start\" x=\"1386\" y=\"-156.8\" font-family=\"Helvetica,sans-Serif\" font-size=\"14.00\" fill=\"#000000\">gini = 0.43</text>\n<text text-anchor=\"start\" x=\"1375.5\" y=\"-141.8\" font-family=\"Helvetica,sans-Serif\" font-size=\"14.00\" fill=\"#000000\">samples = 11</text>\n<text text-anchor=\"start\" x=\"1370\" y=\"-126.8\" font-family=\"Helvetica,sans-Serif\" font-size=\"14.00\" fill=\"#000000\">value = [8, 1, 2]</text>\n<text text-anchor=\"start\" x=\"1384.5\" y=\"-111.8\" font-family=\"Helvetica,sans-Serif\" font-size=\"14.00\" fill=\"#000000\">class = US</text>\n</g>\n<!-- 21&#45;&gt;25 -->\n<g id=\"edge25\" class=\"edge\">\n<title>21&#45;&gt;25</title>\n<path fill=\"none\" stroke=\"#000000\" d=\"M1334.3174,-222.8796C1344.5294,-213.6031 1355.445,-203.6874 1365.9376,-194.1559\"/>\n<polygon fill=\"#000000\" stroke=\"#000000\" points=\"1368.4384,-196.6127 1373.487,-187.2981 1363.7316,-191.4313 1368.4384,-196.6127\"/>\n</g>\n<!-- 23 -->\n<g id=\"node24\" class=\"node\">\n<title>23</title>\n<path fill=\"#e58139\" stroke=\"#000000\" d=\"M1199,-68C1199,-68 1108,-68 1108,-68 1102,-68 1096,-62 1096,-56 1096,-56 1096,-12 1096,-12 1096,-6 1102,0 1108,0 1108,0 1199,0 1199,0 1205,0 1211,-6 1211,-12 1211,-12 1211,-56 1211,-56 1211,-62 1205,-68 1199,-68\"/>\n<text text-anchor=\"start\" x=\"1124\" y=\"-52.8\" font-family=\"Helvetica,sans-Serif\" font-size=\"14.00\" fill=\"#000000\">gini = 0.0</text>\n<text text-anchor=\"start\" x=\"1114\" y=\"-37.8\" font-family=\"Helvetica,sans-Serif\" font-size=\"14.00\" fill=\"#000000\">samples = 1</text>\n<text text-anchor=\"start\" x=\"1104\" y=\"-22.8\" font-family=\"Helvetica,sans-Serif\" font-size=\"14.00\" fill=\"#000000\">value = [1, 0, 0]</text>\n<text text-anchor=\"start\" x=\"1118.5\" y=\"-7.8\" font-family=\"Helvetica,sans-Serif\" font-size=\"14.00\" fill=\"#000000\">class = US</text>\n</g>\n<!-- 22&#45;&gt;23 -->\n<g id=\"edge23\" class=\"edge\">\n<title>22&#45;&gt;23</title>\n<path fill=\"none\" stroke=\"#000000\" d=\"M1236.9757,-103.9815C1225.5743,-94.4232 1213.4595,-84.2668 1202.0979,-74.7419\"/>\n<polygon fill=\"#000000\" stroke=\"#000000\" points=\"1204.2825,-72.006 1194.3706,-68.2637 1199.7853,-77.3704 1204.2825,-72.006\"/>\n</g>\n<!-- 24 -->\n<g id=\"node25\" class=\"node\">\n<title>24</title>\n<path fill=\"#8f4fe8\" stroke=\"#000000\" d=\"M1332,-68C1332,-68 1241,-68 1241,-68 1235,-68 1229,-62 1229,-56 1229,-56 1229,-12 1229,-12 1229,-6 1235,0 1241,0 1241,0 1332,0 1332,0 1338,0 1344,-6 1344,-12 1344,-12 1344,-56 1344,-56 1344,-62 1338,-68 1332,-68\"/>\n<text text-anchor=\"start\" x=\"1253\" y=\"-52.8\" font-family=\"Helvetica,sans-Serif\" font-size=\"14.00\" fill=\"#000000\">gini = 0.18</text>\n<text text-anchor=\"start\" x=\"1242.5\" y=\"-37.8\" font-family=\"Helvetica,sans-Serif\" font-size=\"14.00\" fill=\"#000000\">samples = 10</text>\n<text text-anchor=\"start\" x=\"1237\" y=\"-22.8\" font-family=\"Helvetica,sans-Serif\" font-size=\"14.00\" fill=\"#000000\">value = [0, 1, 9]</text>\n<text text-anchor=\"start\" x=\"1238\" y=\"-7.8\" font-family=\"Helvetica,sans-Serif\" font-size=\"14.00\" fill=\"#000000\">class = Europe</text>\n</g>\n<!-- 22&#45;&gt;24 -->\n<g id=\"edge24\" class=\"edge\">\n<title>22&#45;&gt;24</title>\n<path fill=\"none\" stroke=\"#000000\" d=\"M1286.5,-103.9815C1286.5,-95.618 1286.5,-86.7965 1286.5,-78.3409\"/>\n<polygon fill=\"#000000\" stroke=\"#000000\" points=\"1290.0001,-78.2636 1286.5,-68.2637 1283.0001,-78.2637 1290.0001,-78.2636\"/>\n</g>\n<!-- 26 -->\n<g id=\"node27\" class=\"node\">\n<title>26</title>\n<path fill=\"#8139e5\" stroke=\"#000000\" d=\"M1465,-68C1465,-68 1374,-68 1374,-68 1368,-68 1362,-62 1362,-56 1362,-56 1362,-12 1362,-12 1362,-6 1368,0 1374,0 1374,0 1465,0 1465,0 1471,0 1477,-6 1477,-12 1477,-12 1477,-56 1477,-56 1477,-62 1471,-68 1465,-68\"/>\n<text text-anchor=\"start\" x=\"1390\" y=\"-52.8\" font-family=\"Helvetica,sans-Serif\" font-size=\"14.00\" fill=\"#000000\">gini = 0.0</text>\n<text text-anchor=\"start\" x=\"1380\" y=\"-37.8\" font-family=\"Helvetica,sans-Serif\" font-size=\"14.00\" fill=\"#000000\">samples = 2</text>\n<text text-anchor=\"start\" x=\"1370\" y=\"-22.8\" font-family=\"Helvetica,sans-Serif\" font-size=\"14.00\" fill=\"#000000\">value = [0, 0, 2]</text>\n<text text-anchor=\"start\" x=\"1371\" y=\"-7.8\" font-family=\"Helvetica,sans-Serif\" font-size=\"14.00\" fill=\"#000000\">class = Europe</text>\n</g>\n<!-- 25&#45;&gt;26 -->\n<g id=\"edge26\" class=\"edge\">\n<title>25&#45;&gt;26</title>\n<path fill=\"none\" stroke=\"#000000\" d=\"M1419.5,-103.9815C1419.5,-95.618 1419.5,-86.7965 1419.5,-78.3409\"/>\n<polygon fill=\"#000000\" stroke=\"#000000\" points=\"1423.0001,-78.2636 1419.5,-68.2637 1416.0001,-78.2637 1423.0001,-78.2636\"/>\n</g>\n<!-- 27 -->\n<g id=\"node28\" class=\"node\">\n<title>27</title>\n<path fill=\"#e89152\" stroke=\"#000000\" d=\"M1598,-68C1598,-68 1507,-68 1507,-68 1501,-68 1495,-62 1495,-56 1495,-56 1495,-12 1495,-12 1495,-6 1501,0 1507,0 1507,0 1598,0 1598,0 1604,0 1610,-6 1610,-12 1610,-12 1610,-56 1610,-56 1610,-62 1604,-68 1598,-68\"/>\n<text text-anchor=\"start\" x=\"1514.5\" y=\"-52.8\" font-family=\"Helvetica,sans-Serif\" font-size=\"14.00\" fill=\"#000000\">gini = 0.198</text>\n<text text-anchor=\"start\" x=\"1513\" y=\"-37.8\" font-family=\"Helvetica,sans-Serif\" font-size=\"14.00\" fill=\"#000000\">samples = 9</text>\n<text text-anchor=\"start\" x=\"1503\" y=\"-22.8\" font-family=\"Helvetica,sans-Serif\" font-size=\"14.00\" fill=\"#000000\">value = [8, 1, 0]</text>\n<text text-anchor=\"start\" x=\"1517.5\" y=\"-7.8\" font-family=\"Helvetica,sans-Serif\" font-size=\"14.00\" fill=\"#000000\">class = US</text>\n</g>\n<!-- 25&#45;&gt;27 -->\n<g id=\"edge27\" class=\"edge\">\n<title>25&#45;&gt;27</title>\n<path fill=\"none\" stroke=\"#000000\" d=\"M1469.0243,-103.9815C1480.4257,-94.4232 1492.5405,-84.2668 1503.9021,-74.7419\"/>\n<polygon fill=\"#000000\" stroke=\"#000000\" points=\"1506.2147,-77.3704 1511.6294,-68.2637 1501.7175,-72.006 1506.2147,-77.3704\"/>\n</g>\n<!-- 29 -->\n<g id=\"node30\" class=\"node\">\n<title>29</title>\n<path fill=\"#853fe6\" stroke=\"#000000\" d=\"M1682,-425C1682,-425 1575,-425 1575,-425 1569,-425 1563,-419 1563,-413 1563,-413 1563,-354 1563,-354 1563,-348 1569,-342 1575,-342 1575,-342 1682,-342 1682,-342 1688,-342 1694,-348 1694,-354 1694,-354 1694,-413 1694,-413 1694,-419 1688,-425 1682,-425\"/>\n<text text-anchor=\"start\" x=\"1587.5\" y=\"-409.8\" font-family=\"Helvetica,sans-Serif\" font-size=\"14.00\" fill=\"#000000\">displ ≤ 169.5</text>\n<text text-anchor=\"start\" x=\"1590.5\" y=\"-394.8\" font-family=\"Helvetica,sans-Serif\" font-size=\"14.00\" fill=\"#000000\">gini = 0.057</text>\n<text text-anchor=\"start\" x=\"1580.5\" y=\"-379.8\" font-family=\"Helvetica,sans-Serif\" font-size=\"14.00\" fill=\"#000000\">samples = 173</text>\n<text text-anchor=\"start\" x=\"1571\" y=\"-364.8\" font-family=\"Helvetica,sans-Serif\" font-size=\"14.00\" fill=\"#000000\">value = [3, 2, 168]</text>\n<text text-anchor=\"start\" x=\"1580\" y=\"-349.8\" font-family=\"Helvetica,sans-Serif\" font-size=\"14.00\" fill=\"#000000\">class = Europe</text>\n</g>\n<!-- 28&#45;&gt;29 -->\n<g id=\"edge29\" class=\"edge\">\n<title>28&#45;&gt;29</title>\n<path fill=\"none\" stroke=\"#000000\" d=\"M1628.5,-460.8796C1628.5,-452.6838 1628.5,-443.9891 1628.5,-435.5013\"/>\n<polygon fill=\"#000000\" stroke=\"#000000\" points=\"1632.0001,-435.298 1628.5,-425.2981 1625.0001,-435.2981 1632.0001,-435.298\"/>\n</g>\n<!-- 36 -->\n<g id=\"node37\" class=\"node\">\n<title>36</title>\n<path fill=\"#b0f5cd\" stroke=\"#000000\" d=\"M1888,-425C1888,-425 1797,-425 1797,-425 1791,-425 1785,-419 1785,-413 1785,-413 1785,-354 1785,-354 1785,-348 1791,-342 1797,-342 1797,-342 1888,-342 1888,-342 1894,-342 1900,-348 1900,-354 1900,-354 1900,-413 1900,-413 1900,-419 1894,-425 1888,-425\"/>\n<text text-anchor=\"start\" x=\"1802\" y=\"-409.8\" font-family=\"Helvetica,sans-Serif\" font-size=\"14.00\" fill=\"#000000\">mpg ≤ 24.85</text>\n<text text-anchor=\"start\" x=\"1804.5\" y=\"-394.8\" font-family=\"Helvetica,sans-Serif\" font-size=\"14.00\" fill=\"#000000\">gini = 0.469</text>\n<text text-anchor=\"start\" x=\"1803\" y=\"-379.8\" font-family=\"Helvetica,sans-Serif\" font-size=\"14.00\" fill=\"#000000\">samples = 8</text>\n<text text-anchor=\"start\" x=\"1793\" y=\"-364.8\" font-family=\"Helvetica,sans-Serif\" font-size=\"14.00\" fill=\"#000000\">value = [0, 5, 3]</text>\n<text text-anchor=\"start\" x=\"1803.5\" y=\"-349.8\" font-family=\"Helvetica,sans-Serif\" font-size=\"14.00\" fill=\"#000000\">class = Asia</text>\n</g>\n<!-- 28&#45;&gt;36 -->\n<g id=\"edge36\" class=\"edge\">\n<title>28&#45;&gt;36</title>\n<path fill=\"none\" stroke=\"#000000\" d=\"M1694.1614,-465.9874C1720.0991,-451.5641 1749.8664,-435.0112 1775.8957,-420.537\"/>\n<polygon fill=\"#000000\" stroke=\"#000000\" points=\"1777.8956,-423.4297 1784.9342,-415.5109 1774.4936,-417.3119 1777.8956,-423.4297\"/>\n</g>\n<!-- 30 -->\n<g id=\"node31\" class=\"node\">\n<title>30</title>\n<path fill=\"#965ae9\" stroke=\"#000000\" d=\"M1606,-306C1606,-306 1507,-306 1507,-306 1501,-306 1495,-300 1495,-294 1495,-294 1495,-235 1495,-235 1495,-229 1501,-223 1507,-223 1507,-223 1606,-223 1606,-223 1612,-223 1618,-229 1618,-235 1618,-235 1618,-294 1618,-294 1618,-300 1612,-306 1606,-306\"/>\n<text text-anchor=\"start\" x=\"1529.5\" y=\"-290.8\" font-family=\"Helvetica,sans-Serif\" font-size=\"14.00\" fill=\"#000000\">cyl ≤ 5.0</text>\n<text text-anchor=\"start\" x=\"1518.5\" y=\"-275.8\" font-family=\"Helvetica,sans-Serif\" font-size=\"14.00\" fill=\"#000000\">gini = 0.268</text>\n<text text-anchor=\"start\" x=\"1512.5\" y=\"-260.8\" font-family=\"Helvetica,sans-Serif\" font-size=\"14.00\" fill=\"#000000\">samples = 33</text>\n<text text-anchor=\"start\" x=\"1503\" y=\"-245.8\" font-family=\"Helvetica,sans-Serif\" font-size=\"14.00\" fill=\"#000000\">value = [3, 2, 28]</text>\n<text text-anchor=\"start\" x=\"1508\" y=\"-230.8\" font-family=\"Helvetica,sans-Serif\" font-size=\"14.00\" fill=\"#000000\">class = Europe</text>\n</g>\n<!-- 29&#45;&gt;30 -->\n<g id=\"edge30\" class=\"edge\">\n<title>29&#45;&gt;30</title>\n<path fill=\"none\" stroke=\"#000000\" d=\"M1603.3179,-341.8796C1598.0867,-333.2335 1592.5195,-324.0322 1587.1177,-315.1042\"/>\n<polygon fill=\"#000000\" stroke=\"#000000\" points=\"1589.9608,-313.0421 1581.7896,-306.2981 1583.9717,-316.6658 1589.9608,-313.0421\"/>\n</g>\n<!-- 35 -->\n<g id=\"node36\" class=\"node\">\n<title>35</title>\n<path fill=\"#8139e5\" stroke=\"#000000\" d=\"M1755,-298.5C1755,-298.5 1648,-298.5 1648,-298.5 1642,-298.5 1636,-292.5 1636,-286.5 1636,-286.5 1636,-242.5 1636,-242.5 1636,-236.5 1642,-230.5 1648,-230.5 1648,-230.5 1755,-230.5 1755,-230.5 1761,-230.5 1767,-236.5 1767,-242.5 1767,-242.5 1767,-286.5 1767,-286.5 1767,-292.5 1761,-298.5 1755,-298.5\"/>\n<text text-anchor=\"start\" x=\"1672\" y=\"-283.3\" font-family=\"Helvetica,sans-Serif\" font-size=\"14.00\" fill=\"#000000\">gini = 0.0</text>\n<text text-anchor=\"start\" x=\"1653.5\" y=\"-268.3\" font-family=\"Helvetica,sans-Serif\" font-size=\"14.00\" fill=\"#000000\">samples = 140</text>\n<text text-anchor=\"start\" x=\"1644\" y=\"-253.3\" font-family=\"Helvetica,sans-Serif\" font-size=\"14.00\" fill=\"#000000\">value = [0, 0, 140]</text>\n<text text-anchor=\"start\" x=\"1653\" y=\"-238.3\" font-family=\"Helvetica,sans-Serif\" font-size=\"14.00\" fill=\"#000000\">class = Europe</text>\n</g>\n<!-- 29&#45;&gt;35 -->\n<g id=\"edge35\" class=\"edge\">\n<title>29&#45;&gt;35</title>\n<path fill=\"none\" stroke=\"#000000\" d=\"M1654.0319,-341.8796C1660.8448,-330.7735 1668.2198,-318.7513 1675.0794,-307.5691\"/>\n<polygon fill=\"#000000\" stroke=\"#000000\" points=\"1678.204,-309.1691 1680.4497,-298.8149 1672.2372,-305.5087 1678.204,-309.1691\"/>\n</g>\n<!-- 31 -->\n<g id=\"node32\" class=\"node\">\n<title>31</title>\n<path fill=\"#8139e5\" stroke=\"#000000\" d=\"M1606,-179.5C1606,-179.5 1507,-179.5 1507,-179.5 1501,-179.5 1495,-173.5 1495,-167.5 1495,-167.5 1495,-123.5 1495,-123.5 1495,-117.5 1501,-111.5 1507,-111.5 1507,-111.5 1606,-111.5 1606,-111.5 1612,-111.5 1618,-117.5 1618,-123.5 1618,-123.5 1618,-167.5 1618,-167.5 1618,-173.5 1612,-179.5 1606,-179.5\"/>\n<text text-anchor=\"start\" x=\"1527\" y=\"-164.3\" font-family=\"Helvetica,sans-Serif\" font-size=\"14.00\" fill=\"#000000\">gini = 0.0</text>\n<text text-anchor=\"start\" x=\"1512.5\" y=\"-149.3\" font-family=\"Helvetica,sans-Serif\" font-size=\"14.00\" fill=\"#000000\">samples = 27</text>\n<text text-anchor=\"start\" x=\"1503\" y=\"-134.3\" font-family=\"Helvetica,sans-Serif\" font-size=\"14.00\" fill=\"#000000\">value = [0, 0, 27]</text>\n<text text-anchor=\"start\" x=\"1508\" y=\"-119.3\" font-family=\"Helvetica,sans-Serif\" font-size=\"14.00\" fill=\"#000000\">class = Europe</text>\n</g>\n<!-- 30&#45;&gt;31 -->\n<g id=\"edge31\" class=\"edge\">\n<title>30&#45;&gt;31</title>\n<path fill=\"none\" stroke=\"#000000\" d=\"M1556.5,-222.8796C1556.5,-212.2134 1556.5,-200.7021 1556.5,-189.9015\"/>\n<polygon fill=\"#000000\" stroke=\"#000000\" points=\"1560.0001,-189.8149 1556.5,-179.8149 1553.0001,-189.815 1560.0001,-189.8149\"/>\n</g>\n<!-- 32 -->\n<g id=\"node33\" class=\"node\">\n<title>32</title>\n<path fill=\"#f8e0ce\" stroke=\"#000000\" d=\"M1743,-187C1743,-187 1648,-187 1648,-187 1642,-187 1636,-181 1636,-175 1636,-175 1636,-116 1636,-116 1636,-110 1642,-104 1648,-104 1648,-104 1743,-104 1743,-104 1749,-104 1755,-110 1755,-116 1755,-116 1755,-175 1755,-175 1755,-181 1749,-187 1743,-187\"/>\n<text text-anchor=\"start\" x=\"1644\" y=\"-171.8\" font-family=\"Helvetica,sans-Serif\" font-size=\"14.00\" fill=\"#000000\">weight ≤ 3025.0</text>\n<text text-anchor=\"start\" x=\"1657.5\" y=\"-156.8\" font-family=\"Helvetica,sans-Serif\" font-size=\"14.00\" fill=\"#000000\">gini = 0.611</text>\n<text text-anchor=\"start\" x=\"1656\" y=\"-141.8\" font-family=\"Helvetica,sans-Serif\" font-size=\"14.00\" fill=\"#000000\">samples = 6</text>\n<text text-anchor=\"start\" x=\"1646\" y=\"-126.8\" font-family=\"Helvetica,sans-Serif\" font-size=\"14.00\" fill=\"#000000\">value = [3, 2, 1]</text>\n<text text-anchor=\"start\" x=\"1660.5\" y=\"-111.8\" font-family=\"Helvetica,sans-Serif\" font-size=\"14.00\" fill=\"#000000\">class = US</text>\n</g>\n<!-- 30&#45;&gt;32 -->\n<g id=\"edge32\" class=\"edge\">\n<title>30&#45;&gt;32</title>\n<path fill=\"none\" stroke=\"#000000\" d=\"M1605.1155,-222.8796C1616.0562,-213.513 1627.7582,-203.4948 1638.9908,-193.8784\"/>\n<polygon fill=\"#000000\" stroke=\"#000000\" points=\"1641.3568,-196.4603 1646.677,-187.2981 1636.8044,-191.1428 1641.3568,-196.4603\"/>\n</g>\n<!-- 33 -->\n<g id=\"node34\" class=\"node\">\n<title>33</title>\n<path fill=\"#eeab7b\" stroke=\"#000000\" d=\"M1736,-68C1736,-68 1645,-68 1645,-68 1639,-68 1633,-62 1633,-56 1633,-56 1633,-12 1633,-12 1633,-6 1639,0 1645,0 1645,0 1736,0 1736,0 1742,0 1748,-6 1748,-12 1748,-12 1748,-56 1748,-56 1748,-62 1742,-68 1736,-68\"/>\n<text text-anchor=\"start\" x=\"1652.5\" y=\"-52.8\" font-family=\"Helvetica,sans-Serif\" font-size=\"14.00\" fill=\"#000000\">gini = 0.375</text>\n<text text-anchor=\"start\" x=\"1651\" y=\"-37.8\" font-family=\"Helvetica,sans-Serif\" font-size=\"14.00\" fill=\"#000000\">samples = 4</text>\n<text text-anchor=\"start\" x=\"1641\" y=\"-22.8\" font-family=\"Helvetica,sans-Serif\" font-size=\"14.00\" fill=\"#000000\">value = [3, 0, 1]</text>\n<text text-anchor=\"start\" x=\"1655.5\" y=\"-7.8\" font-family=\"Helvetica,sans-Serif\" font-size=\"14.00\" fill=\"#000000\">class = US</text>\n</g>\n<!-- 32&#45;&gt;33 -->\n<g id=\"edge33\" class=\"edge\">\n<title>32&#45;&gt;33</title>\n<path fill=\"none\" stroke=\"#000000\" d=\"M1693.6382,-103.9815C1693.2631,-95.618 1692.8676,-86.7965 1692.4884,-78.3409\"/>\n<polygon fill=\"#000000\" stroke=\"#000000\" points=\"1695.981,-78.0968 1692.0365,-68.2637 1688.9881,-78.4105 1695.981,-78.0968\"/>\n</g>\n<!-- 34 -->\n<g id=\"node35\" class=\"node\">\n<title>34</title>\n<path fill=\"#39e581\" stroke=\"#000000\" d=\"M1869,-68C1869,-68 1778,-68 1778,-68 1772,-68 1766,-62 1766,-56 1766,-56 1766,-12 1766,-12 1766,-6 1772,0 1778,0 1778,0 1869,0 1869,0 1875,0 1881,-6 1881,-12 1881,-12 1881,-56 1881,-56 1881,-62 1875,-68 1869,-68\"/>\n<text text-anchor=\"start\" x=\"1794\" y=\"-52.8\" font-family=\"Helvetica,sans-Serif\" font-size=\"14.00\" fill=\"#000000\">gini = 0.0</text>\n<text text-anchor=\"start\" x=\"1784\" y=\"-37.8\" font-family=\"Helvetica,sans-Serif\" font-size=\"14.00\" fill=\"#000000\">samples = 2</text>\n<text text-anchor=\"start\" x=\"1774\" y=\"-22.8\" font-family=\"Helvetica,sans-Serif\" font-size=\"14.00\" fill=\"#000000\">value = [0, 2, 0]</text>\n<text text-anchor=\"start\" x=\"1784.5\" y=\"-7.8\" font-family=\"Helvetica,sans-Serif\" font-size=\"14.00\" fill=\"#000000\">class = Asia</text>\n</g>\n<!-- 32&#45;&gt;34 -->\n<g id=\"edge34\" class=\"edge\">\n<title>32&#45;&gt;34</title>\n<path fill=\"none\" stroke=\"#000000\" d=\"M1743.1625,-103.9815C1754.0297,-94.5151 1765.5705,-84.462 1776.4135,-75.0168\"/>\n<polygon fill=\"#000000\" stroke=\"#000000\" points=\"1778.9245,-77.4712 1784.1659,-68.2637 1774.3266,-72.1929 1778.9245,-77.4712\"/>\n</g>\n<!-- 37 -->\n<g id=\"node38\" class=\"node\">\n<title>37</title>\n<path fill=\"#8139e5\" stroke=\"#000000\" d=\"M1888,-298.5C1888,-298.5 1797,-298.5 1797,-298.5 1791,-298.5 1785,-292.5 1785,-286.5 1785,-286.5 1785,-242.5 1785,-242.5 1785,-236.5 1791,-230.5 1797,-230.5 1797,-230.5 1888,-230.5 1888,-230.5 1894,-230.5 1900,-236.5 1900,-242.5 1900,-242.5 1900,-286.5 1900,-286.5 1900,-292.5 1894,-298.5 1888,-298.5\"/>\n<text text-anchor=\"start\" x=\"1813\" y=\"-283.3\" font-family=\"Helvetica,sans-Serif\" font-size=\"14.00\" fill=\"#000000\">gini = 0.0</text>\n<text text-anchor=\"start\" x=\"1803\" y=\"-268.3\" font-family=\"Helvetica,sans-Serif\" font-size=\"14.00\" fill=\"#000000\">samples = 3</text>\n<text text-anchor=\"start\" x=\"1793\" y=\"-253.3\" font-family=\"Helvetica,sans-Serif\" font-size=\"14.00\" fill=\"#000000\">value = [0, 0, 3]</text>\n<text text-anchor=\"start\" x=\"1794\" y=\"-238.3\" font-family=\"Helvetica,sans-Serif\" font-size=\"14.00\" fill=\"#000000\">class = Europe</text>\n</g>\n<!-- 36&#45;&gt;37 -->\n<g id=\"edge37\" class=\"edge\">\n<title>36&#45;&gt;37</title>\n<path fill=\"none\" stroke=\"#000000\" d=\"M1842.5,-341.8796C1842.5,-331.2134 1842.5,-319.7021 1842.5,-308.9015\"/>\n<polygon fill=\"#000000\" stroke=\"#000000\" points=\"1846.0001,-308.8149 1842.5,-298.8149 1839.0001,-308.815 1846.0001,-308.8149\"/>\n</g>\n<!-- 38 -->\n<g id=\"node39\" class=\"node\">\n<title>38</title>\n<path fill=\"#39e581\" stroke=\"#000000\" d=\"M2021,-298.5C2021,-298.5 1930,-298.5 1930,-298.5 1924,-298.5 1918,-292.5 1918,-286.5 1918,-286.5 1918,-242.5 1918,-242.5 1918,-236.5 1924,-230.5 1930,-230.5 1930,-230.5 2021,-230.5 2021,-230.5 2027,-230.5 2033,-236.5 2033,-242.5 2033,-242.5 2033,-286.5 2033,-286.5 2033,-292.5 2027,-298.5 2021,-298.5\"/>\n<text text-anchor=\"start\" x=\"1946\" y=\"-283.3\" font-family=\"Helvetica,sans-Serif\" font-size=\"14.00\" fill=\"#000000\">gini = 0.0</text>\n<text text-anchor=\"start\" x=\"1936\" y=\"-268.3\" font-family=\"Helvetica,sans-Serif\" font-size=\"14.00\" fill=\"#000000\">samples = 5</text>\n<text text-anchor=\"start\" x=\"1926\" y=\"-253.3\" font-family=\"Helvetica,sans-Serif\" font-size=\"14.00\" fill=\"#000000\">value = [0, 5, 0]</text>\n<text text-anchor=\"start\" x=\"1936.5\" y=\"-238.3\" font-family=\"Helvetica,sans-Serif\" font-size=\"14.00\" fill=\"#000000\">class = Asia</text>\n</g>\n<!-- 36&#45;&gt;38 -->\n<g id=\"edge38\" class=\"edge\">\n<title>36&#45;&gt;38</title>\n<path fill=\"none\" stroke=\"#000000\" d=\"M1889.0169,-341.8796C1902.167,-330.1138 1916.4663,-317.3197 1929.5809,-305.5855\"/>\n<polygon fill=\"#000000\" stroke=\"#000000\" points=\"1932.0294,-308.0913 1937.148,-298.8149 1927.3618,-302.8746 1932.0294,-308.0913\"/>\n</g>\n</g>\n</svg>\n"
          },
          "metadata": {},
          "execution_count": 65
        }
      ]
    },
    {
      "cell_type": "code",
      "source": [
        "y_pred = clf.predict(X_test)\n",
        "accuracy = accuracy_score(y_test, y_pred)\n",
        "print(classification_report(y_test,y_pred))"
      ],
      "metadata": {
        "colab": {
          "base_uri": "https://localhost:8080/"
        },
        "id": "MJIr7UeOBoaD",
        "outputId": "e5791bdc-422b-4077-956d-b85008602aff"
      },
      "execution_count": null,
      "outputs": [
        {
          "output_type": "stream",
          "name": "stdout",
          "text": [
            "              precision    recall  f1-score   support\n",
            "\n",
            "        Asia       0.74      0.88      0.80        16\n",
            "      Europe       0.60      0.60      0.60        15\n",
            "          US       0.91      0.85      0.88        48\n",
            "\n",
            "    accuracy                           0.81        79\n",
            "   macro avg       0.75      0.78      0.76        79\n",
            "weighted avg       0.82      0.81      0.81        79\n",
            "\n"
          ]
        }
      ]
    },
    {
      "cell_type": "code",
      "source": [],
      "metadata": {
        "id": "qXggyyrjyYNr"
      },
      "execution_count": null,
      "outputs": []
    }
  ]
}